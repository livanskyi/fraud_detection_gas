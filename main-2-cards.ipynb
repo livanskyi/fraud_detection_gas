{
 "cells": [
  {
   "cell_type": "markdown",
   "metadata": {},
   "source": [
    "### Import modules"
   ]
  },
  {
   "cell_type": "code",
   "execution_count": 1,
   "metadata": {},
   "outputs": [],
   "source": [
    "import pandas as pd\n",
    "import os\n",
    "import numpy as np\n",
    "import matplotlib.pyplot as plt"
   ]
  },
  {
   "cell_type": "markdown",
   "metadata": {},
   "source": [
    "### Load dataset"
   ]
  },
  {
   "cell_type": "code",
   "execution_count": 53,
   "metadata": {},
   "outputs": [],
   "source": [
    "# searching files\n",
    "all_files = os.listdir('af_data')"
   ]
  },
  {
   "cell_type": "code",
   "execution_count": 109,
   "metadata": {},
   "outputs": [],
   "source": [
    "# combining info from all files into one dataframe\n",
    "data = None\n",
    "\n",
    "for f in all_files:\n",
    "    data_f = pd.read_csv(f'af_data/{f}', sep=';')\n",
    "    \n",
    "    if data is None:\n",
    "        data = data_f.copy()\n",
    "        continue\n",
    "    \n",
    "    data = data.append(data_f, ignore_index=True)"
   ]
  },
  {
   "cell_type": "markdown",
   "metadata": {},
   "source": [
    "### Data understanding"
   ]
  },
  {
   "cell_type": "code",
   "execution_count": 57,
   "metadata": {},
   "outputs": [
    {
     "data": {
      "text/html": [
       "<div>\n",
       "<style scoped>\n",
       "    .dataframe tbody tr th:only-of-type {\n",
       "        vertical-align: middle;\n",
       "    }\n",
       "\n",
       "    .dataframe tbody tr th {\n",
       "        vertical-align: top;\n",
       "    }\n",
       "\n",
       "    .dataframe thead th {\n",
       "        text-align: right;\n",
       "    }\n",
       "</style>\n",
       "<table border=\"1\" class=\"dataframe\">\n",
       "  <thead>\n",
       "    <tr style=\"text-align: right;\">\n",
       "      <th></th>\n",
       "      <th>ДатаЧека</th>\n",
       "      <th>НомерЧека</th>\n",
       "      <th>ВидОперации</th>\n",
       "      <th>АЗСКод</th>\n",
       "      <th>ВидНоменклатуры</th>\n",
       "      <th>Карта</th>\n",
       "      <th>ОсновнаяКарта</th>\n",
       "      <th>НомерСтроки</th>\n",
       "      <th>НоменклатураКод</th>\n",
       "      <th>Количество</th>\n",
       "      <th>Цена</th>\n",
       "      <th>Сумма</th>\n",
       "      <th>Бонусы</th>\n",
       "      <th>СуммаСкидки</th>\n",
       "      <th>УниверсальнаяАкцияКод</th>\n",
       "      <th>СписаноБонусов</th>\n",
       "      <th>СуммаСкидкиДисконт</th>\n",
       "      <th>КассоваяСмена</th>\n",
       "      <th>ОператорКод</th>\n",
       "    </tr>\n",
       "  </thead>\n",
       "  <tbody>\n",
       "    <tr>\n",
       "      <th>0</th>\n",
       "      <td>03.06.2020 00:20:26</td>\n",
       "      <td>26201000001094</td>\n",
       "      <td>Начисление</td>\n",
       "      <td>2620</td>\n",
       "      <td>Сопутка</td>\n",
       "      <td>71557CEEA393407549118FF4FA91EAB3</td>\n",
       "      <td>NaN</td>\n",
       "      <td>1</td>\n",
       "      <td>223154.0</td>\n",
       "      <td>1</td>\n",
       "      <td>44</td>\n",
       "      <td>44</td>\n",
       "      <td>44</td>\n",
       "      <td>0</td>\n",
       "      <td>NaN</td>\n",
       "      <td>0</td>\n",
       "      <td>0</td>\n",
       "      <td>54519072-a514-11ea-afbd-00012eb19ff4</td>\n",
       "      <td>Соболь Наталія Михайлівна</td>\n",
       "    </tr>\n",
       "    <tr>\n",
       "      <th>1</th>\n",
       "      <td>03.06.2020 00:20:26</td>\n",
       "      <td>26201000001094</td>\n",
       "      <td>Начисление</td>\n",
       "      <td>2620</td>\n",
       "      <td>Сопутка</td>\n",
       "      <td>71557CEEA393407549118FF4FA91EAB3</td>\n",
       "      <td>NaN</td>\n",
       "      <td>5</td>\n",
       "      <td>206150.0</td>\n",
       "      <td>2</td>\n",
       "      <td>20,2</td>\n",
       "      <td>40,4</td>\n",
       "      <td>40</td>\n",
       "      <td>0</td>\n",
       "      <td>NaN</td>\n",
       "      <td>0</td>\n",
       "      <td>0</td>\n",
       "      <td>54519072-a514-11ea-afbd-00012eb19ff4</td>\n",
       "      <td>Соболь Наталія Михайлівна</td>\n",
       "    </tr>\n",
       "    <tr>\n",
       "      <th>2</th>\n",
       "      <td>03.06.2020 00:20:26</td>\n",
       "      <td>26201000001094</td>\n",
       "      <td>Начисление</td>\n",
       "      <td>2620</td>\n",
       "      <td>Сопутка</td>\n",
       "      <td>71557CEEA393407549118FF4FA91EAB3</td>\n",
       "      <td>NaN</td>\n",
       "      <td>8</td>\n",
       "      <td>198228.0</td>\n",
       "      <td>2</td>\n",
       "      <td>51,9</td>\n",
       "      <td>103,8</td>\n",
       "      <td>0</td>\n",
       "      <td>0</td>\n",
       "      <td>NaN</td>\n",
       "      <td>0</td>\n",
       "      <td>0</td>\n",
       "      <td>54519072-a514-11ea-afbd-00012eb19ff4</td>\n",
       "      <td>Соболь Наталія Михайлівна</td>\n",
       "    </tr>\n",
       "    <tr>\n",
       "      <th>3</th>\n",
       "      <td>03.06.2020 00:20:26</td>\n",
       "      <td>26201000001094</td>\n",
       "      <td>Начисление</td>\n",
       "      <td>2620</td>\n",
       "      <td>Сопутка</td>\n",
       "      <td>71557CEEA393407549118FF4FA91EAB3</td>\n",
       "      <td>NaN</td>\n",
       "      <td>4</td>\n",
       "      <td>123226.0</td>\n",
       "      <td>1</td>\n",
       "      <td>30</td>\n",
       "      <td>30</td>\n",
       "      <td>30</td>\n",
       "      <td>0</td>\n",
       "      <td>NaN</td>\n",
       "      <td>0</td>\n",
       "      <td>0</td>\n",
       "      <td>54519072-a514-11ea-afbd-00012eb19ff4</td>\n",
       "      <td>Соболь Наталія Михайлівна</td>\n",
       "    </tr>\n",
       "    <tr>\n",
       "      <th>4</th>\n",
       "      <td>03.06.2020 00:20:26</td>\n",
       "      <td>26201000001094</td>\n",
       "      <td>Начисление</td>\n",
       "      <td>2620</td>\n",
       "      <td>Сопутка</td>\n",
       "      <td>71557CEEA393407549118FF4FA91EAB3</td>\n",
       "      <td>NaN</td>\n",
       "      <td>7</td>\n",
       "      <td>82907.0</td>\n",
       "      <td>2</td>\n",
       "      <td>35,4</td>\n",
       "      <td>70,8</td>\n",
       "      <td>70</td>\n",
       "      <td>0</td>\n",
       "      <td>NaN</td>\n",
       "      <td>0</td>\n",
       "      <td>0</td>\n",
       "      <td>54519072-a514-11ea-afbd-00012eb19ff4</td>\n",
       "      <td>Соболь Наталія Михайлівна</td>\n",
       "    </tr>\n",
       "  </tbody>\n",
       "</table>\n",
       "</div>"
      ],
      "text/plain": [
       "              ДатаЧека       НомерЧека ВидОперации  АЗСКод ВидНоменклатуры  \\\n",
       "0  03.06.2020 00:20:26  26201000001094  Начисление    2620         Сопутка   \n",
       "1  03.06.2020 00:20:26  26201000001094  Начисление    2620         Сопутка   \n",
       "2  03.06.2020 00:20:26  26201000001094  Начисление    2620         Сопутка   \n",
       "3  03.06.2020 00:20:26  26201000001094  Начисление    2620         Сопутка   \n",
       "4  03.06.2020 00:20:26  26201000001094  Начисление    2620         Сопутка   \n",
       "\n",
       "                              Карта ОсновнаяКарта  НомерСтроки  \\\n",
       "0  71557CEEA393407549118FF4FA91EAB3           NaN            1   \n",
       "1  71557CEEA393407549118FF4FA91EAB3           NaN            5   \n",
       "2  71557CEEA393407549118FF4FA91EAB3           NaN            8   \n",
       "3  71557CEEA393407549118FF4FA91EAB3           NaN            4   \n",
       "4  71557CEEA393407549118FF4FA91EAB3           NaN            7   \n",
       "\n",
       "   НоменклатураКод Количество  Цена  Сумма Бонусы СуммаСкидки  \\\n",
       "0         223154.0          1    44     44     44           0   \n",
       "1         206150.0          2  20,2   40,4     40           0   \n",
       "2         198228.0          2  51,9  103,8      0           0   \n",
       "3         123226.0          1    30     30     30           0   \n",
       "4          82907.0          2  35,4   70,8     70           0   \n",
       "\n",
       "   УниверсальнаяАкцияКод СписаноБонусов  СуммаСкидкиДисконт  \\\n",
       "0                    NaN              0                   0   \n",
       "1                    NaN              0                   0   \n",
       "2                    NaN              0                   0   \n",
       "3                    NaN              0                   0   \n",
       "4                    NaN              0                   0   \n",
       "\n",
       "                          КассоваяСмена                ОператорКод  \n",
       "0  54519072-a514-11ea-afbd-00012eb19ff4  Соболь Наталія Михайлівна  \n",
       "1  54519072-a514-11ea-afbd-00012eb19ff4  Соболь Наталія Михайлівна  \n",
       "2  54519072-a514-11ea-afbd-00012eb19ff4  Соболь Наталія Михайлівна  \n",
       "3  54519072-a514-11ea-afbd-00012eb19ff4  Соболь Наталія Михайлівна  \n",
       "4  54519072-a514-11ea-afbd-00012eb19ff4  Соболь Наталія Михайлівна  "
      ]
     },
     "execution_count": 57,
     "metadata": {},
     "output_type": "execute_result"
    }
   ],
   "source": [
    "# checking first 5 rows\n",
    "data.head()"
   ]
  },
  {
   "cell_type": "code",
   "execution_count": 58,
   "metadata": {},
   "outputs": [
    {
     "name": "stdout",
     "output_type": "stream",
     "text": [
      "<class 'pandas.core.frame.DataFrame'>\n",
      "RangeIndex: 19482 entries, 0 to 19481\n",
      "Data columns (total 19 columns):\n",
      " #   Column                 Non-Null Count  Dtype  \n",
      "---  ------                 --------------  -----  \n",
      " 0   ДатаЧека               19482 non-null  object \n",
      " 1   НомерЧека              19482 non-null  int64  \n",
      " 2   ВидОперации            19482 non-null  object \n",
      " 3   АЗСКод                 19482 non-null  int64  \n",
      " 4   ВидНоменклатуры        19482 non-null  object \n",
      " 5   Карта                  19477 non-null  object \n",
      " 6   ОсновнаяКарта          54 non-null     object \n",
      " 7   НомерСтроки            19482 non-null  int64  \n",
      " 8   НоменклатураКод        19480 non-null  float64\n",
      " 9   Количество             19482 non-null  object \n",
      " 10  Цена                   19482 non-null  object \n",
      " 11  Сумма                  19482 non-null  object \n",
      " 12  Бонусы                 19482 non-null  object \n",
      " 13  СуммаСкидки            19482 non-null  object \n",
      " 14  УниверсальнаяАкцияКод  5074 non-null   float64\n",
      " 15  СписаноБонусов         19482 non-null  object \n",
      " 16  СуммаСкидкиДисконт     19482 non-null  int64  \n",
      " 17  КассоваяСмена          19482 non-null  object \n",
      " 18  ОператорКод            19475 non-null  object \n",
      "dtypes: float64(2), int64(4), object(13)\n",
      "memory usage: 2.8+ MB\n"
     ]
    }
   ],
   "source": [
    "# info about dataframe\n",
    "data.info()"
   ]
  },
  {
   "cell_type": "markdown",
   "metadata": {},
   "source": [
    "### Preparing and filtering data"
   ]
  },
  {
   "cell_type": "code",
   "execution_count": 6,
   "metadata": {},
   "outputs": [],
   "source": [
    "data_69 = pd.read_csv('other_data/card_69.csv')\n",
    "list_69 = list(data_69['Карта'])\n",
    "fraud_col = []\n",
    "for index, row in data.iterrows():\n",
    "    card_num = row['Карта']\n",
    "    if card_num in list_69:\n",
    "        fraud_col.append(1)\n",
    "    else:\n",
    "        fraud_col.append(0)\n",
    "data['label'] = fraud_col"
   ]
  },
  {
   "cell_type": "code",
   "execution_count": 9,
   "metadata": {},
   "outputs": [
    {
     "data": {
      "text/plain": [
       "{0, 1}"
      ]
     },
     "execution_count": 9,
     "metadata": {},
     "output_type": "execute_result"
    }
   ],
   "source": [
    "set(data['label'])"
   ]
  },
  {
   "cell_type": "markdown",
   "metadata": {},
   "source": [
    "##### \"ДатаЧека\""
   ]
  },
  {
   "cell_type": "markdown",
   "metadata": {},
   "source": [
    "We will drop this info as it's not important for the model"
   ]
  },
  {
   "cell_type": "code",
   "execution_count": 59,
   "metadata": {},
   "outputs": [],
   "source": [
    "# remove column\n",
    "data = data.drop('ДатаЧека', axis=1)"
   ]
  },
  {
   "cell_type": "markdown",
   "metadata": {},
   "source": [
    "##### \"НомерЧека\""
   ]
  },
  {
   "cell_type": "markdown",
   "metadata": {},
   "source": [
    "We also will drop this info as it's not important for the model"
   ]
  },
  {
   "cell_type": "code",
   "execution_count": 60,
   "metadata": {},
   "outputs": [],
   "source": [
    "# remove column\n",
    "data = data.drop('НомерЧека', axis=1)"
   ]
  },
  {
   "cell_type": "markdown",
   "metadata": {},
   "source": [
    "##### \"ВидОперации\""
   ]
  },
  {
   "cell_type": "code",
   "execution_count": 12,
   "metadata": {},
   "outputs": [
    {
     "ename": "KeyboardInterrupt",
     "evalue": "",
     "output_type": "error",
     "traceback": [
      "\u001b[0;31m---------------------------------------------------------------------------\u001b[0m",
      "\u001b[0;31mValueError\u001b[0m                                Traceback (most recent call last)",
      "\u001b[0;32m~/.local/lib/python3.8/site-packages/matplotlib/category.py\u001b[0m in \u001b[0;36m_str_is_convertible\u001b[0;34m(val)\u001b[0m\n\u001b[1;32m    183\u001b[0m         \u001b[0;32mtry\u001b[0m\u001b[0;34m:\u001b[0m\u001b[0;34m\u001b[0m\u001b[0;34m\u001b[0m\u001b[0m\n\u001b[0;32m--> 184\u001b[0;31m             \u001b[0mfloat\u001b[0m\u001b[0;34m(\u001b[0m\u001b[0mval\u001b[0m\u001b[0;34m)\u001b[0m\u001b[0;34m\u001b[0m\u001b[0;34m\u001b[0m\u001b[0m\n\u001b[0m\u001b[1;32m    185\u001b[0m         \u001b[0;32mexcept\u001b[0m \u001b[0mValueError\u001b[0m\u001b[0;34m:\u001b[0m\u001b[0;34m\u001b[0m\u001b[0;34m\u001b[0m\u001b[0m\n",
      "\u001b[0;31mValueError\u001b[0m: could not convert string to float: 'Начисление оплата'",
      "\nDuring handling of the above exception, another exception occurred:\n",
      "\u001b[0;31mKeyboardInterrupt\u001b[0m                         Traceback (most recent call last)",
      "\u001b[0;32m<ipython-input-12-538c3b896c90>\u001b[0m in \u001b[0;36m<module>\u001b[0;34m\u001b[0m\n\u001b[1;32m      1\u001b[0m \u001b[0;31m# visualizing data\u001b[0m\u001b[0;34m\u001b[0m\u001b[0;34m\u001b[0m\u001b[0;34m\u001b[0m\u001b[0m\n\u001b[0;32m----> 2\u001b[0;31m \u001b[0mplt\u001b[0m\u001b[0;34m.\u001b[0m\u001b[0mhist\u001b[0m\u001b[0;34m(\u001b[0m\u001b[0mdata\u001b[0m\u001b[0;34m[\u001b[0m\u001b[0;34m'ВидОперации'\u001b[0m\u001b[0;34m]\u001b[0m\u001b[0;34m)\u001b[0m\u001b[0;34m\u001b[0m\u001b[0;34m\u001b[0m\u001b[0m\n\u001b[0m\u001b[1;32m      3\u001b[0m \u001b[0mplt\u001b[0m\u001b[0;34m.\u001b[0m\u001b[0mxticks\u001b[0m\u001b[0;34m(\u001b[0m\u001b[0mrotation\u001b[0m\u001b[0;34m=\u001b[0m\u001b[0;36m45\u001b[0m\u001b[0;34m)\u001b[0m\u001b[0;34m\u001b[0m\u001b[0;34m\u001b[0m\u001b[0m\n\u001b[1;32m      4\u001b[0m \u001b[0mplt\u001b[0m\u001b[0;34m.\u001b[0m\u001b[0mshow\u001b[0m\u001b[0;34m(\u001b[0m\u001b[0;34m)\u001b[0m\u001b[0;34m\u001b[0m\u001b[0;34m\u001b[0m\u001b[0m\n",
      "\u001b[0;32m~/.local/lib/python3.8/site-packages/matplotlib/pyplot.py\u001b[0m in \u001b[0;36mhist\u001b[0;34m(x, bins, range, density, weights, cumulative, bottom, histtype, align, orientation, rwidth, log, color, label, stacked, data, **kwargs)\u001b[0m\n\u001b[1;32m   2666\u001b[0m         \u001b[0morientation\u001b[0m\u001b[0;34m=\u001b[0m\u001b[0;34m'vertical'\u001b[0m\u001b[0;34m,\u001b[0m \u001b[0mrwidth\u001b[0m\u001b[0;34m=\u001b[0m\u001b[0;32mNone\u001b[0m\u001b[0;34m,\u001b[0m \u001b[0mlog\u001b[0m\u001b[0;34m=\u001b[0m\u001b[0;32mFalse\u001b[0m\u001b[0;34m,\u001b[0m \u001b[0mcolor\u001b[0m\u001b[0;34m=\u001b[0m\u001b[0;32mNone\u001b[0m\u001b[0;34m,\u001b[0m\u001b[0;34m\u001b[0m\u001b[0;34m\u001b[0m\u001b[0m\n\u001b[1;32m   2667\u001b[0m         label=None, stacked=False, *, data=None, **kwargs):\n\u001b[0;32m-> 2668\u001b[0;31m     return gca().hist(\n\u001b[0m\u001b[1;32m   2669\u001b[0m         \u001b[0mx\u001b[0m\u001b[0;34m,\u001b[0m \u001b[0mbins\u001b[0m\u001b[0;34m=\u001b[0m\u001b[0mbins\u001b[0m\u001b[0;34m,\u001b[0m \u001b[0mrange\u001b[0m\u001b[0;34m=\u001b[0m\u001b[0mrange\u001b[0m\u001b[0;34m,\u001b[0m \u001b[0mdensity\u001b[0m\u001b[0;34m=\u001b[0m\u001b[0mdensity\u001b[0m\u001b[0;34m,\u001b[0m \u001b[0mweights\u001b[0m\u001b[0;34m=\u001b[0m\u001b[0mweights\u001b[0m\u001b[0;34m,\u001b[0m\u001b[0;34m\u001b[0m\u001b[0;34m\u001b[0m\u001b[0m\n\u001b[1;32m   2670\u001b[0m         \u001b[0mcumulative\u001b[0m\u001b[0;34m=\u001b[0m\u001b[0mcumulative\u001b[0m\u001b[0;34m,\u001b[0m \u001b[0mbottom\u001b[0m\u001b[0;34m=\u001b[0m\u001b[0mbottom\u001b[0m\u001b[0;34m,\u001b[0m \u001b[0mhisttype\u001b[0m\u001b[0;34m=\u001b[0m\u001b[0mhisttype\u001b[0m\u001b[0;34m,\u001b[0m\u001b[0;34m\u001b[0m\u001b[0;34m\u001b[0m\u001b[0m\n",
      "\u001b[0;32m~/.local/lib/python3.8/site-packages/matplotlib/__init__.py\u001b[0m in \u001b[0;36minner\u001b[0;34m(ax, data, *args, **kwargs)\u001b[0m\n\u001b[1;32m   1429\u001b[0m     \u001b[0;32mdef\u001b[0m \u001b[0minner\u001b[0m\u001b[0;34m(\u001b[0m\u001b[0max\u001b[0m\u001b[0;34m,\u001b[0m \u001b[0;34m*\u001b[0m\u001b[0margs\u001b[0m\u001b[0;34m,\u001b[0m \u001b[0mdata\u001b[0m\u001b[0;34m=\u001b[0m\u001b[0;32mNone\u001b[0m\u001b[0;34m,\u001b[0m \u001b[0;34m**\u001b[0m\u001b[0mkwargs\u001b[0m\u001b[0;34m)\u001b[0m\u001b[0;34m:\u001b[0m\u001b[0;34m\u001b[0m\u001b[0;34m\u001b[0m\u001b[0m\n\u001b[1;32m   1430\u001b[0m         \u001b[0;32mif\u001b[0m \u001b[0mdata\u001b[0m \u001b[0;32mis\u001b[0m \u001b[0;32mNone\u001b[0m\u001b[0;34m:\u001b[0m\u001b[0;34m\u001b[0m\u001b[0;34m\u001b[0m\u001b[0m\n\u001b[0;32m-> 1431\u001b[0;31m             \u001b[0;32mreturn\u001b[0m \u001b[0mfunc\u001b[0m\u001b[0;34m(\u001b[0m\u001b[0max\u001b[0m\u001b[0;34m,\u001b[0m \u001b[0;34m*\u001b[0m\u001b[0mmap\u001b[0m\u001b[0;34m(\u001b[0m\u001b[0msanitize_sequence\u001b[0m\u001b[0;34m,\u001b[0m \u001b[0margs\u001b[0m\u001b[0;34m)\u001b[0m\u001b[0;34m,\u001b[0m \u001b[0;34m**\u001b[0m\u001b[0mkwargs\u001b[0m\u001b[0;34m)\u001b[0m\u001b[0;34m\u001b[0m\u001b[0;34m\u001b[0m\u001b[0m\n\u001b[0m\u001b[1;32m   1432\u001b[0m \u001b[0;34m\u001b[0m\u001b[0m\n\u001b[1;32m   1433\u001b[0m         \u001b[0mbound\u001b[0m \u001b[0;34m=\u001b[0m \u001b[0mnew_sig\u001b[0m\u001b[0;34m.\u001b[0m\u001b[0mbind\u001b[0m\u001b[0;34m(\u001b[0m\u001b[0max\u001b[0m\u001b[0;34m,\u001b[0m \u001b[0;34m*\u001b[0m\u001b[0margs\u001b[0m\u001b[0;34m,\u001b[0m \u001b[0;34m**\u001b[0m\u001b[0mkwargs\u001b[0m\u001b[0;34m)\u001b[0m\u001b[0;34m\u001b[0m\u001b[0;34m\u001b[0m\u001b[0m\n",
      "\u001b[0;32m~/.local/lib/python3.8/site-packages/matplotlib/axes/_axes.py\u001b[0m in \u001b[0;36mhist\u001b[0;34m(self, x, bins, range, density, weights, cumulative, bottom, histtype, align, orientation, rwidth, log, color, label, stacked, **kwargs)\u001b[0m\n\u001b[1;32m   6559\u001b[0m         \u001b[0;31m# Unit conversion is done individually on each dataset\u001b[0m\u001b[0;34m\u001b[0m\u001b[0;34m\u001b[0m\u001b[0;34m\u001b[0m\u001b[0m\n\u001b[1;32m   6560\u001b[0m         \u001b[0mself\u001b[0m\u001b[0;34m.\u001b[0m\u001b[0m_process_unit_info\u001b[0m\u001b[0;34m(\u001b[0m\u001b[0mxdata\u001b[0m\u001b[0;34m=\u001b[0m\u001b[0mx\u001b[0m\u001b[0;34m[\u001b[0m\u001b[0;36m0\u001b[0m\u001b[0;34m]\u001b[0m\u001b[0;34m,\u001b[0m \u001b[0mkwargs\u001b[0m\u001b[0;34m=\u001b[0m\u001b[0mkwargs\u001b[0m\u001b[0;34m)\u001b[0m\u001b[0;34m\u001b[0m\u001b[0;34m\u001b[0m\u001b[0m\n\u001b[0;32m-> 6561\u001b[0;31m         \u001b[0mx\u001b[0m \u001b[0;34m=\u001b[0m \u001b[0;34m[\u001b[0m\u001b[0mself\u001b[0m\u001b[0;34m.\u001b[0m\u001b[0mconvert_xunits\u001b[0m\u001b[0;34m(\u001b[0m\u001b[0mxi\u001b[0m\u001b[0;34m)\u001b[0m \u001b[0;32mfor\u001b[0m \u001b[0mxi\u001b[0m \u001b[0;32min\u001b[0m \u001b[0mx\u001b[0m\u001b[0;34m]\u001b[0m\u001b[0;34m\u001b[0m\u001b[0;34m\u001b[0m\u001b[0m\n\u001b[0m\u001b[1;32m   6562\u001b[0m \u001b[0;34m\u001b[0m\u001b[0m\n\u001b[1;32m   6563\u001b[0m         \u001b[0;32mif\u001b[0m \u001b[0mbin_range\u001b[0m \u001b[0;32mis\u001b[0m \u001b[0;32mnot\u001b[0m \u001b[0;32mNone\u001b[0m\u001b[0;34m:\u001b[0m\u001b[0;34m\u001b[0m\u001b[0;34m\u001b[0m\u001b[0m\n",
      "\u001b[0;32m~/.local/lib/python3.8/site-packages/matplotlib/axes/_axes.py\u001b[0m in \u001b[0;36m<listcomp>\u001b[0;34m(.0)\u001b[0m\n\u001b[1;32m   6559\u001b[0m         \u001b[0;31m# Unit conversion is done individually on each dataset\u001b[0m\u001b[0;34m\u001b[0m\u001b[0;34m\u001b[0m\u001b[0;34m\u001b[0m\u001b[0m\n\u001b[1;32m   6560\u001b[0m         \u001b[0mself\u001b[0m\u001b[0;34m.\u001b[0m\u001b[0m_process_unit_info\u001b[0m\u001b[0;34m(\u001b[0m\u001b[0mxdata\u001b[0m\u001b[0;34m=\u001b[0m\u001b[0mx\u001b[0m\u001b[0;34m[\u001b[0m\u001b[0;36m0\u001b[0m\u001b[0;34m]\u001b[0m\u001b[0;34m,\u001b[0m \u001b[0mkwargs\u001b[0m\u001b[0;34m=\u001b[0m\u001b[0mkwargs\u001b[0m\u001b[0;34m)\u001b[0m\u001b[0;34m\u001b[0m\u001b[0;34m\u001b[0m\u001b[0m\n\u001b[0;32m-> 6561\u001b[0;31m         \u001b[0mx\u001b[0m \u001b[0;34m=\u001b[0m \u001b[0;34m[\u001b[0m\u001b[0mself\u001b[0m\u001b[0;34m.\u001b[0m\u001b[0mconvert_xunits\u001b[0m\u001b[0;34m(\u001b[0m\u001b[0mxi\u001b[0m\u001b[0;34m)\u001b[0m \u001b[0;32mfor\u001b[0m \u001b[0mxi\u001b[0m \u001b[0;32min\u001b[0m \u001b[0mx\u001b[0m\u001b[0;34m]\u001b[0m\u001b[0;34m\u001b[0m\u001b[0;34m\u001b[0m\u001b[0m\n\u001b[0m\u001b[1;32m   6562\u001b[0m \u001b[0;34m\u001b[0m\u001b[0m\n\u001b[1;32m   6563\u001b[0m         \u001b[0;32mif\u001b[0m \u001b[0mbin_range\u001b[0m \u001b[0;32mis\u001b[0m \u001b[0;32mnot\u001b[0m \u001b[0;32mNone\u001b[0m\u001b[0;34m:\u001b[0m\u001b[0;34m\u001b[0m\u001b[0;34m\u001b[0m\u001b[0m\n",
      "\u001b[0;32m~/.local/lib/python3.8/site-packages/matplotlib/artist.py\u001b[0m in \u001b[0;36mconvert_xunits\u001b[0;34m(self, x)\u001b[0m\n\u001b[1;32m    173\u001b[0m         \u001b[0;32mif\u001b[0m \u001b[0max\u001b[0m \u001b[0;32mis\u001b[0m \u001b[0;32mNone\u001b[0m \u001b[0;32mor\u001b[0m \u001b[0max\u001b[0m\u001b[0;34m.\u001b[0m\u001b[0mxaxis\u001b[0m \u001b[0;32mis\u001b[0m \u001b[0;32mNone\u001b[0m\u001b[0;34m:\u001b[0m\u001b[0;34m\u001b[0m\u001b[0;34m\u001b[0m\u001b[0m\n\u001b[1;32m    174\u001b[0m             \u001b[0;32mreturn\u001b[0m \u001b[0mx\u001b[0m\u001b[0;34m\u001b[0m\u001b[0;34m\u001b[0m\u001b[0m\n\u001b[0;32m--> 175\u001b[0;31m         \u001b[0;32mreturn\u001b[0m \u001b[0max\u001b[0m\u001b[0;34m.\u001b[0m\u001b[0mxaxis\u001b[0m\u001b[0;34m.\u001b[0m\u001b[0mconvert_units\u001b[0m\u001b[0;34m(\u001b[0m\u001b[0mx\u001b[0m\u001b[0;34m)\u001b[0m\u001b[0;34m\u001b[0m\u001b[0;34m\u001b[0m\u001b[0m\n\u001b[0m\u001b[1;32m    176\u001b[0m \u001b[0;34m\u001b[0m\u001b[0m\n\u001b[1;32m    177\u001b[0m     \u001b[0;32mdef\u001b[0m \u001b[0mconvert_yunits\u001b[0m\u001b[0;34m(\u001b[0m\u001b[0mself\u001b[0m\u001b[0;34m,\u001b[0m \u001b[0my\u001b[0m\u001b[0;34m)\u001b[0m\u001b[0;34m:\u001b[0m\u001b[0;34m\u001b[0m\u001b[0;34m\u001b[0m\u001b[0m\n",
      "\u001b[0;32m~/.local/lib/python3.8/site-packages/matplotlib/axis.py\u001b[0m in \u001b[0;36mconvert_units\u001b[0;34m(self, x)\u001b[0m\n\u001b[1;32m   1518\u001b[0m             \u001b[0;32mreturn\u001b[0m \u001b[0mx\u001b[0m\u001b[0;34m\u001b[0m\u001b[0;34m\u001b[0m\u001b[0m\n\u001b[1;32m   1519\u001b[0m         \u001b[0;32mtry\u001b[0m\u001b[0;34m:\u001b[0m\u001b[0;34m\u001b[0m\u001b[0;34m\u001b[0m\u001b[0m\n\u001b[0;32m-> 1520\u001b[0;31m             \u001b[0mret\u001b[0m \u001b[0;34m=\u001b[0m \u001b[0mself\u001b[0m\u001b[0;34m.\u001b[0m\u001b[0mconverter\u001b[0m\u001b[0;34m.\u001b[0m\u001b[0mconvert\u001b[0m\u001b[0;34m(\u001b[0m\u001b[0mx\u001b[0m\u001b[0;34m,\u001b[0m \u001b[0mself\u001b[0m\u001b[0;34m.\u001b[0m\u001b[0munits\u001b[0m\u001b[0;34m,\u001b[0m \u001b[0mself\u001b[0m\u001b[0;34m)\u001b[0m\u001b[0;34m\u001b[0m\u001b[0;34m\u001b[0m\u001b[0m\n\u001b[0m\u001b[1;32m   1521\u001b[0m         \u001b[0;32mexcept\u001b[0m \u001b[0mException\u001b[0m \u001b[0;32mas\u001b[0m \u001b[0me\u001b[0m\u001b[0;34m:\u001b[0m\u001b[0;34m\u001b[0m\u001b[0;34m\u001b[0m\u001b[0m\n\u001b[1;32m   1522\u001b[0m             raise munits.ConversionError('Failed to convert value(s) to axis '\n",
      "\u001b[0;32m~/.local/lib/python3.8/site-packages/matplotlib/category.py\u001b[0m in \u001b[0;36mconvert\u001b[0;34m(value, unit, axis)\u001b[0m\n\u001b[1;32m     59\u001b[0m             \u001b[0;32mreturn\u001b[0m \u001b[0mnp\u001b[0m\u001b[0;34m.\u001b[0m\u001b[0masarray\u001b[0m\u001b[0;34m(\u001b[0m\u001b[0mvalues\u001b[0m\u001b[0;34m,\u001b[0m \u001b[0mdtype\u001b[0m\u001b[0;34m=\u001b[0m\u001b[0mfloat\u001b[0m\u001b[0;34m)\u001b[0m\u001b[0;34m\u001b[0m\u001b[0;34m\u001b[0m\u001b[0m\n\u001b[1;32m     60\u001b[0m         \u001b[0;31m# force an update so it also does type checking\u001b[0m\u001b[0;34m\u001b[0m\u001b[0;34m\u001b[0m\u001b[0;34m\u001b[0m\u001b[0m\n\u001b[0;32m---> 61\u001b[0;31m         \u001b[0munit\u001b[0m\u001b[0;34m.\u001b[0m\u001b[0mupdate\u001b[0m\u001b[0;34m(\u001b[0m\u001b[0mvalues\u001b[0m\u001b[0;34m)\u001b[0m\u001b[0;34m\u001b[0m\u001b[0;34m\u001b[0m\u001b[0m\n\u001b[0m\u001b[1;32m     62\u001b[0m         \u001b[0;32mreturn\u001b[0m \u001b[0mnp\u001b[0m\u001b[0;34m.\u001b[0m\u001b[0mvectorize\u001b[0m\u001b[0;34m(\u001b[0m\u001b[0munit\u001b[0m\u001b[0;34m.\u001b[0m\u001b[0m_mapping\u001b[0m\u001b[0;34m.\u001b[0m\u001b[0m__getitem__\u001b[0m\u001b[0;34m,\u001b[0m \u001b[0motypes\u001b[0m\u001b[0;34m=\u001b[0m\u001b[0;34m[\u001b[0m\u001b[0mfloat\u001b[0m\u001b[0;34m]\u001b[0m\u001b[0;34m)\u001b[0m\u001b[0;34m(\u001b[0m\u001b[0mvalues\u001b[0m\u001b[0;34m)\u001b[0m\u001b[0;34m\u001b[0m\u001b[0;34m\u001b[0m\u001b[0m\n\u001b[1;32m     63\u001b[0m \u001b[0;34m\u001b[0m\u001b[0m\n",
      "\u001b[0;32m~/.local/lib/python3.8/site-packages/matplotlib/category.py\u001b[0m in \u001b[0;36mupdate\u001b[0;34m(self, data)\u001b[0m\n\u001b[1;32m    212\u001b[0m             \u001b[0;32mif\u001b[0m \u001b[0mconvertible\u001b[0m\u001b[0;34m:\u001b[0m\u001b[0;34m\u001b[0m\u001b[0;34m\u001b[0m\u001b[0m\n\u001b[1;32m    213\u001b[0m                 \u001b[0;31m# this will only be called so long as convertible is True.\u001b[0m\u001b[0;34m\u001b[0m\u001b[0;34m\u001b[0m\u001b[0;34m\u001b[0m\u001b[0m\n\u001b[0;32m--> 214\u001b[0;31m                 \u001b[0mconvertible\u001b[0m \u001b[0;34m=\u001b[0m \u001b[0mself\u001b[0m\u001b[0;34m.\u001b[0m\u001b[0m_str_is_convertible\u001b[0m\u001b[0;34m(\u001b[0m\u001b[0mval\u001b[0m\u001b[0;34m)\u001b[0m\u001b[0;34m\u001b[0m\u001b[0;34m\u001b[0m\u001b[0m\n\u001b[0m\u001b[1;32m    215\u001b[0m             \u001b[0;32mif\u001b[0m \u001b[0mval\u001b[0m \u001b[0;32mnot\u001b[0m \u001b[0;32min\u001b[0m \u001b[0mself\u001b[0m\u001b[0;34m.\u001b[0m\u001b[0m_mapping\u001b[0m\u001b[0;34m:\u001b[0m\u001b[0;34m\u001b[0m\u001b[0;34m\u001b[0m\u001b[0m\n\u001b[1;32m    216\u001b[0m                 \u001b[0mself\u001b[0m\u001b[0;34m.\u001b[0m\u001b[0m_mapping\u001b[0m\u001b[0;34m[\u001b[0m\u001b[0mval\u001b[0m\u001b[0;34m]\u001b[0m \u001b[0;34m=\u001b[0m \u001b[0mnext\u001b[0m\u001b[0;34m(\u001b[0m\u001b[0mself\u001b[0m\u001b[0;34m.\u001b[0m\u001b[0m_counter\u001b[0m\u001b[0;34m)\u001b[0m\u001b[0;34m\u001b[0m\u001b[0;34m\u001b[0m\u001b[0m\n",
      "\u001b[0;32m~/.local/lib/python3.8/site-packages/matplotlib/category.py\u001b[0m in \u001b[0;36m_str_is_convertible\u001b[0;34m(val)\u001b[0m\n\u001b[1;32m    185\u001b[0m         \u001b[0;32mexcept\u001b[0m \u001b[0mValueError\u001b[0m\u001b[0;34m:\u001b[0m\u001b[0;34m\u001b[0m\u001b[0;34m\u001b[0m\u001b[0m\n\u001b[1;32m    186\u001b[0m             \u001b[0;32mtry\u001b[0m\u001b[0;34m:\u001b[0m\u001b[0;34m\u001b[0m\u001b[0;34m\u001b[0m\u001b[0m\n\u001b[0;32m--> 187\u001b[0;31m                 \u001b[0mdateutil\u001b[0m\u001b[0;34m.\u001b[0m\u001b[0mparser\u001b[0m\u001b[0;34m.\u001b[0m\u001b[0mparse\u001b[0m\u001b[0;34m(\u001b[0m\u001b[0mval\u001b[0m\u001b[0;34m)\u001b[0m\u001b[0;34m\u001b[0m\u001b[0;34m\u001b[0m\u001b[0m\n\u001b[0m\u001b[1;32m    188\u001b[0m             \u001b[0;32mexcept\u001b[0m \u001b[0;34m(\u001b[0m\u001b[0mValueError\u001b[0m\u001b[0;34m,\u001b[0m \u001b[0mTypeError\u001b[0m\u001b[0;34m)\u001b[0m\u001b[0;34m:\u001b[0m\u001b[0;34m\u001b[0m\u001b[0;34m\u001b[0m\u001b[0m\n\u001b[1;32m    189\u001b[0m                 \u001b[0;31m# TypeError if dateutil >= 2.8.1 else ValueError\u001b[0m\u001b[0;34m\u001b[0m\u001b[0;34m\u001b[0m\u001b[0;34m\u001b[0m\u001b[0m\n",
      "\u001b[0;32m/usr/lib/python3/dist-packages/dateutil/parser/_parser.py\u001b[0m in \u001b[0;36mparse\u001b[0;34m(timestr, parserinfo, **kwargs)\u001b[0m\n\u001b[1;32m   1354\u001b[0m         \u001b[0;32mreturn\u001b[0m \u001b[0mparser\u001b[0m\u001b[0;34m(\u001b[0m\u001b[0mparserinfo\u001b[0m\u001b[0;34m)\u001b[0m\u001b[0;34m.\u001b[0m\u001b[0mparse\u001b[0m\u001b[0;34m(\u001b[0m\u001b[0mtimestr\u001b[0m\u001b[0;34m,\u001b[0m \u001b[0;34m**\u001b[0m\u001b[0mkwargs\u001b[0m\u001b[0;34m)\u001b[0m\u001b[0;34m\u001b[0m\u001b[0;34m\u001b[0m\u001b[0m\n\u001b[1;32m   1355\u001b[0m     \u001b[0;32melse\u001b[0m\u001b[0;34m:\u001b[0m\u001b[0;34m\u001b[0m\u001b[0;34m\u001b[0m\u001b[0m\n\u001b[0;32m-> 1356\u001b[0;31m         \u001b[0;32mreturn\u001b[0m \u001b[0mDEFAULTPARSER\u001b[0m\u001b[0;34m.\u001b[0m\u001b[0mparse\u001b[0m\u001b[0;34m(\u001b[0m\u001b[0mtimestr\u001b[0m\u001b[0;34m,\u001b[0m \u001b[0;34m**\u001b[0m\u001b[0mkwargs\u001b[0m\u001b[0;34m)\u001b[0m\u001b[0;34m\u001b[0m\u001b[0;34m\u001b[0m\u001b[0m\n\u001b[0m\u001b[1;32m   1357\u001b[0m \u001b[0;34m\u001b[0m\u001b[0m\n\u001b[1;32m   1358\u001b[0m \u001b[0;34m\u001b[0m\u001b[0m\n",
      "\u001b[0;32m/usr/lib/python3/dist-packages/dateutil/parser/_parser.py\u001b[0m in \u001b[0;36mparse\u001b[0;34m(self, timestr, default, ignoretz, tzinfos, **kwargs)\u001b[0m\n\u001b[1;32m    643\u001b[0m                                                       second=0, microsecond=0)\n\u001b[1;32m    644\u001b[0m \u001b[0;34m\u001b[0m\u001b[0m\n\u001b[0;32m--> 645\u001b[0;31m         \u001b[0mres\u001b[0m\u001b[0;34m,\u001b[0m \u001b[0mskipped_tokens\u001b[0m \u001b[0;34m=\u001b[0m \u001b[0mself\u001b[0m\u001b[0;34m.\u001b[0m\u001b[0m_parse\u001b[0m\u001b[0;34m(\u001b[0m\u001b[0mtimestr\u001b[0m\u001b[0;34m,\u001b[0m \u001b[0;34m**\u001b[0m\u001b[0mkwargs\u001b[0m\u001b[0;34m)\u001b[0m\u001b[0;34m\u001b[0m\u001b[0;34m\u001b[0m\u001b[0m\n\u001b[0m\u001b[1;32m    646\u001b[0m \u001b[0;34m\u001b[0m\u001b[0m\n\u001b[1;32m    647\u001b[0m         \u001b[0;32mif\u001b[0m \u001b[0mres\u001b[0m \u001b[0;32mis\u001b[0m \u001b[0;32mNone\u001b[0m\u001b[0;34m:\u001b[0m\u001b[0;34m\u001b[0m\u001b[0;34m\u001b[0m\u001b[0m\n",
      "\u001b[0;32m/usr/lib/python3/dist-packages/dateutil/parser/_parser.py\u001b[0m in \u001b[0;36m_parse\u001b[0;34m(self, timestr, dayfirst, yearfirst, fuzzy, fuzzy_with_tokens)\u001b[0m\n\u001b[1;32m    719\u001b[0m \u001b[0;34m\u001b[0m\u001b[0m\n\u001b[1;32m    720\u001b[0m         \u001b[0mres\u001b[0m \u001b[0;34m=\u001b[0m \u001b[0mself\u001b[0m\u001b[0;34m.\u001b[0m\u001b[0m_result\u001b[0m\u001b[0;34m(\u001b[0m\u001b[0;34m)\u001b[0m\u001b[0;34m\u001b[0m\u001b[0;34m\u001b[0m\u001b[0m\n\u001b[0;32m--> 721\u001b[0;31m         \u001b[0ml\u001b[0m \u001b[0;34m=\u001b[0m \u001b[0m_timelex\u001b[0m\u001b[0;34m.\u001b[0m\u001b[0msplit\u001b[0m\u001b[0;34m(\u001b[0m\u001b[0mtimestr\u001b[0m\u001b[0;34m)\u001b[0m         \u001b[0;31m# Splits the timestr into tokens\u001b[0m\u001b[0;34m\u001b[0m\u001b[0;34m\u001b[0m\u001b[0m\n\u001b[0m\u001b[1;32m    722\u001b[0m \u001b[0;34m\u001b[0m\u001b[0m\n\u001b[1;32m    723\u001b[0m         \u001b[0mskipped_idxs\u001b[0m \u001b[0;34m=\u001b[0m \u001b[0;34m[\u001b[0m\u001b[0;34m]\u001b[0m\u001b[0;34m\u001b[0m\u001b[0;34m\u001b[0m\u001b[0m\n",
      "\u001b[0;32m/usr/lib/python3/dist-packages/dateutil/parser/_parser.py\u001b[0m in \u001b[0;36msplit\u001b[0;34m(cls, s)\u001b[0m\n\u001b[1;32m    205\u001b[0m     \u001b[0;34m@\u001b[0m\u001b[0mclassmethod\u001b[0m\u001b[0;34m\u001b[0m\u001b[0;34m\u001b[0m\u001b[0m\n\u001b[1;32m    206\u001b[0m     \u001b[0;32mdef\u001b[0m \u001b[0msplit\u001b[0m\u001b[0;34m(\u001b[0m\u001b[0mcls\u001b[0m\u001b[0;34m,\u001b[0m \u001b[0ms\u001b[0m\u001b[0;34m)\u001b[0m\u001b[0;34m:\u001b[0m\u001b[0;34m\u001b[0m\u001b[0;34m\u001b[0m\u001b[0m\n\u001b[0;32m--> 207\u001b[0;31m         \u001b[0;32mreturn\u001b[0m \u001b[0mlist\u001b[0m\u001b[0;34m(\u001b[0m\u001b[0mcls\u001b[0m\u001b[0;34m(\u001b[0m\u001b[0ms\u001b[0m\u001b[0;34m)\u001b[0m\u001b[0;34m)\u001b[0m\u001b[0;34m\u001b[0m\u001b[0;34m\u001b[0m\u001b[0m\n\u001b[0m\u001b[1;32m    208\u001b[0m \u001b[0;34m\u001b[0m\u001b[0m\n\u001b[1;32m    209\u001b[0m     \u001b[0;34m@\u001b[0m\u001b[0mclassmethod\u001b[0m\u001b[0;34m\u001b[0m\u001b[0;34m\u001b[0m\u001b[0m\n",
      "\u001b[0;32m/usr/lib/python3/dist-packages/dateutil/parser/_parser.py\u001b[0m in \u001b[0;36m__next__\u001b[0;34m(self)\u001b[0m\n\u001b[1;32m    194\u001b[0m \u001b[0;34m\u001b[0m\u001b[0m\n\u001b[1;32m    195\u001b[0m     \u001b[0;32mdef\u001b[0m \u001b[0m__next__\u001b[0m\u001b[0;34m(\u001b[0m\u001b[0mself\u001b[0m\u001b[0;34m)\u001b[0m\u001b[0;34m:\u001b[0m\u001b[0;34m\u001b[0m\u001b[0;34m\u001b[0m\u001b[0m\n\u001b[0;32m--> 196\u001b[0;31m         \u001b[0mtoken\u001b[0m \u001b[0;34m=\u001b[0m \u001b[0mself\u001b[0m\u001b[0;34m.\u001b[0m\u001b[0mget_token\u001b[0m\u001b[0;34m(\u001b[0m\u001b[0;34m)\u001b[0m\u001b[0;34m\u001b[0m\u001b[0;34m\u001b[0m\u001b[0m\n\u001b[0m\u001b[1;32m    197\u001b[0m         \u001b[0;32mif\u001b[0m \u001b[0mtoken\u001b[0m \u001b[0;32mis\u001b[0m \u001b[0;32mNone\u001b[0m\u001b[0;34m:\u001b[0m\u001b[0;34m\u001b[0m\u001b[0;34m\u001b[0m\u001b[0m\n\u001b[1;32m    198\u001b[0m             \u001b[0;32mraise\u001b[0m \u001b[0mStopIteration\u001b[0m\u001b[0;34m\u001b[0m\u001b[0;34m\u001b[0m\u001b[0m\n",
      "\u001b[0;32m/usr/lib/python3/dist-packages/dateutil/parser/_parser.py\u001b[0m in \u001b[0;36mget_token\u001b[0;34m(self)\u001b[0m\n\u001b[1;32m    107\u001b[0m             \u001b[0;31m# that character may be part of the next token, it's stored in the\u001b[0m\u001b[0;34m\u001b[0m\u001b[0;34m\u001b[0m\u001b[0;34m\u001b[0m\u001b[0m\n\u001b[1;32m    108\u001b[0m             \u001b[0;31m# charstack.\u001b[0m\u001b[0;34m\u001b[0m\u001b[0;34m\u001b[0m\u001b[0;34m\u001b[0m\u001b[0m\n\u001b[0;32m--> 109\u001b[0;31m             \u001b[0;32mif\u001b[0m \u001b[0mself\u001b[0m\u001b[0;34m.\u001b[0m\u001b[0mcharstack\u001b[0m\u001b[0;34m:\u001b[0m\u001b[0;34m\u001b[0m\u001b[0;34m\u001b[0m\u001b[0m\n\u001b[0m\u001b[1;32m    110\u001b[0m                 \u001b[0mnextchar\u001b[0m \u001b[0;34m=\u001b[0m \u001b[0mself\u001b[0m\u001b[0;34m.\u001b[0m\u001b[0mcharstack\u001b[0m\u001b[0;34m.\u001b[0m\u001b[0mpop\u001b[0m\u001b[0;34m(\u001b[0m\u001b[0;36m0\u001b[0m\u001b[0;34m)\u001b[0m\u001b[0;34m\u001b[0m\u001b[0;34m\u001b[0m\u001b[0m\n\u001b[1;32m    111\u001b[0m             \u001b[0;32melse\u001b[0m\u001b[0;34m:\u001b[0m\u001b[0;34m\u001b[0m\u001b[0;34m\u001b[0m\u001b[0m\n",
      "\u001b[0;31mKeyboardInterrupt\u001b[0m: "
     ]
    },
    {
     "data": {
      "image/png": "[encoded data removed]",
      "text/plain": [
       "<Figure size 432x288 with 1 Axes>"
      ]
     },
     "metadata": {
      "needs_background": "light"
     },
     "output_type": "display_data"
    }
   ],
   "source": [
    "# visualizing data\n",
    "plt.hist(data['ВидОперации'])\n",
    "plt.xticks(rotation=45)\n",
    "plt.show()"
   ]
  },
  {
   "cell_type": "markdown",
   "metadata": {},
   "source": [
    "As we see we can drop rows with 'Начисление возврат' and 'Начисление оплата возврат' as there are very few data with these values"
   ]
  },
  {
   "cell_type": "code",
   "execution_count": 61,
   "metadata": {},
   "outputs": [],
   "source": [
    "# filtering rows\n",
    "data = data[data['ВидОперации']!='Начисление возврат']\n",
    "data = data[data['ВидОперации']!='Начисление оплата возврат']"
   ]
  },
  {
   "cell_type": "code",
   "execution_count": 62,
   "metadata": {},
   "outputs": [],
   "source": [
    "# normalize data for learning\n",
    "\n",
    "# making list with names\n",
    "list_names = list(data['ВидОперации'].unique())\n",
    "\n",
    "# replacing string with [0,1]\n",
    "data['ВидОперации'] = data['ВидОперации'].apply(lambda x:list_names.index(x))"
   ]
  },
  {
   "cell_type": "markdown",
   "metadata": {},
   "source": [
    "##### \"АЗСКод\""
   ]
  },
  {
   "cell_type": "code",
   "execution_count": 177,
   "metadata": {},
   "outputs": [
    {
     "data": {
      "text/plain": [
       "296"
      ]
     },
     "execution_count": 177,
     "metadata": {},
     "output_type": "execute_result"
    }
   ],
   "source": [
    "len(list_stations)"
   ]
  },
  {
   "cell_type": "code",
   "execution_count": 65,
   "metadata": {},
   "outputs": [],
   "source": [
    "for i in list(data['АЗСКод'].unique()):\n",
    "    if i not in list_stations:\n",
    "        list_stations.append(i)"
   ]
  },
  {
   "cell_type": "code",
   "execution_count": 63,
   "metadata": {},
   "outputs": [
    {
     "data": {
      "text/plain": [
       "[2620,\n",
       " 2619,\n",
       " 1946,\n",
       " 3422,\n",
       " 2618,\n",
       " 1921,\n",
       " 2311,\n",
       " 1646,\n",
       " 3409,\n",
       " 3912,\n",
       " 1610,\n",
       " 1609,\n",
       " 1912,\n",
       " 3424,\n",
       " 34295,\n",
       " 3710,\n",
       " 3720,\n",
       " 2615,\n",
       " 2927,\n",
       " 1959,\n",
       " 2617,\n",
       " 3719,\n",
       " 1611,\n",
       " 1952,\n",
       " 1608,\n",
       " 3815,\n",
       " 1630,\n",
       " 3118,\n",
       " 2625,\n",
       " 3126,\n",
       " 3418,\n",
       " 3819,\n",
       " 3115,\n",
       " 2313,\n",
       " 2608,\n",
       " 2110,\n",
       " 3917,\n",
       " 2418,\n",
       " 2622,\n",
       " 3922,\n",
       " 3820,\n",
       " 2322,\n",
       " 2596,\n",
       " 2712,\n",
       " 3809,\n",
       " 2613,\n",
       " 3816,\n",
       " 2310,\n",
       " 1926,\n",
       " 2924,\n",
       " 3916,\n",
       " 3814,\n",
       " 2571,\n",
       " 4210,\n",
       " 2542,\n",
       " 2928,\n",
       " 2537,\n",
       " 2616,\n",
       " 2920,\n",
       " 4119,\n",
       " 2510,\n",
       " 2416,\n",
       " 1955,\n",
       " 3319,\n",
       " 2410,\n",
       " 3040,\n",
       " 4108,\n",
       " 1635,\n",
       " 3725,\n",
       " 3132,\n",
       " 1612,\n",
       " 2420,\n",
       " 34315,\n",
       " 2424,\n",
       " 2563,\n",
       " 4116,\n",
       " 2314,\n",
       " 3308,\n",
       " 1934,\n",
       " 1613,\n",
       " 2717,\n",
       " 2421,\n",
       " 3414,\n",
       " 1958,\n",
       " 4123,\n",
       " 2611,\n",
       " 2321,\n",
       " 3139,\n",
       " 2612,\n",
       " 2426,\n",
       " 3041,\n",
       " 2430,\n",
       " 2711,\n",
       " 2713,\n",
       " 1614,\n",
       " 3312,\n",
       " 1628,\n",
       " 2936,\n",
       " 3123,\n",
       " 3921,\n",
       " 3316,\n",
       " 2917,\n",
       " 3729,\n",
       " 2926,\n",
       " 3708,\n",
       " 2921,\n",
       " 3721,\n",
       " 2610,\n",
       " 2511,\n",
       " 3129,\n",
       " 2932,\n",
       " 3919,\n",
       " 2539,\n",
       " 3027,\n",
       " 4125,\n",
       " 2574,\n",
       " 2614,\n",
       " 2534,\n",
       " 2509,\n",
       " 3714,\n",
       " 1629,\n",
       " 2725,\n",
       " 3127,\n",
       " 3043,\n",
       " 3408,\n",
       " 3723,\n",
       " 3413,\n",
       " 1617,\n",
       " 3423,\n",
       " 2513,\n",
       " 2541,\n",
       " 3824,\n",
       " 1909,\n",
       " 2438,\n",
       " 2523,\n",
       " 3412,\n",
       " 3715,\n",
       " 2530,\n",
       " 25534,\n",
       " 1928,\n",
       " 25533,\n",
       " 2425,\n",
       " 2555,\n",
       " 2621,\n",
       " 1950,\n",
       " 1918,\n",
       " 1954,\n",
       " 3518,\n",
       " 1935,\n",
       " 1634,\n",
       " 34305,\n",
       " 3025,\n",
       " 1916,\n",
       " 1929,\n",
       " 3114,\n",
       " 3311,\n",
       " 3534,\n",
       " 1947,\n",
       " 3142,\n",
       " 3137,\n",
       " 3817,\n",
       " 2716,\n",
       " 2919,\n",
       " 1944,\n",
       " 2317,\n",
       " 1914,\n",
       " 3531,\n",
       " 2417,\n",
       " 3028,\n",
       " 3113,\n",
       " 2551,\n",
       " 3410,\n",
       " 3318,\n",
       " 2544,\n",
       " 2533,\n",
       " 2609,\n",
       " 3131,\n",
       " 1919,\n",
       " 1925,\n",
       " 3109,\n",
       " 2721,\n",
       " 1930,\n",
       " 4126,\n",
       " 1917,\n",
       " 2516,\n",
       " 1937,\n",
       " 3141,\n",
       " 2709,\n",
       " 2708,\n",
       " 2943,\n",
       " 2428,\n",
       " 2570,\n",
       " 1636,\n",
       " 2308,\n",
       " 2548,\n",
       " 3530,\n",
       " 3420,\n",
       " 2325,\n",
       " 3111,\n",
       " 3128,\n",
       " 2565,\n",
       " 1637,\n",
       " 3122,\n",
       " 3711,\n",
       " 2543,\n",
       " 2437,\n",
       " 1924,\n",
       " 3810,\n",
       " 3415,\n",
       " 2723,\n",
       " 3019,\n",
       " 1632,\n",
       " 4110,\n",
       " 3818,\n",
       " 1939,\n",
       " 3915,\n",
       " 19641,\n",
       " 2412,\n",
       " 1962,\n",
       " 2724,\n",
       " 4243,\n",
       " 1953,\n",
       " 1945,\n",
       " 3419,\n",
       " 4109,\n",
       " 2566,\n",
       " 3427,\n",
       " 3432,\n",
       " 3426,\n",
       " 1943,\n",
       " 2572,\n",
       " 2561,\n",
       " 1627,\n",
       " 3108,\n",
       " 1615,\n",
       " 3808,\n",
       " 3140,\n",
       " 2108,\n",
       " 2436,\n",
       " 1936,\n",
       " 2930,\n",
       " 4120,\n",
       " 4226,\n",
       " 3125,\n",
       " 3911,\n",
       " 1911,\n",
       " 2514,\n",
       " 25971,\n",
       " 2531,\n",
       " 2552,\n",
       " 1641,\n",
       " 2560,\n",
       " 1642,\n",
       " 3315,\n",
       " 3029,\n",
       " 1915,\n",
       " 3023,\n",
       " 1923,\n",
       " 3728,\n",
       " 1638,\n",
       " 2941,\n",
       " 2942,\n",
       " 3425,\n",
       " 2567,\n",
       " 3130,\n",
       " 1933,\n",
       " 4124,\n",
       " 3709,\n",
       " 3909,\n",
       " 2589,\n",
       " 2312,\n",
       " 3119,\n",
       " 2935,\n",
       " 2427,\n",
       " 2719,\n",
       " 3813,\n",
       " 1949,\n",
       " 1645,\n",
       " 3120,\n",
       " 3929,\n",
       " 2545,\n",
       " 3920,\n",
       " 3517,\n",
       " 3913,\n",
       " 2532,\n",
       " 2925,\n",
       " 2522,\n",
       " 3724,\n",
       " 2524,\n",
       " 2515,\n",
       " 2415,\n",
       " 3124,\n",
       " 2527]"
      ]
     },
     "execution_count": 63,
     "metadata": {},
     "output_type": "execute_result"
    }
   ],
   "source": [
    "# checking unique values\n",
    "list(data['АЗСКод'].unique())"
   ]
  },
  {
   "cell_type": "code",
   "execution_count": 67,
   "metadata": {},
   "outputs": [],
   "source": [
    "# normalize data for learning\n",
    "\n",
    "# making list with names\n",
    "list_stations = list(data['АЗСКод'].unique())\n",
    "\n",
    "# replacing string with [0,1,..]\n",
    "data['АЗСКод'] = data['АЗСКод'].apply(lambda x:list_stations.index(x))"
   ]
  },
  {
   "cell_type": "markdown",
   "metadata": {},
   "source": [
    "##### \"ВидНоменклатуры\""
   ]
  },
  {
   "cell_type": "markdown",
   "metadata": {},
   "source": [
    "Most fraud cases happen with Gas purchasing, so we will leave only 'Нефтепродукты' rows and remove the entire column"
   ]
  },
  {
   "cell_type": "code",
   "execution_count": 68,
   "metadata": {},
   "outputs": [],
   "source": [
    "# filtering rows\n",
    "data = data[data['ВидНоменклатуры']=='Нефтепродукты']\n",
    "\n",
    "# removing the column\n",
    "data = data.drop('ВидНоменклатуры', axis=1)"
   ]
  },
  {
   "cell_type": "code",
   "execution_count": 69,
   "metadata": {},
   "outputs": [],
   "source": [
    "data_card = data.copy()"
   ]
  },
  {
   "cell_type": "markdown",
   "metadata": {},
   "source": [
    "##### \"Карта\""
   ]
  },
  {
   "cell_type": "code",
   "execution_count": 70,
   "metadata": {},
   "outputs": [
    {
     "data": {
      "text/plain": [
       "count                                 6389\n",
       "unique                                 463\n",
       "top       9B2E468B31B9ADD7C895D2405CE25E47\n",
       "freq                                   265\n",
       "Name: Карта, dtype: object"
      ]
     },
     "execution_count": 70,
     "metadata": {},
     "output_type": "execute_result"
    }
   ],
   "source": [
    "# checking quantity of unique cards \n",
    "data['Карта'].describe()"
   ]
  },
  {
   "cell_type": "markdown",
   "metadata": {},
   "source": [
    "Only 20259 cards used among 47384 operations, this means that some cards were used several times."
   ]
  },
  {
   "cell_type": "markdown",
   "metadata": {},
   "source": [
    "Obviously a card number doesn't provide model with any useful information, we will replace the values with numbers of usage frequency for the card."
   ]
  },
  {
   "cell_type": "code",
   "execution_count": 71,
   "metadata": {},
   "outputs": [],
   "source": [
    "# grouping by cards\n",
    "count_card = data.groupby('Карта').count()"
   ]
  },
  {
   "cell_type": "markdown",
   "metadata": {},
   "source": [
    "#### *bonus"
   ]
  },
  {
   "cell_type": "markdown",
   "metadata": {},
   "source": [
    "Checking the most frequently used card"
   ]
  },
  {
   "cell_type": "code",
   "execution_count": 72,
   "metadata": {},
   "outputs": [
    {
     "data": {
      "text/html": [
       "<div>\n",
       "<style scoped>\n",
       "    .dataframe tbody tr th:only-of-type {\n",
       "        vertical-align: middle;\n",
       "    }\n",
       "\n",
       "    .dataframe tbody tr th {\n",
       "        vertical-align: top;\n",
       "    }\n",
       "\n",
       "    .dataframe thead th {\n",
       "        text-align: right;\n",
       "    }\n",
       "</style>\n",
       "<table border=\"1\" class=\"dataframe\">\n",
       "  <thead>\n",
       "    <tr style=\"text-align: right;\">\n",
       "      <th></th>\n",
       "      <th>ВидОперации</th>\n",
       "      <th>АЗСКод</th>\n",
       "      <th>ОсновнаяКарта</th>\n",
       "      <th>НомерСтроки</th>\n",
       "      <th>НоменклатураКод</th>\n",
       "      <th>Количество</th>\n",
       "      <th>Цена</th>\n",
       "      <th>Сумма</th>\n",
       "      <th>Бонусы</th>\n",
       "      <th>СуммаСкидки</th>\n",
       "      <th>УниверсальнаяАкцияКод</th>\n",
       "      <th>СписаноБонусов</th>\n",
       "      <th>СуммаСкидкиДисконт</th>\n",
       "      <th>КассоваяСмена</th>\n",
       "      <th>ОператорКод</th>\n",
       "    </tr>\n",
       "    <tr>\n",
       "      <th>Карта</th>\n",
       "      <th></th>\n",
       "      <th></th>\n",
       "      <th></th>\n",
       "      <th></th>\n",
       "      <th></th>\n",
       "      <th></th>\n",
       "      <th></th>\n",
       "      <th></th>\n",
       "      <th></th>\n",
       "      <th></th>\n",
       "      <th></th>\n",
       "      <th></th>\n",
       "      <th></th>\n",
       "      <th></th>\n",
       "      <th></th>\n",
       "    </tr>\n",
       "  </thead>\n",
       "  <tbody>\n",
       "    <tr>\n",
       "      <th>68A81CF59724649D8784D322552D2CAE</th>\n",
       "      <td>120</td>\n",
       "      <td>120</td>\n",
       "      <td>0</td>\n",
       "      <td>120</td>\n",
       "      <td>120</td>\n",
       "      <td>120</td>\n",
       "      <td>120</td>\n",
       "      <td>120</td>\n",
       "      <td>120</td>\n",
       "      <td>120</td>\n",
       "      <td>120</td>\n",
       "      <td>120</td>\n",
       "      <td>120</td>\n",
       "      <td>120</td>\n",
       "      <td>120</td>\n",
       "    </tr>\n",
       "    <tr>\n",
       "      <th>71557CEEA393407549118FF4FA91EAB3</th>\n",
       "      <td>110</td>\n",
       "      <td>110</td>\n",
       "      <td>0</td>\n",
       "      <td>110</td>\n",
       "      <td>110</td>\n",
       "      <td>110</td>\n",
       "      <td>110</td>\n",
       "      <td>110</td>\n",
       "      <td>110</td>\n",
       "      <td>110</td>\n",
       "      <td>1</td>\n",
       "      <td>110</td>\n",
       "      <td>110</td>\n",
       "      <td>110</td>\n",
       "      <td>110</td>\n",
       "    </tr>\n",
       "    <tr>\n",
       "      <th>9B2E468B31B9ADD7C895D2405CE25E47</th>\n",
       "      <td>265</td>\n",
       "      <td>265</td>\n",
       "      <td>0</td>\n",
       "      <td>265</td>\n",
       "      <td>265</td>\n",
       "      <td>265</td>\n",
       "      <td>265</td>\n",
       "      <td>265</td>\n",
       "      <td>265</td>\n",
       "      <td>265</td>\n",
       "      <td>0</td>\n",
       "      <td>265</td>\n",
       "      <td>265</td>\n",
       "      <td>265</td>\n",
       "      <td>265</td>\n",
       "    </tr>\n",
       "  </tbody>\n",
       "</table>\n",
       "</div>"
      ],
      "text/plain": [
       "                                  ВидОперации  АЗСКод  ОсновнаяКарта  \\\n",
       "Карта                                                                  \n",
       "68A81CF59724649D8784D322552D2CAE          120     120              0   \n",
       "71557CEEA393407549118FF4FA91EAB3          110     110              0   \n",
       "9B2E468B31B9ADD7C895D2405CE25E47          265     265              0   \n",
       "\n",
       "                                  НомерСтроки  НоменклатураКод  Количество  \\\n",
       "Карта                                                                        \n",
       "68A81CF59724649D8784D322552D2CAE          120              120         120   \n",
       "71557CEEA393407549118FF4FA91EAB3          110              110         110   \n",
       "9B2E468B31B9ADD7C895D2405CE25E47          265              265         265   \n",
       "\n",
       "                                  Цена  Сумма  Бонусы  СуммаСкидки  \\\n",
       "Карта                                                                \n",
       "68A81CF59724649D8784D322552D2CAE   120    120     120          120   \n",
       "71557CEEA393407549118FF4FA91EAB3   110    110     110          110   \n",
       "9B2E468B31B9ADD7C895D2405CE25E47   265    265     265          265   \n",
       "\n",
       "                                  УниверсальнаяАкцияКод  СписаноБонусов  \\\n",
       "Карта                                                                     \n",
       "68A81CF59724649D8784D322552D2CAE                    120             120   \n",
       "71557CEEA393407549118FF4FA91EAB3                      1             110   \n",
       "9B2E468B31B9ADD7C895D2405CE25E47                      0             265   \n",
       "\n",
       "                                  СуммаСкидкиДисконт  КассоваяСмена  \\\n",
       "Карта                                                                 \n",
       "68A81CF59724649D8784D322552D2CAE                 120            120   \n",
       "71557CEEA393407549118FF4FA91EAB3                 110            110   \n",
       "9B2E468B31B9ADD7C895D2405CE25E47                 265            265   \n",
       "\n",
       "                                  ОператорКод  \n",
       "Карта                                          \n",
       "68A81CF59724649D8784D322552D2CAE          120  \n",
       "71557CEEA393407549118FF4FA91EAB3          110  \n",
       "9B2E468B31B9ADD7C895D2405CE25E47          265  "
      ]
     },
     "execution_count": 72,
     "metadata": {},
     "output_type": "execute_result"
    }
   ],
   "source": [
    "# filter card with more than 100 operations\n",
    "count_card[count_card['ВидОперации']>=100]"
   ]
  },
  {
   "cell_type": "code",
   "execution_count": 73,
   "metadata": {},
   "outputs": [
    {
     "data": {
      "text/html": [
       "<div>\n",
       "<style scoped>\n",
       "    .dataframe tbody tr th:only-of-type {\n",
       "        vertical-align: middle;\n",
       "    }\n",
       "\n",
       "    .dataframe tbody tr th {\n",
       "        vertical-align: top;\n",
       "    }\n",
       "\n",
       "    .dataframe thead th {\n",
       "        text-align: right;\n",
       "    }\n",
       "</style>\n",
       "<table border=\"1\" class=\"dataframe\">\n",
       "  <thead>\n",
       "    <tr style=\"text-align: right;\">\n",
       "      <th></th>\n",
       "      <th>ВидОперации</th>\n",
       "      <th>АЗСКод</th>\n",
       "      <th>Карта</th>\n",
       "      <th>ОсновнаяКарта</th>\n",
       "      <th>НомерСтроки</th>\n",
       "      <th>НоменклатураКод</th>\n",
       "      <th>Количество</th>\n",
       "      <th>Цена</th>\n",
       "      <th>Сумма</th>\n",
       "      <th>Бонусы</th>\n",
       "      <th>СуммаСкидки</th>\n",
       "      <th>УниверсальнаяАкцияКод</th>\n",
       "      <th>СписаноБонусов</th>\n",
       "      <th>СуммаСкидкиДисконт</th>\n",
       "      <th>КассоваяСмена</th>\n",
       "    </tr>\n",
       "    <tr>\n",
       "      <th>ОператорКод</th>\n",
       "      <th></th>\n",
       "      <th></th>\n",
       "      <th></th>\n",
       "      <th></th>\n",
       "      <th></th>\n",
       "      <th></th>\n",
       "      <th></th>\n",
       "      <th></th>\n",
       "      <th></th>\n",
       "      <th></th>\n",
       "      <th></th>\n",
       "      <th></th>\n",
       "      <th></th>\n",
       "      <th></th>\n",
       "      <th></th>\n",
       "    </tr>\n",
       "  </thead>\n",
       "  <tbody>\n",
       "  </tbody>\n",
       "</table>\n",
       "</div>"
      ],
      "text/plain": [
       "Empty DataFrame\n",
       "Columns: [ВидОперации, АЗСКод, Карта, ОсновнаяКарта, НомерСтроки, НоменклатураКод, Количество, Цена, Сумма, Бонусы, СуммаСкидки, УниверсальнаяАкцияКод, СписаноБонусов, СуммаСкидкиДисконт, КассоваяСмена]\n",
       "Index: []"
      ]
     },
     "execution_count": 73,
     "metadata": {},
     "output_type": "execute_result"
    }
   ],
   "source": [
    "# showing operations with this card only\n",
    "card_data = data[data['Карта']=='3A68C9A32E07603A1D5EA7CE1A800EB6']\n",
    "\n",
    "# grouping by operations quantity per operator \n",
    "card_data.groupby('ОператорКод').count()"
   ]
  },
  {
   "cell_type": "code",
   "execution_count": null,
   "metadata": {},
   "outputs": [],
   "source": [
    "# visualizing result\n",
    "pie_gr = card_data.groupby('ОператорКод').count()\n",
    "plt.pie(pie_gr['ВидОперации'], labels=pie_gr.index, autopct=lambda pct: int(119*pct/100))\n",
    "plt.show()"
   ]
  },
  {
   "cell_type": "markdown",
   "metadata": {},
   "source": [
    "As we can see only one operator \"Фера Радміла Іванівна\" has done 101 operations with the same card"
   ]
  },
  {
   "cell_type": "markdown",
   "metadata": {},
   "source": [
    " "
   ]
  },
  {
   "cell_type": "code",
   "execution_count": 74,
   "metadata": {},
   "outputs": [],
   "source": [
    "# replacing the values with numbers of usage frequency\n",
    "data['Карта'] = data['Карта'].apply(lambda x:count_card.loc[x]['ВидОперации'])"
   ]
  },
  {
   "cell_type": "markdown",
   "metadata": {},
   "source": [
    "##### \"ОсновнаяКарта\""
   ]
  },
  {
   "cell_type": "markdown",
   "metadata": {},
   "source": [
    "As we saw above this column has only 127 non-null values, so we can drop this column"
   ]
  },
  {
   "cell_type": "code",
   "execution_count": 75,
   "metadata": {},
   "outputs": [],
   "source": [
    "data = data.drop('ОсновнаяКарта', axis=1)"
   ]
  },
  {
   "cell_type": "markdown",
   "metadata": {},
   "source": [
    "##### \"НомерСтроки\""
   ]
  },
  {
   "cell_type": "markdown",
   "metadata": {},
   "source": [
    "We will drop this info as it's not important for the model"
   ]
  },
  {
   "cell_type": "code",
   "execution_count": 76,
   "metadata": {},
   "outputs": [],
   "source": [
    "data = data.drop('НомерСтроки', axis=1)"
   ]
  },
  {
   "cell_type": "markdown",
   "metadata": {},
   "source": [
    "##### \"НоменклатураКод\""
   ]
  },
  {
   "cell_type": "markdown",
   "metadata": {},
   "source": [
    "We will drop this column as we know that there are only gas products"
   ]
  },
  {
   "cell_type": "code",
   "execution_count": 77,
   "metadata": {},
   "outputs": [],
   "source": [
    "data = data.drop('НоменклатураКод', axis=1)"
   ]
  },
  {
   "cell_type": "markdown",
   "metadata": {},
   "source": [
    "##### \"Количество\", \"Цена\", \"Сумма\", \"Бонусы\", \"СуммаСкидки\""
   ]
  },
  {
   "cell_type": "markdown",
   "metadata": {},
   "source": [
    "These columns we will leave unchanged, just need to convert string into float number"
   ]
  },
  {
   "cell_type": "code",
   "execution_count": 78,
   "metadata": {},
   "outputs": [],
   "source": [
    "# converting string values to float\n",
    "data['Количество'] = data['Количество'].apply(lambda x:float(x.replace('\\xa0', '').replace(',', '.')))\n",
    "data['Цена'] = data['Цена'].apply(lambda x:float(x.replace('\\xa0', '').replace(',', '.')))\n",
    "data['Сумма'] = data['Сумма'].apply(lambda x:float(x.replace('\\xa0', '').replace(',', '.')))\n",
    "data['Бонусы'] = data['Бонусы'].apply(lambda x:float(x.replace('\\xa0', '').replace(',', '.')))\n",
    "data['СуммаСкидки'] = data['СуммаСкидки'].apply(lambda x:float(x.replace('\\xa0', '').replace(',', '.')))"
   ]
  },
  {
   "cell_type": "markdown",
   "metadata": {},
   "source": [
    "##### \"УниверсальнаяАкцияКод\""
   ]
  },
  {
   "cell_type": "code",
   "execution_count": 79,
   "metadata": {},
   "outputs": [
    {
     "data": {
      "text/plain": [
       "[nan,\n",
       " 3.0,\n",
       " 224.0,\n",
       " 5241.0,\n",
       " 3068.0,\n",
       " 4951.0,\n",
       " 1980.0,\n",
       " 3067.0,\n",
       " 4902.0,\n",
       " 5203.0,\n",
       " 5175.0,\n",
       " 294.0,\n",
       " 4439.0]"
      ]
     },
     "execution_count": 79,
     "metadata": {},
     "output_type": "execute_result"
    }
   ],
   "source": [
    "# checking unique values\n",
    "list(data['УниверсальнаяАкцияКод'].unique())"
   ]
  },
  {
   "cell_type": "code",
   "execution_count": 80,
   "metadata": {},
   "outputs": [],
   "source": [
    "# replace NaN values\n",
    "data['УниверсальнаяАкцияКод'] = data['УниверсальнаяАкцияКод'].fillna(0)"
   ]
  },
  {
   "cell_type": "code",
   "execution_count": 81,
   "metadata": {},
   "outputs": [],
   "source": [
    "# normalize data for learning\n",
    "\n",
    "# making list with names\n",
    "list_disc_types = list(data['УниверсальнаяАкцияКод'].unique())\n",
    "\n",
    "# replacing string with [0,1,..]\n",
    "data['УниверсальнаяАкцияКод'] = data['УниверсальнаяАкцияКод'].apply(lambda x:list_disc_types.index(x))"
   ]
  },
  {
   "cell_type": "markdown",
   "metadata": {},
   "source": [
    "##### \"СписаноБонусов\""
   ]
  },
  {
   "cell_type": "markdown",
   "metadata": {},
   "source": [
    "We will leave this unchanged"
   ]
  },
  {
   "cell_type": "code",
   "execution_count": 82,
   "metadata": {},
   "outputs": [],
   "source": [
    "# converting unicode string to integer\n",
    "data['СписаноБонусов'] = data['СписаноБонусов'].apply(lambda x:int(x.replace('\\xa0', '')))"
   ]
  },
  {
   "cell_type": "markdown",
   "metadata": {},
   "source": [
    "##### \"СуммаСкидкиДисконт\""
   ]
  },
  {
   "cell_type": "code",
   "execution_count": 83,
   "metadata": {},
   "outputs": [
    {
     "data": {
      "text/plain": [
       "array([0])"
      ]
     },
     "execution_count": 83,
     "metadata": {},
     "output_type": "execute_result"
    }
   ],
   "source": [
    "# checking for unique values\n",
    "data['СуммаСкидкиДисконт'].unique()"
   ]
  },
  {
   "cell_type": "markdown",
   "metadata": {},
   "source": [
    "This column has only 0 values, we will drop it"
   ]
  },
  {
   "cell_type": "code",
   "execution_count": 84,
   "metadata": {},
   "outputs": [],
   "source": [
    "data = data.drop('СуммаСкидкиДисконт', axis=1)"
   ]
  },
  {
   "cell_type": "markdown",
   "metadata": {},
   "source": [
    "##### \"КассоваяСмена\""
   ]
  },
  {
   "cell_type": "markdown",
   "metadata": {},
   "source": [
    "This values will not help model, let's drop it"
   ]
  },
  {
   "cell_type": "code",
   "execution_count": 85,
   "metadata": {},
   "outputs": [],
   "source": [
    "data = data.drop('КассоваяСмена', axis=1)"
   ]
  },
  {
   "cell_type": "markdown",
   "metadata": {},
   "source": [
    "##### \"ОператорКод\""
   ]
  },
  {
   "cell_type": "code",
   "execution_count": 86,
   "metadata": {},
   "outputs": [
    {
     "data": {
      "text/plain": [
       "array(['Калита Марія Степанівна', 'Сенежук Іван Юрійович',\n",
       "       'Булименко Тетяна Миколаївна', 'Демкович Світлана Михайлівна',\n",
       "       'Бутов Сергій Васильович', \"Третьякова Мар'я Андріївна\",\n",
       "       \"Куцибала Мар'яна Вікторівна\", 'Шведюк Іван Михайлович',\n",
       "       'Чернишова Ярослава Ярославівна', \"Харатін Мар'ян Віталійович\",\n",
       "       'Супрун Ю.                                         ',\n",
       "       'Ганчева Валерія Михайлівна', 'Цісельська Вікторія Іванівна',\n",
       "       'Ващук Ірина Богданівна', 'Єлагіна Наталія Володимирівна',\n",
       "       'Філь Олег Миронович', 'Іванович Юлія Олегівна',\n",
       "       'Марчук Наталія Володимирівна', 'Любенчук Галина Миколаївна',\n",
       "       'Небелюк Ольга Михайлівна', \"Варцаб'юк Марія Миколаївна \",\n",
       "       'Гудима Василь Миколайович', 'Писарук Тетяна Леонідівна',\n",
       "       'Шиманська Людмила Вікторівна', 'Зубрицький Василь Борисович',\n",
       "       'Супрун Юлія Ігорівна', 'Соболь Наталія Михайлівна',\n",
       "       'Матуся Анастасія Віталіївна', 'Марчук Альона Ігорівна',\n",
       "       'Пастух Роксолана Русланівна', 'Папіж Анастасія Іванівна',\n",
       "       'Андрійчук Олексій Сергійович', 'Дмитрук Тетяна Георгіївна',\n",
       "       'Куцик Роман Віталійович',\n",
       "       'Куклевський А.В.                                  ',\n",
       "       'Желєзко Марина Сергіївна', 'Петровська Ірина Ігорівна',\n",
       "       'Мельниченко Оксана Анатоліївна ', 'Бондар Ілона Миколаївна ',\n",
       "       'Мельник В.І.', 'Тарасенко Ігор Вікторович',\n",
       "       'Сидоренко Тетяна Вікторівна', 'Кузів Олександра Михайлівна',\n",
       "       'Берестян Вікторія Вікторівна', 'Андріяшевська Тетяна Вікторівна',\n",
       "       'Турчиняк Людмила Євгенівна',\n",
       "       'Герей М.М.                                        ',\n",
       "       'Сколота Олена Вікторівна', 'Савостіков А.В.',\n",
       "       'Заєзжай Вікторія Ігорівна', 'Гаєва Л.Д.',\n",
       "       'Ремез Наталія Орестівна', 'Андрейчук Ольга Вячеславівна',\n",
       "       'Адамів Андрій Андрійович', 'Жмурко А.П.     ',\n",
       "       'Садловська Юлія Петрівна ', 'Пекарюк Марія Василівна',\n",
       "       'Божак Василь Богданович', 'Мартинюк Марія Василівна ',\n",
       "       'Левчук Оксана Миколаївна', 'Бакуменко Оксана Олександрівна',\n",
       "       'Дружук Тетяна Миколаївна', 'Мироняк Іван Васильович',\n",
       "       'Пекарюк Терезія Василівна', 'Неопрятна Катерина Сергіївна',\n",
       "       'Кручок Ігор Леонідович',\n",
       "       'Попова О.К.                                       ',\n",
       "       'Раковська Аліна Олександрівна', 'Шевчук Валентина Миколаївна',\n",
       "       'Клим Володимир Романович', 'Шалаш Микола Любомирович',\n",
       "       'Лівунова Руслана Євгенівна', 'Нагорняк Тетяна Миколаївна',\n",
       "       'Карпюк Тетяна Геннадіївна', \"Солом'яний Ігор Васильович\",\n",
       "       'Жолдак Олег Зеновійович', 'Бортнік Іванна Ростиславівна',\n",
       "       'Мартинюк Наталія Миколаївна', 'Дубик Андрій Дмитрович',\n",
       "       'Бицюк О.В.', 'Нікитченко Юрій Іванович',\n",
       "       'Андрійчук Галина Володимирівна                    ',\n",
       "       'Романишин Т.С.', 'Шіляк Галина Андріївна',\n",
       "       'Перепелиця Наталія Олександрівна', 'Тиркот Х.А.',\n",
       "       'Грищенко Інна Анатоліївна', 'Шуляк Богдан Григорович',\n",
       "       'Василик Тетяна Богданівна ', 'Бортник Юлія Вікторівна',\n",
       "       'Москаленко Ростислав Едуардович', \"Гузій Мар'яна Іванівна\",\n",
       "       'Чередько Катерина Євгеніївна', 'Павлюк Іванна Ігорівна',\n",
       "       'Стельмащук Галина Михайлівна', 'Войцеховський Артем Вадимович',\n",
       "       'Сушик Катерина Олександрівна', 'Борисова Єлизавета Олександрівна',\n",
       "       'Лотоцька Ольга Ігорівна', 'Коцюба Мирослава Ігорівна',\n",
       "       'Мандрусь Анастасія Русланівна', 'Бихалець Юлія Олександрівна',\n",
       "       'Шимон Віта Іванівна', 'Курта Тетяна Василівна',\n",
       "       'Гандабура Дмитро Іванович', 'Бузько Світлана Володимирівна',\n",
       "       'Слободянюк Олександр Васильович', 'Кохан Катерина Олександрівна',\n",
       "       'Брега Руслан Степанович', 'Шило Л.М      ',\n",
       "       'Ергашева Альона Вікторівна', 'Гапонюк Вадим Володимирович',\n",
       "       'Сінітович Віта Василівна', 'Тимчишин Віталія Володимирівна',\n",
       "       'Сліпко Юлія Григорівна', 'Лоуска Наталія Михайлівна',\n",
       "       'Вітвіцький Віталій Васильович', 'Хлистік Тетяна Михайлівна',\n",
       "       'Левандовская Л.В.', 'Срочко Марина Вікторівна', 'Гуменюк М.В._',\n",
       "       'Шевчук Лілія Миколаївна', 'Чиркіна Тетяна Ігорівна',\n",
       "       'Жалко Н.Б.   ', 'Горбач Олексій Русланович',\n",
       "       \"Власенко Дар'я Володимирівна \", 'Тутак Тетяна Юліанівна',\n",
       "       'Булавка Тетяна Василівна', \"Рудак Мар'яна Юріївна\",\n",
       "       'Лисенко К.          ', 'Іванова Алла Володимирівна',\n",
       "       'Керничишин Юрій Васильович ', \"Тимків Мар'яна Богданівна\",\n",
       "       'Решетняк Олена Миколаївна ', 'Чекан Роман Володимирович',\n",
       "       'Козарук Оксана Богданівна ', 'Драган Антоніна Михайлівна',\n",
       "       'Богорад Ольга Віталіївна', 'Долобан Андрій Олексійович',\n",
       "       'Пристанська Ольга Григорівна', 'Дермельов Іван Сергійович',\n",
       "       \"Гулак Дар'я Сергіївна\", 'Барчан Анастасія Віталіївна',\n",
       "       'Шкварько Світлана Іванівна', 'Мєрєуца Алла Вікторівна',\n",
       "       'Колесун Поліна Миколаївна ', 'Лалаян Сабіна Борисівна',\n",
       "       'Басаргіна Маргарита Юріївна', 'Бойко Галина Григорівна',\n",
       "       'Попик Людмила Андріївна', 'Юрчук В.М.', 'Біланич Марія Іванівна',\n",
       "       'Зеленцов Артем Сергійович', 'Кошель Юрій Олегович ',\n",
       "       'Коваль Надія Григорівна', 'Куфедчук Лариса Петрівна',\n",
       "       'Безсмертний Микита Сергійович', 'Стокоз Олена Михайлівна',\n",
       "       'Петрущенко Олена Станіславівна', 'Осипчук Роман Олександрович',\n",
       "       'Сорока Світлана Олегівна', 'Гнатюк Олена Василівна',\n",
       "       'Гончарко Вікторія Ігорівна', 'Ковалевська Анастасія Валеріївна',\n",
       "       'Берлата Христина Миколаївна ', 'Рожанська Юлія Миколаївна',\n",
       "       'Іванюк Надія Юріївна', 'Дашутіна Тетяна Сергіївна',\n",
       "       'Орлов Андрій Сергійович', 'Юра Ольга Василівна',\n",
       "       'Бесцінна Катерина Леонідівна', 'Шкварніцька Наталія Сергіївна',\n",
       "       'Зінченко Вікторія Миколаївна',\n",
       "       'Поповська Тетяна Анатоліївна                      ',\n",
       "       'Сидорчук Яна Іванівна', 'Сирохман Н.    ',\n",
       "       'Бартєнєва Христина Савівна', 'Голтвянська Тетяна Сергіївна',\n",
       "       'Кіндрат Богдана Богданівна', 'Волкова Марина Андріївна ',\n",
       "       'Азарова Маргарита Сергіївна', 'Здіорук Валентина Дмитрівна',\n",
       "       'Країло Наталія Сергіївна', 'Онищенко Оксана Адамівна',\n",
       "       'Дишлюк Інна Петрівна ', 'Собчук Вікторія Вікторівна',\n",
       "       'Голуб Оксана Василівна', \"Дем'яненко Олена Валеріївна \",\n",
       "       'Довгалюк Андрій Ярославович', 'Семенюк Оксана Василівна',\n",
       "       'Лазука Оксана Олександрівна', 'Скляр Владислав Олександрович',\n",
       "       'Кузніченко Максим Володимирович', 'Сарана Ніна Василівна',\n",
       "       'Дрозд Марія Ігорівна', 'Чумак Діана Федорівна',\n",
       "       'Ющук Юлія Андріївна', 'Близнюк Світлана Ігорівна ',\n",
       "       'Булавко Т.В.                                      ',\n",
       "       'Раделицька Ірина Василівна', 'Семенюк О.В.',\n",
       "       'Садова Тетяна Петрівна', 'Поліщук Анастасія Вікторівна',\n",
       "       'Римарчук Е.Ф.   ', 'Ковальчук С.',\n",
       "       'Логвиненко Тетяна  Миколаївна', 'Хамаза Марія Сергіївна',\n",
       "       'Соловей Аліна Ігорівна ', 'Мороз І.Т.', 'Савчин Іван Васильович',\n",
       "       'Базунова Каріна Вадимівна', 'Біленко І.М.',\n",
       "       'Карпусь Людмила Володимирівна', 'Антонік Олена Миколаївна',\n",
       "       'Веремчук Тетяна Вікторівна', 'Стефанець Леся Михайлівна',\n",
       "       'Натанчук Наталія Станіславівна', 'Горбачова Катерина Андріївна',\n",
       "       'Мелещенко Олена Анатоліївна', 'Петрицька Віта Анатоліївна',\n",
       "       'Турченко Діана Володимирівна', 'Рошак Олена Ігорівна',\n",
       "       'Богуш Ірина Андріївна', 'Мельник Євген Сергійович',\n",
       "       'Криворотова Ірина Олегівна ', 'Заворотній Віктор Миколайович',\n",
       "       'Шевчук Наталія Олександрівна', 'Бондар Наталія Вікторівна /',\n",
       "       'Нечипорук Ганна Миколаївна', 'Кордюков А.О.  ',\n",
       "       'Пасло Наталія Ігорівна',\n",
       "       'Шаповалова-Приходченко Катерина Сергіївна ',\n",
       "       'Руденчук Сергій Павлович', 'Пахалюк Людмила Ігорівна',\n",
       "       'Капустіна Вікторія Дмитрівна', 'Сондей Богдана Іванівна ',\n",
       "       'Флейчук Надія Ярославівна ', 'Янчук О.',\n",
       "       'Воропаєв Олександр Анатолійович', 'Абрамчук Оксана Вікторівна',\n",
       "       'Яловега Оксана Василівна', 'Олтман Крістіна Валеріївна',\n",
       "       'Туз Іван Іванович', 'Нелін Ярослав Олександрович',\n",
       "       'Дмитрук Микола Ярославович', 'Буренко Дмитро Юрійович',\n",
       "       'Грищук Іванна Миколаївна', 'Тимофеєва Діана Олегівна',\n",
       "       'Тарасенко Ірина Ярославівна', 'Євенко Лілія Володимирівна',\n",
       "       'Шевчук Вікторія Сергіївна', 'Зеленська Галина Ананіївна',\n",
       "       'Тракслер Світлана Петрівна', 'Трофімов Володимир Сергійович',\n",
       "       'Григорчук Тетяна Тарасівна', 'Шалай Лілія Андріївна',\n",
       "       'Матіяш Станіслав Вячеславович ', 'Сидорчук Дмитро Юрійович',\n",
       "       'Цапіна Світлана Василівна', 'Рачок Тетяна Олександрівна',\n",
       "       'Закорчемна Галина Михайлівна', 'Асосок Дмитро Володимирович',\n",
       "       'Калинів Дмитро Михайлович', 'Добродій Вадим Євгенович ',\n",
       "       'Ластовецька Ірина Вікторівна', 'Єланська Оксана Юріївна',\n",
       "       'Депа Надія Олександрівна', 'Смирнова Наталя Володимирівна',\n",
       "       'Сигаїва Наталія Миколаївна', 'Івахів Г. М.',\n",
       "       'Головко Вікторія Сергіївна', 'Шугало Діана Володимирівна',\n",
       "       'Шапоренко Ніна Петрівна                           ',\n",
       "       'Бондар Григорій Юрійович', 'Владімірова Карина Куангівна',\n",
       "       'Козирь Яна Андріївна', 'Черній Тарас Олександрович',\n",
       "       'Юрчишин Петро Богданович', 'Степанська І.П.',\n",
       "       'Сергієнко Катерина Володимирівна', 'Пилипей Алла Миколаївна',\n",
       "       'Драпак Марія Петрівна ', 'Біда Наталія Петрівна',\n",
       "       'Федів Ірина Василівна', 'Бова Віталій Віталійович',\n",
       "       'Надвірнянська Наталія Ігорівна', 'Мудрак Алла Ігорівна',\n",
       "       'Чирва Денис Олександрович', 'Кисилиця В.І.',\n",
       "       'Богута Іван Олександрович', 'Шахова Анастасія Олександрівна_',\n",
       "       'Пукас Алла Олександрівна', 'Дробная М.', 'Бурлака Оксана Юріївна',\n",
       "       'Харькова Олена Володимирівна', 'Авраменко Андрій Аркадійович',\n",
       "       'Лаврук Кароліна Дмитрівна', 'Октисюк Валентина Олександрівна',\n",
       "       'Ляшевич Ольга Віталіївна', 'Сметаннікова Наталія Анатоліївна',\n",
       "       'Панченко Наталія Валентинівна', 'Ткачук Людмила Євгенівна',\n",
       "       'Вешторт Наталія Олександрівна ', 'Слєсарєв О.В.',\n",
       "       'Куценко Альона Анатоліївна', 'Міронова Тетяна Вікторівна',\n",
       "       'Яводчак Соломія Іванівна', 'Тимчишин Анна Петрівна',\n",
       "       'Скальський Олександр Володимирович', 'Шнайдер Ірина Миколаївна',\n",
       "       'Цюмра Юрій Петрович', 'Гундяк Богдана Ігорівна',\n",
       "       'Мілянець Оксана Петрівна', 'Глізер Оксана Олексіївна',\n",
       "       'Бакай Наталія Григорівна', 'Сподарик Денис Ігорович',\n",
       "       'Харіна Валерія Андріївна', 'Маламан Ганна Сергіївна',\n",
       "       'Ростецька Ірина Василівна', 'Сулій Олег Михайлович',\n",
       "       'Крищук Микола Валентинович', 'Стангрет Надія Миколаївна',\n",
       "       'Садоян А.', 'Павлюк Галина Петрівна', 'Пшоняк Іванна Олегівна ',\n",
       "       'БОНДАРЕНКО Сергій Сергійович', 'Андрійчук Руслан Васильович',\n",
       "       'Петрухно Наталія Михайлівна', 'Рудий Микола Миколайович',\n",
       "       'Микулич М.С.', 'Погребной П.И.', 'Молнар Тетяна Василівна',\n",
       "       'Шахова А.В.', 'Шапоренко Катерина Миколаївна',\n",
       "       'Гадіров Ельхан Вілаят огли', 'Свищ Микола Ярославович',\n",
       "       'Карпюк Любов Василівна', 'Шевченко Яна Юріївна',\n",
       "       \"Альохіна Мар'яна Вікторівна\", 'Ковалевська Лілія Василівна',\n",
       "       'Гаманюк Микола Дмитрович', 'Закала Юрій Григорович',\n",
       "       'Зубрицька Анна Ігорівна ', 'Патлай Анастасія Олександрівна',\n",
       "       'Бишовець Віталіна Сергіївна', 'Варцаба Г. І.',\n",
       "       'Жалко Наталія Богданівна', 'Саєнко Світлана Сергіївна',\n",
       "       'Герчук С.І.                                       ',\n",
       "       'Посохова Лариса Юріївна', 'Мандрик Лілія Олександрівна',\n",
       "       'Проців Лілія Зіновіївна ', 'Ткань Тетяна Володимирівна',\n",
       "       'Суничук Раїса Олексіївна', 'Марчук Юрій Миколайович',\n",
       "       'Кондрук Олена Петрівна', 'Мачковська Світлана Володимирівна',\n",
       "       'Слободян Марія Федорівна', 'Сірко Наталія Мирославівна',\n",
       "       'Бурячок Карина Олександрівна', 'Потоцька Анна Василівна',\n",
       "       'Профатило Юрій Юрійович', 'Янчук В. М.',\n",
       "       'Левченко Христина Ярославівна', 'Васильєва Марія Олександрівна',\n",
       "       'Ляшенко Руслан Васильович', 'Дубровенко Наталія Іванівна ',\n",
       "       'Шепітко Іван Петрович', 'Дуйловська Оксана Анатоліївна',\n",
       "       'Довжик О.В.', 'Хачаян Карина Артурівна',\n",
       "       'Коноваленко Анна Миколаївна', 'Хінцінська Олена Борисівна',\n",
       "       'Чопик Анжеліка Андріївна', 'Близнюк Світлана Олександрівна',\n",
       "       'Лях Світлана Олександрівна', 'Шевель Ольга Іванівна',\n",
       "       'Танасійчук Оксана Ігорівна', 'Ковальчук Валентина  Валеріївна',\n",
       "       'Володарська Маргарита Володимирівна ',\n",
       "       'Шаталіна Вікторія Юріївна', 'Лаштопа Софія Миколаївна',\n",
       "       'Орнат Ірина Ігорівна', 'Бучковська Ольга Йосипівна',\n",
       "       'Грабовська Олена Миколаївна', 'Карбан Карина Іванівна',\n",
       "       'Залевська Анастасія Олександрівна',\n",
       "       'Поліщук Оксана Володимиріівна', 'Белименко Євгенія Миколаївна',\n",
       "       'Якимчук Галина Миколаївна', 'Васькова Галина Іванівна',\n",
       "       'Рибак Наталія Михайлівна', 'Суслова Наталія Юріївна',\n",
       "       'Антонова Юлія Миколаївна', 'Ткаченко Дмитро Владиславович ',\n",
       "       'Брикайло Наталія Романівна ', 'Булгакова Вікторія Андріївна',\n",
       "       'Циганюк Оксана Юріївна', 'Глова Анастасія Олександрівна',\n",
       "       'Зелена Марина Олександрівна', 'Кальчевська Г. А.',\n",
       "       'Давидюк Оксана Ярославівна', 'Толкачов Віталій Олександрович',\n",
       "       'Добровольський Вадим Віталійович', 'Янковенко Наталія Григорівна',\n",
       "       'Демідов Андрій Сергійович', 'Смерековська Оксана Василівна',\n",
       "       'Ємчик Лілія Петрівна', 'Маковська Оксана Степанівна',\n",
       "       'Палюх Юлія Степанівна ', 'Красножон Вадим Валентинович',\n",
       "       'Кметь Орест Романович', 'Луців Марія Мирославівна',\n",
       "       'Свистун Яна Ігорівна ', 'Оніщук Ірина Ігорівна',\n",
       "       'Жук Мирослава Ігорівна ', 'Горбецька Олеся Миколаївна',\n",
       "       'Шматко Юрій Олексійович', 'Корець Лариса Сергіївна ',\n",
       "       'Павлючкова Марія Андріївна', 'Мащенко Дмитро Анатолійович',\n",
       "       'Дзюба Людмила Іванівна', 'Молокова Аліна Вадимівна',\n",
       "       \"Плужник Дар'я Сергіївна\", 'Пашиніна Єлизавета Олександрівна',\n",
       "       'Макар Лілія Андріївна', 'Сахро Христина Ярославівна',\n",
       "       'Малик Ірина Юріївна', 'Сосновська Світлана Віталіївна ',\n",
       "       'Євпатов Андрій Олексійович ', 'Іваськів Вікторія Валентинівна',\n",
       "       'Фещук Андрій Русланович', 'Шаманська Аліна Володимирівна',\n",
       "       'Палій С.', 'Хлистун Валерія Андріївна', 'Хомут Марія Миколаївна',\n",
       "       'Заліська Анастасія Зіновіївна', 'Микулич О.Б.',\n",
       "       'Росоха Ярослава Василівна', 'Нагайська Руслана Артурівна ',\n",
       "       'Оператор 1', 'Кравчук Олександра Михайлівна',\n",
       "       'Сокольцов Віктор Дмитрович', 'Оленич Іванна Іванівна',\n",
       "       \"Лук'янчук Тетяна Іванівна\", 'Карабанов Артур Вячеславович',\n",
       "       'Прохоренко Олександр Олександрович', \"Лебідь Дар'я Юріївна\",\n",
       "       'Данилюк Ольга Сергіївна', 'Ющенко Катерина Олександрівна',\n",
       "       'Аксьонов Артем Сергійович ', 'Головіна Ганна Анатоліївна',\n",
       "       'Островерх Т.  ', 'Корнійчук Богдан Вячеславович ', 'Жорж Я.',\n",
       "       'Новицька Тетяна Володимирівна', 'Шморгун Анастасія Петрівна',\n",
       "       'Огродніча Юлія Олександрівна', 'Цимболинець Мілан Іванович',\n",
       "       'Шевченко Катерина Сергіївна', 'Фанда Сергій Миколайович',\n",
       "       'Варивода Наталія Петрівна', 'Тибінка Юрій Богданович',\n",
       "       'Приймачок Дмитро Юрійович', 'Чуприна Валерій Сергійович',\n",
       "       'Харко Ю.В.', 'Липовська Вероніка Михайлівна',\n",
       "       'Кривенко Анастасія Владиславівна', 'Вишиванюк Олеся Василівна',\n",
       "       'Марко Михайло Юрійович', 'Куторій Андрій Вікторович',\n",
       "       \"Кадилович Галина Мар'янівна\", 'Сквіра Світлана Сергіївна',\n",
       "       'Московець Тетяна Сергіївна', 'Коверник Роман Володимирович ',\n",
       "       'Нога Володимир Антонович', 'Гасюк  Юрій  Ярославович',\n",
       "       'Лобанова Ірина Олександрівна ', \"Мурин Мар'ян Олегович\",\n",
       "       'Куцмида Назарій Вікторович', 'Стоян Марія Володимирівна',\n",
       "       'Глєбова Карина Вікторівна', 'Коваленко Зінаїда Ігорівна',\n",
       "       'Душко Т.В', 'Барнінець Яна Геннадіївна',\n",
       "       'Іванова Олена Георгіївна', 'Прохода Тетяна Володимирівна',\n",
       "       'Симотюк Марія Миколаївна ', 'Рихтик Іванна Іванівна ',\n",
       "       'Зайченко Юлія Сергіївна', 'Дидюк Ольга Анатоліївна ',\n",
       "       'Куртяк Володимир Васильович', 'Адамова Лілія Олександрівна',\n",
       "       'Українець Наталка Іванівна ', 'Майборода Олександр Анатолійович',\n",
       "       'Швед Катерина Володимирівна', 'Костюченко Микола Миколайович',\n",
       "       'Мирна Олена Анатоліївна', 'Кукляк Марія Євгеніївна',\n",
       "       'Вєтрова Вікторія Миколаївна', 'Слюнчак Надія',\n",
       "       'Мороз Марія Вадимівна', 'Тромсюк Лілія Владиславівна',\n",
       "       'Шперик С. А.', 'Левченко Тетяна Юріївна',\n",
       "       'Довгалюк Леся Олександрівна', 'Остапович Богдан Михайлович',\n",
       "       'Бузунар Ольга Анатоліївна', 'Лаврінець Юлія Володимирівна',\n",
       "       'Карандаш Яна Сергіївна ', 'Волянюк Марія Миронівна',\n",
       "       \"Стоцька Мар'яна Миколаївна \", 'Куян Олег Олександрович',\n",
       "       'Башинська Євгенія Петрівна', 'Шульц-Манчук Наталія Володимирівна',\n",
       "       'Талапа Віталія Миколаївна', 'Краснічкова Альона Станіславівна ',\n",
       "       'Ванжа Олеся Володимирівна',\n",
       "       'Балюк О.С.                                        ',\n",
       "       'Хащак Світлана Василівна', 'Буднік Олексій Геннадійович',\n",
       "       'Дужак Тетяна Юріївна', 'Писарук Т.Л.', 'Телегіна Юлія Петрівна',\n",
       "       'Носенко Анна Сергіївна', 'Шваліковська Наталія Леонідівна',\n",
       "       'Антончик Іванна Вячеславівна', 'Ковальчук Олена Олександрівна',\n",
       "       'Тихомирова Олєся Вікторівна', 'Ковалишин Оксана Степанівна ',\n",
       "       'Теслевич Е.                                       ',\n",
       "       'Волошина Ірина Олександрівна', 'Персаева А.',\n",
       "       'Паламарчук Владислав Ігорович', 'Ярошевський Ю.', 'Битов В.В.',\n",
       "       'Слободян Вікторія Юріївна', 'Коробей Іван Дмитрович',\n",
       "       'Спірідонова Юлія Володимирівна',\n",
       "       'Глущенко Володимир Геннадійович',\n",
       "       'Каричковська Вікторія Іванівна', 'Цвітайло Іван Володимирович',\n",
       "       'Шмерецька Олександра Олександрівна', 'Чуприна Ольга Андріївна',\n",
       "       'Панюш Наталія Володимирівна', 'Іванюк Артур Володимирович',\n",
       "       'Данилків А.', 'Щур Наталія Ярославівна',\n",
       "       'Крикля Павлина Андріївна', 'Гаджега Олег Миколайович',\n",
       "       'Струсевич Ольга Андріївна', 'Чередніченко Оксана Вікторівна ',\n",
       "       'Шумейко Іван Олександрович', 'Дерека Олена Вікторівна',\n",
       "       'Прокопчук Юлія Валентинівна', 'Шередько Тетяна Григорівна',\n",
       "       'Пашко Мирослава Володимирівна', 'Максімова Ірина Петрівна',\n",
       "       'Плюшко Аліна Юріївна', 'Макоткін Віталій Віталійович',\n",
       "       'Пахомов Олександр Павлович', 'Скарга Ілона Адонісівна',\n",
       "       'Шумейко Марина Геннадіївна', 'Коробкова Вікторія Миколаївна',\n",
       "       'Назаренко Тетяна Михайлівна', 'Барабан М.Ю.',\n",
       "       'Коршак Микола Олександрович', 'Єрмоленко Тамара Зуріївна',\n",
       "       'Хміль Андрій Вікторович', 'Шиян Юлія Андріївна',\n",
       "       'Хоменчук Вадим Миколайович', 'Остапенко Артем Юрійович',\n",
       "       'Котельник Надія Іванівна', 'Синицина Галина Денисівна',\n",
       "       'Литвин Тетяна Петрівна', 'Пліщ Оксана Степанівна',\n",
       "       'Волянюк Яна Олегівна', 'Кунець Ірина Миколаївна',\n",
       "       'Бабак Юлія Василівна', 'Удовиченко Любов Сергіївна',\n",
       "       'Московець Галина Семенівна', 'Дроздік Н.Г.',\n",
       "       'Марченко Ірина Юріївна', 'Рибак Галина Іванівна',\n",
       "       'Недашківська Ганна Сергіївна', 'Свидюк Людмила  Сергіївна',\n",
       "       'Олексієнко Роман Сергійович', 'Біла Христина Ігорівна',\n",
       "       'Андрійчук Ірина Миколаївна', 'Малініна Ганна Миколаївна',\n",
       "       'Скорохід Ігор Іванович ', 'Комова Юлія Сергіївна',\n",
       "       'Юрчишин О. М.', 'Жданова Н.', 'Гаврилюк Юлія Іванівна',\n",
       "       'Добей Квета Іванівна', 'Варнавська Владислава Володимирівна',\n",
       "       'Сорохтей Олена Леонідівна', 'Красножон Олексій Вікторович',\n",
       "       'Вавринюк Надія Олександрівна ', 'Шелухін Павло Вікторович',\n",
       "       \"Кабацій Мар'яна Василівна                         \", 'Кондюк Р.В',\n",
       "       'Кіс Ольга Миколаївна', 'Скляр Юлія Сергіївна ',\n",
       "       'Зеленська Світлана Анатоліївна', 'Хомук Алла Володимирівна',\n",
       "       'Хоменко Артур Євгенович', 'Іваненко Олена Миколаївна',\n",
       "       'Долобан А.О.', 'Діденко Вікторія Анатоліївна',\n",
       "       'Кручковська Тетяна Сергіївна', 'Зайцева Олександра Юріївна',\n",
       "       'Чміль Любов Миколаївна', 'Коба Марина Юріївна',\n",
       "       'Пікулик Катерина Петрівна', 'Гомон Ірина Адамівна ',\n",
       "       'Сенченко Ганна Сергіївна', 'Суско Юлія Володимирівна',\n",
       "       'Федоров Андрій Русланович', 'Будніченко Максим Євгенійович',\n",
       "       'Мельничук Юлія Анатоліївна', 'Кіптіла Вікторія Едуардівна',\n",
       "       'Завалій Юлія Валеріївна', 'Чучвага Наталія Анатоліївна ',\n",
       "       'Годлевська Оксана Іванівна', 'Кравченко Марія Миколаївна ',\n",
       "       'Ігнатюк Катерина Григорівна', 'Кудлай Ігор Сергійович',\n",
       "       'Бортник Станіслав Віталійович ', 'Добровольська Марина Іванівна',\n",
       "       'Шимків Галина Любомирівна', 'Міщанчук Алла Михайлівна ',\n",
       "       'Коваленко Марія Валентинівна', 'Кушнірчук Володимир Васильович',\n",
       "       'Олексієнко Яніна Миколаївна', 'Лісняк Ірина Сергіївна',\n",
       "       'Ващук Марія Олександрівна ', 'Юрченко Олена Петрівна',\n",
       "       'Тацій Р. А.', 'Пророк Іван Іванович',\n",
       "       'Данілін Владислав Сергійович', 'Бочеци Лідія Володимирівна',\n",
       "       'Ткаченко Тетяна Андріївна', 'Левицький Владислав Леонідович',\n",
       "       'Коршунов Олександр Едуардович', 'Бойчук Аліна Юріївна',\n",
       "       'Мацидон Ангеліна Анатоліївна ', 'Ковальчук Світлана Василівна',\n",
       "       'Яковлев Володимир Іванович', 'Бермес Іван Тарасович',\n",
       "       'Коновал Алла Степанівна', 'Бучинський Степан Олександрович',\n",
       "       'Стрюк Таміла Олександрівна', 'Коробка Олена Миколаївна',\n",
       "       'Козеревич Анастасія Валеріївна', 'Олійник Ольга Миколаївна',\n",
       "       'Гусакова Марина Володимирівна', 'Степченко Олена Андріївна ',\n",
       "       'Кулик Ярослава Сергіївна', 'Чорний Вадим Олександрович',\n",
       "       'Кадикало Марія Анатоліївна', 'Литвиненко Яніна Володимирівна',\n",
       "       'Єлінєвська Валерія Миколаївна', 'Поліщук Ольга Миколаївна',\n",
       "       'Поліщак Андрій Ігорович', 'Кошман Олена Володимирівна',\n",
       "       \"Хом'як Андрій Юрійович\", 'Наумова Тетяна Олександрівна',\n",
       "       'Григоренко Олександр Сергійович',\n",
       "       'Садовець Валентина Михайлівна ',\n",
       "       'Мозгова-Болобан Ольга Анатоліївна', 'Лагівська Зоя Дмитрівна',\n",
       "       'Тростюк Ганна Володимирівна ', 'Крисан Юлія Русланівна',\n",
       "       'Рябокінь Марія Анатоліївна', 'Климух Оксана Ористівна',\n",
       "       'Чернецька Марина Сергіївна', 'Самусь Руслан Анатолійович',\n",
       "       'Мочалова Ганна Олександрівна', 'Баглай Оксана Євгеніївна',\n",
       "       'Пилипенко Ігор Геннадійович', 'Михайлишин Наталія Богданівна',\n",
       "       'Головко Денис Сергійович', 'Гдовіна Галина Василівна ',\n",
       "       'Чайка Маріамна Віталіївна', 'Теслюк Святослав Євгенович ',\n",
       "       'Сербінова Тетяна Володимирівна', 'Стукун Дарина Олександрівна',\n",
       "       'Дамельгарт Ю. ', 'Сторонський Олег Орестович',\n",
       "       'Цимбалюк Анна Анатоліївна', 'Максимяк І.І.', 'Римарчук А.М.',\n",
       "       'Лось Вікторія Валеріївна', 'Дудіна Мар’яна Петрівна',\n",
       "       'Кравцов Ю.Н.', 'Біцан Світлана Миколаївна', 'Ільченко Л. Л.',\n",
       "       'Сколота Денис Олексійович', 'Мілевська Людмила Анатоліївна',\n",
       "       'Мельничук Ярослав Олександрович', 'Жукоцький Дмитро Сергійович',\n",
       "       'Бобрицька Наталія Леонідівна', 'Шкибтань Анастасія Сергіївна',\n",
       "       'Дорос Олена Олегівна', 'Ріхсієв Умід Кобілжон-Углі ',\n",
       "       'Чехлата Людмила Олександрівна', 'Більчак Тетяна Ярославівна ',\n",
       "       'Харуцька Дарина Петрівна', 'Шалімов Олег Станіславович',\n",
       "       'Шишковець Віта Анатоліївна', 'Максимів Ірина Романівна',\n",
       "       'Шманда Людмила Ярославівна', 'Забродська Ганна Сергіївна',\n",
       "       'Полях Христина Анатоліївна', 'Палагусинець Світлана Василівна',\n",
       "       'Корєнкова Анастасія Андріївна', 'Мусієнко Марина Миколаївна',\n",
       "       'Надвірнянська Надія Ярославівна', 'Концевич Софія Сергіївна',\n",
       "       'Пацкан Дора Юріївна', 'Нечитайлова Світлана Миколаївна',\n",
       "       'Чабан Орися Степанівна', 'Совенко Ірина Анатоліївна',\n",
       "       'Клапчук Оксана Василівна', 'Биков Антон Олександрович',\n",
       "       'Черній А.В.', 'Аврамич Роман Володимирович',\n",
       "       'Шидловська Ольга Петрівна ', 'Самардак Марія Юріївна',\n",
       "       'Тащук Людмила Валеріївна ', 'Коновалюк Наталія Сергіївна',\n",
       "       'Цик Ярослава Михайлівна', 'Ляскович Володимир Юрійович',\n",
       "       'Било Богдан Сергійович ', 'Катрич Вадим Михайлович',\n",
       "       'Птіцина Ольга Миколаївна', 'Гаврилюк Марина Сергіївна',\n",
       "       'Ратушинська Марина Олегівна', 'Мосійчук Тетяна Іванівна',\n",
       "       'Рощіна Ольга Михайлівна ', 'Столяр Наталія Юріївна',\n",
       "       'Орлов Микола Олегович', 'Коляда Ірина Вікторівна',\n",
       "       'Гезун Дмитро Леонідович', 'Білоусько Яна Сергіївна',\n",
       "       'Нудель Ростислав Феліксович', 'Волинець Алла Євгеніївна',\n",
       "       'Кондрацька Ірина Миколаївна',\n",
       "       'Георгінова Валентина Володимирівна', 'Солянік Ігор Павлович',\n",
       "       'Татарин Леся Анатоліївна                          ',\n",
       "       'Мороз Тамара Володимирівна', 'Дяченко Максим Сергійович',\n",
       "       'Лейба Оксана Олександрівна', 'Шакура Борис Петрович',\n",
       "       'Амбруш Нора Йосифівна', 'Карабанова Оксана Миколаївна',\n",
       "       'Кіняєва Анастасія Федорівна', 'Сахно Ольга Олександрівна',\n",
       "       'Степюк Аріадна Вікторівна', 'Капральчук Галина Іванівна',\n",
       "       'Давиденко Олександра Олександрівна', 'Ягодкіна Ганна Валеріївна',\n",
       "       'Леус Яна Володимирівна', 'Мальчук Л.В.',\n",
       "       'Яжик Михайло Михайлович', 'Аронова Анастасія Олександрівна',\n",
       "       'Дембіцький Василь Миколайович', 'Богуш Олександрович Вікторович',\n",
       "       'Канчуківська Світлана Володимирівна', 'Кошель Вікторія Олегівна',\n",
       "       'Константинова Ганна Миколаївна /', 'Бабчук Ірина Анатоліївна',\n",
       "       'Рымарчук Е.П.', 'Костецька Ірина Йосипівна',\n",
       "       'Михалчич Діана Василівна', 'Половка Євгеній Володимирович',\n",
       "       'Ружицький Віталій Олександрович ', 'Битов Віктор Васильович',\n",
       "       'Микуляк Діана Василівна', 'Липко Михайло Романович',\n",
       "       'Шерстило Оксана Василівна', 'Ханик Оксана Іванівна',\n",
       "       'Хархун Надія Олександрівна', 'Бурковська Олеся Олександрівна',\n",
       "       'Пилипенко Анжела Вікторівна', 'Кияниця Аліна Станіславівна',\n",
       "       'Масловська Оксана Володимирівна', 'Белікова Оксана Володимирівна',\n",
       "       'Харкова Тетяна Олександрівна', 'Пермінов Денис Михайлович',\n",
       "       'Пустовойт Віталій Олександрович ', 'Правда Дмитро Анатолійович',\n",
       "       'Руденко Вікторія Анатоліївна',\n",
       "       'Жолдак Олександра Степанівна                      ',\n",
       "       'Терлецький Владислав Валерійович', 'Крохмаль В.В.',\n",
       "       'Третяк Сергій Миколайович', 'Кондратюк Юлія Володимирівна',\n",
       "       'Зубінська Тетяна Костянтинівна',\n",
       "       'Бульба Єлизавета Володимирівна ', 'Христюк Іван Іванович',\n",
       "       'Журавель Юлія Леонідівна', 'Юрків Зоряна Василівна ',\n",
       "       'Жуковська Ольга Богданівна ', 'Козак Орест Володимирович',\n",
       "       'Якубенко Костянтин Миколайович', 'Басараб Анна Миколаївна',\n",
       "       'Бернікова Юлія Миколаївна', 'Собєніна Анастасія Василівна',\n",
       "       'Буката М.В.', 'Савран Андрій Сергійович',\n",
       "       'Циганов Роман Юрійович', 'Шиян Наталія Анатоліївна',\n",
       "       'Панаскевич Сергій Анатолійович', 'Рошка Олена ',\n",
       "       'Лукащук Максим Миколайович', 'Зінчук Юлія Петрівна',\n",
       "       'Паладий А.В.', 'Помазанська Альона Леонідвна',\n",
       "       'Бурий Богдан Васильович', 'Комисаров С.Н.', 'Подьо І.І.',\n",
       "       'Луговець К.М.', 'Таратула Тетяна Ігорівна',\n",
       "       'Мицик Людмила Іванівна', 'Кунецька Людмила Михайлівна',\n",
       "       'Мелешко Оксана Сергіївна', 'Колтун Наталія Петрівна',\n",
       "       'Чаплінська Ніла Володимирівна ', 'Бойко Сніжана Олександрівна',\n",
       "       'Стельмах Богдан Юрійович', 'Оператор 4', 'Битка Ніна Василівна',\n",
       "       'Коляса Ірина Іванівна ', 'Процишин Н.В.', 'Винар Алла Василівна',\n",
       "       'Ковакіна Яна Володимирівна', 'Пелешок Тетяна Михайлівна',\n",
       "       'Яронна Анастасія Павлівна', 'Блінов Юрій Олександрович',\n",
       "       'Мируцька Ольга Ігорівна ', 'Гуреу Іван Валерійович',\n",
       "       'Момот Владислав Юрійович', 'Турчин Оксана Анатоліївна',\n",
       "       'Логвиненко Олександра Леонідівна', 'Жакова Альона Валеріївна',\n",
       "       'Антонишин Уляна Ігорівна', 'Тюшка Віталій Володимирович',\n",
       "       'Анохіна Анастасія Ігорівна ', 'Щукін Артем Олександрович ',\n",
       "       'Троцька Наталія Станіславівна', 'Запорожець Марина Андріївна',\n",
       "       'Рижков Андрій Дмитрович', 'Божко Єлєна Ростиславівна',\n",
       "       'Мельник М.А.', 'Михайлина Віта Володимирівна',\n",
       "       'Клим Вікторія Степанівна', 'Геітан Каріна Корнелівна',\n",
       "       'Павлик А.Ю.', 'Покутня Інна Володимирівна', 'Макарець О.В.',\n",
       "       'Свириденко Кетрін Миколаївна', 'Куліков Денис Олегович',\n",
       "       'Марченко Олена Анатоліївна', 'Зуб Богдан Олександрович',\n",
       "       'Шуст Поліна Володимирівна', 'Чендей Євгенія Іванівна',\n",
       "       'Руських Олена Сергіївна', 'Крушевська Олександра Олександрівна',\n",
       "       'Казанюк Анна Михайлівна', 'Чернишова Наталія Віталіївна',\n",
       "       'Богаткова Зоя Валентинівна', 'Параконний Євгеній Сергійович ',\n",
       "       'Власюк Петро Романович', 'Ткачик Любов Михайлівна',\n",
       "       'Опанасюк Сергій Валерійович', 'Явдошняк Тетяна Андріївна',\n",
       "       'Бойко А.В.', 'Гребіневич Тетяна Олександрівна',\n",
       "       'Деренюк Юлія Володимирівна ', 'Коваль Тетяна Анатоліївна',\n",
       "       'Кіт Володимир Михайлович', 'Данилюк Андрій Васильович',\n",
       "       'Зубкова Ніна Олександрівна', 'Жмурко Галина Степанівна ',\n",
       "       'Луцюк Наталія Сергіївна', 'Ковальчук Руслан Сергійович',\n",
       "       'Пелих Володимир Володимирович', 'Білоус Інна Іванівна ',\n",
       "       'Телюкіна Лілія Петрівна', 'Перцева Ксенія Олександрівна',\n",
       "       'Петровська Леся Іванівна', 'Грищук Ольга Яківна',\n",
       "       'Гордій Ірина Олегівна'], dtype=object)"
      ]
     },
     "execution_count": 86,
     "metadata": {},
     "output_type": "execute_result"
    }
   ],
   "source": [
    "# checking for unique values\n",
    "data['ОператорКод'].unique()"
   ]
  },
  {
   "cell_type": "code",
   "execution_count": 87,
   "metadata": {},
   "outputs": [],
   "source": [
    "# normalize data for learning\n",
    "\n",
    "# making list with names\n",
    "list_operators = list(data['ОператорКод'].unique())\n",
    "\n",
    "# replacing string with [0,1,..]\n",
    "data['ОператорКод'] = data['ОператорКод'].apply(lambda x:list_operators.index(x))"
   ]
  },
  {
   "cell_type": "code",
   "execution_count": 37,
   "metadata": {},
   "outputs": [
    {
     "data": {
      "text/plain": [
       "5"
      ]
     },
     "execution_count": 37,
     "metadata": {},
     "output_type": "execute_result"
    }
   ],
   "source": [
    "list_operators.index('Распутний Артур Сергійович')"
   ]
  },
  {
   "cell_type": "markdown",
   "metadata": {},
   "source": [
    "Also dropping the last useless column 'Unnamed: 19'"
   ]
  },
  {
   "cell_type": "code",
   "execution_count": 88,
   "metadata": {},
   "outputs": [
    {
     "ename": "KeyError",
     "evalue": "\"['Unnamed: 19'] not found in axis\"",
     "output_type": "error",
     "traceback": [
      "\u001b[0;31m---------------------------------------------------------------------------\u001b[0m",
      "\u001b[0;31mKeyError\u001b[0m                                  Traceback (most recent call last)",
      "\u001b[0;32m<ipython-input-88-6b1a4d902f3d>\u001b[0m in \u001b[0;36m<module>\u001b[0;34m\u001b[0m\n\u001b[0;32m----> 1\u001b[0;31m \u001b[0mdata\u001b[0m \u001b[0;34m=\u001b[0m \u001b[0mdata\u001b[0m\u001b[0;34m.\u001b[0m\u001b[0mdrop\u001b[0m\u001b[0;34m(\u001b[0m\u001b[0;34m'Unnamed: 19'\u001b[0m\u001b[0;34m,\u001b[0m \u001b[0maxis\u001b[0m\u001b[0;34m=\u001b[0m\u001b[0;36m1\u001b[0m\u001b[0;34m)\u001b[0m\u001b[0;34m\u001b[0m\u001b[0;34m\u001b[0m\u001b[0m\n\u001b[0m",
      "\u001b[0;32m~/.local/lib/python3.8/site-packages/pandas/core/frame.py\u001b[0m in \u001b[0;36mdrop\u001b[0;34m(self, labels, axis, index, columns, level, inplace, errors)\u001b[0m\n\u001b[1;32m   4155\u001b[0m                 \u001b[0mweight\u001b[0m  \u001b[0;36m1.0\u001b[0m     \u001b[0;36m0.8\u001b[0m\u001b[0;34m\u001b[0m\u001b[0;34m\u001b[0m\u001b[0m\n\u001b[1;32m   4156\u001b[0m         \"\"\"\n\u001b[0;32m-> 4157\u001b[0;31m         return super().drop(\n\u001b[0m\u001b[1;32m   4158\u001b[0m             \u001b[0mlabels\u001b[0m\u001b[0;34m=\u001b[0m\u001b[0mlabels\u001b[0m\u001b[0;34m,\u001b[0m\u001b[0;34m\u001b[0m\u001b[0;34m\u001b[0m\u001b[0m\n\u001b[1;32m   4159\u001b[0m             \u001b[0maxis\u001b[0m\u001b[0;34m=\u001b[0m\u001b[0maxis\u001b[0m\u001b[0;34m,\u001b[0m\u001b[0;34m\u001b[0m\u001b[0;34m\u001b[0m\u001b[0m\n",
      "\u001b[0;32m~/.local/lib/python3.8/site-packages/pandas/core/generic.py\u001b[0m in \u001b[0;36mdrop\u001b[0;34m(self, labels, axis, index, columns, level, inplace, errors)\u001b[0m\n\u001b[1;32m   3876\u001b[0m         \u001b[0;32mfor\u001b[0m \u001b[0maxis\u001b[0m\u001b[0;34m,\u001b[0m \u001b[0mlabels\u001b[0m \u001b[0;32min\u001b[0m \u001b[0maxes\u001b[0m\u001b[0;34m.\u001b[0m\u001b[0mitems\u001b[0m\u001b[0;34m(\u001b[0m\u001b[0;34m)\u001b[0m\u001b[0;34m:\u001b[0m\u001b[0;34m\u001b[0m\u001b[0;34m\u001b[0m\u001b[0m\n\u001b[1;32m   3877\u001b[0m             \u001b[0;32mif\u001b[0m \u001b[0mlabels\u001b[0m \u001b[0;32mis\u001b[0m \u001b[0;32mnot\u001b[0m \u001b[0;32mNone\u001b[0m\u001b[0;34m:\u001b[0m\u001b[0;34m\u001b[0m\u001b[0;34m\u001b[0m\u001b[0m\n\u001b[0;32m-> 3878\u001b[0;31m                 \u001b[0mobj\u001b[0m \u001b[0;34m=\u001b[0m \u001b[0mobj\u001b[0m\u001b[0;34m.\u001b[0m\u001b[0m_drop_axis\u001b[0m\u001b[0;34m(\u001b[0m\u001b[0mlabels\u001b[0m\u001b[0;34m,\u001b[0m \u001b[0maxis\u001b[0m\u001b[0;34m,\u001b[0m \u001b[0mlevel\u001b[0m\u001b[0;34m=\u001b[0m\u001b[0mlevel\u001b[0m\u001b[0;34m,\u001b[0m \u001b[0merrors\u001b[0m\u001b[0;34m=\u001b[0m\u001b[0merrors\u001b[0m\u001b[0;34m)\u001b[0m\u001b[0;34m\u001b[0m\u001b[0;34m\u001b[0m\u001b[0m\n\u001b[0m\u001b[1;32m   3879\u001b[0m \u001b[0;34m\u001b[0m\u001b[0m\n\u001b[1;32m   3880\u001b[0m         \u001b[0;32mif\u001b[0m \u001b[0minplace\u001b[0m\u001b[0;34m:\u001b[0m\u001b[0;34m\u001b[0m\u001b[0;34m\u001b[0m\u001b[0m\n",
      "\u001b[0;32m~/.local/lib/python3.8/site-packages/pandas/core/generic.py\u001b[0m in \u001b[0;36m_drop_axis\u001b[0;34m(self, labels, axis, level, errors)\u001b[0m\n\u001b[1;32m   3910\u001b[0m                 \u001b[0mnew_axis\u001b[0m \u001b[0;34m=\u001b[0m \u001b[0maxis\u001b[0m\u001b[0;34m.\u001b[0m\u001b[0mdrop\u001b[0m\u001b[0;34m(\u001b[0m\u001b[0mlabels\u001b[0m\u001b[0;34m,\u001b[0m \u001b[0mlevel\u001b[0m\u001b[0;34m=\u001b[0m\u001b[0mlevel\u001b[0m\u001b[0;34m,\u001b[0m \u001b[0merrors\u001b[0m\u001b[0;34m=\u001b[0m\u001b[0merrors\u001b[0m\u001b[0;34m)\u001b[0m\u001b[0;34m\u001b[0m\u001b[0;34m\u001b[0m\u001b[0m\n\u001b[1;32m   3911\u001b[0m             \u001b[0;32melse\u001b[0m\u001b[0;34m:\u001b[0m\u001b[0;34m\u001b[0m\u001b[0;34m\u001b[0m\u001b[0m\n\u001b[0;32m-> 3912\u001b[0;31m                 \u001b[0mnew_axis\u001b[0m \u001b[0;34m=\u001b[0m \u001b[0maxis\u001b[0m\u001b[0;34m.\u001b[0m\u001b[0mdrop\u001b[0m\u001b[0;34m(\u001b[0m\u001b[0mlabels\u001b[0m\u001b[0;34m,\u001b[0m \u001b[0merrors\u001b[0m\u001b[0;34m=\u001b[0m\u001b[0merrors\u001b[0m\u001b[0;34m)\u001b[0m\u001b[0;34m\u001b[0m\u001b[0;34m\u001b[0m\u001b[0m\n\u001b[0m\u001b[1;32m   3913\u001b[0m             \u001b[0mresult\u001b[0m \u001b[0;34m=\u001b[0m \u001b[0mself\u001b[0m\u001b[0;34m.\u001b[0m\u001b[0mreindex\u001b[0m\u001b[0;34m(\u001b[0m\u001b[0;34m**\u001b[0m\u001b[0;34m{\u001b[0m\u001b[0maxis_name\u001b[0m\u001b[0;34m:\u001b[0m \u001b[0mnew_axis\u001b[0m\u001b[0;34m}\u001b[0m\u001b[0;34m)\u001b[0m\u001b[0;34m\u001b[0m\u001b[0;34m\u001b[0m\u001b[0m\n\u001b[1;32m   3914\u001b[0m \u001b[0;34m\u001b[0m\u001b[0m\n",
      "\u001b[0;32m~/.local/lib/python3.8/site-packages/pandas/core/indexes/base.py\u001b[0m in \u001b[0;36mdrop\u001b[0;34m(self, labels, errors)\u001b[0m\n\u001b[1;32m   5274\u001b[0m         \u001b[0;32mif\u001b[0m \u001b[0mmask\u001b[0m\u001b[0;34m.\u001b[0m\u001b[0many\u001b[0m\u001b[0;34m(\u001b[0m\u001b[0;34m)\u001b[0m\u001b[0;34m:\u001b[0m\u001b[0;34m\u001b[0m\u001b[0;34m\u001b[0m\u001b[0m\n\u001b[1;32m   5275\u001b[0m             \u001b[0;32mif\u001b[0m \u001b[0merrors\u001b[0m \u001b[0;34m!=\u001b[0m \u001b[0;34m\"ignore\"\u001b[0m\u001b[0;34m:\u001b[0m\u001b[0;34m\u001b[0m\u001b[0;34m\u001b[0m\u001b[0m\n\u001b[0;32m-> 5276\u001b[0;31m                 \u001b[0;32mraise\u001b[0m \u001b[0mKeyError\u001b[0m\u001b[0;34m(\u001b[0m\u001b[0;34mf\"{labels[mask]} not found in axis\"\u001b[0m\u001b[0;34m)\u001b[0m\u001b[0;34m\u001b[0m\u001b[0;34m\u001b[0m\u001b[0m\n\u001b[0m\u001b[1;32m   5277\u001b[0m             \u001b[0mindexer\u001b[0m \u001b[0;34m=\u001b[0m \u001b[0mindexer\u001b[0m\u001b[0;34m[\u001b[0m\u001b[0;34m~\u001b[0m\u001b[0mmask\u001b[0m\u001b[0;34m]\u001b[0m\u001b[0;34m\u001b[0m\u001b[0;34m\u001b[0m\u001b[0m\n\u001b[1;32m   5278\u001b[0m         \u001b[0;32mreturn\u001b[0m \u001b[0mself\u001b[0m\u001b[0;34m.\u001b[0m\u001b[0mdelete\u001b[0m\u001b[0;34m(\u001b[0m\u001b[0mindexer\u001b[0m\u001b[0;34m)\u001b[0m\u001b[0;34m\u001b[0m\u001b[0;34m\u001b[0m\u001b[0m\n",
      "\u001b[0;31mKeyError\u001b[0m: \"['Unnamed: 19'] not found in axis\""
     ]
    }
   ],
   "source": [
    "data = data.drop('Unnamed: 19', axis=1)"
   ]
  },
  {
   "cell_type": "markdown",
   "metadata": {},
   "source": [
    "##### Normalized dataset for learning model "
   ]
  },
  {
   "cell_type": "code",
   "execution_count": 91,
   "metadata": {},
   "outputs": [
    {
     "data": {
      "text/html": [
       "<div>\n",
       "<style scoped>\n",
       "    .dataframe tbody tr th:only-of-type {\n",
       "        vertical-align: middle;\n",
       "    }\n",
       "\n",
       "    .dataframe tbody tr th {\n",
       "        vertical-align: top;\n",
       "    }\n",
       "\n",
       "    .dataframe thead th {\n",
       "        text-align: right;\n",
       "    }\n",
       "</style>\n",
       "<table border=\"1\" class=\"dataframe\">\n",
       "  <thead>\n",
       "    <tr style=\"text-align: right;\">\n",
       "      <th></th>\n",
       "      <th>ВидОперации</th>\n",
       "      <th>АЗСКод</th>\n",
       "      <th>Карта</th>\n",
       "      <th>Сумма</th>\n",
       "      <th>Бонусы</th>\n",
       "      <th>СуммаСкидки</th>\n",
       "      <th>УниверсальнаяАкцияКод</th>\n",
       "      <th>СписаноБонусов</th>\n",
       "      <th>ОператорКод</th>\n",
       "    </tr>\n",
       "  </thead>\n",
       "  <tbody>\n",
       "    <tr>\n",
       "      <th>14</th>\n",
       "      <td>0</td>\n",
       "      <td>12</td>\n",
       "      <td>2</td>\n",
       "      <td>924.25</td>\n",
       "      <td>13209.0</td>\n",
       "      <td>0.00</td>\n",
       "      <td>0</td>\n",
       "      <td>0</td>\n",
       "      <td>0</td>\n",
       "    </tr>\n",
       "    <tr>\n",
       "      <th>19</th>\n",
       "      <td>0</td>\n",
       "      <td>14</td>\n",
       "      <td>31</td>\n",
       "      <td>199.98</td>\n",
       "      <td>0.0</td>\n",
       "      <td>42.64</td>\n",
       "      <td>1</td>\n",
       "      <td>0</td>\n",
       "      <td>1</td>\n",
       "    </tr>\n",
       "    <tr>\n",
       "      <th>21</th>\n",
       "      <td>1</td>\n",
       "      <td>13</td>\n",
       "      <td>55</td>\n",
       "      <td>1315.00</td>\n",
       "      <td>13155.0</td>\n",
       "      <td>0.44</td>\n",
       "      <td>0</td>\n",
       "      <td>44</td>\n",
       "      <td>2</td>\n",
       "    </tr>\n",
       "    <tr>\n",
       "      <th>24</th>\n",
       "      <td>1</td>\n",
       "      <td>15</td>\n",
       "      <td>40</td>\n",
       "      <td>0.25</td>\n",
       "      <td>0.0</td>\n",
       "      <td>286.75</td>\n",
       "      <td>1</td>\n",
       "      <td>23700</td>\n",
       "      <td>3</td>\n",
       "    </tr>\n",
       "    <tr>\n",
       "      <th>30</th>\n",
       "      <td>0</td>\n",
       "      <td>13</td>\n",
       "      <td>26</td>\n",
       "      <td>489.80</td>\n",
       "      <td>4700.0</td>\n",
       "      <td>0.00</td>\n",
       "      <td>0</td>\n",
       "      <td>0</td>\n",
       "      <td>2</td>\n",
       "    </tr>\n",
       "    <tr>\n",
       "      <th>31</th>\n",
       "      <td>0</td>\n",
       "      <td>13</td>\n",
       "      <td>18</td>\n",
       "      <td>100.00</td>\n",
       "      <td>100.0</td>\n",
       "      <td>0.11</td>\n",
       "      <td>0</td>\n",
       "      <td>0</td>\n",
       "      <td>2</td>\n",
       "    </tr>\n",
       "    <tr>\n",
       "      <th>32</th>\n",
       "      <td>1</td>\n",
       "      <td>17</td>\n",
       "      <td>55</td>\n",
       "      <td>0.09</td>\n",
       "      <td>0.0</td>\n",
       "      <td>105.99</td>\n",
       "      <td>0</td>\n",
       "      <td>10608</td>\n",
       "      <td>4</td>\n",
       "    </tr>\n",
       "    <tr>\n",
       "      <th>33</th>\n",
       "      <td>0</td>\n",
       "      <td>18</td>\n",
       "      <td>28</td>\n",
       "      <td>451.39</td>\n",
       "      <td>1966.0</td>\n",
       "      <td>0.00</td>\n",
       "      <td>0</td>\n",
       "      <td>0</td>\n",
       "      <td>5</td>\n",
       "    </tr>\n",
       "    <tr>\n",
       "      <th>34</th>\n",
       "      <td>0</td>\n",
       "      <td>11</td>\n",
       "      <td>16</td>\n",
       "      <td>1134.33</td>\n",
       "      <td>0.0</td>\n",
       "      <td>166.08</td>\n",
       "      <td>1</td>\n",
       "      <td>0</td>\n",
       "      <td>6</td>\n",
       "    </tr>\n",
       "    <tr>\n",
       "      <th>38</th>\n",
       "      <td>0</td>\n",
       "      <td>13</td>\n",
       "      <td>31</td>\n",
       "      <td>200.03</td>\n",
       "      <td>0.0</td>\n",
       "      <td>42.20</td>\n",
       "      <td>1</td>\n",
       "      <td>0</td>\n",
       "      <td>2</td>\n",
       "    </tr>\n",
       "  </tbody>\n",
       "</table>\n",
       "</div>"
      ],
      "text/plain": [
       "    ВидОперации  АЗСКод  Карта    Сумма   Бонусы  СуммаСкидки  \\\n",
       "14            0      12      2   924.25  13209.0         0.00   \n",
       "19            0      14     31   199.98      0.0        42.64   \n",
       "21            1      13     55  1315.00  13155.0         0.44   \n",
       "24            1      15     40     0.25      0.0       286.75   \n",
       "30            0      13     26   489.80   4700.0         0.00   \n",
       "31            0      13     18   100.00    100.0         0.11   \n",
       "32            1      17     55     0.09      0.0       105.99   \n",
       "33            0      18     28   451.39   1966.0         0.00   \n",
       "34            0      11     16  1134.33      0.0       166.08   \n",
       "38            0      13     31   200.03      0.0        42.20   \n",
       "\n",
       "    УниверсальнаяАкцияКод  СписаноБонусов  ОператорКод  \n",
       "14                      0               0            0  \n",
       "19                      1               0            1  \n",
       "21                      0              44            2  \n",
       "24                      1           23700            3  \n",
       "30                      0               0            2  \n",
       "31                      0               0            2  \n",
       "32                      0           10608            4  \n",
       "33                      0               0            5  \n",
       "34                      1               0            6  \n",
       "38                      1               0            2  "
      ]
     },
     "execution_count": 91,
     "metadata": {},
     "output_type": "execute_result"
    }
   ],
   "source": [
    "data.head(10)"
   ]
  },
  {
   "cell_type": "code",
   "execution_count": 90,
   "metadata": {},
   "outputs": [],
   "source": [
    "data = data.drop('Количество', axis=1)\n",
    "data = data.drop('Цена', axis=1)"
   ]
  },
  {
   "cell_type": "code",
   "execution_count": null,
   "metadata": {},
   "outputs": [],
   "source": []
  },
  {
   "cell_type": "code",
   "execution_count": null,
   "metadata": {},
   "outputs": [],
   "source": []
  },
  {
   "cell_type": "markdown",
   "metadata": {},
   "source": [
    "### Training model"
   ]
  },
  {
   "cell_type": "code",
   "execution_count": null,
   "metadata": {},
   "outputs": [],
   "source": [
    "# importing IsolationForest Algorithm\n",
    "from sklearn.ensemble import IsolationForest"
   ]
  },
  {
   "cell_type": "code",
   "execution_count": null,
   "metadata": {},
   "outputs": [],
   "source": [
    "# creating model\n",
    "clf = IsolationForest(random_state=0)"
   ]
  },
  {
   "cell_type": "code",
   "execution_count": null,
   "metadata": {},
   "outputs": [],
   "source": [
    "# fit model\n",
    "clf.fit(data.values)"
   ]
  },
  {
   "cell_type": "markdown",
   "metadata": {},
   "source": [
    "### Predicting and analyzing result"
   ]
  },
  {
   "cell_type": "code",
   "execution_count": null,
   "metadata": {},
   "outputs": [],
   "source": [
    "# making prediction on the dataset\n",
    "prediction = clf.predict(data.values)"
   ]
  },
  {
   "cell_type": "code",
   "execution_count": null,
   "metadata": {},
   "outputs": [],
   "source": [
    "# replace 1 for inliers, -1 for outliers with 0 for inliers and 1 for outliers\n",
    "anomaly = np.where(prediction==-1, 1, 0)"
   ]
  },
  {
   "cell_type": "code",
   "execution_count": null,
   "metadata": {},
   "outputs": [],
   "source": [
    "# adding column to data frame\n",
    "data_card['Anomaly'] = anomaly"
   ]
  },
  {
   "cell_type": "code",
   "execution_count": null,
   "metadata": {},
   "outputs": [],
   "source": [
    "data['Anomaly'] = anomaly"
   ]
  },
  {
   "cell_type": "code",
   "execution_count": null,
   "metadata": {},
   "outputs": [],
   "source": [
    "# showing result\n",
    "data.head(10)"
   ]
  },
  {
   "cell_type": "code",
   "execution_count": null,
   "metadata": {},
   "outputs": [],
   "source": [
    "# filter data only for anomaly operations\n",
    "anomaly_data = data[data['Anomaly']==1]"
   ]
  },
  {
   "cell_type": "code",
   "execution_count": null,
   "metadata": {},
   "outputs": [],
   "source": [
    "# sorting by operator with the highest anomaly operations\n",
    "anomaly_sorted = anomaly_data.groupby('ОператорКод').count().sort_values('Anomaly', ascending=False)"
   ]
  },
  {
   "cell_type": "code",
   "execution_count": null,
   "metadata": {},
   "outputs": [],
   "source": [
    "# visualizing result\n",
    "plt.scatter(anomaly_sorted.index, anomaly_sorted['Anomaly'])\n",
    "plt.plot([0,60], [230,230], color='red')\n",
    "plt.show()"
   ]
  },
  {
   "cell_type": "markdown",
   "metadata": {},
   "source": [
    "We can clearly see that in most cases anomaly frequency is below 230, only few are more than that"
   ]
  },
  {
   "cell_type": "markdown",
   "metadata": {},
   "source": [
    "Let's filter only those operators who are above the line"
   ]
  },
  {
   "cell_type": "code",
   "execution_count": null,
   "metadata": {},
   "outputs": [],
   "source": [
    "# sort only for the highest frequency\n",
    "anomaly_sorted = anomaly_sorted[anomaly_sorted['Anomaly']>230]\n",
    "anomaly_sorted"
   ]
  },
  {
   "cell_type": "code",
   "execution_count": null,
   "metadata": {},
   "outputs": [],
   "source": [
    "# getting list of operators names\n",
    "names = []\n",
    "for name_index in list(anomaly_sorted.index):\n",
    "    names.append(list_operators[name_index])"
   ]
  },
  {
   "cell_type": "code",
   "execution_count": null,
   "metadata": {},
   "outputs": [],
   "source": [
    "# getting list of anomaly quantity\n",
    "cases = list(anomaly_sorted['Anomaly'].values)"
   ]
  },
  {
   "cell_type": "code",
   "execution_count": null,
   "metadata": {},
   "outputs": [],
   "source": [
    "# making dataframe\n",
    "anomaly_list = pd.DataFrame(data={'Operator':names, 'Anomaly operations':cases})"
   ]
  },
  {
   "cell_type": "markdown",
   "metadata": {},
   "source": [
    "#### Result"
   ]
  },
  {
   "cell_type": "code",
   "execution_count": null,
   "metadata": {},
   "outputs": [],
   "source": [
    "# showing dataframe\n",
    "anomaly_list"
   ]
  },
  {
   "cell_type": "markdown",
   "metadata": {},
   "source": [
    "Here is the list of operators that has more that others suspicious operations"
   ]
  },
  {
   "cell_type": "code",
   "execution_count": null,
   "metadata": {},
   "outputs": [],
   "source": [
    "anomaly_data"
   ]
  },
  {
   "cell_type": "code",
   "execution_count": null,
   "metadata": {},
   "outputs": [],
   "source": [
    "anomaly_sorted = anomaly_data.groupby('Карта').count().sort_values('Anomaly', ascending=False)"
   ]
  },
  {
   "cell_type": "code",
   "execution_count": null,
   "metadata": {},
   "outputs": [],
   "source": [
    "data_card.head()"
   ]
  },
  {
   "cell_type": "code",
   "execution_count": null,
   "metadata": {},
   "outputs": [],
   "source": [
    "data_card.groupby('Карта').count()"
   ]
  },
  {
   "cell_type": "code",
   "execution_count": null,
   "metadata": {},
   "outputs": [],
   "source": [
    "data_card_an = data_card[data_card['Anomaly']==1]"
   ]
  },
  {
   "cell_type": "code",
   "execution_count": null,
   "metadata": {},
   "outputs": [],
   "source": [
    "z = data_card_an[data_card_an['ОператорКод']=='Распутний Артур Сергійович']"
   ]
  },
  {
   "cell_type": "code",
   "execution_count": null,
   "metadata": {},
   "outputs": [],
   "source": [
    "zz = z.groupby('Карта').count().sort_values('Anomaly', ascending=False)"
   ]
  },
  {
   "cell_type": "code",
   "execution_count": null,
   "metadata": {},
   "outputs": [],
   "source": [
    "zz"
   ]
  },
  {
   "cell_type": "code",
   "execution_count": null,
   "metadata": {},
   "outputs": [],
   "source": [
    "data_card_an"
   ]
  },
  {
   "cell_type": "markdown",
   "metadata": {},
   "source": [
    " "
   ]
  },
  {
   "cell_type": "code",
   "execution_count": null,
   "metadata": {},
   "outputs": [],
   "source": [
    "x = data_card_an.groupby('Карта').count().sort_values('Anomaly', ascending=False)"
   ]
  },
  {
   "cell_type": "code",
   "execution_count": null,
   "metadata": {},
   "outputs": [],
   "source": [
    "y = x[x['Anomaly'] > 1]"
   ]
  },
  {
   "cell_type": "code",
   "execution_count": null,
   "metadata": {},
   "outputs": [],
   "source": [
    "y"
   ]
  },
  {
   "cell_type": "code",
   "execution_count": null,
   "metadata": {},
   "outputs": [],
   "source": [
    "cases = list(y['Anomaly'].values)"
   ]
  },
  {
   "cell_type": "code",
   "execution_count": null,
   "metadata": {},
   "outputs": [],
   "source": [
    "cards = list(y.index)"
   ]
  },
  {
   "cell_type": "code",
   "execution_count": null,
   "metadata": {},
   "outputs": [],
   "source": [
    "cards"
   ]
  },
  {
   "cell_type": "code",
   "execution_count": null,
   "metadata": {},
   "outputs": [],
   "source": [
    "cases"
   ]
  },
  {
   "cell_type": "code",
   "execution_count": null,
   "metadata": {},
   "outputs": [],
   "source": [
    "anomaly_list = pd.DataFrame(data={'Карта':cards, 'Количество Анномальных Операций':cases})"
   ]
  },
  {
   "cell_type": "code",
   "execution_count": null,
   "metadata": {},
   "outputs": [],
   "source": [
    "anomaly_list"
   ]
  },
  {
   "cell_type": "code",
   "execution_count": null,
   "metadata": {},
   "outputs": [],
   "source": [
    "anomaly_list.to_csv('anomaly_cards_2.csv')"
   ]
  },
  {
   "cell_type": "code",
   "execution_count": null,
   "metadata": {},
   "outputs": [],
   "source": [
    "oper_numbs = count_card.sort_values('ВидОперации', ascending=False)"
   ]
  },
  {
   "cell_type": "code",
   "execution_count": null,
   "metadata": {},
   "outputs": [],
   "source": [
    "data_card"
   ]
  },
  {
   "cell_type": "code",
   "execution_count": null,
   "metadata": {},
   "outputs": [],
   "source": [
    "oper_numbs.head()"
   ]
  },
  {
   "cell_type": "code",
   "execution_count": null,
   "metadata": {},
   "outputs": [],
   "source": [
    "anomaly_list.head()"
   ]
  },
  {
   "cell_type": "code",
   "execution_count": null,
   "metadata": {},
   "outputs": [],
   "source": [
    "anomaly_list['Процент Анномальных Операций'] = np.nan"
   ]
  },
  {
   "cell_type": "code",
   "execution_count": null,
   "metadata": {},
   "outputs": [],
   "source": [
    "oper_numbs.loc['3A68C9A32E07603A1D5EA7CE1A800EB6']['ВидОперации']"
   ]
  },
  {
   "cell_type": "code",
   "execution_count": null,
   "metadata": {},
   "outputs": [],
   "source": [
    "prc_list = []"
   ]
  },
  {
   "cell_type": "code",
   "execution_count": null,
   "metadata": {},
   "outputs": [],
   "source": [
    "for index, row in anomaly_list.iterrows():\n",
    "    card_num = row['Карта']\n",
    "    anomaly_operations_count = row['Количество Анномальных Операций']\n",
    "    operations_count = oper_numbs.loc[card_num]['ВидОперации']\n",
    "    anomaly_percent = round((anomaly_operations_count/operations_count)*100,1)\n",
    "#     print(card_num)\n",
    "#     print(anomaly_operations_count)\n",
    "#     print(operations_count)\n",
    "#     print(anomaly_percent)\n",
    "    prc_list.append(anomaly_percent)"
   ]
  },
  {
   "cell_type": "code",
   "execution_count": null,
   "metadata": {},
   "outputs": [],
   "source": [
    "prc_list"
   ]
  },
  {
   "cell_type": "code",
   "execution_count": null,
   "metadata": {},
   "outputs": [],
   "source": [
    "anomaly_list['Процент Анномальных Операций (%)'] = prc_list"
   ]
  },
  {
   "cell_type": "code",
   "execution_count": null,
   "metadata": {},
   "outputs": [],
   "source": [
    "anomaly_list.head(30)"
   ]
  },
  {
   "cell_type": "code",
   "execution_count": null,
   "metadata": {},
   "outputs": [],
   "source": [
    "new_an = anomaly_list[anomaly_list['Количество Анномальных Операций'] >= 10]"
   ]
  },
  {
   "cell_type": "code",
   "execution_count": null,
   "metadata": {},
   "outputs": [],
   "source": [
    "new_an = new_an.sort_values('Процент Анномальных Операций (%)', ascending=False)"
   ]
  },
  {
   "cell_type": "code",
   "execution_count": null,
   "metadata": {},
   "outputs": [],
   "source": [
    "new_an"
   ]
  },
  {
   "cell_type": "code",
   "execution_count": null,
   "metadata": {},
   "outputs": [],
   "source": [
    "data_69 = pd.read_csv('other_data/card_69.csv')"
   ]
  },
  {
   "cell_type": "code",
   "execution_count": null,
   "metadata": {},
   "outputs": [],
   "source": [
    "list_69 = list(data_69['Карта'])"
   ]
  },
  {
   "cell_type": "code",
   "execution_count": null,
   "metadata": {},
   "outputs": [],
   "source": [
    "fraud_list = []"
   ]
  },
  {
   "cell_type": "code",
   "execution_count": null,
   "metadata": {},
   "outputs": [],
   "source": [
    "for index, row in new_an.iterrows():\n",
    "    card_num = row['Карта']\n",
    "    if card_num in list_69:\n",
    "        fraud_list.append('True')\n",
    "    else:\n",
    "        fraud_list.append('False')"
   ]
  },
  {
   "cell_type": "code",
   "execution_count": null,
   "metadata": {},
   "outputs": [],
   "source": [
    "data_69 = pd.read_csv('other_data/card_69.csv')\n",
    "list_69 = list(data_69['Карта'])"
   ]
  },
  {
   "cell_type": "code",
   "execution_count": null,
   "metadata": {},
   "outputs": [],
   "source": [
    "len(fraud_list)"
   ]
  },
  {
   "cell_type": "code",
   "execution_count": null,
   "metadata": {},
   "outputs": [],
   "source": [
    "new_an['Подтверждено'] = fraud_list"
   ]
  },
  {
   "cell_type": "code",
   "execution_count": null,
   "metadata": {},
   "outputs": [],
   "source": [
    "zzxx = yyy[yyy['Количество Анномальных Операций'] >= 14]"
   ]
  },
  {
   "cell_type": "code",
   "execution_count": null,
   "metadata": {},
   "outputs": [],
   "source": [
    "yyy = new_an[new_an['Процент Анномальных Операций (%)'] >= 50]"
   ]
  },
  {
   "cell_type": "code",
   "execution_count": null,
   "metadata": {},
   "outputs": [],
   "source": [
    "xxx = zzxx.groupby('Подтверждено').count()\n",
    "print('accuracy: ',xxx.loc['True']['Карта'] / (xxx.loc['False']['Карта']+xxx.loc['True']['Карта']))"
   ]
  },
  {
   "cell_type": "code",
   "execution_count": null,
   "metadata": {},
   "outputs": [],
   "source": [
    "zzxx"
   ]
  },
  {
   "cell_type": "code",
   "execution_count": null,
   "metadata": {},
   "outputs": [],
   "source": [
    "zzxx.to_csv('anomaly_percent.csv')"
   ]
  },
  {
   "cell_type": "code",
   "execution_count": null,
   "metadata": {},
   "outputs": [],
   "source": [
    "counter = 0"
   ]
  },
  {
   "cell_type": "code",
   "execution_count": null,
   "metadata": {},
   "outputs": [],
   "source": [
    "for index, row in data.iterrows():\n",
    "    card_num = row['Карта']\n",
    "    if card_num in list_69:\n",
    "        counter += 1"
   ]
  },
  {
   "cell_type": "code",
   "execution_count": null,
   "metadata": {},
   "outputs": [],
   "source": [
    "counter"
   ]
  },
  {
   "cell_type": "code",
   "execution_count": null,
   "metadata": {},
   "outputs": [],
   "source": [
    "fraud_col = []"
   ]
  },
  {
   "cell_type": "code",
   "execution_count": null,
   "metadata": {},
   "outputs": [],
   "source": [
    "for index, row in data.iterrows():\n",
    "    card_num = row['Карта']\n",
    "    if card_num in list_69:\n",
    "        fraud_col.append(1)\n",
    "    else:\n",
    "        fraud_col.append(0)"
   ]
  },
  {
   "cell_type": "code",
   "execution_count": null,
   "metadata": {},
   "outputs": [],
   "source": [
    "set(fraud_col)"
   ]
  },
  {
   "cell_type": "code",
   "execution_count": null,
   "metadata": {},
   "outputs": [],
   "source": [
    "len(fraud_col)"
   ]
  },
  {
   "cell_type": "code",
   "execution_count": null,
   "metadata": {},
   "outputs": [],
   "source": [
    "data['label'] = fraud_col"
   ]
  },
  {
   "cell_type": "code",
   "execution_count": null,
   "metadata": {},
   "outputs": [],
   "source": [
    "data"
   ]
  },
  {
   "cell_type": "code",
   "execution_count": null,
   "metadata": {},
   "outputs": [],
   "source": []
  },
  {
   "cell_type": "code",
   "execution_count": null,
   "metadata": {},
   "outputs": [],
   "source": []
  },
  {
   "cell_type": "code",
   "execution_count": null,
   "metadata": {},
   "outputs": [],
   "source": [
    "# classification"
   ]
  },
  {
   "cell_type": "code",
   "execution_count": 42,
   "metadata": {},
   "outputs": [
    {
     "data": {
      "text/html": [
       "<div>\n",
       "<style scoped>\n",
       "    .dataframe tbody tr th:only-of-type {\n",
       "        vertical-align: middle;\n",
       "    }\n",
       "\n",
       "    .dataframe tbody tr th {\n",
       "        vertical-align: top;\n",
       "    }\n",
       "\n",
       "    .dataframe thead th {\n",
       "        text-align: right;\n",
       "    }\n",
       "</style>\n",
       "<table border=\"1\" class=\"dataframe\">\n",
       "  <thead>\n",
       "    <tr style=\"text-align: right;\">\n",
       "      <th></th>\n",
       "      <th>ВидОперации</th>\n",
       "      <th>АЗСКод</th>\n",
       "      <th>Карта</th>\n",
       "      <th>Сумма</th>\n",
       "      <th>Бонусы</th>\n",
       "      <th>СуммаСкидки</th>\n",
       "      <th>УниверсальнаяАкцияКод</th>\n",
       "      <th>СписаноБонусов</th>\n",
       "      <th>ОператорКод</th>\n",
       "      <th>label</th>\n",
       "    </tr>\n",
       "  </thead>\n",
       "  <tbody>\n",
       "    <tr>\n",
       "      <th>0</th>\n",
       "      <td>0</td>\n",
       "      <td>0</td>\n",
       "      <td>34</td>\n",
       "      <td>300.00</td>\n",
       "      <td>1552.0</td>\n",
       "      <td>0.05</td>\n",
       "      <td>0</td>\n",
       "      <td>0</td>\n",
       "      <td>0</td>\n",
       "      <td>0</td>\n",
       "    </tr>\n",
       "    <tr>\n",
       "      <th>5</th>\n",
       "      <td>0</td>\n",
       "      <td>2</td>\n",
       "      <td>3</td>\n",
       "      <td>257.90</td>\n",
       "      <td>0.0</td>\n",
       "      <td>32.00</td>\n",
       "      <td>1</td>\n",
       "      <td>0</td>\n",
       "      <td>1</td>\n",
       "      <td>0</td>\n",
       "    </tr>\n",
       "    <tr>\n",
       "      <th>9</th>\n",
       "      <td>1</td>\n",
       "      <td>2</td>\n",
       "      <td>2</td>\n",
       "      <td>1049.00</td>\n",
       "      <td>6996.0</td>\n",
       "      <td>0.95</td>\n",
       "      <td>0</td>\n",
       "      <td>95</td>\n",
       "      <td>1</td>\n",
       "      <td>0</td>\n",
       "    </tr>\n",
       "    <tr>\n",
       "      <th>10</th>\n",
       "      <td>0</td>\n",
       "      <td>4</td>\n",
       "      <td>7</td>\n",
       "      <td>458.26</td>\n",
       "      <td>1836.0</td>\n",
       "      <td>29.38</td>\n",
       "      <td>1</td>\n",
       "      <td>0</td>\n",
       "      <td>2</td>\n",
       "      <td>0</td>\n",
       "    </tr>\n",
       "    <tr>\n",
       "      <th>12</th>\n",
       "      <td>1</td>\n",
       "      <td>5</td>\n",
       "      <td>3</td>\n",
       "      <td>1959.00</td>\n",
       "      <td>13516.0</td>\n",
       "      <td>0.72</td>\n",
       "      <td>0</td>\n",
       "      <td>72</td>\n",
       "      <td>3</td>\n",
       "      <td>0</td>\n",
       "    </tr>\n",
       "    <tr>\n",
       "      <th>13</th>\n",
       "      <td>1</td>\n",
       "      <td>6</td>\n",
       "      <td>8</td>\n",
       "      <td>700.00</td>\n",
       "      <td>2643.0</td>\n",
       "      <td>66.21</td>\n",
       "      <td>1</td>\n",
       "      <td>13</td>\n",
       "      <td>4</td>\n",
       "      <td>0</td>\n",
       "    </tr>\n",
       "    <tr>\n",
       "      <th>34</th>\n",
       "      <td>1</td>\n",
       "      <td>2</td>\n",
       "      <td>5</td>\n",
       "      <td>1000.00</td>\n",
       "      <td>6454.0</td>\n",
       "      <td>0.05</td>\n",
       "      <td>0</td>\n",
       "      <td>5</td>\n",
       "      <td>1</td>\n",
       "      <td>0</td>\n",
       "    </tr>\n",
       "    <tr>\n",
       "      <th>40</th>\n",
       "      <td>1</td>\n",
       "      <td>9</td>\n",
       "      <td>1</td>\n",
       "      <td>1704.09</td>\n",
       "      <td>11070.0</td>\n",
       "      <td>183.34</td>\n",
       "      <td>0</td>\n",
       "      <td>18334</td>\n",
       "      <td>5</td>\n",
       "      <td>0</td>\n",
       "    </tr>\n",
       "    <tr>\n",
       "      <th>42</th>\n",
       "      <td>0</td>\n",
       "      <td>4</td>\n",
       "      <td>10</td>\n",
       "      <td>400.00</td>\n",
       "      <td>1506.0</td>\n",
       "      <td>0.13</td>\n",
       "      <td>0</td>\n",
       "      <td>0</td>\n",
       "      <td>2</td>\n",
       "      <td>0</td>\n",
       "    </tr>\n",
       "    <tr>\n",
       "      <th>43</th>\n",
       "      <td>0</td>\n",
       "      <td>6</td>\n",
       "      <td>17</td>\n",
       "      <td>500.00</td>\n",
       "      <td>5838.0</td>\n",
       "      <td>0.23</td>\n",
       "      <td>0</td>\n",
       "      <td>0</td>\n",
       "      <td>4</td>\n",
       "      <td>0</td>\n",
       "    </tr>\n",
       "  </tbody>\n",
       "</table>\n",
       "</div>"
      ],
      "text/plain": [
       "    ВидОперации  АЗСКод  Карта    Сумма   Бонусы  СуммаСкидки  \\\n",
       "0             0       0     34   300.00   1552.0         0.05   \n",
       "5             0       2      3   257.90      0.0        32.00   \n",
       "9             1       2      2  1049.00   6996.0         0.95   \n",
       "10            0       4      7   458.26   1836.0        29.38   \n",
       "12            1       5      3  1959.00  13516.0         0.72   \n",
       "13            1       6      8   700.00   2643.0        66.21   \n",
       "34            1       2      5  1000.00   6454.0         0.05   \n",
       "40            1       9      1  1704.09  11070.0       183.34   \n",
       "42            0       4     10   400.00   1506.0         0.13   \n",
       "43            0       6     17   500.00   5838.0         0.23   \n",
       "\n",
       "    УниверсальнаяАкцияКод  СписаноБонусов  ОператорКод  label  \n",
       "0                       0               0            0      0  \n",
       "5                       1               0            1      0  \n",
       "9                       0              95            1      0  \n",
       "10                      1               0            2      0  \n",
       "12                      0              72            3      0  \n",
       "13                      1              13            4      0  \n",
       "34                      0               5            1      0  \n",
       "40                      0           18334            5      0  \n",
       "42                      0               0            2      0  \n",
       "43                      0               0            4      0  "
      ]
     },
     "execution_count": 42,
     "metadata": {},
     "output_type": "execute_result"
    }
   ],
   "source": [
    "data.head(10)"
   ]
  },
  {
   "cell_type": "code",
   "execution_count": 43,
   "metadata": {},
   "outputs": [],
   "source": [
    "data_2 = data.copy()"
   ]
  },
  {
   "cell_type": "code",
   "execution_count": 44,
   "metadata": {},
   "outputs": [
    {
     "data": {
      "text/html": [
       "<div>\n",
       "<style scoped>\n",
       "    .dataframe tbody tr th:only-of-type {\n",
       "        vertical-align: middle;\n",
       "    }\n",
       "\n",
       "    .dataframe tbody tr th {\n",
       "        vertical-align: top;\n",
       "    }\n",
       "\n",
       "    .dataframe thead th {\n",
       "        text-align: right;\n",
       "    }\n",
       "</style>\n",
       "<table border=\"1\" class=\"dataframe\">\n",
       "  <thead>\n",
       "    <tr style=\"text-align: right;\">\n",
       "      <th></th>\n",
       "      <th>ВидОперации</th>\n",
       "      <th>АЗСКод</th>\n",
       "      <th>Карта</th>\n",
       "      <th>Сумма</th>\n",
       "      <th>Бонусы</th>\n",
       "      <th>СуммаСкидки</th>\n",
       "      <th>УниверсальнаяАкцияКод</th>\n",
       "      <th>СписаноБонусов</th>\n",
       "      <th>ОператорКод</th>\n",
       "      <th>label</th>\n",
       "    </tr>\n",
       "  </thead>\n",
       "  <tbody>\n",
       "    <tr>\n",
       "      <th>0</th>\n",
       "      <td>0</td>\n",
       "      <td>0</td>\n",
       "      <td>34</td>\n",
       "      <td>300.00</td>\n",
       "      <td>1552.0</td>\n",
       "      <td>0.05</td>\n",
       "      <td>0</td>\n",
       "      <td>0</td>\n",
       "      <td>0</td>\n",
       "      <td>0</td>\n",
       "    </tr>\n",
       "    <tr>\n",
       "      <th>5</th>\n",
       "      <td>0</td>\n",
       "      <td>2</td>\n",
       "      <td>3</td>\n",
       "      <td>257.90</td>\n",
       "      <td>0.0</td>\n",
       "      <td>32.00</td>\n",
       "      <td>1</td>\n",
       "      <td>0</td>\n",
       "      <td>1</td>\n",
       "      <td>0</td>\n",
       "    </tr>\n",
       "    <tr>\n",
       "      <th>9</th>\n",
       "      <td>1</td>\n",
       "      <td>2</td>\n",
       "      <td>2</td>\n",
       "      <td>1049.00</td>\n",
       "      <td>6996.0</td>\n",
       "      <td>0.95</td>\n",
       "      <td>0</td>\n",
       "      <td>95</td>\n",
       "      <td>1</td>\n",
       "      <td>0</td>\n",
       "    </tr>\n",
       "    <tr>\n",
       "      <th>10</th>\n",
       "      <td>0</td>\n",
       "      <td>4</td>\n",
       "      <td>7</td>\n",
       "      <td>458.26</td>\n",
       "      <td>1836.0</td>\n",
       "      <td>29.38</td>\n",
       "      <td>1</td>\n",
       "      <td>0</td>\n",
       "      <td>2</td>\n",
       "      <td>0</td>\n",
       "    </tr>\n",
       "    <tr>\n",
       "      <th>12</th>\n",
       "      <td>1</td>\n",
       "      <td>5</td>\n",
       "      <td>3</td>\n",
       "      <td>1959.00</td>\n",
       "      <td>13516.0</td>\n",
       "      <td>0.72</td>\n",
       "      <td>0</td>\n",
       "      <td>72</td>\n",
       "      <td>3</td>\n",
       "      <td>0</td>\n",
       "    </tr>\n",
       "  </tbody>\n",
       "</table>\n",
       "</div>"
      ],
      "text/plain": [
       "    ВидОперации  АЗСКод  Карта    Сумма   Бонусы  СуммаСкидки  \\\n",
       "0             0       0     34   300.00   1552.0         0.05   \n",
       "5             0       2      3   257.90      0.0        32.00   \n",
       "9             1       2      2  1049.00   6996.0         0.95   \n",
       "10            0       4      7   458.26   1836.0        29.38   \n",
       "12            1       5      3  1959.00  13516.0         0.72   \n",
       "\n",
       "    УниверсальнаяАкцияКод  СписаноБонусов  ОператорКод  label  \n",
       "0                       0               0            0      0  \n",
       "5                       1               0            1      0  \n",
       "9                       0              95            1      0  \n",
       "10                      1               0            2      0  \n",
       "12                      0              72            3      0  "
      ]
     },
     "execution_count": 44,
     "metadata": {},
     "output_type": "execute_result"
    }
   ],
   "source": [
    "data_2.head()"
   ]
  },
  {
   "cell_type": "code",
   "execution_count": null,
   "metadata": {},
   "outputs": [],
   "source": [
    "fraud_in = []\n",
    "non_fraud_in = []"
   ]
  },
  {
   "cell_type": "code",
   "execution_count": null,
   "metadata": {},
   "outputs": [],
   "source": [
    "import random"
   ]
  },
  {
   "cell_type": "code",
   "execution_count": null,
   "metadata": {},
   "outputs": [],
   "source": []
  },
  {
   "cell_type": "code",
   "execution_count": null,
   "metadata": {},
   "outputs": [],
   "source": [
    "while len(fraud_in) < 110:\n",
    "    ind = random.randint(0, 92000)\n",
    "    try:\n",
    "        if data.loc[ind]['label'] == 1 and ind not in fraud_in:\n",
    "            fraud_in.append(ind)\n",
    "    except:\n",
    "        continue\n",
    "        \n"
   ]
  },
  {
   "cell_type": "code",
   "execution_count": null,
   "metadata": {},
   "outputs": [],
   "source": [
    "len(fraud_in)"
   ]
  },
  {
   "cell_type": "code",
   "execution_count": null,
   "metadata": {},
   "outputs": [],
   "source": [
    "len(non_fraud_in)"
   ]
  },
  {
   "cell_type": "code",
   "execution_count": null,
   "metadata": {},
   "outputs": [],
   "source": [
    "test_data"
   ]
  },
  {
   "cell_type": "code",
   "execution_count": null,
   "metadata": {},
   "outputs": [],
   "source": [
    "test_data = data_2.iloc[:1]"
   ]
  },
  {
   "cell_type": "code",
   "execution_count": null,
   "metadata": {},
   "outputs": [],
   "source": [
    "for i in non_fraud_in:\n",
    "    test_data = test_data.append(data_2.loc[i])\n",
    "    data_2 = data_2.drop(i, axis=0)"
   ]
  },
  {
   "cell_type": "code",
   "execution_count": null,
   "metadata": {},
   "outputs": [],
   "source": [
    "test_data.append(data_2.iloc[1])"
   ]
  },
  {
   "cell_type": "code",
   "execution_count": null,
   "metadata": {},
   "outputs": [],
   "source": [
    "test_data"
   ]
  },
  {
   "cell_type": "code",
   "execution_count": null,
   "metadata": {},
   "outputs": [],
   "source": [
    "data_2.loc[5]"
   ]
  },
  {
   "cell_type": "code",
   "execution_count": null,
   "metadata": {},
   "outputs": [],
   "source": [
    "data_2.drop(5, axis=0)"
   ]
  },
  {
   "cell_type": "code",
   "execution_count": null,
   "metadata": {},
   "outputs": [],
   "source": [
    "data_2"
   ]
  },
  {
   "cell_type": "code",
   "execution_count": null,
   "metadata": {},
   "outputs": [],
   "source": [
    "test_data = test_data.reset_index()"
   ]
  },
  {
   "cell_type": "code",
   "execution_count": null,
   "metadata": {},
   "outputs": [],
   "source": [
    "test_data['index']"
   ]
  },
  {
   "cell_type": "code",
   "execution_count": null,
   "metadata": {},
   "outputs": [],
   "source": [
    "test_data = test_data.drop('index', axis=1)"
   ]
  },
  {
   "cell_type": "code",
   "execution_count": null,
   "metadata": {},
   "outputs": [],
   "source": [
    "test_data"
   ]
  },
  {
   "cell_type": "code",
   "execution_count": null,
   "metadata": {},
   "outputs": [],
   "source": [
    "data_2"
   ]
  },
  {
   "cell_type": "code",
   "execution_count": 45,
   "metadata": {},
   "outputs": [],
   "source": [
    "train_X = data_2.drop('label', axis=1).values"
   ]
  },
  {
   "cell_type": "code",
   "execution_count": 46,
   "metadata": {},
   "outputs": [
    {
     "data": {
      "text/plain": [
       "array([[ 0.,  0., 34., ...,  0.,  0.,  0.],\n",
       "       [ 0.,  2.,  3., ...,  1.,  0.,  1.],\n",
       "       [ 1.,  2.,  2., ...,  0., 95.,  1.],\n",
       "       ...,\n",
       "       [ 0.,  9.,  3., ...,  3.,  0., 13.],\n",
       "       [ 0.,  8., 11., ...,  0.,  0., 10.],\n",
       "       [ 1.,  1.,  1., ...,  0., 60.,  8.]])"
      ]
     },
     "execution_count": 46,
     "metadata": {},
     "output_type": "execute_result"
    }
   ],
   "source": [
    "train_X"
   ]
  },
  {
   "cell_type": "code",
   "execution_count": 47,
   "metadata": {},
   "outputs": [],
   "source": [
    "train_y = data_2['label'].values"
   ]
  },
  {
   "cell_type": "code",
   "execution_count": 48,
   "metadata": {},
   "outputs": [
    {
     "data": {
      "text/plain": [
       "array([0, 0, 0, ..., 0, 0, 0])"
      ]
     },
     "execution_count": 48,
     "metadata": {},
     "output_type": "execute_result"
    }
   ],
   "source": [
    "train_y"
   ]
  },
  {
   "cell_type": "code",
   "execution_count": null,
   "metadata": {},
   "outputs": [],
   "source": [
    "test_X = test_data.drop('label', axis=1).values"
   ]
  },
  {
   "cell_type": "code",
   "execution_count": null,
   "metadata": {},
   "outputs": [],
   "source": [
    "test_X"
   ]
  },
  {
   "cell_type": "code",
   "execution_count": null,
   "metadata": {},
   "outputs": [],
   "source": [
    "test_y = test_data['label'].values"
   ]
  },
  {
   "cell_type": "code",
   "execution_count": null,
   "metadata": {},
   "outputs": [],
   "source": [
    "test_y = test_y.astype(int)"
   ]
  },
  {
   "cell_type": "code",
   "execution_count": 49,
   "metadata": {},
   "outputs": [],
   "source": [
    "# machine learning\n",
    "from sklearn.svm import SVC, LinearSVC\n",
    "from sklearn.ensemble import RandomForestClassifier\n",
    "from sklearn.neighbors import KNeighborsClassifier\n",
    "from sklearn.ensemble import GradientBoostingClassifier\n",
    "\n",
    "from sklearn.model_selection import train_test_split\n",
    "from sklearn.metrics import accuracy_score, classification_report, confusion_matrix"
   ]
  },
  {
   "cell_type": "code",
   "execution_count": null,
   "metadata": {},
   "outputs": [],
   "source": []
  },
  {
   "cell_type": "code",
   "execution_count": null,
   "metadata": {},
   "outputs": [],
   "source": [
    "linear_svc = LinearSVC(max_iter=10000)"
   ]
  },
  {
   "cell_type": "code",
   "execution_count": null,
   "metadata": {},
   "outputs": [],
   "source": [
    "linear_svc.fit(train_X, train_y)"
   ]
  },
  {
   "cell_type": "code",
   "execution_count": null,
   "metadata": {},
   "outputs": [],
   "source": [
    "y_pred = linear_svc.predict(test_X)"
   ]
  },
  {
   "cell_type": "code",
   "execution_count": null,
   "metadata": {},
   "outputs": [],
   "source": [
    "print(classification_report(test_y, y_pred))\n",
    "print('-'*50)\n",
    "print(confusion_matrix(test_y, y_pred))"
   ]
  },
  {
   "cell_type": "code",
   "execution_count": null,
   "metadata": {},
   "outputs": [],
   "source": []
  },
  {
   "cell_type": "code",
   "execution_count": null,
   "metadata": {},
   "outputs": [],
   "source": [
    "knc = KNeighborsClassifier(n_neighbors = 3)\n",
    "knc.fit(train_X, train_y)"
   ]
  },
  {
   "cell_type": "code",
   "execution_count": null,
   "metadata": {},
   "outputs": [],
   "source": [
    "y_pred = knc.predict(test_X)"
   ]
  },
  {
   "cell_type": "code",
   "execution_count": null,
   "metadata": {},
   "outputs": [],
   "source": [
    "print(classification_report(test_y, y_pred))\n",
    "print('-'*50)\n",
    "print(confusion_matrix(test_y, y_pred))"
   ]
  },
  {
   "cell_type": "code",
   "execution_count": null,
   "metadata": {},
   "outputs": [],
   "source": []
  },
  {
   "cell_type": "code",
   "execution_count": null,
   "metadata": {},
   "outputs": [],
   "source": [
    "svc = SVC(gamma='auto')\n",
    "svc.fit(train_X, train_y)"
   ]
  },
  {
   "cell_type": "code",
   "execution_count": null,
   "metadata": {},
   "outputs": [],
   "source": [
    "y_pred = svc.predict(test_X)"
   ]
  },
  {
   "cell_type": "code",
   "execution_count": null,
   "metadata": {},
   "outputs": [],
   "source": [
    "print(classification_report(test_y, y_pred))\n",
    "print('-'*50)\n",
    "print(confusion_matrix(test_y, y_pred))"
   ]
  },
  {
   "cell_type": "code",
   "execution_count": null,
   "metadata": {},
   "outputs": [],
   "source": []
  },
  {
   "cell_type": "code",
   "execution_count": 50,
   "metadata": {},
   "outputs": [
    {
     "data": {
      "text/plain": [
       "RandomForestClassifier(n_estimators=90)"
      ]
     },
     "execution_count": 50,
     "metadata": {},
     "output_type": "execute_result"
    }
   ],
   "source": [
    "rfc = RandomForestClassifier(n_estimators=90)\n",
    "rfc.fit(train_X, train_y)"
   ]
  },
  {
   "cell_type": "code",
   "execution_count": 51,
   "metadata": {},
   "outputs": [],
   "source": [
    "y_pred = rfc.predict(train_X)"
   ]
  },
  {
   "cell_type": "code",
   "execution_count": 52,
   "metadata": {},
   "outputs": [
    {
     "name": "stdout",
     "output_type": "stream",
     "text": [
      "              precision    recall  f1-score   support\n",
      "\n",
      "           0       1.00      1.00      1.00     46188\n",
      "           1       1.00      0.99      1.00      1196\n",
      "\n",
      "    accuracy                           1.00     47384\n",
      "   macro avg       1.00      1.00      1.00     47384\n",
      "weighted avg       1.00      1.00      1.00     47384\n",
      "\n",
      "--------------------------------------------------\n",
      "Confusion Matrix\n",
      "[[46187     1]\n",
      " [    7  1189]]\n"
     ]
    }
   ],
   "source": [
    "print(classification_report(train_y, y_pred))\n",
    "print('-'*50)\n",
    "print('Confusion Matrix')\n",
    "print(confusion_matrix(train_y, y_pred))"
   ]
  },
  {
   "cell_type": "code",
   "execution_count": null,
   "metadata": {},
   "outputs": [],
   "source": [
    "set(y_pred)"
   ]
  },
  {
   "cell_type": "code",
   "execution_count": null,
   "metadata": {},
   "outputs": [],
   "source": [
    "gbc = GradientBoostingClassifier(n_estimators=100, max_depth=1, random_state=0)\n",
    "gbc.fit(train_X, train_y)"
   ]
  },
  {
   "cell_type": "code",
   "execution_count": null,
   "metadata": {},
   "outputs": [],
   "source": [
    "y_pred = gbc.predict(test_X)"
   ]
  },
  {
   "cell_type": "code",
   "execution_count": null,
   "metadata": {},
   "outputs": [],
   "source": [
    "print(classification_report(test_y, y_pred))\n",
    "print('-'*50)\n",
    "print(confusion_matrix(test_y, y_pred))"
   ]
  },
  {
   "cell_type": "code",
   "execution_count": null,
   "metadata": {},
   "outputs": [],
   "source": []
  },
  {
   "cell_type": "code",
   "execution_count": null,
   "metadata": {},
   "outputs": [],
   "source": []
  },
  {
   "cell_type": "code",
   "execution_count": 93,
   "metadata": {},
   "outputs": [
    {
     "data": {
      "text/plain": [
       "array([[0.0000e+00, 1.2000e+01, 2.0000e+00, ..., 0.0000e+00, 0.0000e+00,\n",
       "        0.0000e+00],\n",
       "       [0.0000e+00, 1.4000e+01, 3.1000e+01, ..., 1.0000e+00, 0.0000e+00,\n",
       "        1.0000e+00],\n",
       "       [1.0000e+00, 1.3000e+01, 5.5000e+01, ..., 0.0000e+00, 4.4000e+01,\n",
       "        2.0000e+00],\n",
       "       ...,\n",
       "       [1.0000e+00, 1.8000e+01, 1.7000e+01, ..., 1.0000e+00, 1.1426e+04,\n",
       "        4.5200e+02],\n",
       "       [1.0000e+00, 1.7000e+01, 1.7000e+01, ..., 0.0000e+00, 4.7980e+04,\n",
       "        2.8000e+01],\n",
       "       [0.0000e+00, 1.7000e+01, 1.7000e+01, ..., 0.0000e+00, 0.0000e+00,\n",
       "        2.8000e+01]])"
      ]
     },
     "execution_count": 93,
     "metadata": {},
     "output_type": "execute_result"
    }
   ],
   "source": [
    "data.values"
   ]
  },
  {
   "cell_type": "code",
   "execution_count": 94,
   "metadata": {},
   "outputs": [],
   "source": [
    "y_pred = rfc.predict(data.values)"
   ]
  },
  {
   "cell_type": "code",
   "execution_count": null,
   "metadata": {},
   "outputs": [],
   "source": []
  },
  {
   "cell_type": "code",
   "execution_count": 96,
   "metadata": {},
   "outputs": [
    {
     "data": {
      "text/plain": [
       "{0, 1}"
      ]
     },
     "execution_count": 96,
     "metadata": {},
     "output_type": "execute_result"
    }
   ],
   "source": [
    "set(y_pred)"
   ]
  },
  {
   "cell_type": "code",
   "execution_count": null,
   "metadata": {},
   "outputs": [],
   "source": []
  },
  {
   "cell_type": "code",
   "execution_count": 97,
   "metadata": {},
   "outputs": [],
   "source": [
    "data['is_fraud'] = y_pred"
   ]
  },
  {
   "cell_type": "code",
   "execution_count": 107,
   "metadata": {},
   "outputs": [],
   "source": [
    "fraud_data = data[data['is_fraud'] == 1].copy()"
   ]
  },
  {
   "cell_type": "code",
   "execution_count": 108,
   "metadata": {},
   "outputs": [
    {
     "data": {
      "text/html": [
       "<div>\n",
       "<style scoped>\n",
       "    .dataframe tbody tr th:only-of-type {\n",
       "        vertical-align: middle;\n",
       "    }\n",
       "\n",
       "    .dataframe tbody tr th {\n",
       "        vertical-align: top;\n",
       "    }\n",
       "\n",
       "    .dataframe thead th {\n",
       "        text-align: right;\n",
       "    }\n",
       "</style>\n",
       "<table border=\"1\" class=\"dataframe\">\n",
       "  <thead>\n",
       "    <tr style=\"text-align: right;\">\n",
       "      <th></th>\n",
       "      <th>ВидОперации</th>\n",
       "      <th>АЗСКод</th>\n",
       "      <th>Карта</th>\n",
       "      <th>Сумма</th>\n",
       "      <th>Бонусы</th>\n",
       "      <th>СуммаСкидки</th>\n",
       "      <th>УниверсальнаяАкцияКод</th>\n",
       "      <th>СписаноБонусов</th>\n",
       "      <th>ОператорКод</th>\n",
       "      <th>is_fraud</th>\n",
       "    </tr>\n",
       "  </thead>\n",
       "  <tbody>\n",
       "    <tr>\n",
       "      <th>30</th>\n",
       "      <td>0</td>\n",
       "      <td>13</td>\n",
       "      <td>26</td>\n",
       "      <td>489.80</td>\n",
       "      <td>4700.0</td>\n",
       "      <td>0.00</td>\n",
       "      <td>0</td>\n",
       "      <td>0</td>\n",
       "      <td>2</td>\n",
       "      <td>1</td>\n",
       "    </tr>\n",
       "    <tr>\n",
       "      <th>33</th>\n",
       "      <td>0</td>\n",
       "      <td>18</td>\n",
       "      <td>28</td>\n",
       "      <td>451.39</td>\n",
       "      <td>1966.0</td>\n",
       "      <td>0.00</td>\n",
       "      <td>0</td>\n",
       "      <td>0</td>\n",
       "      <td>5</td>\n",
       "      <td>1</td>\n",
       "    </tr>\n",
       "    <tr>\n",
       "      <th>184</th>\n",
       "      <td>0</td>\n",
       "      <td>48</td>\n",
       "      <td>31</td>\n",
       "      <td>567.36</td>\n",
       "      <td>2255.0</td>\n",
       "      <td>0.00</td>\n",
       "      <td>0</td>\n",
       "      <td>0</td>\n",
       "      <td>27</td>\n",
       "      <td>1</td>\n",
       "    </tr>\n",
       "    <tr>\n",
       "      <th>248</th>\n",
       "      <td>0</td>\n",
       "      <td>17</td>\n",
       "      <td>31</td>\n",
       "      <td>499.80</td>\n",
       "      <td>6000.0</td>\n",
       "      <td>0.00</td>\n",
       "      <td>0</td>\n",
       "      <td>0</td>\n",
       "      <td>28</td>\n",
       "      <td>1</td>\n",
       "    </tr>\n",
       "    <tr>\n",
       "      <th>250</th>\n",
       "      <td>0</td>\n",
       "      <td>17</td>\n",
       "      <td>31</td>\n",
       "      <td>1000.10</td>\n",
       "      <td>11544.0</td>\n",
       "      <td>0.00</td>\n",
       "      <td>0</td>\n",
       "      <td>0</td>\n",
       "      <td>28</td>\n",
       "      <td>1</td>\n",
       "    </tr>\n",
       "    <tr>\n",
       "      <th>...</th>\n",
       "      <td>...</td>\n",
       "      <td>...</td>\n",
       "      <td>...</td>\n",
       "      <td>...</td>\n",
       "      <td>...</td>\n",
       "      <td>...</td>\n",
       "      <td>...</td>\n",
       "      <td>...</td>\n",
       "      <td>...</td>\n",
       "      <td>...</td>\n",
       "    </tr>\n",
       "    <tr>\n",
       "      <th>19016</th>\n",
       "      <td>0</td>\n",
       "      <td>10</td>\n",
       "      <td>26</td>\n",
       "      <td>431.94</td>\n",
       "      <td>3489.0</td>\n",
       "      <td>0.00</td>\n",
       "      <td>0</td>\n",
       "      <td>0</td>\n",
       "      <td>19</td>\n",
       "      <td>1</td>\n",
       "    </tr>\n",
       "    <tr>\n",
       "      <th>19102</th>\n",
       "      <td>0</td>\n",
       "      <td>10</td>\n",
       "      <td>31</td>\n",
       "      <td>381.55</td>\n",
       "      <td>1541.0</td>\n",
       "      <td>0.00</td>\n",
       "      <td>0</td>\n",
       "      <td>0</td>\n",
       "      <td>45</td>\n",
       "      <td>1</td>\n",
       "    </tr>\n",
       "    <tr>\n",
       "      <th>19158</th>\n",
       "      <td>0</td>\n",
       "      <td>10</td>\n",
       "      <td>29</td>\n",
       "      <td>795.35</td>\n",
       "      <td>3292.0</td>\n",
       "      <td>19.75</td>\n",
       "      <td>1</td>\n",
       "      <td>0</td>\n",
       "      <td>45</td>\n",
       "      <td>1</td>\n",
       "    </tr>\n",
       "    <tr>\n",
       "      <th>19226</th>\n",
       "      <td>1</td>\n",
       "      <td>10</td>\n",
       "      <td>30</td>\n",
       "      <td>0.16</td>\n",
       "      <td>0.0</td>\n",
       "      <td>199.78</td>\n",
       "      <td>0</td>\n",
       "      <td>19994</td>\n",
       "      <td>45</td>\n",
       "      <td>1</td>\n",
       "    </tr>\n",
       "    <tr>\n",
       "      <th>19329</th>\n",
       "      <td>0</td>\n",
       "      <td>13</td>\n",
       "      <td>31</td>\n",
       "      <td>719.70</td>\n",
       "      <td>6000.0</td>\n",
       "      <td>0.00</td>\n",
       "      <td>0</td>\n",
       "      <td>0</td>\n",
       "      <td>2</td>\n",
       "      <td>1</td>\n",
       "    </tr>\n",
       "  </tbody>\n",
       "</table>\n",
       "<p>317 rows × 10 columns</p>\n",
       "</div>"
      ],
      "text/plain": [
       "       ВидОперации  АЗСКод  Карта    Сумма   Бонусы  СуммаСкидки  \\\n",
       "30               0      13     26   489.80   4700.0         0.00   \n",
       "33               0      18     28   451.39   1966.0         0.00   \n",
       "184              0      48     31   567.36   2255.0         0.00   \n",
       "248              0      17     31   499.80   6000.0         0.00   \n",
       "250              0      17     31  1000.10  11544.0         0.00   \n",
       "...            ...     ...    ...      ...      ...          ...   \n",
       "19016            0      10     26   431.94   3489.0         0.00   \n",
       "19102            0      10     31   381.55   1541.0         0.00   \n",
       "19158            0      10     29   795.35   3292.0        19.75   \n",
       "19226            1      10     30     0.16      0.0       199.78   \n",
       "19329            0      13     31   719.70   6000.0         0.00   \n",
       "\n",
       "       УниверсальнаяАкцияКод  СписаноБонусов  ОператорКод  is_fraud  \n",
       "30                         0               0            2         1  \n",
       "33                         0               0            5         1  \n",
       "184                        0               0           27         1  \n",
       "248                        0               0           28         1  \n",
       "250                        0               0           28         1  \n",
       "...                      ...             ...          ...       ...  \n",
       "19016                      0               0           19         1  \n",
       "19102                      0               0           45         1  \n",
       "19158                      1               0           45         1  \n",
       "19226                      0           19994           45         1  \n",
       "19329                      0               0            2         1  \n",
       "\n",
       "[317 rows x 10 columns]"
      ]
     },
     "execution_count": 108,
     "metadata": {},
     "output_type": "execute_result"
    }
   ],
   "source": [
    "fraud_data"
   ]
  },
  {
   "cell_type": "code",
   "execution_count": 114,
   "metadata": {},
   "outputs": [],
   "source": [
    "card_list = []\n",
    "for i, r in fraud_data.iterrows():\n",
    "    card_list.append(data.iloc[i]['Карта'])"
   ]
  },
  {
   "cell_type": "code",
   "execution_count": 116,
   "metadata": {},
   "outputs": [
    {
     "data": {
      "text/plain": [
       "317"
      ]
     },
     "execution_count": 116,
     "metadata": {},
     "output_type": "execute_result"
    }
   ],
   "source": [
    "len(card_list)"
   ]
  },
  {
   "cell_type": "code",
   "execution_count": 117,
   "metadata": {},
   "outputs": [],
   "source": [
    "fraud_data['cards'] = card_list"
   ]
  },
  {
   "cell_type": "code",
   "execution_count": 122,
   "metadata": {},
   "outputs": [
    {
     "data": {
      "text/html": [
       "<div>\n",
       "<style scoped>\n",
       "    .dataframe tbody tr th:only-of-type {\n",
       "        vertical-align: middle;\n",
       "    }\n",
       "\n",
       "    .dataframe tbody tr th {\n",
       "        vertical-align: top;\n",
       "    }\n",
       "\n",
       "    .dataframe thead th {\n",
       "        text-align: right;\n",
       "    }\n",
       "</style>\n",
       "<table border=\"1\" class=\"dataframe\">\n",
       "  <thead>\n",
       "    <tr style=\"text-align: right;\">\n",
       "      <th></th>\n",
       "      <th>ВидОперации</th>\n",
       "      <th>АЗСКод</th>\n",
       "      <th>Карта</th>\n",
       "      <th>Сумма</th>\n",
       "      <th>Бонусы</th>\n",
       "      <th>СуммаСкидки</th>\n",
       "      <th>УниверсальнаяАкцияКод</th>\n",
       "      <th>СписаноБонусов</th>\n",
       "      <th>ОператорКод</th>\n",
       "      <th>is_fraud</th>\n",
       "    </tr>\n",
       "    <tr>\n",
       "      <th>cards</th>\n",
       "      <th></th>\n",
       "      <th></th>\n",
       "      <th></th>\n",
       "      <th></th>\n",
       "      <th></th>\n",
       "      <th></th>\n",
       "      <th></th>\n",
       "      <th></th>\n",
       "      <th></th>\n",
       "      <th></th>\n",
       "    </tr>\n",
       "  </thead>\n",
       "  <tbody>\n",
       "    <tr>\n",
       "      <th>0401A72B85302324BED05E1AFCD810F9</th>\n",
       "      <td>1</td>\n",
       "      <td>1</td>\n",
       "      <td>1</td>\n",
       "      <td>1</td>\n",
       "      <td>1</td>\n",
       "      <td>1</td>\n",
       "      <td>1</td>\n",
       "      <td>1</td>\n",
       "      <td>1</td>\n",
       "      <td>1</td>\n",
       "    </tr>\n",
       "    <tr>\n",
       "      <th>0C77616320B5D3B85F43BCD6139181C5</th>\n",
       "      <td>12</td>\n",
       "      <td>12</td>\n",
       "      <td>12</td>\n",
       "      <td>12</td>\n",
       "      <td>12</td>\n",
       "      <td>12</td>\n",
       "      <td>12</td>\n",
       "      <td>12</td>\n",
       "      <td>12</td>\n",
       "      <td>12</td>\n",
       "    </tr>\n",
       "    <tr>\n",
       "      <th>17BAFB34E388F683CEEF20769C8541EB</th>\n",
       "      <td>3</td>\n",
       "      <td>3</td>\n",
       "      <td>3</td>\n",
       "      <td>3</td>\n",
       "      <td>3</td>\n",
       "      <td>3</td>\n",
       "      <td>3</td>\n",
       "      <td>3</td>\n",
       "      <td>3</td>\n",
       "      <td>3</td>\n",
       "    </tr>\n",
       "    <tr>\n",
       "      <th>1B8AA49E71B4FD7A3907448BC2A07E30</th>\n",
       "      <td>20</td>\n",
       "      <td>20</td>\n",
       "      <td>20</td>\n",
       "      <td>20</td>\n",
       "      <td>20</td>\n",
       "      <td>20</td>\n",
       "      <td>20</td>\n",
       "      <td>20</td>\n",
       "      <td>20</td>\n",
       "      <td>20</td>\n",
       "    </tr>\n",
       "    <tr>\n",
       "      <th>1F91429B12A1F1C76423C67B2AC71CBC</th>\n",
       "      <td>19</td>\n",
       "      <td>19</td>\n",
       "      <td>19</td>\n",
       "      <td>19</td>\n",
       "      <td>19</td>\n",
       "      <td>19</td>\n",
       "      <td>19</td>\n",
       "      <td>19</td>\n",
       "      <td>19</td>\n",
       "      <td>19</td>\n",
       "    </tr>\n",
       "  </tbody>\n",
       "</table>\n",
       "</div>"
      ],
      "text/plain": [
       "                                  ВидОперации  АЗСКод  Карта  Сумма  Бонусы  \\\n",
       "cards                                                                         \n",
       "0401A72B85302324BED05E1AFCD810F9            1       1      1      1       1   \n",
       "0C77616320B5D3B85F43BCD6139181C5           12      12     12     12      12   \n",
       "17BAFB34E388F683CEEF20769C8541EB            3       3      3      3       3   \n",
       "1B8AA49E71B4FD7A3907448BC2A07E30           20      20     20     20      20   \n",
       "1F91429B12A1F1C76423C67B2AC71CBC           19      19     19     19      19   \n",
       "\n",
       "                                  СуммаСкидки  УниверсальнаяАкцияКод  \\\n",
       "cards                                                                  \n",
       "0401A72B85302324BED05E1AFCD810F9            1                      1   \n",
       "0C77616320B5D3B85F43BCD6139181C5           12                     12   \n",
       "17BAFB34E388F683CEEF20769C8541EB            3                      3   \n",
       "1B8AA49E71B4FD7A3907448BC2A07E30           20                     20   \n",
       "1F91429B12A1F1C76423C67B2AC71CBC           19                     19   \n",
       "\n",
       "                                  СписаноБонусов  ОператорКод  is_fraud  \n",
       "cards                                                                    \n",
       "0401A72B85302324BED05E1AFCD810F9               1            1         1  \n",
       "0C77616320B5D3B85F43BCD6139181C5              12           12        12  \n",
       "17BAFB34E388F683CEEF20769C8541EB               3            3         3  \n",
       "1B8AA49E71B4FD7A3907448BC2A07E30              20           20        20  \n",
       "1F91429B12A1F1C76423C67B2AC71CBC              19           19        19  "
      ]
     },
     "execution_count": 122,
     "metadata": {},
     "output_type": "execute_result"
    }
   ],
   "source": [
    "fraud_data.groupby('cards').count().head()"
   ]
  },
  {
   "cell_type": "code",
   "execution_count": 152,
   "metadata": {},
   "outputs": [],
   "source": [
    "count_list = []\n",
    "for i in new_fraud.index:\n",
    "    count_list.append(new_d.loc[i]['ДатаЧека'])"
   ]
  },
  {
   "cell_type": "code",
   "execution_count": 154,
   "metadata": {},
   "outputs": [
    {
     "data": {
      "text/plain": [
       "[39,\n",
       " 33,\n",
       " 65,\n",
       " 33,\n",
       " 46,\n",
       " 34,\n",
       " 24,\n",
       " 47,\n",
       " 40,\n",
       " 41,\n",
       " 77,\n",
       " 26,\n",
       " 31,\n",
       " 44,\n",
       " 38,\n",
       " 49,\n",
       " 423,\n",
       " 32,\n",
       " 50,\n",
       " 92,\n",
       " 21,\n",
       " 34,\n",
       " 33,\n",
       " 44,\n",
       " 41,\n",
       " 31,\n",
       " 31,\n",
       " 17,\n",
       " 57,\n",
       " 33,\n",
       " 27,\n",
       " 84,\n",
       " 27,\n",
       " 100,\n",
       " 31,\n",
       " 56,\n",
       " 57,\n",
       " 44,\n",
       " 104,\n",
       " 75]"
      ]
     },
     "execution_count": 154,
     "metadata": {},
     "output_type": "execute_result"
    }
   ],
   "source": [
    "count_list"
   ]
  },
  {
   "cell_type": "code",
   "execution_count": 129,
   "metadata": {},
   "outputs": [
    {
     "data": {
      "text/html": [
       "<div>\n",
       "<style scoped>\n",
       "    .dataframe tbody tr th:only-of-type {\n",
       "        vertical-align: middle;\n",
       "    }\n",
       "\n",
       "    .dataframe tbody tr th {\n",
       "        vertical-align: top;\n",
       "    }\n",
       "\n",
       "    .dataframe thead th {\n",
       "        text-align: right;\n",
       "    }\n",
       "</style>\n",
       "<table border=\"1\" class=\"dataframe\">\n",
       "  <thead>\n",
       "    <tr style=\"text-align: right;\">\n",
       "      <th></th>\n",
       "      <th>ДатаЧека</th>\n",
       "      <th>НомерЧека</th>\n",
       "      <th>ВидОперации</th>\n",
       "      <th>АЗСКод</th>\n",
       "      <th>ВидНоменклатуры</th>\n",
       "      <th>ОсновнаяКарта</th>\n",
       "      <th>НомерСтроки</th>\n",
       "      <th>НоменклатураКод</th>\n",
       "      <th>Количество</th>\n",
       "      <th>Цена</th>\n",
       "      <th>Сумма</th>\n",
       "      <th>Бонусы</th>\n",
       "      <th>СуммаСкидки</th>\n",
       "      <th>УниверсальнаяАкцияКод</th>\n",
       "      <th>СписаноБонусов</th>\n",
       "      <th>СуммаСкидкиДисконт</th>\n",
       "      <th>КассоваяСмена</th>\n",
       "      <th>ОператорКод</th>\n",
       "    </tr>\n",
       "    <tr>\n",
       "      <th>Карта</th>\n",
       "      <th></th>\n",
       "      <th></th>\n",
       "      <th></th>\n",
       "      <th></th>\n",
       "      <th></th>\n",
       "      <th></th>\n",
       "      <th></th>\n",
       "      <th></th>\n",
       "      <th></th>\n",
       "      <th></th>\n",
       "      <th></th>\n",
       "      <th></th>\n",
       "      <th></th>\n",
       "      <th></th>\n",
       "      <th></th>\n",
       "      <th></th>\n",
       "      <th></th>\n",
       "      <th></th>\n",
       "    </tr>\n",
       "  </thead>\n",
       "  <tbody>\n",
       "    <tr>\n",
       "      <th>0011B8094C552AD81960B56BF2039B98</th>\n",
       "      <td>137</td>\n",
       "      <td>137</td>\n",
       "      <td>137</td>\n",
       "      <td>137</td>\n",
       "      <td>137</td>\n",
       "      <td>0</td>\n",
       "      <td>137</td>\n",
       "      <td>137</td>\n",
       "      <td>137</td>\n",
       "      <td>137</td>\n",
       "      <td>137</td>\n",
       "      <td>137</td>\n",
       "      <td>137</td>\n",
       "      <td>124</td>\n",
       "      <td>137</td>\n",
       "      <td>137</td>\n",
       "      <td>137</td>\n",
       "      <td>137</td>\n",
       "    </tr>\n",
       "    <tr>\n",
       "      <th>00B6E2ADA219D08D4B59EC6B4CF0A583</th>\n",
       "      <td>1</td>\n",
       "      <td>1</td>\n",
       "      <td>1</td>\n",
       "      <td>1</td>\n",
       "      <td>1</td>\n",
       "      <td>0</td>\n",
       "      <td>1</td>\n",
       "      <td>1</td>\n",
       "      <td>1</td>\n",
       "      <td>1</td>\n",
       "      <td>1</td>\n",
       "      <td>1</td>\n",
       "      <td>1</td>\n",
       "      <td>0</td>\n",
       "      <td>1</td>\n",
       "      <td>1</td>\n",
       "      <td>1</td>\n",
       "      <td>1</td>\n",
       "    </tr>\n",
       "    <tr>\n",
       "      <th>00EDC46284AF023A0E6DC510A4319853</th>\n",
       "      <td>13</td>\n",
       "      <td>13</td>\n",
       "      <td>13</td>\n",
       "      <td>13</td>\n",
       "      <td>13</td>\n",
       "      <td>0</td>\n",
       "      <td>13</td>\n",
       "      <td>13</td>\n",
       "      <td>13</td>\n",
       "      <td>13</td>\n",
       "      <td>13</td>\n",
       "      <td>13</td>\n",
       "      <td>13</td>\n",
       "      <td>0</td>\n",
       "      <td>13</td>\n",
       "      <td>13</td>\n",
       "      <td>13</td>\n",
       "      <td>13</td>\n",
       "    </tr>\n",
       "    <tr>\n",
       "      <th>015F8A839E5BE68299F0E329EBD92870</th>\n",
       "      <td>53</td>\n",
       "      <td>53</td>\n",
       "      <td>53</td>\n",
       "      <td>53</td>\n",
       "      <td>53</td>\n",
       "      <td>0</td>\n",
       "      <td>53</td>\n",
       "      <td>53</td>\n",
       "      <td>53</td>\n",
       "      <td>53</td>\n",
       "      <td>53</td>\n",
       "      <td>53</td>\n",
       "      <td>53</td>\n",
       "      <td>0</td>\n",
       "      <td>53</td>\n",
       "      <td>53</td>\n",
       "      <td>53</td>\n",
       "      <td>53</td>\n",
       "    </tr>\n",
       "    <tr>\n",
       "      <th>026FA9180AC8BF5175AEE8826C53D987</th>\n",
       "      <td>66</td>\n",
       "      <td>66</td>\n",
       "      <td>66</td>\n",
       "      <td>66</td>\n",
       "      <td>66</td>\n",
       "      <td>0</td>\n",
       "      <td>66</td>\n",
       "      <td>66</td>\n",
       "      <td>66</td>\n",
       "      <td>66</td>\n",
       "      <td>66</td>\n",
       "      <td>66</td>\n",
       "      <td>66</td>\n",
       "      <td>2</td>\n",
       "      <td>66</td>\n",
       "      <td>66</td>\n",
       "      <td>66</td>\n",
       "      <td>66</td>\n",
       "    </tr>\n",
       "    <tr>\n",
       "      <th>...</th>\n",
       "      <td>...</td>\n",
       "      <td>...</td>\n",
       "      <td>...</td>\n",
       "      <td>...</td>\n",
       "      <td>...</td>\n",
       "      <td>...</td>\n",
       "      <td>...</td>\n",
       "      <td>...</td>\n",
       "      <td>...</td>\n",
       "      <td>...</td>\n",
       "      <td>...</td>\n",
       "      <td>...</td>\n",
       "      <td>...</td>\n",
       "      <td>...</td>\n",
       "      <td>...</td>\n",
       "      <td>...</td>\n",
       "      <td>...</td>\n",
       "      <td>...</td>\n",
       "    </tr>\n",
       "    <tr>\n",
       "      <th>FB90AEE8F48E89DA21BF0C2A9F87A67F</th>\n",
       "      <td>31</td>\n",
       "      <td>31</td>\n",
       "      <td>31</td>\n",
       "      <td>31</td>\n",
       "      <td>31</td>\n",
       "      <td>0</td>\n",
       "      <td>31</td>\n",
       "      <td>31</td>\n",
       "      <td>31</td>\n",
       "      <td>31</td>\n",
       "      <td>31</td>\n",
       "      <td>31</td>\n",
       "      <td>31</td>\n",
       "      <td>9</td>\n",
       "      <td>31</td>\n",
       "      <td>31</td>\n",
       "      <td>31</td>\n",
       "      <td>31</td>\n",
       "    </tr>\n",
       "    <tr>\n",
       "      <th>FC0072BEFC9BDB27F8058B11FEC0B5D5</th>\n",
       "      <td>49</td>\n",
       "      <td>49</td>\n",
       "      <td>49</td>\n",
       "      <td>49</td>\n",
       "      <td>49</td>\n",
       "      <td>0</td>\n",
       "      <td>49</td>\n",
       "      <td>49</td>\n",
       "      <td>49</td>\n",
       "      <td>49</td>\n",
       "      <td>49</td>\n",
       "      <td>49</td>\n",
       "      <td>49</td>\n",
       "      <td>0</td>\n",
       "      <td>49</td>\n",
       "      <td>49</td>\n",
       "      <td>49</td>\n",
       "      <td>49</td>\n",
       "    </tr>\n",
       "    <tr>\n",
       "      <th>FCAAC394914C90E00A18F956BB15BF4F</th>\n",
       "      <td>22</td>\n",
       "      <td>22</td>\n",
       "      <td>22</td>\n",
       "      <td>22</td>\n",
       "      <td>22</td>\n",
       "      <td>0</td>\n",
       "      <td>22</td>\n",
       "      <td>22</td>\n",
       "      <td>22</td>\n",
       "      <td>22</td>\n",
       "      <td>22</td>\n",
       "      <td>22</td>\n",
       "      <td>22</td>\n",
       "      <td>3</td>\n",
       "      <td>22</td>\n",
       "      <td>22</td>\n",
       "      <td>22</td>\n",
       "      <td>22</td>\n",
       "    </tr>\n",
       "    <tr>\n",
       "      <th>FD40D72DF2D946621BA1420DAC25990D</th>\n",
       "      <td>2</td>\n",
       "      <td>2</td>\n",
       "      <td>2</td>\n",
       "      <td>2</td>\n",
       "      <td>2</td>\n",
       "      <td>0</td>\n",
       "      <td>2</td>\n",
       "      <td>2</td>\n",
       "      <td>2</td>\n",
       "      <td>2</td>\n",
       "      <td>2</td>\n",
       "      <td>2</td>\n",
       "      <td>2</td>\n",
       "      <td>0</td>\n",
       "      <td>2</td>\n",
       "      <td>2</td>\n",
       "      <td>2</td>\n",
       "      <td>2</td>\n",
       "    </tr>\n",
       "    <tr>\n",
       "      <th>FF481FA266B3EBE65C2C8A6017EC0985</th>\n",
       "      <td>90</td>\n",
       "      <td>90</td>\n",
       "      <td>90</td>\n",
       "      <td>90</td>\n",
       "      <td>90</td>\n",
       "      <td>0</td>\n",
       "      <td>90</td>\n",
       "      <td>90</td>\n",
       "      <td>90</td>\n",
       "      <td>90</td>\n",
       "      <td>90</td>\n",
       "      <td>90</td>\n",
       "      <td>90</td>\n",
       "      <td>1</td>\n",
       "      <td>90</td>\n",
       "      <td>90</td>\n",
       "      <td>90</td>\n",
       "      <td>90</td>\n",
       "    </tr>\n",
       "  </tbody>\n",
       "</table>\n",
       "<p>524 rows × 18 columns</p>\n",
       "</div>"
      ],
      "text/plain": [
       "                                  ДатаЧека  НомерЧека  ВидОперации  АЗСКод  \\\n",
       "Карта                                                                        \n",
       "0011B8094C552AD81960B56BF2039B98       137        137          137     137   \n",
       "00B6E2ADA219D08D4B59EC6B4CF0A583         1          1            1       1   \n",
       "00EDC46284AF023A0E6DC510A4319853        13         13           13      13   \n",
       "015F8A839E5BE68299F0E329EBD92870        53         53           53      53   \n",
       "026FA9180AC8BF5175AEE8826C53D987        66         66           66      66   \n",
       "...                                    ...        ...          ...     ...   \n",
       "FB90AEE8F48E89DA21BF0C2A9F87A67F        31         31           31      31   \n",
       "FC0072BEFC9BDB27F8058B11FEC0B5D5        49         49           49      49   \n",
       "FCAAC394914C90E00A18F956BB15BF4F        22         22           22      22   \n",
       "FD40D72DF2D946621BA1420DAC25990D         2          2            2       2   \n",
       "FF481FA266B3EBE65C2C8A6017EC0985        90         90           90      90   \n",
       "\n",
       "                                  ВидНоменклатуры  ОсновнаяКарта  НомерСтроки  \\\n",
       "Карта                                                                           \n",
       "0011B8094C552AD81960B56BF2039B98              137              0          137   \n",
       "00B6E2ADA219D08D4B59EC6B4CF0A583                1              0            1   \n",
       "00EDC46284AF023A0E6DC510A4319853               13              0           13   \n",
       "015F8A839E5BE68299F0E329EBD92870               53              0           53   \n",
       "026FA9180AC8BF5175AEE8826C53D987               66              0           66   \n",
       "...                                           ...            ...          ...   \n",
       "FB90AEE8F48E89DA21BF0C2A9F87A67F               31              0           31   \n",
       "FC0072BEFC9BDB27F8058B11FEC0B5D5               49              0           49   \n",
       "FCAAC394914C90E00A18F956BB15BF4F               22              0           22   \n",
       "FD40D72DF2D946621BA1420DAC25990D                2              0            2   \n",
       "FF481FA266B3EBE65C2C8A6017EC0985               90              0           90   \n",
       "\n",
       "                                  НоменклатураКод  Количество  Цена  Сумма  \\\n",
       "Карта                                                                        \n",
       "0011B8094C552AD81960B56BF2039B98              137         137   137    137   \n",
       "00B6E2ADA219D08D4B59EC6B4CF0A583                1           1     1      1   \n",
       "00EDC46284AF023A0E6DC510A4319853               13          13    13     13   \n",
       "015F8A839E5BE68299F0E329EBD92870               53          53    53     53   \n",
       "026FA9180AC8BF5175AEE8826C53D987               66          66    66     66   \n",
       "...                                           ...         ...   ...    ...   \n",
       "FB90AEE8F48E89DA21BF0C2A9F87A67F               31          31    31     31   \n",
       "FC0072BEFC9BDB27F8058B11FEC0B5D5               49          49    49     49   \n",
       "FCAAC394914C90E00A18F956BB15BF4F               22          22    22     22   \n",
       "FD40D72DF2D946621BA1420DAC25990D                2           2     2      2   \n",
       "FF481FA266B3EBE65C2C8A6017EC0985               90          90    90     90   \n",
       "\n",
       "                                  Бонусы  СуммаСкидки  УниверсальнаяАкцияКод  \\\n",
       "Карта                                                                          \n",
       "0011B8094C552AD81960B56BF2039B98     137          137                    124   \n",
       "00B6E2ADA219D08D4B59EC6B4CF0A583       1            1                      0   \n",
       "00EDC46284AF023A0E6DC510A4319853      13           13                      0   \n",
       "015F8A839E5BE68299F0E329EBD92870      53           53                      0   \n",
       "026FA9180AC8BF5175AEE8826C53D987      66           66                      2   \n",
       "...                                  ...          ...                    ...   \n",
       "FB90AEE8F48E89DA21BF0C2A9F87A67F      31           31                      9   \n",
       "FC0072BEFC9BDB27F8058B11FEC0B5D5      49           49                      0   \n",
       "FCAAC394914C90E00A18F956BB15BF4F      22           22                      3   \n",
       "FD40D72DF2D946621BA1420DAC25990D       2            2                      0   \n",
       "FF481FA266B3EBE65C2C8A6017EC0985      90           90                      1   \n",
       "\n",
       "                                  СписаноБонусов  СуммаСкидкиДисконт  \\\n",
       "Карта                                                                  \n",
       "0011B8094C552AD81960B56BF2039B98             137                 137   \n",
       "00B6E2ADA219D08D4B59EC6B4CF0A583               1                   1   \n",
       "00EDC46284AF023A0E6DC510A4319853              13                  13   \n",
       "015F8A839E5BE68299F0E329EBD92870              53                  53   \n",
       "026FA9180AC8BF5175AEE8826C53D987              66                  66   \n",
       "...                                          ...                 ...   \n",
       "FB90AEE8F48E89DA21BF0C2A9F87A67F              31                  31   \n",
       "FC0072BEFC9BDB27F8058B11FEC0B5D5              49                  49   \n",
       "FCAAC394914C90E00A18F956BB15BF4F              22                  22   \n",
       "FD40D72DF2D946621BA1420DAC25990D               2                   2   \n",
       "FF481FA266B3EBE65C2C8A6017EC0985              90                  90   \n",
       "\n",
       "                                  КассоваяСмена  ОператорКод  \n",
       "Карта                                                         \n",
       "0011B8094C552AD81960B56BF2039B98            137          137  \n",
       "00B6E2ADA219D08D4B59EC6B4CF0A583              1            1  \n",
       "00EDC46284AF023A0E6DC510A4319853             13           13  \n",
       "015F8A839E5BE68299F0E329EBD92870             53           53  \n",
       "026FA9180AC8BF5175AEE8826C53D987             66           66  \n",
       "...                                         ...          ...  \n",
       "FB90AEE8F48E89DA21BF0C2A9F87A67F             31           31  \n",
       "FC0072BEFC9BDB27F8058B11FEC0B5D5             49           49  \n",
       "FCAAC394914C90E00A18F956BB15BF4F             22           22  \n",
       "FD40D72DF2D946621BA1420DAC25990D              2            2  \n",
       "FF481FA266B3EBE65C2C8A6017EC0985             90           90  \n",
       "\n",
       "[524 rows x 18 columns]"
      ]
     },
     "execution_count": 129,
     "metadata": {},
     "output_type": "execute_result"
    }
   ],
   "source": [
    "new_d"
   ]
  },
  {
   "cell_type": "code",
   "execution_count": 132,
   "metadata": {},
   "outputs": [
    {
     "data": {
      "text/plain": [
       "40"
      ]
     },
     "execution_count": 132,
     "metadata": {},
     "output_type": "execute_result"
    }
   ],
   "source": [
    "len(set(card_list))"
   ]
  },
  {
   "cell_type": "code",
   "execution_count": null,
   "metadata": {},
   "outputs": [],
   "source": []
  },
  {
   "cell_type": "code",
   "execution_count": 140,
   "metadata": {},
   "outputs": [],
   "source": [
    "new_fraud = fraud_data.groupby('cards').count()"
   ]
  },
  {
   "cell_type": "code",
   "execution_count": 155,
   "metadata": {},
   "outputs": [],
   "source": [
    "new_fraud['all_oper'] = count_list"
   ]
  },
  {
   "cell_type": "code",
   "execution_count": 158,
   "metadata": {},
   "outputs": [],
   "source": [
    "final_data = new_fraud[['is_fraud', 'all_oper']]"
   ]
  },
  {
   "cell_type": "code",
   "execution_count": 161,
   "metadata": {},
   "outputs": [],
   "source": [
    "f = list(final_data.is_fraud)\n",
    "a = list(final_data.all_oper)"
   ]
  },
  {
   "cell_type": "code",
   "execution_count": 165,
   "metadata": {},
   "outputs": [],
   "source": [
    "p = []\n",
    "for i in range(40):\n",
    "    p.append(round((f[i]/a[i])*100,2))\n"
   ]
  },
  {
   "cell_type": "code",
   "execution_count": 168,
   "metadata": {},
   "outputs": [
    {
     "name": "stderr",
     "output_type": "stream",
     "text": [
      "<ipython-input-168-230ac9336809>:1: SettingWithCopyWarning: \n",
      "A value is trying to be set on a copy of a slice from a DataFrame.\n",
      "Try using .loc[row_indexer,col_indexer] = value instead\n",
      "\n",
      "See the caveats in the documentation: https://pandas.pydata.org/pandas-docs/stable/user_guide/indexing.html#returning-a-view-versus-a-copy\n",
      "  final_data['fraud_probability'] = p\n"
     ]
    }
   ],
   "source": [
    "final_data['fraud_probability'] = p"
   ]
  },
  {
   "cell_type": "code",
   "execution_count": 173,
   "metadata": {},
   "outputs": [],
   "source": [
    "final_result = final_data.sort_values('fraud_probability', ascending=False)"
   ]
  },
  {
   "cell_type": "code",
   "execution_count": 174,
   "metadata": {},
   "outputs": [
    {
     "data": {
      "text/html": [
       "<div>\n",
       "<style scoped>\n",
       "    .dataframe tbody tr th:only-of-type {\n",
       "        vertical-align: middle;\n",
       "    }\n",
       "\n",
       "    .dataframe tbody tr th {\n",
       "        vertical-align: top;\n",
       "    }\n",
       "\n",
       "    .dataframe thead th {\n",
       "        text-align: right;\n",
       "    }\n",
       "</style>\n",
       "<table border=\"1\" class=\"dataframe\">\n",
       "  <thead>\n",
       "    <tr style=\"text-align: right;\">\n",
       "      <th></th>\n",
       "      <th>is_fraud</th>\n",
       "      <th>all_oper</th>\n",
       "      <th>fraud_probability</th>\n",
       "    </tr>\n",
       "    <tr>\n",
       "      <th>cards</th>\n",
       "      <th></th>\n",
       "      <th></th>\n",
       "      <th></th>\n",
       "    </tr>\n",
       "  </thead>\n",
       "  <tbody>\n",
       "    <tr>\n",
       "      <th>9AB6AB9D4CEE40224176EEEECAA13451</th>\n",
       "      <td>20</td>\n",
       "      <td>31</td>\n",
       "      <td>64.52</td>\n",
       "    </tr>\n",
       "    <tr>\n",
       "      <th>1B8AA49E71B4FD7A3907448BC2A07E30</th>\n",
       "      <td>20</td>\n",
       "      <td>33</td>\n",
       "      <td>60.61</td>\n",
       "    </tr>\n",
       "    <tr>\n",
       "      <th>4C1C5BA3DCD8CD4108E4921202F7F0E7</th>\n",
       "      <td>28</td>\n",
       "      <td>49</td>\n",
       "      <td>57.14</td>\n",
       "    </tr>\n",
       "    <tr>\n",
       "      <th>6D03CFFBAD774E73FCDDB9547EBD490B</th>\n",
       "      <td>23</td>\n",
       "      <td>50</td>\n",
       "      <td>46.00</td>\n",
       "    </tr>\n",
       "    <tr>\n",
       "      <th>C216042D8E0DAF596FF0E78EF0E28487</th>\n",
       "      <td>12</td>\n",
       "      <td>27</td>\n",
       "      <td>44.44</td>\n",
       "    </tr>\n",
       "    <tr>\n",
       "      <th>1F91429B12A1F1C76423C67B2AC71CBC</th>\n",
       "      <td>19</td>\n",
       "      <td>46</td>\n",
       "      <td>41.30</td>\n",
       "    </tr>\n",
       "    <tr>\n",
       "      <th>921CACF80C765E3EB9B8195933DAA148</th>\n",
       "      <td>17</td>\n",
       "      <td>44</td>\n",
       "      <td>38.64</td>\n",
       "    </tr>\n",
       "    <tr>\n",
       "      <th>0C77616320B5D3B85F43BCD6139181C5</th>\n",
       "      <td>12</td>\n",
       "      <td>33</td>\n",
       "      <td>36.36</td>\n",
       "    </tr>\n",
       "    <tr>\n",
       "      <th>DB1EE0DFEB5E9A2BCA805F8E80806F65</th>\n",
       "      <td>20</td>\n",
       "      <td>57</td>\n",
       "      <td>35.09</td>\n",
       "    </tr>\n",
       "    <tr>\n",
       "      <th>3803A472152F70D760DDCF65ED6E7022</th>\n",
       "      <td>26</td>\n",
       "      <td>77</td>\n",
       "      <td>33.77</td>\n",
       "    </tr>\n",
       "    <tr>\n",
       "      <th>DE12296330E7E59DFA47FA2B1894F2CA</th>\n",
       "      <td>14</td>\n",
       "      <td>44</td>\n",
       "      <td>31.82</td>\n",
       "    </tr>\n",
       "    <tr>\n",
       "      <th>70FC18B573AD0E86CE49415699DA8686</th>\n",
       "      <td>18</td>\n",
       "      <td>92</td>\n",
       "      <td>19.57</td>\n",
       "    </tr>\n",
       "    <tr>\n",
       "      <th>35EA47FAEA5B9DF549024C81E6A5FCA8</th>\n",
       "      <td>8</td>\n",
       "      <td>41</td>\n",
       "      <td>19.51</td>\n",
       "    </tr>\n",
       "    <tr>\n",
       "      <th>D9336B071CB5E6F618B4B9D382AD63F5</th>\n",
       "      <td>10</td>\n",
       "      <td>56</td>\n",
       "      <td>17.86</td>\n",
       "    </tr>\n",
       "    <tr>\n",
       "      <th>A57AC6112D7D93EFD16CC7DC94A95FCC</th>\n",
       "      <td>10</td>\n",
       "      <td>57</td>\n",
       "      <td>17.54</td>\n",
       "    </tr>\n",
       "    <tr>\n",
       "      <th>94E2928D84DA87820A9B5DDE4A1D12C0</th>\n",
       "      <td>7</td>\n",
       "      <td>41</td>\n",
       "      <td>17.07</td>\n",
       "    </tr>\n",
       "    <tr>\n",
       "      <th>AEC8CBF1E727A0806887B9308292C83E</th>\n",
       "      <td>5</td>\n",
       "      <td>33</td>\n",
       "      <td>15.15</td>\n",
       "    </tr>\n",
       "    <tr>\n",
       "      <th>8B20C945E3BC2A376D7B478D5D6EBDCB</th>\n",
       "      <td>3</td>\n",
       "      <td>33</td>\n",
       "      <td>9.09</td>\n",
       "    </tr>\n",
       "    <tr>\n",
       "      <th>D464A532F5EA2C5E67897CB77264A90A</th>\n",
       "      <td>9</td>\n",
       "      <td>100</td>\n",
       "      <td>9.00</td>\n",
       "    </tr>\n",
       "    <tr>\n",
       "      <th>EAA77BE5D715CF896BEB26C0674F7024</th>\n",
       "      <td>8</td>\n",
       "      <td>104</td>\n",
       "      <td>7.69</td>\n",
       "    </tr>\n",
       "    <tr>\n",
       "      <th>632D94C89CA1935EE60837301894C697</th>\n",
       "      <td>2</td>\n",
       "      <td>32</td>\n",
       "      <td>6.25</td>\n",
       "    </tr>\n",
       "    <tr>\n",
       "      <th>A4F2F7669006481C56503A978A8EA8EA</th>\n",
       "      <td>1</td>\n",
       "      <td>17</td>\n",
       "      <td>5.88</td>\n",
       "    </tr>\n",
       "    <tr>\n",
       "      <th>76A4870AA9091FA86741554C08AEFDDC</th>\n",
       "      <td>1</td>\n",
       "      <td>21</td>\n",
       "      <td>4.76</td>\n",
       "    </tr>\n",
       "    <tr>\n",
       "      <th>17BAFB34E388F683CEEF20769C8541EB</th>\n",
       "      <td>3</td>\n",
       "      <td>65</td>\n",
       "      <td>4.62</td>\n",
       "    </tr>\n",
       "    <tr>\n",
       "      <th>25EF8A10AD5433A626C4D26BC7A2170B</th>\n",
       "      <td>2</td>\n",
       "      <td>47</td>\n",
       "      <td>4.26</td>\n",
       "    </tr>\n",
       "    <tr>\n",
       "      <th>23743170E4553CF6EC707D3D3B960CCA</th>\n",
       "      <td>1</td>\n",
       "      <td>24</td>\n",
       "      <td>4.17</td>\n",
       "    </tr>\n",
       "    <tr>\n",
       "      <th>3BF06CF2B565C076EBC750441EDC2CE0</th>\n",
       "      <td>1</td>\n",
       "      <td>26</td>\n",
       "      <td>3.85</td>\n",
       "    </tr>\n",
       "    <tr>\n",
       "      <th>BC2116C7E61C2FCE2B22958A2CEAB539</th>\n",
       "      <td>1</td>\n",
       "      <td>27</td>\n",
       "      <td>3.70</td>\n",
       "    </tr>\n",
       "    <tr>\n",
       "      <th>D84174383562A2A81C1FE294BF3F575C</th>\n",
       "      <td>1</td>\n",
       "      <td>31</td>\n",
       "      <td>3.23</td>\n",
       "    </tr>\n",
       "    <tr>\n",
       "      <th>3D54DCC69D79F5D131BDE7C9BF1A06D8</th>\n",
       "      <td>1</td>\n",
       "      <td>31</td>\n",
       "      <td>3.23</td>\n",
       "    </tr>\n",
       "    <tr>\n",
       "      <th>97B66AD9A7F312A175A6D1FFD89B0F97</th>\n",
       "      <td>1</td>\n",
       "      <td>31</td>\n",
       "      <td>3.23</td>\n",
       "    </tr>\n",
       "    <tr>\n",
       "      <th>86F79E4A4B7E75670AC1642AAD8D7451</th>\n",
       "      <td>1</td>\n",
       "      <td>34</td>\n",
       "      <td>2.94</td>\n",
       "    </tr>\n",
       "    <tr>\n",
       "      <th>23640FBD70036C50BDA029AFA09FB9F4</th>\n",
       "      <td>1</td>\n",
       "      <td>34</td>\n",
       "      <td>2.94</td>\n",
       "    </tr>\n",
       "    <tr>\n",
       "      <th>4AF07B442D446DC0664115960A7BC063</th>\n",
       "      <td>1</td>\n",
       "      <td>38</td>\n",
       "      <td>2.63</td>\n",
       "    </tr>\n",
       "    <tr>\n",
       "      <th>0401A72B85302324BED05E1AFCD810F9</th>\n",
       "      <td>1</td>\n",
       "      <td>39</td>\n",
       "      <td>2.56</td>\n",
       "    </tr>\n",
       "    <tr>\n",
       "      <th>33AF7E21510641B5034FFEFE4073E287</th>\n",
       "      <td>1</td>\n",
       "      <td>40</td>\n",
       "      <td>2.50</td>\n",
       "    </tr>\n",
       "    <tr>\n",
       "      <th>43B4E4544B3C89D0E129C2055EBC8659</th>\n",
       "      <td>1</td>\n",
       "      <td>44</td>\n",
       "      <td>2.27</td>\n",
       "    </tr>\n",
       "    <tr>\n",
       "      <th>F0D588AB5B6A4D3EE87FF65BAB72D08E</th>\n",
       "      <td>1</td>\n",
       "      <td>75</td>\n",
       "      <td>1.33</td>\n",
       "    </tr>\n",
       "    <tr>\n",
       "      <th>C0625C704065CD20448CE5E8A9DD23BD</th>\n",
       "      <td>1</td>\n",
       "      <td>84</td>\n",
       "      <td>1.19</td>\n",
       "    </tr>\n",
       "    <tr>\n",
       "      <th>6145232D6A8CCA283DD28F6BBDDB1957</th>\n",
       "      <td>5</td>\n",
       "      <td>423</td>\n",
       "      <td>1.18</td>\n",
       "    </tr>\n",
       "  </tbody>\n",
       "</table>\n",
       "</div>"
      ],
      "text/plain": [
       "                                  is_fraud  all_oper  fraud_probability\n",
       "cards                                                                  \n",
       "9AB6AB9D4CEE40224176EEEECAA13451        20        31              64.52\n",
       "1B8AA49E71B4FD7A3907448BC2A07E30        20        33              60.61\n",
       "4C1C5BA3DCD8CD4108E4921202F7F0E7        28        49              57.14\n",
       "6D03CFFBAD774E73FCDDB9547EBD490B        23        50              46.00\n",
       "C216042D8E0DAF596FF0E78EF0E28487        12        27              44.44\n",
       "1F91429B12A1F1C76423C67B2AC71CBC        19        46              41.30\n",
       "921CACF80C765E3EB9B8195933DAA148        17        44              38.64\n",
       "0C77616320B5D3B85F43BCD6139181C5        12        33              36.36\n",
       "DB1EE0DFEB5E9A2BCA805F8E80806F65        20        57              35.09\n",
       "3803A472152F70D760DDCF65ED6E7022        26        77              33.77\n",
       "DE12296330E7E59DFA47FA2B1894F2CA        14        44              31.82\n",
       "70FC18B573AD0E86CE49415699DA8686        18        92              19.57\n",
       "35EA47FAEA5B9DF549024C81E6A5FCA8         8        41              19.51\n",
       "D9336B071CB5E6F618B4B9D382AD63F5        10        56              17.86\n",
       "A57AC6112D7D93EFD16CC7DC94A95FCC        10        57              17.54\n",
       "94E2928D84DA87820A9B5DDE4A1D12C0         7        41              17.07\n",
       "AEC8CBF1E727A0806887B9308292C83E         5        33              15.15\n",
       "8B20C945E3BC2A376D7B478D5D6EBDCB         3        33               9.09\n",
       "D464A532F5EA2C5E67897CB77264A90A         9       100               9.00\n",
       "EAA77BE5D715CF896BEB26C0674F7024         8       104               7.69\n",
       "632D94C89CA1935EE60837301894C697         2        32               6.25\n",
       "A4F2F7669006481C56503A978A8EA8EA         1        17               5.88\n",
       "76A4870AA9091FA86741554C08AEFDDC         1        21               4.76\n",
       "17BAFB34E388F683CEEF20769C8541EB         3        65               4.62\n",
       "25EF8A10AD5433A626C4D26BC7A2170B         2        47               4.26\n",
       "23743170E4553CF6EC707D3D3B960CCA         1        24               4.17\n",
       "3BF06CF2B565C076EBC750441EDC2CE0         1        26               3.85\n",
       "BC2116C7E61C2FCE2B22958A2CEAB539         1        27               3.70\n",
       "D84174383562A2A81C1FE294BF3F575C         1        31               3.23\n",
       "3D54DCC69D79F5D131BDE7C9BF1A06D8         1        31               3.23\n",
       "97B66AD9A7F312A175A6D1FFD89B0F97         1        31               3.23\n",
       "86F79E4A4B7E75670AC1642AAD8D7451         1        34               2.94\n",
       "23640FBD70036C50BDA029AFA09FB9F4         1        34               2.94\n",
       "4AF07B442D446DC0664115960A7BC063         1        38               2.63\n",
       "0401A72B85302324BED05E1AFCD810F9         1        39               2.56\n",
       "33AF7E21510641B5034FFEFE4073E287         1        40               2.50\n",
       "43B4E4544B3C89D0E129C2055EBC8659         1        44               2.27\n",
       "F0D588AB5B6A4D3EE87FF65BAB72D08E         1        75               1.33\n",
       "C0625C704065CD20448CE5E8A9DD23BD         1        84               1.19\n",
       "6145232D6A8CCA283DD28F6BBDDB1957         5       423               1.18"
      ]
     },
     "execution_count": 174,
     "metadata": {},
     "output_type": "execute_result"
    }
   ],
   "source": [
    "final_result"
   ]
  },
  {
   "cell_type": "code",
   "execution_count": 175,
   "metadata": {},
   "outputs": [],
   "source": [
    "final_result.to_csv('final_result')"
   ]
  },
  {
   "cell_type": "code",
   "execution_count": null,
   "metadata": {},
   "outputs": [],
   "source": []
  }
 ],
 "metadata": {
  "kernelspec": {
   "display_name": "Python 3",
   "language": "python",
   "name": "python3"
  },
  "language_info": {
   "codemirror_mode": {
    "name": "ipython",
    "version": 3
   },
   "file_extension": ".py",
   "mimetype": "text/x-python",
   "name": "python",
   "nbconvert_exporter": "python",
   "pygments_lexer": "ipython3",
   "version": "3.8.2"
  }
 },
 "nbformat": 4,
 "nbformat_minor": 4
}
