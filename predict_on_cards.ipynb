{
 "cells": [
  {
   "cell_type": "markdown",
   "metadata": {},
   "source": [
    "### Import modules"
   ]
  },
  {
   "cell_type": "code",
   "execution_count": 1,
   "metadata": {},
   "outputs": [],
   "source": [
    "import pandas as pd\n",
    "import os\n",
    "import numpy as np\n",
    "import matplotlib.pyplot as plt"
   ]
  },
  {
   "cell_type": "markdown",
   "metadata": {},
   "source": [
    "### Load dataset"
   ]
  },
  {
   "cell_type": "code",
   "execution_count": 2,
   "metadata": {},
   "outputs": [],
   "source": [
    "# searching files\n",
    "all_files = os.listdir('dataset')"
   ]
  },
  {
   "cell_type": "code",
   "execution_count": 3,
   "metadata": {},
   "outputs": [],
   "source": [
    "# combining info from all files into one dataframe\n",
    "data = None\n",
    "\n",
    "for f in all_files:\n",
    "    data_f = pd.read_csv(f'dataset/{f}', sep=';')\n",
    "    \n",
    "    if data is None:\n",
    "        data = data_f.copy()\n",
    "        continue\n",
    "    \n",
    "    data = data.append(data_f, ignore_index=True)"
   ]
  },
  {
   "cell_type": "markdown",
   "metadata": {},
   "source": [
    "### Data understanding"
   ]
  },
  {
   "cell_type": "code",
   "execution_count": 4,
   "metadata": {},
   "outputs": [
    {
     "data": {
      "text/html": [
       "<div>\n",
       "<style scoped>\n",
       "    .dataframe tbody tr th:only-of-type {\n",
       "        vertical-align: middle;\n",
       "    }\n",
       "\n",
       "    .dataframe tbody tr th {\n",
       "        vertical-align: top;\n",
       "    }\n",
       "\n",
       "    .dataframe thead th {\n",
       "        text-align: right;\n",
       "    }\n",
       "</style>\n",
       "<table border=\"1\" class=\"dataframe\">\n",
       "  <thead>\n",
       "    <tr style=\"text-align: right;\">\n",
       "      <th></th>\n",
       "      <th>ДатаЧека</th>\n",
       "      <th>НомерЧека</th>\n",
       "      <th>ВидОперации</th>\n",
       "      <th>АЗСКод</th>\n",
       "      <th>ВидНоменклатуры</th>\n",
       "      <th>Карта</th>\n",
       "      <th>ОсновнаяКарта</th>\n",
       "      <th>НомерСтроки</th>\n",
       "      <th>НоменклатураКод</th>\n",
       "      <th>Количество</th>\n",
       "      <th>Цена</th>\n",
       "      <th>Сумма</th>\n",
       "      <th>Бонусы</th>\n",
       "      <th>СуммаСкидки</th>\n",
       "      <th>УниверсальнаяАкцияКод</th>\n",
       "      <th>СписаноБонусов</th>\n",
       "      <th>СуммаСкидкиДисконт</th>\n",
       "      <th>КассоваяСмена</th>\n",
       "      <th>ОператорКод</th>\n",
       "      <th>Unnamed: 19</th>\n",
       "    </tr>\n",
       "  </thead>\n",
       "  <tbody>\n",
       "    <tr>\n",
       "      <th>0</th>\n",
       "      <td>16.12.2019 00:09:30</td>\n",
       "      <td>26171000011408</td>\n",
       "      <td>Начисление</td>\n",
       "      <td>2617</td>\n",
       "      <td>Нефтепродукты</td>\n",
       "      <td>F9CF1DC89C51CEC7AADC699E41D3B5FA</td>\n",
       "      <td>NaN</td>\n",
       "      <td>1</td>\n",
       "      <td>145236</td>\n",
       "      <td>10,35</td>\n",
       "      <td>28,99</td>\n",
       "      <td>300</td>\n",
       "      <td>1 552</td>\n",
       "      <td>0,05</td>\n",
       "      <td>NaN</td>\n",
       "      <td>0</td>\n",
       "      <td>0</td>\n",
       "      <td>af656c5c-1f86-11ea-931b-00012eb1adb5</td>\n",
       "      <td>Федів Ірина Василівна</td>\n",
       "      <td>NaN</td>\n",
       "    </tr>\n",
       "    <tr>\n",
       "      <th>1</th>\n",
       "      <td>16.12.2019 00:09:34</td>\n",
       "      <td>37151000009864</td>\n",
       "      <td>Начисление</td>\n",
       "      <td>3715</td>\n",
       "      <td>Сопутка</td>\n",
       "      <td>47A4505237411EDFCF7FB7352D871839</td>\n",
       "      <td>NaN</td>\n",
       "      <td>1</td>\n",
       "      <td>136788</td>\n",
       "      <td>2</td>\n",
       "      <td>37</td>\n",
       "      <td>74</td>\n",
       "      <td>74</td>\n",
       "      <td>0</td>\n",
       "      <td>NaN</td>\n",
       "      <td>0</td>\n",
       "      <td>0</td>\n",
       "      <td>1b2cac5c-1f87-11ea-b05b-00012eb1a3ee</td>\n",
       "      <td>Буднік Олексій Геннадійович</td>\n",
       "      <td>NaN</td>\n",
       "    </tr>\n",
       "    <tr>\n",
       "      <th>2</th>\n",
       "      <td>16.12.2019 00:11:14</td>\n",
       "      <td>35081000014146</td>\n",
       "      <td>Начисление</td>\n",
       "      <td>3508</td>\n",
       "      <td>Сопутка</td>\n",
       "      <td>7BE05F497977C0DE8903D25EBC664D3A</td>\n",
       "      <td>NaN</td>\n",
       "      <td>1</td>\n",
       "      <td>210952</td>\n",
       "      <td>1</td>\n",
       "      <td>48</td>\n",
       "      <td>48</td>\n",
       "      <td>0</td>\n",
       "      <td>0</td>\n",
       "      <td>NaN</td>\n",
       "      <td>0</td>\n",
       "      <td>0</td>\n",
       "      <td>a2937477-1f86-11ea-9b3a-00012eb19bcf</td>\n",
       "      <td>Турусова Анастасія Володимирівна</td>\n",
       "      <td>NaN</td>\n",
       "    </tr>\n",
       "    <tr>\n",
       "      <th>3</th>\n",
       "      <td>16.12.2019 00:11:14</td>\n",
       "      <td>35081000014146</td>\n",
       "      <td>Начисление</td>\n",
       "      <td>3508</td>\n",
       "      <td>Сопутка</td>\n",
       "      <td>7BE05F497977C0DE8903D25EBC664D3A</td>\n",
       "      <td>NaN</td>\n",
       "      <td>2</td>\n",
       "      <td>232064</td>\n",
       "      <td>1</td>\n",
       "      <td>26</td>\n",
       "      <td>26</td>\n",
       "      <td>0</td>\n",
       "      <td>0</td>\n",
       "      <td>NaN</td>\n",
       "      <td>0</td>\n",
       "      <td>0</td>\n",
       "      <td>a2937477-1f86-11ea-9b3a-00012eb19bcf</td>\n",
       "      <td>Турусова Анастасія Володимирівна</td>\n",
       "      <td>NaN</td>\n",
       "    </tr>\n",
       "    <tr>\n",
       "      <th>4</th>\n",
       "      <td>16.12.2019 00:11:14</td>\n",
       "      <td>35081000014146</td>\n",
       "      <td>Начисление</td>\n",
       "      <td>3508</td>\n",
       "      <td>Сопутка</td>\n",
       "      <td>7BE05F497977C0DE8903D25EBC664D3A</td>\n",
       "      <td>NaN</td>\n",
       "      <td>3</td>\n",
       "      <td>232075</td>\n",
       "      <td>1</td>\n",
       "      <td>28</td>\n",
       "      <td>28</td>\n",
       "      <td>0</td>\n",
       "      <td>0</td>\n",
       "      <td>NaN</td>\n",
       "      <td>0</td>\n",
       "      <td>0</td>\n",
       "      <td>a2937477-1f86-11ea-9b3a-00012eb19bcf</td>\n",
       "      <td>Турусова Анастасія Володимирівна</td>\n",
       "      <td>NaN</td>\n",
       "    </tr>\n",
       "  </tbody>\n",
       "</table>\n",
       "</div>"
      ],
      "text/plain": [
       "              ДатаЧека       НомерЧека ВидОперации  АЗСКод ВидНоменклатуры  \\\n",
       "0  16.12.2019 00:09:30  26171000011408  Начисление    2617   Нефтепродукты   \n",
       "1  16.12.2019 00:09:34  37151000009864  Начисление    3715         Сопутка   \n",
       "2  16.12.2019 00:11:14  35081000014146  Начисление    3508         Сопутка   \n",
       "3  16.12.2019 00:11:14  35081000014146  Начисление    3508         Сопутка   \n",
       "4  16.12.2019 00:11:14  35081000014146  Начисление    3508         Сопутка   \n",
       "\n",
       "                              Карта ОсновнаяКарта  НомерСтроки  \\\n",
       "0  F9CF1DC89C51CEC7AADC699E41D3B5FA           NaN            1   \n",
       "1  47A4505237411EDFCF7FB7352D871839           NaN            1   \n",
       "2  7BE05F497977C0DE8903D25EBC664D3A           NaN            1   \n",
       "3  7BE05F497977C0DE8903D25EBC664D3A           NaN            2   \n",
       "4  7BE05F497977C0DE8903D25EBC664D3A           NaN            3   \n",
       "\n",
       "   НоменклатураКод Количество   Цена Сумма Бонусы СуммаСкидки  \\\n",
       "0           145236      10,35  28,99   300  1 552        0,05   \n",
       "1           136788          2     37    74     74           0   \n",
       "2           210952          1     48    48      0           0   \n",
       "3           232064          1     26    26      0           0   \n",
       "4           232075          1     28    28      0           0   \n",
       "\n",
       "   УниверсальнаяАкцияКод СписаноБонусов  СуммаСкидкиДисконт  \\\n",
       "0                    NaN              0                   0   \n",
       "1                    NaN              0                   0   \n",
       "2                    NaN              0                   0   \n",
       "3                    NaN              0                   0   \n",
       "4                    NaN              0                   0   \n",
       "\n",
       "                          КассоваяСмена                       ОператорКод  \\\n",
       "0  af656c5c-1f86-11ea-931b-00012eb1adb5             Федів Ірина Василівна   \n",
       "1  1b2cac5c-1f87-11ea-b05b-00012eb1a3ee       Буднік Олексій Геннадійович   \n",
       "2  a2937477-1f86-11ea-9b3a-00012eb19bcf  Турусова Анастасія Володимирівна   \n",
       "3  a2937477-1f86-11ea-9b3a-00012eb19bcf  Турусова Анастасія Володимирівна   \n",
       "4  a2937477-1f86-11ea-9b3a-00012eb19bcf  Турусова Анастасія Володимирівна   \n",
       "\n",
       "   Unnamed: 19  \n",
       "0          NaN  \n",
       "1          NaN  \n",
       "2          NaN  \n",
       "3          NaN  \n",
       "4          NaN  "
      ]
     },
     "execution_count": 4,
     "metadata": {},
     "output_type": "execute_result"
    }
   ],
   "source": [
    "# checking first 5 rows\n",
    "data.head()"
   ]
  },
  {
   "cell_type": "code",
   "execution_count": 5,
   "metadata": {},
   "outputs": [
    {
     "name": "stdout",
     "output_type": "stream",
     "text": [
      "<class 'pandas.core.frame.DataFrame'>\n",
      "RangeIndex: 91903 entries, 0 to 91902\n",
      "Data columns (total 20 columns):\n",
      " #   Column                 Non-Null Count  Dtype  \n",
      "---  ------                 --------------  -----  \n",
      " 0   ДатаЧека               91903 non-null  object \n",
      " 1   НомерЧека              91903 non-null  int64  \n",
      " 2   ВидОперации            91903 non-null  object \n",
      " 3   АЗСКод                 91903 non-null  int64  \n",
      " 4   ВидНоменклатуры        91903 non-null  object \n",
      " 5   Карта                  91901 non-null  object \n",
      " 6   ОсновнаяКарта          127 non-null    object \n",
      " 7   НомерСтроки            91903 non-null  int64  \n",
      " 8   НоменклатураКод        91903 non-null  int64  \n",
      " 9   Количество             91903 non-null  object \n",
      " 10  Цена                   91903 non-null  object \n",
      " 11  Сумма                  91903 non-null  object \n",
      " 12  Бонусы                 91903 non-null  object \n",
      " 13  СуммаСкидки            91903 non-null  object \n",
      " 14  УниверсальнаяАкцияКод  11445 non-null  float64\n",
      " 15  СписаноБонусов         91903 non-null  object \n",
      " 16  СуммаСкидкиДисконт     91903 non-null  int64  \n",
      " 17  КассоваяСмена          91903 non-null  object \n",
      " 18  ОператорКод            91873 non-null  object \n",
      " 19  Unnamed: 19            0 non-null      float64\n",
      "dtypes: float64(2), int64(5), object(13)\n",
      "memory usage: 14.0+ MB\n"
     ]
    }
   ],
   "source": [
    "# info about dataframe\n",
    "data.info()"
   ]
  },
  {
   "cell_type": "code",
   "execution_count": null,
   "metadata": {},
   "outputs": [],
   "source": [
    "# adding labels"
   ]
  },
  {
   "cell_type": "code",
   "execution_count": 6,
   "metadata": {},
   "outputs": [],
   "source": [
    "data['label'] = 0"
   ]
  },
  {
   "cell_type": "code",
   "execution_count": 7,
   "metadata": {},
   "outputs": [],
   "source": [
    "labels = pd.read_csv('other_data/card_69.csv').values"
   ]
  },
  {
   "cell_type": "code",
   "execution_count": 8,
   "metadata": {},
   "outputs": [],
   "source": [
    "for i in labels:\n",
    "    data.loc[data['Карта'] == i[0], 'label'] = 1"
   ]
  },
  {
   "cell_type": "code",
   "execution_count": 9,
   "metadata": {},
   "outputs": [],
   "source": [
    "fraud_list = []\n",
    "for i in labels:\n",
    "    fraud_list.append(i[0])"
   ]
  },
  {
   "cell_type": "code",
   "execution_count": null,
   "metadata": {},
   "outputs": [],
   "source": [
    "# card data"
   ]
  },
  {
   "cell_type": "code",
   "execution_count": null,
   "metadata": {},
   "outputs": [],
   "source": []
  },
  {
   "cell_type": "code",
   "execution_count": null,
   "metadata": {},
   "outputs": [],
   "source": [
    "# card_data = data.groupby('Карта').count()"
   ]
  },
  {
   "cell_type": "code",
   "execution_count": null,
   "metadata": {},
   "outputs": [],
   "source": [
    "# card_data = card_data.rename(columns={'ДатаЧека':'operations_per_30days'})"
   ]
  },
  {
   "cell_type": "code",
   "execution_count": null,
   "metadata": {},
   "outputs": [],
   "source": [
    "# card_data['is_fraud'] = 0"
   ]
  },
  {
   "cell_type": "code",
   "execution_count": null,
   "metadata": {},
   "outputs": [],
   "source": [
    "# card_data = card_data[['operations_per_30days', 'is_fraud']]"
   ]
  },
  {
   "cell_type": "code",
   "execution_count": null,
   "metadata": {},
   "outputs": [],
   "source": [
    "# for i, row in card_data.iterrows():\n",
    "#     if i in fraud_list:\n",
    "#         row['is_fraud'] = 1"
   ]
  },
  {
   "cell_type": "code",
   "execution_count": null,
   "metadata": {},
   "outputs": [],
   "source": []
  },
  {
   "cell_type": "code",
   "execution_count": null,
   "metadata": {},
   "outputs": [],
   "source": []
  },
  {
   "cell_type": "code",
   "execution_count": 10,
   "metadata": {},
   "outputs": [],
   "source": [
    "# converting string values to float\n",
    "data['Количество'] = data['Количество'].apply(lambda x:float(x.replace('\\xa0', '').replace(',', '.')))\n",
    "data['Цена'] = data['Цена'].apply(lambda x:float(x.replace('\\xa0', '').replace(',', '.')))\n",
    "data['Сумма'] = data['Сумма'].apply(lambda x:float(x.replace('\\xa0', '').replace(',', '.')))\n",
    "data['Бонусы'] = data['Бонусы'].apply(lambda x:float(x.replace('\\xa0', '').replace(',', '.')))\n",
    "data['СуммаСкидки'] = data['СуммаСкидки'].apply(lambda x:float(x.replace('\\xa0', '').replace(',', '.')))\n",
    "data['СписаноБонусов'] = data['СписаноБонусов'].apply(lambda x:float(x.replace('\\xa0', '').replace(',', '.')))"
   ]
  },
  {
   "cell_type": "markdown",
   "metadata": {},
   "source": [
    "### Preparing and filtering data"
   ]
  },
  {
   "cell_type": "code",
   "execution_count": 11,
   "metadata": {},
   "outputs": [],
   "source": [
    "# filtering rows\n",
    "data = data[data['ВидОперации']!='Начисление возврат']\n",
    "data = data[data['ВидОперации']!='Начисление оплата возврат']"
   ]
  },
  {
   "cell_type": "code",
   "execution_count": 12,
   "metadata": {},
   "outputs": [],
   "source": [
    "# filtering rows\n",
    "data = data[data['ВидНоменклатуры']=='Нефтепродукты']\n",
    "\n",
    "# removing the column\n",
    "# data = data.drop('ВидНоменклатуры', axis=1)"
   ]
  },
  {
   "cell_type": "code",
   "execution_count": 13,
   "metadata": {},
   "outputs": [],
   "source": [
    "# remove other discounts\n",
    "data['УниверсальнаяАкцияКод'] = data['УниверсальнаяАкцияКод'].fillna(0)\n",
    "data = data[data['УниверсальнаяАкцияКод'] < 300]"
   ]
  },
  {
   "cell_type": "code",
   "execution_count": 14,
   "metadata": {},
   "outputs": [],
   "source": [
    "# remove cards with more than 1 station\n",
    "many_st = []\n",
    "for i in set(data['Карта'].values):\n",
    "    if len(set(data.loc[data['Карта']==i]['АЗСКод'].values)) > 1: \n",
    "        many_st.append(i)\n",
    "        \n",
    "for j in many_st:\n",
    "    data = data[data['Карта'] != j]"
   ]
  },
  {
   "cell_type": "code",
   "execution_count": 16,
   "metadata": {},
   "outputs": [],
   "source": [
    "# remove cards with less than 5 operations\n",
    "card_data_lines = data.groupby('Карта').count()\n",
    "delete_list = card_data_lines[card_data_lines['ДатаЧека']<5].index\n",
    "for i in delete_list:\n",
    "    data = data[data['Карта'] != i]"
   ]
  },
  {
   "cell_type": "code",
   "execution_count": null,
   "metadata": {},
   "outputs": [],
   "source": [
    "# leave only date withou time\n",
    "data['ДатаЧека'] = data['ДатаЧека'].apply(lambda x: x.split(' ')[0])"
   ]
  },
  {
   "cell_type": "code",
   "execution_count": null,
   "metadata": {},
   "outputs": [],
   "source": [
    "#TODO:\n",
    "# date ?\n",
    "# operators"
   ]
  },
  {
   "cell_type": "code",
   "execution_count": 19,
   "metadata": {},
   "outputs": [],
   "source": [
    "card_data = data.groupby('Карта').count()"
   ]
  },
  {
   "cell_type": "code",
   "execution_count": 21,
   "metadata": {},
   "outputs": [
    {
     "data": {
      "text/html": [
       "<div>\n",
       "<style scoped>\n",
       "    .dataframe tbody tr th:only-of-type {\n",
       "        vertical-align: middle;\n",
       "    }\n",
       "\n",
       "    .dataframe tbody tr th {\n",
       "        vertical-align: top;\n",
       "    }\n",
       "\n",
       "    .dataframe thead th {\n",
       "        text-align: right;\n",
       "    }\n",
       "</style>\n",
       "<table border=\"1\" class=\"dataframe\">\n",
       "  <thead>\n",
       "    <tr style=\"text-align: right;\">\n",
       "      <th></th>\n",
       "      <th>ДатаЧека</th>\n",
       "      <th>НомерЧека</th>\n",
       "      <th>ВидОперации</th>\n",
       "      <th>АЗСКод</th>\n",
       "      <th>ВидНоменклатуры</th>\n",
       "      <th>ОсновнаяКарта</th>\n",
       "      <th>НомерСтроки</th>\n",
       "      <th>НоменклатураКод</th>\n",
       "      <th>Количество</th>\n",
       "      <th>Цена</th>\n",
       "      <th>Сумма</th>\n",
       "      <th>Бонусы</th>\n",
       "      <th>СуммаСкидки</th>\n",
       "      <th>УниверсальнаяАкцияКод</th>\n",
       "      <th>СписаноБонусов</th>\n",
       "      <th>СуммаСкидкиДисконт</th>\n",
       "      <th>КассоваяСмена</th>\n",
       "      <th>ОператорКод</th>\n",
       "      <th>Unnamed: 19</th>\n",
       "      <th>label</th>\n",
       "    </tr>\n",
       "    <tr>\n",
       "      <th>Карта</th>\n",
       "      <th></th>\n",
       "      <th></th>\n",
       "      <th></th>\n",
       "      <th></th>\n",
       "      <th></th>\n",
       "      <th></th>\n",
       "      <th></th>\n",
       "      <th></th>\n",
       "      <th></th>\n",
       "      <th></th>\n",
       "      <th></th>\n",
       "      <th></th>\n",
       "      <th></th>\n",
       "      <th></th>\n",
       "      <th></th>\n",
       "      <th></th>\n",
       "      <th></th>\n",
       "      <th></th>\n",
       "      <th></th>\n",
       "      <th></th>\n",
       "    </tr>\n",
       "  </thead>\n",
       "  <tbody>\n",
       "    <tr>\n",
       "      <th>002043206DC69131FC6444B0880F2D07</th>\n",
       "      <td>6</td>\n",
       "      <td>6</td>\n",
       "      <td>6</td>\n",
       "      <td>6</td>\n",
       "      <td>6</td>\n",
       "      <td>0</td>\n",
       "      <td>6</td>\n",
       "      <td>6</td>\n",
       "      <td>6</td>\n",
       "      <td>6</td>\n",
       "      <td>6</td>\n",
       "      <td>6</td>\n",
       "      <td>6</td>\n",
       "      <td>6</td>\n",
       "      <td>6</td>\n",
       "      <td>6</td>\n",
       "      <td>6</td>\n",
       "      <td>6</td>\n",
       "      <td>0</td>\n",
       "      <td>6</td>\n",
       "    </tr>\n",
       "    <tr>\n",
       "      <th>0049F1FFC58BD9977F50E56C71D5536B</th>\n",
       "      <td>12</td>\n",
       "      <td>12</td>\n",
       "      <td>12</td>\n",
       "      <td>12</td>\n",
       "      <td>12</td>\n",
       "      <td>0</td>\n",
       "      <td>12</td>\n",
       "      <td>12</td>\n",
       "      <td>12</td>\n",
       "      <td>12</td>\n",
       "      <td>12</td>\n",
       "      <td>12</td>\n",
       "      <td>12</td>\n",
       "      <td>12</td>\n",
       "      <td>12</td>\n",
       "      <td>12</td>\n",
       "      <td>12</td>\n",
       "      <td>12</td>\n",
       "      <td>0</td>\n",
       "      <td>12</td>\n",
       "    </tr>\n",
       "    <tr>\n",
       "      <th>005595BFFC7222DBB557E59A3872E56D</th>\n",
       "      <td>7</td>\n",
       "      <td>7</td>\n",
       "      <td>7</td>\n",
       "      <td>7</td>\n",
       "      <td>7</td>\n",
       "      <td>0</td>\n",
       "      <td>7</td>\n",
       "      <td>7</td>\n",
       "      <td>7</td>\n",
       "      <td>7</td>\n",
       "      <td>7</td>\n",
       "      <td>7</td>\n",
       "      <td>7</td>\n",
       "      <td>7</td>\n",
       "      <td>7</td>\n",
       "      <td>7</td>\n",
       "      <td>7</td>\n",
       "      <td>7</td>\n",
       "      <td>0</td>\n",
       "      <td>7</td>\n",
       "    </tr>\n",
       "    <tr>\n",
       "      <th>00DC9FCD81231002E2015CF04A2B01C2</th>\n",
       "      <td>11</td>\n",
       "      <td>11</td>\n",
       "      <td>11</td>\n",
       "      <td>11</td>\n",
       "      <td>11</td>\n",
       "      <td>0</td>\n",
       "      <td>11</td>\n",
       "      <td>11</td>\n",
       "      <td>11</td>\n",
       "      <td>11</td>\n",
       "      <td>11</td>\n",
       "      <td>11</td>\n",
       "      <td>11</td>\n",
       "      <td>11</td>\n",
       "      <td>11</td>\n",
       "      <td>11</td>\n",
       "      <td>11</td>\n",
       "      <td>11</td>\n",
       "      <td>0</td>\n",
       "      <td>11</td>\n",
       "    </tr>\n",
       "    <tr>\n",
       "      <th>00EB869662094C3C148EAEB8672D2BB7</th>\n",
       "      <td>8</td>\n",
       "      <td>8</td>\n",
       "      <td>8</td>\n",
       "      <td>8</td>\n",
       "      <td>8</td>\n",
       "      <td>0</td>\n",
       "      <td>8</td>\n",
       "      <td>8</td>\n",
       "      <td>8</td>\n",
       "      <td>8</td>\n",
       "      <td>8</td>\n",
       "      <td>8</td>\n",
       "      <td>8</td>\n",
       "      <td>8</td>\n",
       "      <td>8</td>\n",
       "      <td>8</td>\n",
       "      <td>8</td>\n",
       "      <td>8</td>\n",
       "      <td>0</td>\n",
       "      <td>8</td>\n",
       "    </tr>\n",
       "    <tr>\n",
       "      <th>...</th>\n",
       "      <td>...</td>\n",
       "      <td>...</td>\n",
       "      <td>...</td>\n",
       "      <td>...</td>\n",
       "      <td>...</td>\n",
       "      <td>...</td>\n",
       "      <td>...</td>\n",
       "      <td>...</td>\n",
       "      <td>...</td>\n",
       "      <td>...</td>\n",
       "      <td>...</td>\n",
       "      <td>...</td>\n",
       "      <td>...</td>\n",
       "      <td>...</td>\n",
       "      <td>...</td>\n",
       "      <td>...</td>\n",
       "      <td>...</td>\n",
       "      <td>...</td>\n",
       "      <td>...</td>\n",
       "      <td>...</td>\n",
       "    </tr>\n",
       "    <tr>\n",
       "      <th>FF88E8952CBA6FF330B9DF3F6CA6F2DA</th>\n",
       "      <td>5</td>\n",
       "      <td>5</td>\n",
       "      <td>5</td>\n",
       "      <td>5</td>\n",
       "      <td>5</td>\n",
       "      <td>0</td>\n",
       "      <td>5</td>\n",
       "      <td>5</td>\n",
       "      <td>5</td>\n",
       "      <td>5</td>\n",
       "      <td>5</td>\n",
       "      <td>5</td>\n",
       "      <td>5</td>\n",
       "      <td>5</td>\n",
       "      <td>5</td>\n",
       "      <td>5</td>\n",
       "      <td>5</td>\n",
       "      <td>5</td>\n",
       "      <td>0</td>\n",
       "      <td>5</td>\n",
       "    </tr>\n",
       "    <tr>\n",
       "      <th>FFB1A367E4B62FB268767E712E404986</th>\n",
       "      <td>5</td>\n",
       "      <td>5</td>\n",
       "      <td>5</td>\n",
       "      <td>5</td>\n",
       "      <td>5</td>\n",
       "      <td>0</td>\n",
       "      <td>5</td>\n",
       "      <td>5</td>\n",
       "      <td>5</td>\n",
       "      <td>5</td>\n",
       "      <td>5</td>\n",
       "      <td>5</td>\n",
       "      <td>5</td>\n",
       "      <td>5</td>\n",
       "      <td>5</td>\n",
       "      <td>5</td>\n",
       "      <td>5</td>\n",
       "      <td>5</td>\n",
       "      <td>0</td>\n",
       "      <td>5</td>\n",
       "    </tr>\n",
       "    <tr>\n",
       "      <th>FFD689128D88650F6820A54E3604DD09</th>\n",
       "      <td>5</td>\n",
       "      <td>5</td>\n",
       "      <td>5</td>\n",
       "      <td>5</td>\n",
       "      <td>5</td>\n",
       "      <td>0</td>\n",
       "      <td>5</td>\n",
       "      <td>5</td>\n",
       "      <td>5</td>\n",
       "      <td>5</td>\n",
       "      <td>5</td>\n",
       "      <td>5</td>\n",
       "      <td>5</td>\n",
       "      <td>5</td>\n",
       "      <td>5</td>\n",
       "      <td>5</td>\n",
       "      <td>5</td>\n",
       "      <td>5</td>\n",
       "      <td>0</td>\n",
       "      <td>5</td>\n",
       "    </tr>\n",
       "    <tr>\n",
       "      <th>FFD8567FF1048ABD2B486C2D08FE3B34</th>\n",
       "      <td>9</td>\n",
       "      <td>9</td>\n",
       "      <td>9</td>\n",
       "      <td>9</td>\n",
       "      <td>9</td>\n",
       "      <td>0</td>\n",
       "      <td>9</td>\n",
       "      <td>9</td>\n",
       "      <td>9</td>\n",
       "      <td>9</td>\n",
       "      <td>9</td>\n",
       "      <td>9</td>\n",
       "      <td>9</td>\n",
       "      <td>9</td>\n",
       "      <td>9</td>\n",
       "      <td>9</td>\n",
       "      <td>9</td>\n",
       "      <td>9</td>\n",
       "      <td>0</td>\n",
       "      <td>9</td>\n",
       "    </tr>\n",
       "    <tr>\n",
       "      <th>FFDDE5951E14CA31FA92F14FDF88CFB1</th>\n",
       "      <td>8</td>\n",
       "      <td>8</td>\n",
       "      <td>8</td>\n",
       "      <td>8</td>\n",
       "      <td>8</td>\n",
       "      <td>0</td>\n",
       "      <td>8</td>\n",
       "      <td>8</td>\n",
       "      <td>8</td>\n",
       "      <td>8</td>\n",
       "      <td>8</td>\n",
       "      <td>8</td>\n",
       "      <td>8</td>\n",
       "      <td>8</td>\n",
       "      <td>8</td>\n",
       "      <td>8</td>\n",
       "      <td>8</td>\n",
       "      <td>8</td>\n",
       "      <td>0</td>\n",
       "      <td>8</td>\n",
       "    </tr>\n",
       "  </tbody>\n",
       "</table>\n",
       "<p>1920 rows × 20 columns</p>\n",
       "</div>"
      ],
      "text/plain": [
       "                                  ДатаЧека  НомерЧека  ВидОперации  АЗСКод  \\\n",
       "Карта                                                                        \n",
       "002043206DC69131FC6444B0880F2D07         6          6            6       6   \n",
       "0049F1FFC58BD9977F50E56C71D5536B        12         12           12      12   \n",
       "005595BFFC7222DBB557E59A3872E56D         7          7            7       7   \n",
       "00DC9FCD81231002E2015CF04A2B01C2        11         11           11      11   \n",
       "00EB869662094C3C148EAEB8672D2BB7         8          8            8       8   \n",
       "...                                    ...        ...          ...     ...   \n",
       "FF88E8952CBA6FF330B9DF3F6CA6F2DA         5          5            5       5   \n",
       "FFB1A367E4B62FB268767E712E404986         5          5            5       5   \n",
       "FFD689128D88650F6820A54E3604DD09         5          5            5       5   \n",
       "FFD8567FF1048ABD2B486C2D08FE3B34         9          9            9       9   \n",
       "FFDDE5951E14CA31FA92F14FDF88CFB1         8          8            8       8   \n",
       "\n",
       "                                  ВидНоменклатуры  ОсновнаяКарта  НомерСтроки  \\\n",
       "Карта                                                                           \n",
       "002043206DC69131FC6444B0880F2D07                6              0            6   \n",
       "0049F1FFC58BD9977F50E56C71D5536B               12              0           12   \n",
       "005595BFFC7222DBB557E59A3872E56D                7              0            7   \n",
       "00DC9FCD81231002E2015CF04A2B01C2               11              0           11   \n",
       "00EB869662094C3C148EAEB8672D2BB7                8              0            8   \n",
       "...                                           ...            ...          ...   \n",
       "FF88E8952CBA6FF330B9DF3F6CA6F2DA                5              0            5   \n",
       "FFB1A367E4B62FB268767E712E404986                5              0            5   \n",
       "FFD689128D88650F6820A54E3604DD09                5              0            5   \n",
       "FFD8567FF1048ABD2B486C2D08FE3B34                9              0            9   \n",
       "FFDDE5951E14CA31FA92F14FDF88CFB1                8              0            8   \n",
       "\n",
       "                                  НоменклатураКод  Количество  Цена  Сумма  \\\n",
       "Карта                                                                        \n",
       "002043206DC69131FC6444B0880F2D07                6           6     6      6   \n",
       "0049F1FFC58BD9977F50E56C71D5536B               12          12    12     12   \n",
       "005595BFFC7222DBB557E59A3872E56D                7           7     7      7   \n",
       "00DC9FCD81231002E2015CF04A2B01C2               11          11    11     11   \n",
       "00EB869662094C3C148EAEB8672D2BB7                8           8     8      8   \n",
       "...                                           ...         ...   ...    ...   \n",
       "FF88E8952CBA6FF330B9DF3F6CA6F2DA                5           5     5      5   \n",
       "FFB1A367E4B62FB268767E712E404986                5           5     5      5   \n",
       "FFD689128D88650F6820A54E3604DD09                5           5     5      5   \n",
       "FFD8567FF1048ABD2B486C2D08FE3B34                9           9     9      9   \n",
       "FFDDE5951E14CA31FA92F14FDF88CFB1                8           8     8      8   \n",
       "\n",
       "                                  Бонусы  СуммаСкидки  УниверсальнаяАкцияКод  \\\n",
       "Карта                                                                          \n",
       "002043206DC69131FC6444B0880F2D07       6            6                      6   \n",
       "0049F1FFC58BD9977F50E56C71D5536B      12           12                     12   \n",
       "005595BFFC7222DBB557E59A3872E56D       7            7                      7   \n",
       "00DC9FCD81231002E2015CF04A2B01C2      11           11                     11   \n",
       "00EB869662094C3C148EAEB8672D2BB7       8            8                      8   \n",
       "...                                  ...          ...                    ...   \n",
       "FF88E8952CBA6FF330B9DF3F6CA6F2DA       5            5                      5   \n",
       "FFB1A367E4B62FB268767E712E404986       5            5                      5   \n",
       "FFD689128D88650F6820A54E3604DD09       5            5                      5   \n",
       "FFD8567FF1048ABD2B486C2D08FE3B34       9            9                      9   \n",
       "FFDDE5951E14CA31FA92F14FDF88CFB1       8            8                      8   \n",
       "\n",
       "                                  СписаноБонусов  СуммаСкидкиДисконт  \\\n",
       "Карта                                                                  \n",
       "002043206DC69131FC6444B0880F2D07               6                   6   \n",
       "0049F1FFC58BD9977F50E56C71D5536B              12                  12   \n",
       "005595BFFC7222DBB557E59A3872E56D               7                   7   \n",
       "00DC9FCD81231002E2015CF04A2B01C2              11                  11   \n",
       "00EB869662094C3C148EAEB8672D2BB7               8                   8   \n",
       "...                                          ...                 ...   \n",
       "FF88E8952CBA6FF330B9DF3F6CA6F2DA               5                   5   \n",
       "FFB1A367E4B62FB268767E712E404986               5                   5   \n",
       "FFD689128D88650F6820A54E3604DD09               5                   5   \n",
       "FFD8567FF1048ABD2B486C2D08FE3B34               9                   9   \n",
       "FFDDE5951E14CA31FA92F14FDF88CFB1               8                   8   \n",
       "\n",
       "                                  КассоваяСмена  ОператорКод  Unnamed: 19  \\\n",
       "Карта                                                                       \n",
       "002043206DC69131FC6444B0880F2D07              6            6            0   \n",
       "0049F1FFC58BD9977F50E56C71D5536B             12           12            0   \n",
       "005595BFFC7222DBB557E59A3872E56D              7            7            0   \n",
       "00DC9FCD81231002E2015CF04A2B01C2             11           11            0   \n",
       "00EB869662094C3C148EAEB8672D2BB7              8            8            0   \n",
       "...                                         ...          ...          ...   \n",
       "FF88E8952CBA6FF330B9DF3F6CA6F2DA              5            5            0   \n",
       "FFB1A367E4B62FB268767E712E404986              5            5            0   \n",
       "FFD689128D88650F6820A54E3604DD09              5            5            0   \n",
       "FFD8567FF1048ABD2B486C2D08FE3B34              9            9            0   \n",
       "FFDDE5951E14CA31FA92F14FDF88CFB1              8            8            0   \n",
       "\n",
       "                                  label  \n",
       "Карта                                    \n",
       "002043206DC69131FC6444B0880F2D07      6  \n",
       "0049F1FFC58BD9977F50E56C71D5536B     12  \n",
       "005595BFFC7222DBB557E59A3872E56D      7  \n",
       "00DC9FCD81231002E2015CF04A2B01C2     11  \n",
       "00EB869662094C3C148EAEB8672D2BB7      8  \n",
       "...                                 ...  \n",
       "FF88E8952CBA6FF330B9DF3F6CA6F2DA      5  \n",
       "FFB1A367E4B62FB268767E712E404986      5  \n",
       "FFD689128D88650F6820A54E3604DD09      5  \n",
       "FFD8567FF1048ABD2B486C2D08FE3B34      9  \n",
       "FFDDE5951E14CA31FA92F14FDF88CFB1      8  \n",
       "\n",
       "[1920 rows x 20 columns]"
      ]
     },
     "execution_count": 21,
     "metadata": {},
     "output_type": "execute_result"
    }
   ],
   "source": [
    "card_data"
   ]
  },
  {
   "cell_type": "code",
   "execution_count": null,
   "metadata": {},
   "outputs": [],
   "source": []
  },
  {
   "cell_type": "code",
   "execution_count": 29,
   "metadata": {},
   "outputs": [],
   "source": [
    "card_data = pd.DataFrame(card_data['ДатаЧека'])"
   ]
  },
  {
   "cell_type": "code",
   "execution_count": 34,
   "metadata": {},
   "outputs": [
    {
     "data": {
      "text/html": [
       "<div>\n",
       "<style scoped>\n",
       "    .dataframe tbody tr th:only-of-type {\n",
       "        vertical-align: middle;\n",
       "    }\n",
       "\n",
       "    .dataframe tbody tr th {\n",
       "        vertical-align: top;\n",
       "    }\n",
       "\n",
       "    .dataframe thead th {\n",
       "        text-align: right;\n",
       "    }\n",
       "</style>\n",
       "<table border=\"1\" class=\"dataframe\">\n",
       "  <thead>\n",
       "    <tr style=\"text-align: right;\">\n",
       "      <th></th>\n",
       "      <th>ДатаЧека</th>\n",
       "      <th>АЗСКод</th>\n",
       "    </tr>\n",
       "    <tr>\n",
       "      <th>Карта</th>\n",
       "      <th></th>\n",
       "      <th></th>\n",
       "    </tr>\n",
       "  </thead>\n",
       "  <tbody>\n",
       "    <tr>\n",
       "      <th>002043206DC69131FC6444B0880F2D07</th>\n",
       "      <td>6</td>\n",
       "      <td>0</td>\n",
       "    </tr>\n",
       "    <tr>\n",
       "      <th>0049F1FFC58BD9977F50E56C71D5536B</th>\n",
       "      <td>12</td>\n",
       "      <td>1</td>\n",
       "    </tr>\n",
       "    <tr>\n",
       "      <th>005595BFFC7222DBB557E59A3872E56D</th>\n",
       "      <td>7</td>\n",
       "      <td>2</td>\n",
       "    </tr>\n",
       "    <tr>\n",
       "      <th>00DC9FCD81231002E2015CF04A2B01C2</th>\n",
       "      <td>11</td>\n",
       "      <td>3</td>\n",
       "    </tr>\n",
       "    <tr>\n",
       "      <th>00EB869662094C3C148EAEB8672D2BB7</th>\n",
       "      <td>8</td>\n",
       "      <td>0</td>\n",
       "    </tr>\n",
       "    <tr>\n",
       "      <th>...</th>\n",
       "      <td>...</td>\n",
       "      <td>...</td>\n",
       "    </tr>\n",
       "    <tr>\n",
       "      <th>FF88E8952CBA6FF330B9DF3F6CA6F2DA</th>\n",
       "      <td>5</td>\n",
       "      <td>2</td>\n",
       "    </tr>\n",
       "    <tr>\n",
       "      <th>FFB1A367E4B62FB268767E712E404986</th>\n",
       "      <td>5</td>\n",
       "      <td>3</td>\n",
       "    </tr>\n",
       "    <tr>\n",
       "      <th>FFD689128D88650F6820A54E3604DD09</th>\n",
       "      <td>5</td>\n",
       "      <td>7</td>\n",
       "    </tr>\n",
       "    <tr>\n",
       "      <th>FFD8567FF1048ABD2B486C2D08FE3B34</th>\n",
       "      <td>9</td>\n",
       "      <td>7</td>\n",
       "    </tr>\n",
       "    <tr>\n",
       "      <th>FFDDE5951E14CA31FA92F14FDF88CFB1</th>\n",
       "      <td>8</td>\n",
       "      <td>1</td>\n",
       "    </tr>\n",
       "  </tbody>\n",
       "</table>\n",
       "<p>1920 rows × 2 columns</p>\n",
       "</div>"
      ],
      "text/plain": [
       "                                  ДатаЧека  АЗСКод\n",
       "Карта                                             \n",
       "002043206DC69131FC6444B0880F2D07         6       0\n",
       "0049F1FFC58BD9977F50E56C71D5536B        12       1\n",
       "005595BFFC7222DBB557E59A3872E56D         7       2\n",
       "00DC9FCD81231002E2015CF04A2B01C2        11       3\n",
       "00EB869662094C3C148EAEB8672D2BB7         8       0\n",
       "...                                    ...     ...\n",
       "FF88E8952CBA6FF330B9DF3F6CA6F2DA         5       2\n",
       "FFB1A367E4B62FB268767E712E404986         5       3\n",
       "FFD689128D88650F6820A54E3604DD09         5       7\n",
       "FFD8567FF1048ABD2B486C2D08FE3B34         9       7\n",
       "FFDDE5951E14CA31FA92F14FDF88CFB1         8       1\n",
       "\n",
       "[1920 rows x 2 columns]"
      ]
     },
     "execution_count": 34,
     "metadata": {},
     "output_type": "execute_result"
    }
   ],
   "source": [
    "card_data"
   ]
  },
  {
   "cell_type": "code",
   "execution_count": null,
   "metadata": {},
   "outputs": [],
   "source": []
  },
  {
   "cell_type": "code",
   "execution_count": null,
   "metadata": {},
   "outputs": [],
   "source": [
    "# gas list"
   ]
  },
  {
   "cell_type": "code",
   "execution_count": 31,
   "metadata": {},
   "outputs": [],
   "source": [
    "gas_st_list = list(data.groupby('Карта').mean()['АЗСКод'].astype(int).unique())"
   ]
  },
  {
   "cell_type": "code",
   "execution_count": 33,
   "metadata": {},
   "outputs": [],
   "source": [
    "card_data = pd.concat([card_data, data.groupby('Карта').mean()['АЗСКод'].apply(lambda x:gas_st_list.index(x))], axis=1)"
   ]
  },
  {
   "cell_type": "code",
   "execution_count": null,
   "metadata": {},
   "outputs": [],
   "source": []
  },
  {
   "cell_type": "code",
   "execution_count": null,
   "metadata": {},
   "outputs": [],
   "source": [
    "# operations per day"
   ]
  },
  {
   "cell_type": "code",
   "execution_count": 35,
   "metadata": {},
   "outputs": [],
   "source": [
    "mean_list = []\n",
    "for i in list(data.groupby('Карта').count().index):\n",
    "    mean_oper = np.mean(list(data[data['Карта'] == i].groupby('ДатаЧека').count()['ВидОперации']))\n",
    "    mean_list.append(round(mean_oper, 2))"
   ]
  },
  {
   "cell_type": "code",
   "execution_count": 36,
   "metadata": {},
   "outputs": [],
   "source": [
    "card_data['operations_per_day'] = mean_list"
   ]
  },
  {
   "cell_type": "code",
   "execution_count": null,
   "metadata": {},
   "outputs": [],
   "source": []
  },
  {
   "cell_type": "code",
   "execution_count": null,
   "metadata": {},
   "outputs": [],
   "source": [
    "# special_discounts"
   ]
  },
  {
   "cell_type": "code",
   "execution_count": 37,
   "metadata": {},
   "outputs": [],
   "source": [
    "list_3 = []\n",
    "list_224 = []\n",
    "for i in list(data.groupby('Карта').count().index):\n",
    "    data_list = list(data[data['Карта'] == i]['УниверсальнаяАкцияКод'])\n",
    "    list_3.append(data_list.count(3.0))\n",
    "    list_224.append(data_list.count(224.0))"
   ]
  },
  {
   "cell_type": "code",
   "execution_count": 38,
   "metadata": {},
   "outputs": [],
   "source": [
    "card_data['special_discount_3'] = list_3\n",
    "card_data['special_discount_224'] = list_224"
   ]
  },
  {
   "cell_type": "code",
   "execution_count": null,
   "metadata": {},
   "outputs": [],
   "source": []
  },
  {
   "cell_type": "code",
   "execution_count": null,
   "metadata": {},
   "outputs": [],
   "source": [
    "# bonuses"
   ]
  },
  {
   "cell_type": "code",
   "execution_count": 39,
   "metadata": {},
   "outputs": [],
   "source": [
    "card_data = pd.concat([card_data, data.groupby('Карта').mean()[['Сумма', 'Бонусы', 'СуммаСкидки', 'СписаноБонусов']].apply(lambda x: round(x, 2))], axis=1)"
   ]
  },
  {
   "cell_type": "code",
   "execution_count": null,
   "metadata": {},
   "outputs": [],
   "source": []
  },
  {
   "cell_type": "code",
   "execution_count": null,
   "metadata": {},
   "outputs": [],
   "source": [
    "# ВидОперации, ОператорКод"
   ]
  },
  {
   "cell_type": "code",
   "execution_count": null,
   "metadata": {},
   "outputs": [],
   "source": []
  },
  {
   "cell_type": "code",
   "execution_count": 69,
   "metadata": {},
   "outputs": [],
   "source": []
  },
  {
   "cell_type": "code",
   "execution_count": 81,
   "metadata": {},
   "outputs": [
    {
     "data": {
      "text/html": [
       "<div>\n",
       "<style scoped>\n",
       "    .dataframe tbody tr th:only-of-type {\n",
       "        vertical-align: middle;\n",
       "    }\n",
       "\n",
       "    .dataframe tbody tr th {\n",
       "        vertical-align: top;\n",
       "    }\n",
       "\n",
       "    .dataframe thead th {\n",
       "        text-align: right;\n",
       "    }\n",
       "</style>\n",
       "<table border=\"1\" class=\"dataframe\">\n",
       "  <thead>\n",
       "    <tr style=\"text-align: right;\">\n",
       "      <th></th>\n",
       "      <th>ДатаЧека</th>\n",
       "      <th>АЗСКод</th>\n",
       "      <th>operations_per_day</th>\n",
       "      <th>special_discount_3</th>\n",
       "      <th>special_discount_224</th>\n",
       "      <th>Сумма</th>\n",
       "      <th>Бонусы</th>\n",
       "      <th>СуммаСкидки</th>\n",
       "      <th>СписаноБонусов</th>\n",
       "      <th>is_fraud</th>\n",
       "      <th>is_fraud_2</th>\n",
       "    </tr>\n",
       "    <tr>\n",
       "      <th>Карта</th>\n",
       "      <th></th>\n",
       "      <th></th>\n",
       "      <th></th>\n",
       "      <th></th>\n",
       "      <th></th>\n",
       "      <th></th>\n",
       "      <th></th>\n",
       "      <th></th>\n",
       "      <th></th>\n",
       "      <th></th>\n",
       "      <th></th>\n",
       "    </tr>\n",
       "  </thead>\n",
       "  <tbody>\n",
       "  </tbody>\n",
       "</table>\n",
       "</div>"
      ],
      "text/plain": [
       "Empty DataFrame\n",
       "Columns: [ДатаЧека, АЗСКод, operations_per_day, special_discount_3, special_discount_224, Сумма, Бонусы, СуммаСкидки, СписаноБонусов, is_fraud, is_fraud_2]\n",
       "Index: []"
      ]
     },
     "execution_count": 81,
     "metadata": {},
     "output_type": "execute_result"
    }
   ],
   "source": [
    "card_data[card_data['is_fraud_2'] == 1]"
   ]
  },
  {
   "cell_type": "code",
   "execution_count": 76,
   "metadata": {},
   "outputs": [],
   "source": [
    "card_data['is_fraud_2'] = 0"
   ]
  },
  {
   "cell_type": "code",
   "execution_count": 79,
   "metadata": {},
   "outputs": [],
   "source": [
    "for i, row in card_data.iterrows():\n",
    "    if i in fraud_list:\n",
    "        row['is_fraud_2'] = 1"
   ]
  },
  {
   "cell_type": "code",
   "execution_count": null,
   "metadata": {},
   "outputs": [],
   "source": []
  },
  {
   "cell_type": "code",
   "execution_count": null,
   "metadata": {},
   "outputs": [],
   "source": []
  },
  {
   "cell_type": "code",
   "execution_count": null,
   "metadata": {},
   "outputs": [],
   "source": []
  },
  {
   "cell_type": "code",
   "execution_count": null,
   "metadata": {},
   "outputs": [],
   "source": [
    "data"
   ]
  },
  {
   "cell_type": "code",
   "execution_count": null,
   "metadata": {},
   "outputs": [],
   "source": []
  },
  {
   "cell_type": "code",
   "execution_count": null,
   "metadata": {},
   "outputs": [],
   "source": [
    "sum(list(data[data['Карта'] == 'F9CF1DC89C51CEC7AADC699E41D3B5FA'].groupby('ДатаЧека').count()['ВидОперации']))"
   ]
  },
  {
   "cell_type": "code",
   "execution_count": null,
   "metadata": {},
   "outputs": [],
   "source": [
    "np.mean(list(data[data['Карта'] == 'D85BD7BDD888729BA02B98F56DD71B28'].groupby('ДатаЧека').count()['ВидОперации']))"
   ]
  },
  {
   "cell_type": "code",
   "execution_count": null,
   "metadata": {},
   "outputs": [],
   "source": [
    "data"
   ]
  },
  {
   "cell_type": "code",
   "execution_count": null,
   "metadata": {},
   "outputs": [],
   "source": [
    "data[data['Карта'] == 'F9CF1DC89C51CEC7AADC699E41D3B5FA'].iloc[0]['ДатаЧека'].split(' ')[0]"
   ]
  },
  {
   "cell_type": "code",
   "execution_count": null,
   "metadata": {},
   "outputs": [],
   "source": []
  },
  {
   "cell_type": "code",
   "execution_count": null,
   "metadata": {},
   "outputs": [],
   "source": [
    "fraud_list = []\n",
    "for i in labels:\n",
    "    fraud_list.append(i[0])"
   ]
  },
  {
   "cell_type": "code",
   "execution_count": null,
   "metadata": {},
   "outputs": [],
   "source": [
    "len(fraud_list)"
   ]
  },
  {
   "cell_type": "code",
   "execution_count": null,
   "metadata": {},
   "outputs": [],
   "source": [
    "l_0 = []\n",
    "l_1 = []"
   ]
  },
  {
   "cell_type": "code",
   "execution_count": null,
   "metadata": {},
   "outputs": [],
   "source": [
    "for i in list(data.groupby('Карта').count().index):\n",
    "    oper_len = np.mean(list(data[data['Карта'] == i].groupby('ДатаЧека').count()['ВидОперации']))\n",
    "    print(oper_len)\n",
    "    break\n"
   ]
  },
  {
   "cell_type": "code",
   "execution_count": null,
   "metadata": {},
   "outputs": [],
   "source": [
    "len(l_0)"
   ]
  },
  {
   "cell_type": "code",
   "execution_count": null,
   "metadata": {},
   "outputs": [],
   "source": [
    "print(np.mean(l_0))\n",
    "print(np.median(l_0))\n",
    "print(stats.mode(l_0))"
   ]
  },
  {
   "cell_type": "code",
   "execution_count": null,
   "metadata": {},
   "outputs": [],
   "source": [
    "print(np.mean(l_1))\n",
    "print(np.median(l_1))\n",
    "print(stats.mode(l_1))"
   ]
  },
  {
   "cell_type": "code",
   "execution_count": null,
   "metadata": {},
   "outputs": [],
   "source": [
    "len(l_1)"
   ]
  },
  {
   "cell_type": "code",
   "execution_count": null,
   "metadata": {},
   "outputs": [],
   "source": [
    "data.loc[data['Карта'] == '002043206DC69131FC6444B0880F2D07'].groupby('ОператорКод').count()"
   ]
  },
  {
   "cell_type": "code",
   "execution_count": null,
   "metadata": {},
   "outputs": [],
   "source": []
  },
  {
   "cell_type": "code",
   "execution_count": null,
   "metadata": {},
   "outputs": [],
   "source": [
    "for i in labels:\n",
    "    print(i)\n",
    "    data.loc[data['Карта'] == i[0]].groupby('ОператорКод').count()\n",
    "    break"
   ]
  },
  {
   "cell_type": "code",
   "execution_count": null,
   "metadata": {},
   "outputs": [],
   "source": [
    "data.loc[data['Карта'] == 'E1627DA6992F9BD6D6F10EF15B3930F6'].groupby('ОператорКод').count()"
   ]
  },
  {
   "cell_type": "code",
   "execution_count": null,
   "metadata": {},
   "outputs": [],
   "source": [
    "data.loc[data['label']==1].groupby('Карта').count()"
   ]
  },
  {
   "cell_type": "code",
   "execution_count": null,
   "metadata": {},
   "outputs": [],
   "source": [
    "data.loc[data['label']==1].groupby('АЗСКод').count()"
   ]
  },
  {
   "cell_type": "code",
   "execution_count": null,
   "metadata": {},
   "outputs": [],
   "source": []
  },
  {
   "cell_type": "code",
   "execution_count": null,
   "metadata": {},
   "outputs": [],
   "source": [
    "data.loc[data['label']==1].loc[data['Карта']=='00DC9FCD81231002E2015CF04A2B01C2']"
   ]
  },
  {
   "cell_type": "code",
   "execution_count": null,
   "metadata": {},
   "outputs": [],
   "source": [
    "labels[1][0]"
   ]
  },
  {
   "cell_type": "code",
   "execution_count": null,
   "metadata": {},
   "outputs": [],
   "source": [
    "for i in labels:\n",
    "    x = data.loc[data['Карта']==i[0]]['АЗСКод'].values\n",
    "    print(x)\n",
    "    break"
   ]
  },
  {
   "cell_type": "code",
   "execution_count": null,
   "metadata": {},
   "outputs": [],
   "source": [
    "xx = data.loc[data['label']!=1]['Карта'].values"
   ]
  },
  {
   "cell_type": "code",
   "execution_count": null,
   "metadata": {},
   "outputs": [],
   "source": [
    "many_st = []\n",
    "for i in set(data['Карта'].values):\n",
    "    if len(set(data.loc[data['Карта']==i]['АЗСКод'].values)) > 1: \n",
    "        many_st.append(i)"
   ]
  },
  {
   "cell_type": "code",
   "execution_count": null,
   "metadata": {},
   "outputs": [],
   "source": [
    "many_st = []"
   ]
  },
  {
   "cell_type": "code",
   "execution_count": null,
   "metadata": {},
   "outputs": [],
   "source": [
    "len(many_st)"
   ]
  },
  {
   "cell_type": "code",
   "execution_count": null,
   "metadata": {},
   "outputs": [],
   "source": [
    "yy = data.loc[data['label']==1]['Карта'].values"
   ]
  },
  {
   "cell_type": "code",
   "execution_count": null,
   "metadata": {},
   "outputs": [],
   "source": [
    "for i in set(yy):\n",
    "    x = data.loc[data['Карта']==i]['АЗСКод'].values\n",
    "    if len(set(x)) == 1: \n",
    "        sfsdf.append(i)"
   ]
  },
  {
   "cell_type": "code",
   "execution_count": null,
   "metadata": {},
   "outputs": [],
   "source": [
    "len(sfsdf)"
   ]
  },
  {
   "cell_type": "code",
   "execution_count": null,
   "metadata": {},
   "outputs": [],
   "source": []
  },
  {
   "cell_type": "code",
   "execution_count": null,
   "metadata": {},
   "outputs": [],
   "source": []
  },
  {
   "cell_type": "code",
   "execution_count": null,
   "metadata": {},
   "outputs": [],
   "source": [
    "data[data['УниверсальнаяАкцияКод']==224.0].loc[data['label']==1]"
   ]
  },
  {
   "cell_type": "code",
   "execution_count": null,
   "metadata": {},
   "outputs": [],
   "source": [
    "data['УниверсальнаяАкцияКод'] = data['УниверсальнаяАкцияКод'].fillna(0)"
   ]
  },
  {
   "cell_type": "code",
   "execution_count": null,
   "metadata": {},
   "outputs": [],
   "source": [
    "data['УниверсальнаяАкцияКод']"
   ]
  },
  {
   "cell_type": "code",
   "execution_count": null,
   "metadata": {},
   "outputs": [],
   "source": [
    "card_data = data.groupby('Карта').count()"
   ]
  },
  {
   "cell_type": "code",
   "execution_count": null,
   "metadata": {},
   "outputs": [],
   "source": [
    "card_data = card_data[card_data['ДатаЧека']<5]"
   ]
  },
  {
   "cell_type": "code",
   "execution_count": null,
   "metadata": {},
   "outputs": [],
   "source": [
    "card_list = list(card_data[card_data['ДатаЧека']>10].index)\n",
    "counter = 0\n",
    "for i in labels:\n",
    "    if i[0] in card_list:\n",
    "        counter += 1\n",
    "print(counter)"
   ]
  },
  {
   "cell_type": "code",
   "execution_count": null,
   "metadata": {},
   "outputs": [],
   "source": [
    "delete_list = card_data[card_data['ДатаЧека']<5].index"
   ]
  },
  {
   "cell_type": "code",
   "execution_count": null,
   "metadata": {},
   "outputs": [],
   "source": [
    "for i in delete_list:\n",
    "    data = data[data['Карта'] != i]"
   ]
  },
  {
   "cell_type": "code",
   "execution_count": null,
   "metadata": {},
   "outputs": [],
   "source": [
    "len(data)"
   ]
  },
  {
   "cell_type": "code",
   "execution_count": null,
   "metadata": {},
   "outputs": [],
   "source": []
  },
  {
   "cell_type": "code",
   "execution_count": null,
   "metadata": {},
   "outputs": [],
   "source": [
    "data.loc[data['label']==1].groupby('УниверсальнаяАкцияКод').count()"
   ]
  },
  {
   "cell_type": "code",
   "execution_count": null,
   "metadata": {},
   "outputs": [],
   "source": [
    "data.loc[data['label']!=1].groupby('УниверсальнаяАкцияКод').count()"
   ]
  },
  {
   "cell_type": "code",
   "execution_count": null,
   "metadata": {},
   "outputs": [],
   "source": [
    "data = data[data['УниверсальнаяАкцияКод'] < 300]"
   ]
  },
  {
   "cell_type": "code",
   "execution_count": null,
   "metadata": {},
   "outputs": [],
   "source": [
    "data[data['УниверсальнаяАкцияКод'] < 300].groupby('Карта').count()"
   ]
  },
  {
   "cell_type": "code",
   "execution_count": null,
   "metadata": {},
   "outputs": [],
   "source": [
    "data"
   ]
  },
  {
   "cell_type": "code",
   "execution_count": null,
   "metadata": {},
   "outputs": [],
   "source": [
    "# remove column\n",
    "# data = data.drop('ДатаЧека', axis=1)"
   ]
  },
  {
   "cell_type": "code",
   "execution_count": null,
   "metadata": {},
   "outputs": [],
   "source": [
    "data = data.drop('НомерЧека', axis=1)\n",
    "data = data.drop('ОсновнаяКарта', axis=1)\n",
    "data = data.drop('НомерСтроки', axis=1)\n",
    "data = data.drop('НоменклатураКод', axis=1)"
   ]
  },
  {
   "cell_type": "code",
   "execution_count": null,
   "metadata": {},
   "outputs": [],
   "source": [
    "# filtering rows\n",
    "data = data[data['ВидНоменклатуры']=='Нефтепродукты']\n",
    "\n",
    "# removing the column\n",
    "data = data.drop('ВидНоменклатуры', axis=1)"
   ]
  },
  {
   "cell_type": "markdown",
   "metadata": {},
   "source": [
    "##### \"ВидОперации\""
   ]
  },
  {
   "cell_type": "code",
   "execution_count": null,
   "metadata": {},
   "outputs": [],
   "source": [
    "# filtering rows\n",
    "data = data[data['ВидОперации']!='Начисление возврат']\n",
    "data = data[data['ВидОперации']!='Начисление оплата возврат']"
   ]
  },
  {
   "cell_type": "code",
   "execution_count": null,
   "metadata": {},
   "outputs": [],
   "source": [
    "# normalize data for learning\n",
    "\n",
    "# making list with names\n",
    "# list_names = list(data['ВидОперации'].unique())\n",
    "\n",
    "# replacing string with [0,1]\n",
    "# data['ВидОперации'] = data['ВидОперации'].apply(lambda x:list_names.index(x))\n",
    "\n",
    "# removing the column\n",
    "data = data.drop('ВидОперации', axis=1)"
   ]
  },
  {
   "cell_type": "code",
   "execution_count": null,
   "metadata": {},
   "outputs": [],
   "source": [
    "data.groupby('АЗСКод').count()"
   ]
  },
  {
   "cell_type": "code",
   "execution_count": null,
   "metadata": {},
   "outputs": [],
   "source": [
    "data.loc[data['label']==1].groupby('АЗСКод').count()"
   ]
  },
  {
   "cell_type": "markdown",
   "metadata": {},
   "source": [
    "##### \"АЗСКод\""
   ]
  },
  {
   "cell_type": "code",
   "execution_count": null,
   "metadata": {},
   "outputs": [],
   "source": [
    "# checking unique values\n",
    "list(data['АЗСКод'].unique())"
   ]
  },
  {
   "cell_type": "code",
   "execution_count": null,
   "metadata": {},
   "outputs": [],
   "source": [
    "# normalize data for learning\n",
    "\n",
    "# making list with names\n",
    "list_stations = list(data['АЗСКод'].unique())\n",
    "\n",
    "# replacing string with [0,1,..]\n",
    "data['АЗСКод'] = data['АЗСКод'].apply(lambda x:list_stations.index(x))"
   ]
  },
  {
   "cell_type": "markdown",
   "metadata": {},
   "source": [
    "##### \"ВидНоменклатуры\""
   ]
  },
  {
   "cell_type": "markdown",
   "metadata": {},
   "source": [
    "Most fraud cases happen with Gas purchasing, so we will leave only 'Нефтепродукты' rows and remove the entire column"
   ]
  },
  {
   "cell_type": "code",
   "execution_count": null,
   "metadata": {},
   "outputs": [],
   "source": [
    "# filtering rows\n",
    "data = data[data['ВидНоменклатуры']=='Нефтепродукты']\n",
    "\n",
    "# removing the column\n",
    "# data = data.drop('ВидНоменклатуры', axis=1)"
   ]
  },
  {
   "cell_type": "markdown",
   "metadata": {},
   "source": [
    "##### \"Карта\""
   ]
  },
  {
   "cell_type": "code",
   "execution_count": null,
   "metadata": {},
   "outputs": [],
   "source": [
    "# checking quantity of unique cards \n",
    "data['Карта'].describe()"
   ]
  },
  {
   "cell_type": "markdown",
   "metadata": {},
   "source": [
    "Only 20259 cards used among 47384 operations, this means that some cards were used several times."
   ]
  },
  {
   "cell_type": "markdown",
   "metadata": {},
   "source": [
    "Obviously a card number doesn't provide model with any useful information, we will replace the values with numbers of usage frequency for the card."
   ]
  },
  {
   "cell_type": "code",
   "execution_count": null,
   "metadata": {},
   "outputs": [],
   "source": [
    "# grouping by cards\n",
    "count_card = data.groupby('Карта').count()"
   ]
  },
  {
   "cell_type": "markdown",
   "metadata": {},
   "source": [
    "#### *bonus"
   ]
  },
  {
   "cell_type": "markdown",
   "metadata": {},
   "source": [
    "Checking the most frequently used card"
   ]
  },
  {
   "cell_type": "code",
   "execution_count": null,
   "metadata": {},
   "outputs": [],
   "source": [
    "# filter card with more than 100 operations\n",
    "count_card[count_card['ВидОперации']>=100]"
   ]
  },
  {
   "cell_type": "code",
   "execution_count": null,
   "metadata": {},
   "outputs": [],
   "source": [
    "# showing operations with this card only\n",
    "card_data = data[data['Карта']=='3A68C9A32E07603A1D5EA7CE1A800EB6']\n",
    "\n",
    "# grouping by operations quantity per operator \n",
    "card_data.groupby('ОператорКод').count()"
   ]
  },
  {
   "cell_type": "code",
   "execution_count": null,
   "metadata": {},
   "outputs": [],
   "source": [
    "# visualizing result\n",
    "pie_gr = card_data.groupby('ОператорКод').count()\n",
    "plt.pie(pie_gr['ВидОперации'], labels=pie_gr.index, autopct=lambda pct: int(119*pct/100))\n",
    "plt.show()"
   ]
  },
  {
   "cell_type": "markdown",
   "metadata": {},
   "source": [
    "As we can see only one operator \"Фера Радміла Іванівна\" has done 101 operations with the same card"
   ]
  },
  {
   "cell_type": "markdown",
   "metadata": {},
   "source": [
    " "
   ]
  },
  {
   "cell_type": "code",
   "execution_count": null,
   "metadata": {},
   "outputs": [],
   "source": [
    "# replacing the values with numbers of usage frequency\n",
    "data['Карта'] = data['Карта'].apply(lambda x:count_card.loc[x]['ВидОперации'])"
   ]
  },
  {
   "cell_type": "code",
   "execution_count": null,
   "metadata": {},
   "outputs": [],
   "source": []
  },
  {
   "cell_type": "code",
   "execution_count": null,
   "metadata": {},
   "outputs": [],
   "source": [
    "data = data.drop('ОсновнаяКарта', axis=1)"
   ]
  },
  {
   "cell_type": "markdown",
   "metadata": {},
   "source": [
    "##### \"НомерСтроки\""
   ]
  },
  {
   "cell_type": "markdown",
   "metadata": {},
   "source": [
    "We will drop this info as it's not important for the model"
   ]
  },
  {
   "cell_type": "code",
   "execution_count": null,
   "metadata": {},
   "outputs": [],
   "source": [
    "data = data.drop('НомерСтроки', axis=1)"
   ]
  },
  {
   "cell_type": "markdown",
   "metadata": {},
   "source": [
    "##### \"НоменклатураКод\""
   ]
  },
  {
   "cell_type": "markdown",
   "metadata": {},
   "source": [
    "We will drop this column as we know that there are only gas products"
   ]
  },
  {
   "cell_type": "code",
   "execution_count": null,
   "metadata": {},
   "outputs": [],
   "source": [
    "data = data.drop('НоменклатураКод', axis=1)"
   ]
  },
  {
   "cell_type": "markdown",
   "metadata": {},
   "source": [
    "##### \"Количество\", \"Цена\", \"Сумма\", \"Бонусы\", \"СуммаСкидки\""
   ]
  },
  {
   "cell_type": "markdown",
   "metadata": {},
   "source": [
    "These columns we will leave unchanged, just need to convert string into float number"
   ]
  },
  {
   "cell_type": "code",
   "execution_count": null,
   "metadata": {},
   "outputs": [],
   "source": [
    "# converting string values to float\n",
    "data['Количество'] = data['Количество'].apply(lambda x:float(x.replace('\\xa0', '').replace(',', '.')))\n",
    "data['Цена'] = data['Цена'].apply(lambda x:float(x.replace('\\xa0', '').replace(',', '.')))\n",
    "data['Сумма'] = data['Сумма'].apply(lambda x:float(x.replace('\\xa0', '').replace(',', '.')))\n",
    "data['Бонусы'] = data['Бонусы'].apply(lambda x:float(x.replace('\\xa0', '').replace(',', '.')))\n",
    "data['СуммаСкидки'] = data['СуммаСкидки'].apply(lambda x:float(x.replace('\\xa0', '').replace(',', '.')))"
   ]
  },
  {
   "cell_type": "markdown",
   "metadata": {},
   "source": [
    "##### \"УниверсальнаяАкцияКод\""
   ]
  },
  {
   "cell_type": "code",
   "execution_count": null,
   "metadata": {},
   "outputs": [],
   "source": [
    "# checking unique values\n",
    "list(data['УниверсальнаяАкцияКод'].unique())"
   ]
  },
  {
   "cell_type": "code",
   "execution_count": null,
   "metadata": {},
   "outputs": [],
   "source": [
    "# replace NaN values\n",
    "data['УниверсальнаяАкцияКод'] = data['УниверсальнаяАкцияКод'].fillna(0)"
   ]
  },
  {
   "cell_type": "code",
   "execution_count": null,
   "metadata": {},
   "outputs": [],
   "source": [
    "# normalize data for learning\n",
    "\n",
    "# making list with names\n",
    "list_disc_types = list(data['УниверсальнаяАкцияКод'].unique())\n",
    "\n",
    "# replacing string with [0,1,..]\n",
    "data['УниверсальнаяАкцияКод'] = data['УниверсальнаяАкцияКод'].apply(lambda x:list_disc_types.index(x))"
   ]
  },
  {
   "cell_type": "markdown",
   "metadata": {},
   "source": [
    "##### \"СписаноБонусов\""
   ]
  },
  {
   "cell_type": "markdown",
   "metadata": {},
   "source": [
    "We will leave this unchanged"
   ]
  },
  {
   "cell_type": "code",
   "execution_count": null,
   "metadata": {},
   "outputs": [],
   "source": [
    "# converting unicode string to integer\n",
    "data['СписаноБонусов'] = data['СписаноБонусов'].apply(lambda x:int(x.replace('\\xa0', '')))"
   ]
  },
  {
   "cell_type": "markdown",
   "metadata": {},
   "source": [
    "##### \"СуммаСкидкиДисконт\""
   ]
  },
  {
   "cell_type": "code",
   "execution_count": null,
   "metadata": {},
   "outputs": [],
   "source": [
    "# checking for unique values\n",
    "data['СуммаСкидкиДисконт'].unique()"
   ]
  },
  {
   "cell_type": "markdown",
   "metadata": {},
   "source": [
    "This column has only 0 values, we will drop it"
   ]
  },
  {
   "cell_type": "code",
   "execution_count": null,
   "metadata": {},
   "outputs": [],
   "source": [
    "data = data.drop('СуммаСкидкиДисконт', axis=1)"
   ]
  },
  {
   "cell_type": "markdown",
   "metadata": {},
   "source": [
    "##### \"КассоваяСмена\""
   ]
  },
  {
   "cell_type": "markdown",
   "metadata": {},
   "source": [
    "This values will not help model, let's drop it"
   ]
  },
  {
   "cell_type": "code",
   "execution_count": null,
   "metadata": {},
   "outputs": [],
   "source": [
    "data = data.drop('КассоваяСмена', axis=1)"
   ]
  },
  {
   "cell_type": "markdown",
   "metadata": {},
   "source": [
    "##### \"ОператорКод\""
   ]
  },
  {
   "cell_type": "code",
   "execution_count": null,
   "metadata": {},
   "outputs": [],
   "source": [
    "# checking for unique values\n",
    "data['ОператорКод'].unique()"
   ]
  },
  {
   "cell_type": "code",
   "execution_count": null,
   "metadata": {},
   "outputs": [],
   "source": [
    "# normalize data for learning\n",
    "\n",
    "# making list with names\n",
    "list_operators = list(data['ОператорКод'].unique())\n",
    "\n",
    "# replacing string with [0,1,..]\n",
    "data['ОператорКод'] = data['ОператорКод'].apply(lambda x:list_operators.index(x))"
   ]
  },
  {
   "cell_type": "markdown",
   "metadata": {},
   "source": [
    "Also dropping the last useless column 'Unnamed: 19'"
   ]
  },
  {
   "cell_type": "code",
   "execution_count": null,
   "metadata": {},
   "outputs": [],
   "source": [
    "data = data.drop('Unnamed: 19', axis=1)"
   ]
  },
  {
   "cell_type": "markdown",
   "metadata": {},
   "source": [
    "##### Normalized dataset for learning model "
   ]
  },
  {
   "cell_type": "code",
   "execution_count": null,
   "metadata": {},
   "outputs": [],
   "source": [
    "data.head(10)"
   ]
  },
  {
   "cell_type": "markdown",
   "metadata": {},
   "source": [
    "### Training model"
   ]
  },
  {
   "cell_type": "code",
   "execution_count": null,
   "metadata": {},
   "outputs": [],
   "source": [
    "# importing IsolationForest Algorithm\n",
    "from sklearn.ensemble import IsolationForest"
   ]
  },
  {
   "cell_type": "code",
   "execution_count": null,
   "metadata": {},
   "outputs": [],
   "source": [
    "# creating model\n",
    "clf = IsolationForest(random_state=0)"
   ]
  },
  {
   "cell_type": "code",
   "execution_count": null,
   "metadata": {},
   "outputs": [],
   "source": [
    "# fit model\n",
    "clf.fit(data.values)"
   ]
  },
  {
   "cell_type": "markdown",
   "metadata": {},
   "source": [
    "### Predicting and analyzing result"
   ]
  },
  {
   "cell_type": "code",
   "execution_count": null,
   "metadata": {},
   "outputs": [],
   "source": [
    "# making prediction on the dataset\n",
    "prediction = clf.predict(data.values)"
   ]
  },
  {
   "cell_type": "code",
   "execution_count": null,
   "metadata": {},
   "outputs": [],
   "source": [
    "# replace 1 for inliers, -1 for outliers with 0 for inliers and 1 for outliers\n",
    "anomaly = np.where(prediction==-1, 1, 0)"
   ]
  },
  {
   "cell_type": "code",
   "execution_count": null,
   "metadata": {},
   "outputs": [],
   "source": [
    "# adding column to data frame\n",
    "data['Anomaly'] = anomaly"
   ]
  },
  {
   "cell_type": "code",
   "execution_count": null,
   "metadata": {},
   "outputs": [],
   "source": [
    "# showing result\n",
    "data.head(10)"
   ]
  },
  {
   "cell_type": "code",
   "execution_count": null,
   "metadata": {},
   "outputs": [],
   "source": [
    "# filter data only for anomaly operations\n",
    "anomaly_data = data[data['Anomaly']==1]"
   ]
  },
  {
   "cell_type": "code",
   "execution_count": null,
   "metadata": {},
   "outputs": [],
   "source": [
    "# sorting by operator with the highest anomaly operations\n",
    "anomaly_sorted = anomaly_data.groupby('ОператорКод').count().sort_values('Anomaly', ascending=False)"
   ]
  },
  {
   "cell_type": "code",
   "execution_count": null,
   "metadata": {},
   "outputs": [],
   "source": [
    "# visualizing result\n",
    "plt.scatter(anomaly_sorted.index, anomaly_sorted['Anomaly'])\n",
    "plt.plot([0,60], [230,230], color='red')\n",
    "plt.show()"
   ]
  },
  {
   "cell_type": "markdown",
   "metadata": {},
   "source": [
    "We can clearly see that in most cases anomaly frequency is below 230, only few are more than that"
   ]
  },
  {
   "cell_type": "markdown",
   "metadata": {},
   "source": [
    "Let's filter only those operators who are above the line"
   ]
  },
  {
   "cell_type": "code",
   "execution_count": null,
   "metadata": {},
   "outputs": [],
   "source": [
    "# sort only for the highest frequency\n",
    "anomaly_sorted = anomaly_sorted[anomaly_sorted['Anomaly']>230]\n",
    "anomaly_sorted"
   ]
  },
  {
   "cell_type": "code",
   "execution_count": null,
   "metadata": {},
   "outputs": [],
   "source": [
    "# getting list of operators names\n",
    "names = []\n",
    "for name_index in list(anomaly_sorted.index):\n",
    "    names.append(list_operators[name_index])"
   ]
  },
  {
   "cell_type": "code",
   "execution_count": null,
   "metadata": {},
   "outputs": [],
   "source": [
    "# getting list of anomaly quantity\n",
    "cases = list(anomaly_sorted['Anomaly'].values)"
   ]
  },
  {
   "cell_type": "code",
   "execution_count": null,
   "metadata": {},
   "outputs": [],
   "source": [
    "# making dataframe\n",
    "anomaly_list = pd.DataFrame(data={'Operator':names, 'Anomaly operations':cases})"
   ]
  },
  {
   "cell_type": "markdown",
   "metadata": {},
   "source": [
    "#### Result"
   ]
  },
  {
   "cell_type": "code",
   "execution_count": null,
   "metadata": {},
   "outputs": [],
   "source": [
    "# showing dataframe\n",
    "anomaly_list"
   ]
  },
  {
   "cell_type": "code",
   "execution_count": null,
   "metadata": {},
   "outputs": [],
   "source": []
  },
  {
   "cell_type": "code",
   "execution_count": null,
   "metadata": {},
   "outputs": [],
   "source": [
    "labels = pd.read_csv('other_data/card_69.csv').values"
   ]
  },
  {
   "cell_type": "code",
   "execution_count": null,
   "metadata": {},
   "outputs": [],
   "source": [
    "'294408237E2B9930B593D42E92C500DA' in labels"
   ]
  },
  {
   "cell_type": "code",
   "execution_count": null,
   "metadata": {},
   "outputs": [],
   "source": [
    "labels"
   ]
  },
  {
   "cell_type": "code",
   "execution_count": null,
   "metadata": {},
   "outputs": [],
   "source": [
    "for i, row in data"
   ]
  },
  {
   "cell_type": "code",
   "execution_count": null,
   "metadata": {},
   "outputs": [],
   "source": []
  },
  {
   "cell_type": "code",
   "execution_count": null,
   "metadata": {},
   "outputs": [],
   "source": [
    "test_data = card_data.drop('is_fraud', axis=1)"
   ]
  },
  {
   "cell_type": "code",
   "execution_count": null,
   "metadata": {},
   "outputs": [],
   "source": [
    "test_data.values"
   ]
  },
  {
   "cell_type": "code",
   "execution_count": null,
   "metadata": {},
   "outputs": [],
   "source": [
    "clf.fit(test_data.values)"
   ]
  },
  {
   "cell_type": "code",
   "execution_count": null,
   "metadata": {},
   "outputs": [],
   "source": [
    "prediction = clf.predict(test_data.values)"
   ]
  },
  {
   "cell_type": "code",
   "execution_count": null,
   "metadata": {},
   "outputs": [],
   "source": [
    "anomaly = np.where(prediction==-1, 1, 0)"
   ]
  },
  {
   "cell_type": "code",
   "execution_count": null,
   "metadata": {},
   "outputs": [],
   "source": [
    "test_pred = pd.DataFrame(card_data['is_fraud'])"
   ]
  },
  {
   "cell_type": "code",
   "execution_count": null,
   "metadata": {},
   "outputs": [],
   "source": [
    "test_pred['predicted'] = anomaly"
   ]
  },
  {
   "cell_type": "code",
   "execution_count": null,
   "metadata": {},
   "outputs": [],
   "source": []
  },
  {
   "cell_type": "code",
   "execution_count": null,
   "metadata": {},
   "outputs": [],
   "source": [
    "x = test_pred[test_pred['is_fraud'] == test_pred['predicted']]"
   ]
  },
  {
   "cell_type": "code",
   "execution_count": null,
   "metadata": {},
   "outputs": [],
   "source": [
    "len(x[x['is_fraud'] == 1])"
   ]
  },
  {
   "cell_type": "code",
   "execution_count": null,
   "metadata": {},
   "outputs": [],
   "source": [
    "card_data = card_data[:1946]"
   ]
  },
  {
   "cell_type": "code",
   "execution_count": null,
   "metadata": {},
   "outputs": [],
   "source": [
    "test_pred"
   ]
  },
  {
   "cell_type": "code",
   "execution_count": null,
   "metadata": {},
   "outputs": [],
   "source": [
    "from sklearn.cluster import KMeans"
   ]
  },
  {
   "cell_type": "code",
   "execution_count": null,
   "metadata": {},
   "outputs": [],
   "source": [
    "kmeans = KMeans(n_clusters=2, random_state=0).fit(test_data.values)"
   ]
  },
  {
   "cell_type": "code",
   "execution_count": null,
   "metadata": {},
   "outputs": [],
   "source": [
    "y = list(kmeans.predict(test_data.values))"
   ]
  },
  {
   "cell_type": "code",
   "execution_count": null,
   "metadata": {},
   "outputs": [],
   "source": [
    "y.count(0)"
   ]
  },
  {
   "cell_type": "code",
   "execution_count": null,
   "metadata": {},
   "outputs": [],
   "source": [
    "test_pred['predicted'] = y"
   ]
  },
  {
   "cell_type": "code",
   "execution_count": null,
   "metadata": {},
   "outputs": [],
   "source": [
    "# machine learning\n",
    "from sklearn.svm import SVC, LinearSVC\n",
    "from sklearn.ensemble import RandomForestClassifier\n",
    "from sklearn.neighbors import KNeighborsClassifier\n",
    "from sklearn.ensemble import GradientBoostingClassifier\n",
    "\n",
    "from sklearn.model_selection import train_test_split\n",
    "from sklearn.metrics import accuracy_score, classification_report, confusion_matrix"
   ]
  },
  {
   "cell_type": "code",
   "execution_count": null,
   "metadata": {},
   "outputs": [],
   "source": []
  }
 ],
 "metadata": {
  "kernelspec": {
   "display_name": "Python 3",
   "language": "python",
   "name": "python3"
  },
  "language_info": {
   "codemirror_mode": {
    "name": "ipython",
    "version": 3
   },
   "file_extension": ".py",
   "mimetype": "text/x-python",
   "name": "python",
   "nbconvert_exporter": "python",
   "pygments_lexer": "ipython3",
   "version": "3.8.2"
  }
 },
 "nbformat": 4,
 "nbformat_minor": 4
}
