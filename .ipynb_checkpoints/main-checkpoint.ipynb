{
 "cells": [
  {
   "cell_type": "markdown",
   "metadata": {},
   "source": [
    "### Import modules"
   ]
  },
  {
   "cell_type": "code",
   "execution_count": 1,
   "metadata": {},
   "outputs": [],
   "source": [
    "import pandas as pd\n",
    "import os\n",
    "import numpy as np\n",
    "import matplotlib.pyplot as plt"
   ]
  },
  {
   "cell_type": "markdown",
   "metadata": {},
   "source": [
    "### Load dataset"
   ]
  },
  {
   "cell_type": "code",
   "execution_count": 2,
   "metadata": {},
   "outputs": [],
   "source": [
    "# searching files\n",
    "all_files = os.listdir('dataset')"
   ]
  },
  {
   "cell_type": "code",
   "execution_count": 3,
   "metadata": {},
   "outputs": [],
   "source": [
    "# combining info from all files into one dataframe\n",
    "data = None\n",
    "\n",
    "for f in all_files:\n",
    "    data_f = pd.read_csv(f'dataset/{f}', sep=';')\n",
    "    \n",
    "    if data is None:\n",
    "        data = data_f.copy()\n",
    "        continue\n",
    "    \n",
    "    data = data.append(data_f, ignore_index=True)"
   ]
  },
  {
   "cell_type": "markdown",
   "metadata": {},
   "source": [
    "### Data understanding"
   ]
  },
  {
   "cell_type": "code",
   "execution_count": 4,
   "metadata": {},
   "outputs": [
    {
     "data": {
      "text/html": [
       "<div>\n",
       "<style scoped>\n",
       "    .dataframe tbody tr th:only-of-type {\n",
       "        vertical-align: middle;\n",
       "    }\n",
       "\n",
       "    .dataframe tbody tr th {\n",
       "        vertical-align: top;\n",
       "    }\n",
       "\n",
       "    .dataframe thead th {\n",
       "        text-align: right;\n",
       "    }\n",
       "</style>\n",
       "<table border=\"1\" class=\"dataframe\">\n",
       "  <thead>\n",
       "    <tr style=\"text-align: right;\">\n",
       "      <th></th>\n",
       "      <th>ДатаЧека</th>\n",
       "      <th>НомерЧека</th>\n",
       "      <th>ВидОперации</th>\n",
       "      <th>АЗСКод</th>\n",
       "      <th>ВидНоменклатуры</th>\n",
       "      <th>Карта</th>\n",
       "      <th>ОсновнаяКарта</th>\n",
       "      <th>НомерСтроки</th>\n",
       "      <th>НоменклатураКод</th>\n",
       "      <th>Количество</th>\n",
       "      <th>Цена</th>\n",
       "      <th>Сумма</th>\n",
       "      <th>Бонусы</th>\n",
       "      <th>СуммаСкидки</th>\n",
       "      <th>УниверсальнаяАкцияКод</th>\n",
       "      <th>СписаноБонусов</th>\n",
       "      <th>СуммаСкидкиДисконт</th>\n",
       "      <th>КассоваяСмена</th>\n",
       "      <th>ОператорКод</th>\n",
       "      <th>Unnamed: 19</th>\n",
       "    </tr>\n",
       "  </thead>\n",
       "  <tbody>\n",
       "    <tr>\n",
       "      <th>0</th>\n",
       "      <td>03.12.2019 00:09:53</td>\n",
       "      <td>19411000000593</td>\n",
       "      <td>Начисление</td>\n",
       "      <td>1941</td>\n",
       "      <td>Сопутка</td>\n",
       "      <td>F012120C2A8619DB668CD4CFD5203246</td>\n",
       "      <td>NaN</td>\n",
       "      <td>1</td>\n",
       "      <td>231984</td>\n",
       "      <td>2</td>\n",
       "      <td>32</td>\n",
       "      <td>64</td>\n",
       "      <td>64</td>\n",
       "      <td>0</td>\n",
       "      <td>NaN</td>\n",
       "      <td>0</td>\n",
       "      <td>0</td>\n",
       "      <td>ea334934-154f-11ea-a8c1-00012eb194e7</td>\n",
       "      <td>Циркот І.Я.</td>\n",
       "      <td>NaN</td>\n",
       "    </tr>\n",
       "    <tr>\n",
       "      <th>1</th>\n",
       "      <td>03.12.2019 00:10:00</td>\n",
       "      <td>19411000000594</td>\n",
       "      <td>Начисление</td>\n",
       "      <td>1941</td>\n",
       "      <td>Нефтепродукты</td>\n",
       "      <td>F012120C2A8619DB668CD4CFD5203246</td>\n",
       "      <td>NaN</td>\n",
       "      <td>1</td>\n",
       "      <td>113355</td>\n",
       "      <td>6,72</td>\n",
       "      <td>29,79</td>\n",
       "      <td>200</td>\n",
       "      <td>200</td>\n",
       "      <td>0,19</td>\n",
       "      <td>NaN</td>\n",
       "      <td>0</td>\n",
       "      <td>0</td>\n",
       "      <td>ea334934-154f-11ea-a8c1-00012eb194e7</td>\n",
       "      <td>Циркот І.Я.</td>\n",
       "      <td>NaN</td>\n",
       "    </tr>\n",
       "    <tr>\n",
       "      <th>2</th>\n",
       "      <td>03.12.2019 00:10:11</td>\n",
       "      <td>37151000001268</td>\n",
       "      <td>Начисление</td>\n",
       "      <td>3715</td>\n",
       "      <td>Сопутка</td>\n",
       "      <td>3B3F9C6B22C900811F82E7679EAA23A5</td>\n",
       "      <td>NaN</td>\n",
       "      <td>1</td>\n",
       "      <td>235874</td>\n",
       "      <td>2</td>\n",
       "      <td>14,9</td>\n",
       "      <td>29,8</td>\n",
       "      <td>29</td>\n",
       "      <td>0</td>\n",
       "      <td>NaN</td>\n",
       "      <td>0</td>\n",
       "      <td>0</td>\n",
       "      <td>fd0187f4-154f-11ea-b059-00012eb1a3ee</td>\n",
       "      <td>Явисенко Олена Олександрівна</td>\n",
       "      <td>NaN</td>\n",
       "    </tr>\n",
       "    <tr>\n",
       "      <th>3</th>\n",
       "      <td>03.12.2019 00:10:11</td>\n",
       "      <td>37151000001268</td>\n",
       "      <td>Начисление</td>\n",
       "      <td>3715</td>\n",
       "      <td>Сопутка</td>\n",
       "      <td>3B3F9C6B22C900811F82E7679EAA23A5</td>\n",
       "      <td>NaN</td>\n",
       "      <td>2</td>\n",
       "      <td>190362</td>\n",
       "      <td>1</td>\n",
       "      <td>17</td>\n",
       "      <td>17</td>\n",
       "      <td>17</td>\n",
       "      <td>0</td>\n",
       "      <td>NaN</td>\n",
       "      <td>0</td>\n",
       "      <td>0</td>\n",
       "      <td>fd0187f4-154f-11ea-b059-00012eb1a3ee</td>\n",
       "      <td>Явисенко Олена Олександрівна</td>\n",
       "      <td>NaN</td>\n",
       "    </tr>\n",
       "    <tr>\n",
       "      <th>4</th>\n",
       "      <td>03.12.2019 00:10:11</td>\n",
       "      <td>37151000001268</td>\n",
       "      <td>Начисление</td>\n",
       "      <td>3715</td>\n",
       "      <td>Сопутка</td>\n",
       "      <td>3B3F9C6B22C900811F82E7679EAA23A5</td>\n",
       "      <td>NaN</td>\n",
       "      <td>3</td>\n",
       "      <td>136787</td>\n",
       "      <td>1</td>\n",
       "      <td>37</td>\n",
       "      <td>37</td>\n",
       "      <td>37</td>\n",
       "      <td>0</td>\n",
       "      <td>NaN</td>\n",
       "      <td>0</td>\n",
       "      <td>0</td>\n",
       "      <td>fd0187f4-154f-11ea-b059-00012eb1a3ee</td>\n",
       "      <td>Явисенко Олена Олександрівна</td>\n",
       "      <td>NaN</td>\n",
       "    </tr>\n",
       "  </tbody>\n",
       "</table>\n",
       "</div>"
      ],
      "text/plain": [
       "              ДатаЧека       НомерЧека ВидОперации  АЗСКод ВидНоменклатуры  \\\n",
       "0  03.12.2019 00:09:53  19411000000593  Начисление    1941         Сопутка   \n",
       "1  03.12.2019 00:10:00  19411000000594  Начисление    1941   Нефтепродукты   \n",
       "2  03.12.2019 00:10:11  37151000001268  Начисление    3715         Сопутка   \n",
       "3  03.12.2019 00:10:11  37151000001268  Начисление    3715         Сопутка   \n",
       "4  03.12.2019 00:10:11  37151000001268  Начисление    3715         Сопутка   \n",
       "\n",
       "                              Карта ОсновнаяКарта  НомерСтроки  \\\n",
       "0  F012120C2A8619DB668CD4CFD5203246           NaN            1   \n",
       "1  F012120C2A8619DB668CD4CFD5203246           NaN            1   \n",
       "2  3B3F9C6B22C900811F82E7679EAA23A5           NaN            1   \n",
       "3  3B3F9C6B22C900811F82E7679EAA23A5           NaN            2   \n",
       "4  3B3F9C6B22C900811F82E7679EAA23A5           NaN            3   \n",
       "\n",
       "   НоменклатураКод Количество   Цена Сумма Бонусы СуммаСкидки  \\\n",
       "0           231984          2     32    64     64           0   \n",
       "1           113355       6,72  29,79   200    200        0,19   \n",
       "2           235874          2   14,9  29,8     29           0   \n",
       "3           190362          1     17    17     17           0   \n",
       "4           136787          1     37    37     37           0   \n",
       "\n",
       "   УниверсальнаяАкцияКод СписаноБонусов  СуммаСкидкиДисконт  \\\n",
       "0                    NaN              0                   0   \n",
       "1                    NaN              0                   0   \n",
       "2                    NaN              0                   0   \n",
       "3                    NaN              0                   0   \n",
       "4                    NaN              0                   0   \n",
       "\n",
       "                          КассоваяСмена                   ОператорКод  \\\n",
       "0  ea334934-154f-11ea-a8c1-00012eb194e7                   Циркот І.Я.   \n",
       "1  ea334934-154f-11ea-a8c1-00012eb194e7                   Циркот І.Я.   \n",
       "2  fd0187f4-154f-11ea-b059-00012eb1a3ee  Явисенко Олена Олександрівна   \n",
       "3  fd0187f4-154f-11ea-b059-00012eb1a3ee  Явисенко Олена Олександрівна   \n",
       "4  fd0187f4-154f-11ea-b059-00012eb1a3ee  Явисенко Олена Олександрівна   \n",
       "\n",
       "   Unnamed: 19  \n",
       "0          NaN  \n",
       "1          NaN  \n",
       "2          NaN  \n",
       "3          NaN  \n",
       "4          NaN  "
      ]
     },
     "execution_count": 4,
     "metadata": {},
     "output_type": "execute_result"
    }
   ],
   "source": [
    "# checking first 5 rows\n",
    "data.head()"
   ]
  },
  {
   "cell_type": "code",
   "execution_count": 5,
   "metadata": {},
   "outputs": [
    {
     "name": "stdout",
     "output_type": "stream",
     "text": [
      "<class 'pandas.core.frame.DataFrame'>\n",
      "RangeIndex: 91903 entries, 0 to 91902\n",
      "Data columns (total 20 columns):\n",
      " #   Column                 Non-Null Count  Dtype  \n",
      "---  ------                 --------------  -----  \n",
      " 0   ДатаЧека               91903 non-null  object \n",
      " 1   НомерЧека              91903 non-null  int64  \n",
      " 2   ВидОперации            91903 non-null  object \n",
      " 3   АЗСКод                 91903 non-null  int64  \n",
      " 4   ВидНоменклатуры        91903 non-null  object \n",
      " 5   Карта                  91901 non-null  object \n",
      " 6   ОсновнаяКарта          127 non-null    object \n",
      " 7   НомерСтроки            91903 non-null  int64  \n",
      " 8   НоменклатураКод        91903 non-null  int64  \n",
      " 9   Количество             91903 non-null  object \n",
      " 10  Цена                   91903 non-null  object \n",
      " 11  Сумма                  91903 non-null  object \n",
      " 12  Бонусы                 91903 non-null  object \n",
      " 13  СуммаСкидки            91903 non-null  object \n",
      " 14  УниверсальнаяАкцияКод  11445 non-null  float64\n",
      " 15  СписаноБонусов         91903 non-null  object \n",
      " 16  СуммаСкидкиДисконт     91903 non-null  int64  \n",
      " 17  КассоваяСмена          91903 non-null  object \n",
      " 18  ОператорКод            91873 non-null  object \n",
      " 19  Unnamed: 19            0 non-null      float64\n",
      "dtypes: float64(2), int64(5), object(13)\n",
      "memory usage: 14.0+ MB\n"
     ]
    }
   ],
   "source": [
    "# info about dataframe\n",
    "data.info()"
   ]
  },
  {
   "cell_type": "markdown",
   "metadata": {},
   "source": [
    "### Preparing and filtering data"
   ]
  },
  {
   "cell_type": "markdown",
   "metadata": {},
   "source": [
    "##### \"ДатаЧека\""
   ]
  },
  {
   "cell_type": "markdown",
   "metadata": {},
   "source": [
    "We will drop this info as it's not important for the model"
   ]
  },
  {
   "cell_type": "code",
   "execution_count": 6,
   "metadata": {},
   "outputs": [],
   "source": [
    "# remove column\n",
    "data = data.drop('ДатаЧека', axis=1)"
   ]
  },
  {
   "cell_type": "markdown",
   "metadata": {},
   "source": [
    "##### \"НомерЧека\""
   ]
  },
  {
   "cell_type": "markdown",
   "metadata": {},
   "source": [
    "We also will drop this info as it's not important for the model"
   ]
  },
  {
   "cell_type": "code",
   "execution_count": 7,
   "metadata": {},
   "outputs": [],
   "source": [
    "# remove column\n",
    "data = data.drop('НомерЧека', axis=1)"
   ]
  },
  {
   "cell_type": "markdown",
   "metadata": {},
   "source": [
    "##### \"ВидОперации\""
   ]
  },
  {
   "cell_type": "code",
   "execution_count": 8,
   "metadata": {},
   "outputs": [
    {
     "data": {
      "image/png": "[encoded data removed]",
      "text/plain": [
       "<Figure size 432x288 with 1 Axes>"
      ]
     },
     "metadata": {
      "needs_background": "light"
     },
     "output_type": "display_data"
    }
   ],
   "source": [
    "# visualizing data\n",
    "plt.hist(data['ВидОперации'])\n",
    "plt.xticks(rotation=45)\n",
    "plt.show()"
   ]
  },
  {
   "cell_type": "markdown",
   "metadata": {},
   "source": [
    "As we see we can drop rows with 'Начисление возврат' and 'Начисление оплата возврат' as there are very few data with these values"
   ]
  },
  {
   "cell_type": "code",
   "execution_count": 9,
   "metadata": {},
   "outputs": [],
   "source": [
    "# filtering rows\n",
    "data = data[data['ВидОперации']!='Начисление возврат']\n",
    "data = data[data['ВидОперации']!='Начисление оплата возврат']"
   ]
  },
  {
   "cell_type": "code",
   "execution_count": 10,
   "metadata": {},
   "outputs": [],
   "source": [
    "# normalize data for learning\n",
    "\n",
    "# making list with names\n",
    "list_names = list(data['ВидОперации'].unique())\n",
    "\n",
    "# replacing string with [0,1]\n",
    "data['ВидОперации'] = data['ВидОперации'].apply(lambda x:list_names.index(x))"
   ]
  },
  {
   "cell_type": "markdown",
   "metadata": {},
   "source": [
    "##### \"АЗСКод\""
   ]
  },
  {
   "cell_type": "code",
   "execution_count": 11,
   "metadata": {},
   "outputs": [
    {
     "data": {
      "text/plain": [
       "[1941, 3715, 3508, 2617, 3530, 1933, 3041, 3516, 3108, 3027]"
      ]
     },
     "execution_count": 11,
     "metadata": {},
     "output_type": "execute_result"
    }
   ],
   "source": [
    "# checking unique values\n",
    "list(data['АЗСКод'].unique())"
   ]
  },
  {
   "cell_type": "code",
   "execution_count": 12,
   "metadata": {},
   "outputs": [],
   "source": [
    "# normalize data for learning\n",
    "\n",
    "# making list with names\n",
    "list_stations = list(data['АЗСКод'].unique())\n",
    "\n",
    "# replacing string with [0,1,..]\n",
    "data['АЗСКод'] = data['АЗСКод'].apply(lambda x:list_stations.index(x))"
   ]
  },
  {
   "cell_type": "markdown",
   "metadata": {},
   "source": [
    "##### \"ВидНоменклатуры\""
   ]
  },
  {
   "cell_type": "markdown",
   "metadata": {},
   "source": [
    "Most fraud cases happen with Gas purchasing, so we will leave only 'Нефтепродукты' rows and remove the entire column"
   ]
  },
  {
   "cell_type": "code",
   "execution_count": 13,
   "metadata": {},
   "outputs": [],
   "source": [
    "# filtering rows\n",
    "data = data[data['ВидНоменклатуры']=='Нефтепродукты']\n",
    "\n",
    "# removing the column\n",
    "data = data.drop('ВидНоменклатуры', axis=1)"
   ]
  },
  {
   "cell_type": "markdown",
   "metadata": {},
   "source": [
    "##### \"Карта\""
   ]
  },
  {
   "cell_type": "code",
   "execution_count": 14,
   "metadata": {},
   "outputs": [
    {
     "data": {
      "text/plain": [
       "count                                47384\n",
       "unique                               20259\n",
       "top       3A68C9A32E07603A1D5EA7CE1A800EB6\n",
       "freq                                   119\n",
       "Name: Карта, dtype: object"
      ]
     },
     "execution_count": 14,
     "metadata": {},
     "output_type": "execute_result"
    }
   ],
   "source": [
    "# checking quantity of unique cards \n",
    "data['Карта'].describe()"
   ]
  },
  {
   "cell_type": "markdown",
   "metadata": {},
   "source": [
    "Only 20259 cards used among 47384 operations, this means that some cards were used several times."
   ]
  },
  {
   "cell_type": "markdown",
   "metadata": {},
   "source": [
    "Obviously a card number doesn't provide model with any useful information, we will replace the values with numbers of usage frequency for the card."
   ]
  },
  {
   "cell_type": "code",
   "execution_count": 15,
   "metadata": {},
   "outputs": [],
   "source": [
    "# grouping by cards\n",
    "count_card = data.groupby('Карта').count()"
   ]
  },
  {
   "cell_type": "markdown",
   "metadata": {},
   "source": [
    "#### *bonus"
   ]
  },
  {
   "cell_type": "markdown",
   "metadata": {},
   "source": [
    "Checking the most frequently used card"
   ]
  },
  {
   "cell_type": "code",
   "execution_count": 16,
   "metadata": {},
   "outputs": [
    {
     "data": {
      "text/html": [
       "<div>\n",
       "<style scoped>\n",
       "    .dataframe tbody tr th:only-of-type {\n",
       "        vertical-align: middle;\n",
       "    }\n",
       "\n",
       "    .dataframe tbody tr th {\n",
       "        vertical-align: top;\n",
       "    }\n",
       "\n",
       "    .dataframe thead th {\n",
       "        text-align: right;\n",
       "    }\n",
       "</style>\n",
       "<table border=\"1\" class=\"dataframe\">\n",
       "  <thead>\n",
       "    <tr style=\"text-align: right;\">\n",
       "      <th></th>\n",
       "      <th>ВидОперации</th>\n",
       "      <th>АЗСКод</th>\n",
       "      <th>ОсновнаяКарта</th>\n",
       "      <th>НомерСтроки</th>\n",
       "      <th>НоменклатураКод</th>\n",
       "      <th>Количество</th>\n",
       "      <th>Цена</th>\n",
       "      <th>Сумма</th>\n",
       "      <th>Бонусы</th>\n",
       "      <th>СуммаСкидки</th>\n",
       "      <th>УниверсальнаяАкцияКод</th>\n",
       "      <th>СписаноБонусов</th>\n",
       "      <th>СуммаСкидкиДисконт</th>\n",
       "      <th>КассоваяСмена</th>\n",
       "      <th>ОператорКод</th>\n",
       "      <th>Unnamed: 19</th>\n",
       "    </tr>\n",
       "    <tr>\n",
       "      <th>Карта</th>\n",
       "      <th></th>\n",
       "      <th></th>\n",
       "      <th></th>\n",
       "      <th></th>\n",
       "      <th></th>\n",
       "      <th></th>\n",
       "      <th></th>\n",
       "      <th></th>\n",
       "      <th></th>\n",
       "      <th></th>\n",
       "      <th></th>\n",
       "      <th></th>\n",
       "      <th></th>\n",
       "      <th></th>\n",
       "      <th></th>\n",
       "      <th></th>\n",
       "    </tr>\n",
       "  </thead>\n",
       "  <tbody>\n",
       "    <tr>\n",
       "      <th>3A68C9A32E07603A1D5EA7CE1A800EB6</th>\n",
       "      <td>119</td>\n",
       "      <td>119</td>\n",
       "      <td>0</td>\n",
       "      <td>119</td>\n",
       "      <td>119</td>\n",
       "      <td>119</td>\n",
       "      <td>119</td>\n",
       "      <td>119</td>\n",
       "      <td>119</td>\n",
       "      <td>119</td>\n",
       "      <td>119</td>\n",
       "      <td>119</td>\n",
       "      <td>119</td>\n",
       "      <td>119</td>\n",
       "      <td>119</td>\n",
       "      <td>0</td>\n",
       "    </tr>\n",
       "  </tbody>\n",
       "</table>\n",
       "</div>"
      ],
      "text/plain": [
       "                                  ВидОперации  АЗСКод  ОсновнаяКарта  \\\n",
       "Карта                                                                  \n",
       "3A68C9A32E07603A1D5EA7CE1A800EB6          119     119              0   \n",
       "\n",
       "                                  НомерСтроки  НоменклатураКод  Количество  \\\n",
       "Карта                                                                        \n",
       "3A68C9A32E07603A1D5EA7CE1A800EB6          119              119         119   \n",
       "\n",
       "                                  Цена  Сумма  Бонусы  СуммаСкидки  \\\n",
       "Карта                                                                \n",
       "3A68C9A32E07603A1D5EA7CE1A800EB6   119    119     119          119   \n",
       "\n",
       "                                  УниверсальнаяАкцияКод  СписаноБонусов  \\\n",
       "Карта                                                                     \n",
       "3A68C9A32E07603A1D5EA7CE1A800EB6                    119             119   \n",
       "\n",
       "                                  СуммаСкидкиДисконт  КассоваяСмена  \\\n",
       "Карта                                                                 \n",
       "3A68C9A32E07603A1D5EA7CE1A800EB6                 119            119   \n",
       "\n",
       "                                  ОператорКод  Unnamed: 19  \n",
       "Карта                                                       \n",
       "3A68C9A32E07603A1D5EA7CE1A800EB6          119            0  "
      ]
     },
     "execution_count": 16,
     "metadata": {},
     "output_type": "execute_result"
    }
   ],
   "source": [
    "# filter card with more than 100 operations\n",
    "count_card[count_card['ВидОперации']>=100]"
   ]
  },
  {
   "cell_type": "code",
   "execution_count": 17,
   "metadata": {},
   "outputs": [
    {
     "data": {
      "text/html": [
       "<div>\n",
       "<style scoped>\n",
       "    .dataframe tbody tr th:only-of-type {\n",
       "        vertical-align: middle;\n",
       "    }\n",
       "\n",
       "    .dataframe tbody tr th {\n",
       "        vertical-align: top;\n",
       "    }\n",
       "\n",
       "    .dataframe thead th {\n",
       "        text-align: right;\n",
       "    }\n",
       "</style>\n",
       "<table border=\"1\" class=\"dataframe\">\n",
       "  <thead>\n",
       "    <tr style=\"text-align: right;\">\n",
       "      <th></th>\n",
       "      <th>ВидОперации</th>\n",
       "      <th>АЗСКод</th>\n",
       "      <th>Карта</th>\n",
       "      <th>ОсновнаяКарта</th>\n",
       "      <th>НомерСтроки</th>\n",
       "      <th>НоменклатураКод</th>\n",
       "      <th>Количество</th>\n",
       "      <th>Цена</th>\n",
       "      <th>Сумма</th>\n",
       "      <th>Бонусы</th>\n",
       "      <th>СуммаСкидки</th>\n",
       "      <th>УниверсальнаяАкцияКод</th>\n",
       "      <th>СписаноБонусов</th>\n",
       "      <th>СуммаСкидкиДисконт</th>\n",
       "      <th>КассоваяСмена</th>\n",
       "      <th>Unnamed: 19</th>\n",
       "    </tr>\n",
       "    <tr>\n",
       "      <th>ОператорКод</th>\n",
       "      <th></th>\n",
       "      <th></th>\n",
       "      <th></th>\n",
       "      <th></th>\n",
       "      <th></th>\n",
       "      <th></th>\n",
       "      <th></th>\n",
       "      <th></th>\n",
       "      <th></th>\n",
       "      <th></th>\n",
       "      <th></th>\n",
       "      <th></th>\n",
       "      <th></th>\n",
       "      <th></th>\n",
       "      <th></th>\n",
       "      <th></th>\n",
       "    </tr>\n",
       "  </thead>\n",
       "  <tbody>\n",
       "    <tr>\n",
       "      <th>Візічканич Олена Василівна</th>\n",
       "      <td>7</td>\n",
       "      <td>7</td>\n",
       "      <td>7</td>\n",
       "      <td>0</td>\n",
       "      <td>7</td>\n",
       "      <td>7</td>\n",
       "      <td>7</td>\n",
       "      <td>7</td>\n",
       "      <td>7</td>\n",
       "      <td>7</td>\n",
       "      <td>7</td>\n",
       "      <td>7</td>\n",
       "      <td>7</td>\n",
       "      <td>7</td>\n",
       "      <td>7</td>\n",
       "      <td>0</td>\n",
       "    </tr>\n",
       "    <tr>\n",
       "      <th>Канюк Наталія Василівна</th>\n",
       "      <td>8</td>\n",
       "      <td>8</td>\n",
       "      <td>8</td>\n",
       "      <td>0</td>\n",
       "      <td>8</td>\n",
       "      <td>8</td>\n",
       "      <td>8</td>\n",
       "      <td>8</td>\n",
       "      <td>8</td>\n",
       "      <td>8</td>\n",
       "      <td>8</td>\n",
       "      <td>8</td>\n",
       "      <td>8</td>\n",
       "      <td>8</td>\n",
       "      <td>8</td>\n",
       "      <td>0</td>\n",
       "    </tr>\n",
       "    <tr>\n",
       "      <th>Мігалка Н.Ю.</th>\n",
       "      <td>3</td>\n",
       "      <td>3</td>\n",
       "      <td>3</td>\n",
       "      <td>0</td>\n",
       "      <td>3</td>\n",
       "      <td>3</td>\n",
       "      <td>3</td>\n",
       "      <td>3</td>\n",
       "      <td>3</td>\n",
       "      <td>3</td>\n",
       "      <td>3</td>\n",
       "      <td>3</td>\n",
       "      <td>3</td>\n",
       "      <td>3</td>\n",
       "      <td>3</td>\n",
       "      <td>0</td>\n",
       "    </tr>\n",
       "    <tr>\n",
       "      <th>Фера Радміла Іванівна</th>\n",
       "      <td>101</td>\n",
       "      <td>101</td>\n",
       "      <td>101</td>\n",
       "      <td>0</td>\n",
       "      <td>101</td>\n",
       "      <td>101</td>\n",
       "      <td>101</td>\n",
       "      <td>101</td>\n",
       "      <td>101</td>\n",
       "      <td>101</td>\n",
       "      <td>101</td>\n",
       "      <td>101</td>\n",
       "      <td>101</td>\n",
       "      <td>101</td>\n",
       "      <td>101</td>\n",
       "      <td>0</td>\n",
       "    </tr>\n",
       "  </tbody>\n",
       "</table>\n",
       "</div>"
      ],
      "text/plain": [
       "                            ВидОперации  АЗСКод  Карта  ОсновнаяКарта  \\\n",
       "ОператорКод                                                             \n",
       "Візічканич Олена Василівна            7       7      7              0   \n",
       "Канюк Наталія Василівна               8       8      8              0   \n",
       "Мігалка Н.Ю.                          3       3      3              0   \n",
       "Фера Радміла Іванівна               101     101    101              0   \n",
       "\n",
       "                            НомерСтроки  НоменклатураКод  Количество  Цена  \\\n",
       "ОператорКод                                                                  \n",
       "Візічканич Олена Василівна            7                7           7     7   \n",
       "Канюк Наталія Василівна               8                8           8     8   \n",
       "Мігалка Н.Ю.                          3                3           3     3   \n",
       "Фера Радміла Іванівна               101              101         101   101   \n",
       "\n",
       "                            Сумма  Бонусы  СуммаСкидки  УниверсальнаяАкцияКод  \\\n",
       "ОператорКод                                                                     \n",
       "Візічканич Олена Василівна      7       7            7                      7   \n",
       "Канюк Наталія Василівна         8       8            8                      8   \n",
       "Мігалка Н.Ю.                    3       3            3                      3   \n",
       "Фера Радміла Іванівна         101     101          101                    101   \n",
       "\n",
       "                            СписаноБонусов  СуммаСкидкиДисконт  КассоваяСмена  \\\n",
       "ОператорКод                                                                     \n",
       "Візічканич Олена Василівна               7                   7              7   \n",
       "Канюк Наталія Василівна                  8                   8              8   \n",
       "Мігалка Н.Ю.                             3                   3              3   \n",
       "Фера Радміла Іванівна                  101                 101            101   \n",
       "\n",
       "                            Unnamed: 19  \n",
       "ОператорКод                              \n",
       "Візічканич Олена Василівна            0  \n",
       "Канюк Наталія Василівна               0  \n",
       "Мігалка Н.Ю.                          0  \n",
       "Фера Радміла Іванівна                 0  "
      ]
     },
     "execution_count": 17,
     "metadata": {},
     "output_type": "execute_result"
    }
   ],
   "source": [
    "# showing operations with this card only\n",
    "card_data = data[data['Карта']=='3A68C9A32E07603A1D5EA7CE1A800EB6']\n",
    "\n",
    "# grouping by operations quantity per operator \n",
    "card_data.groupby('ОператорКод').count()"
   ]
  },
  {
   "cell_type": "code",
   "execution_count": 18,
   "metadata": {},
   "outputs": [
    {
     "data": {
      "image/png": "[encoded data removed]",
      "text/plain": [
       "<Figure size 432x288 with 1 Axes>"
      ]
     },
     "metadata": {},
     "output_type": "display_data"
    }
   ],
   "source": [
    "# visualizing result\n",
    "pie_gr = card_data.groupby('ОператорКод').count()\n",
    "plt.pie(pie_gr['ВидОперации'], labels=pie_gr.index, autopct=lambda pct: int(119*pct/100))\n",
    "plt.show()"
   ]
  },
  {
   "cell_type": "markdown",
   "metadata": {},
   "source": [
    "As we can see only one operator \"Фера Радміла Іванівна\" has done 101 operations with the same card"
   ]
  },
  {
   "cell_type": "markdown",
   "metadata": {},
   "source": [
    " "
   ]
  },
  {
   "cell_type": "code",
   "execution_count": 19,
   "metadata": {},
   "outputs": [],
   "source": [
    "# replacing the values with numbers of usage frequency\n",
    "data['Карта'] = data['Карта'].apply(lambda x:count_card.loc[x]['ВидОперации'])"
   ]
  },
  {
   "cell_type": "markdown",
   "metadata": {},
   "source": [
    "##### \"ОсновнаяКарта\""
   ]
  },
  {
   "cell_type": "markdown",
   "metadata": {},
   "source": [
    "As we saw above this column has only 127 non-null values, so we can drop this column"
   ]
  },
  {
   "cell_type": "code",
   "execution_count": 20,
   "metadata": {},
   "outputs": [],
   "source": [
    "data = data.drop('ОсновнаяКарта', axis=1)"
   ]
  },
  {
   "cell_type": "markdown",
   "metadata": {},
   "source": [
    "##### \"НомерСтроки\""
   ]
  },
  {
   "cell_type": "markdown",
   "metadata": {},
   "source": [
    "We will drop this info as it's not important for the model"
   ]
  },
  {
   "cell_type": "code",
   "execution_count": 21,
   "metadata": {},
   "outputs": [],
   "source": [
    "data = data.drop('НомерСтроки', axis=1)"
   ]
  },
  {
   "cell_type": "markdown",
   "metadata": {},
   "source": [
    "##### \"НоменклатураКод\""
   ]
  },
  {
   "cell_type": "markdown",
   "metadata": {},
   "source": [
    "We will drop this column as we know that there are only gas products"
   ]
  },
  {
   "cell_type": "code",
   "execution_count": 22,
   "metadata": {},
   "outputs": [],
   "source": [
    "data = data.drop('НоменклатураКод', axis=1)"
   ]
  },
  {
   "cell_type": "markdown",
   "metadata": {},
   "source": [
    "##### \"Количество\", \"Цена\", \"Сумма\", \"Бонусы\", \"СуммаСкидки\""
   ]
  },
  {
   "cell_type": "markdown",
   "metadata": {},
   "source": [
    "These columns we will leave unchanged, just need to convert string into float number"
   ]
  },
  {
   "cell_type": "code",
   "execution_count": 23,
   "metadata": {},
   "outputs": [],
   "source": [
    "# converting string values to float\n",
    "data['Количество'] = data['Количество'].apply(lambda x:float(x.replace('\\xa0', '').replace(',', '.')))\n",
    "data['Цена'] = data['Цена'].apply(lambda x:float(x.replace('\\xa0', '').replace(',', '.')))\n",
    "data['Сумма'] = data['Сумма'].apply(lambda x:float(x.replace('\\xa0', '').replace(',', '.')))\n",
    "data['Бонусы'] = data['Бонусы'].apply(lambda x:float(x.replace('\\xa0', '').replace(',', '.')))\n",
    "data['СуммаСкидки'] = data['СуммаСкидки'].apply(lambda x:float(x.replace('\\xa0', '').replace(',', '.')))"
   ]
  },
  {
   "cell_type": "markdown",
   "metadata": {},
   "source": [
    "##### \"УниверсальнаяАкцияКод\""
   ]
  },
  {
   "cell_type": "code",
   "execution_count": 24,
   "metadata": {},
   "outputs": [
    {
     "data": {
      "text/plain": [
       "[nan,\n",
       " 3073.0,\n",
       " 1980.0,\n",
       " 3.0,\n",
       " 4902.0,\n",
       " 224.0,\n",
       " 4439.0,\n",
       " 3068.0,\n",
       " 3067.0,\n",
       " 4438.0,\n",
       " 3865.0,\n",
       " 294.0,\n",
       " 4436.0,\n",
       " 4900.0,\n",
       " 3834.0,\n",
       " 4952.0,\n",
       " 5000.0,\n",
       " 4441.0]"
      ]
     },
     "execution_count": 24,
     "metadata": {},
     "output_type": "execute_result"
    }
   ],
   "source": [
    "# checking unique values\n",
    "list(data['УниверсальнаяАкцияКод'].unique())"
   ]
  },
  {
   "cell_type": "code",
   "execution_count": 25,
   "metadata": {},
   "outputs": [],
   "source": [
    "# replace NaN values\n",
    "data['УниверсальнаяАкцияКод'] = data['УниверсальнаяАкцияКод'].fillna(0)"
   ]
  },
  {
   "cell_type": "code",
   "execution_count": 26,
   "metadata": {},
   "outputs": [],
   "source": [
    "# normalize data for learning\n",
    "\n",
    "# making list with names\n",
    "list_disc_types = list(data['УниверсальнаяАкцияКод'].unique())\n",
    "\n",
    "# replacing string with [0,1,..]\n",
    "data['УниверсальнаяАкцияКод'] = data['УниверсальнаяАкцияКод'].apply(lambda x:list_disc_types.index(x))"
   ]
  },
  {
   "cell_type": "markdown",
   "metadata": {},
   "source": [
    "##### \"СписаноБонусов\""
   ]
  },
  {
   "cell_type": "markdown",
   "metadata": {},
   "source": [
    "We will leave this unchanged"
   ]
  },
  {
   "cell_type": "code",
   "execution_count": 27,
   "metadata": {},
   "outputs": [],
   "source": [
    "# converting unicode string to integer\n",
    "data['СписаноБонусов'] = data['СписаноБонусов'].apply(lambda x:int(x.replace('\\xa0', '')))"
   ]
  },
  {
   "cell_type": "markdown",
   "metadata": {},
   "source": [
    "##### \"СуммаСкидкиДисконт\""
   ]
  },
  {
   "cell_type": "code",
   "execution_count": 28,
   "metadata": {},
   "outputs": [
    {
     "data": {
      "text/plain": [
       "array([0])"
      ]
     },
     "execution_count": 28,
     "metadata": {},
     "output_type": "execute_result"
    }
   ],
   "source": [
    "# checking for unique values\n",
    "data['СуммаСкидкиДисконт'].unique()"
   ]
  },
  {
   "cell_type": "markdown",
   "metadata": {},
   "source": [
    "This column has only 0 values, we will drop it"
   ]
  },
  {
   "cell_type": "code",
   "execution_count": 29,
   "metadata": {},
   "outputs": [],
   "source": [
    "data = data.drop('СуммаСкидкиДисконт', axis=1)"
   ]
  },
  {
   "cell_type": "markdown",
   "metadata": {},
   "source": [
    "##### \"КассоваяСмена\""
   ]
  },
  {
   "cell_type": "markdown",
   "metadata": {},
   "source": [
    "This values will not help model, let's drop it"
   ]
  },
  {
   "cell_type": "code",
   "execution_count": 30,
   "metadata": {},
   "outputs": [],
   "source": [
    "data = data.drop('КассоваяСмена', axis=1)"
   ]
  },
  {
   "cell_type": "markdown",
   "metadata": {},
   "source": [
    "##### \"ОператорКод\""
   ]
  },
  {
   "cell_type": "code",
   "execution_count": 31,
   "metadata": {},
   "outputs": [
    {
     "data": {
      "text/plain": [
       "array(['Циркот І.Я.', 'Лучко Євгенія Олександрівна',\n",
       "       'Федів Ірина Василівна', 'Бушта Б. І.', 'Кочіш І.І.',\n",
       "       'Косміна Катерина Нуцівна', 'Бороніна Ольга Анатоліївна',\n",
       "       'Явисенко Олена Олександрівна', 'Гуля Євген Ігорович',\n",
       "       'Каричковська Вікторія Іванівна', 'Візічканич Олена Василівна',\n",
       "       'Вараховба Оксана Василівна', 'Тіщенко Р. В.',\n",
       "       'Стефанів Оксана Іванівна', 'Хлистун Олена Вікторівна ',\n",
       "       'Гаєва Л.Д.', 'Турусова Анастасія Володимирівна',\n",
       "       'Явдошняк Тетяна Андріївна', 'Марко Михайло Юрійович',\n",
       "       'Гендей М. М. ', 'Макарець О.В.', 'Шрамко Анфіса Петрівна',\n",
       "       'Карасьова Ольга Вікторівна', 'Співак О.С.',\n",
       "       'Буднік Олексій Геннадійович', 'Остафійчук.О.В',\n",
       "       'Процишин Костянтин Петрович', 'Березенко Тетяна Олегівна',\n",
       "       'Фера Радміла Іванівна', 'Устинський Аркадій Володимирович',\n",
       "       'Бучинський Степан Олександрович',\n",
       "       'Рибіцька Ганна Василівна                          ',\n",
       "       'Петьовка Наталія Василівна', 'Гузіль М.І.', 'Бабiїв Г.М.',\n",
       "       'Співак Олексій Степанович', 'Бабак Тарас Олегович',\n",
       "       'Штефанюк Наталія Анатоліївна', 'Мокряк Людмила',\n",
       "       'Кухар Богдан Ігорович', 'Михайленко О.С',\n",
       "       'Канюк Наталія Василівна', 'Кочіш С.Ю.       ',\n",
       "       'Заікіна Людмила Дмитрівна', 'Каленик Людмила Василівна',\n",
       "       'Михайлюк Тетяна Вікторівна', 'Гупало Анастасія Сергіївна',\n",
       "       'Шебунчак Віктор Степанович', 'Мігалка Н.Ю.',\n",
       "       'Пацкан Дора Юріївна', 'Ходорік Катерина Олександрівна',\n",
       "       'Тищенко Р.В.', 'Шуст Ю.Р.', 'Гордик Олена Вікторівна',\n",
       "       'Шуст Юрій Романович', 'Матвієнко Світлана Олександрівна',\n",
       "       'Вишиванюк Олеся Василівна', 'Павлюк Алла Сергіївна',\n",
       "       'Павлюк Іванна Ігорівна', 'Курсаков Олексій Анатолійович',\n",
       "       'Распутний Артур Сергійович'], dtype=object)"
      ]
     },
     "execution_count": 31,
     "metadata": {},
     "output_type": "execute_result"
    }
   ],
   "source": [
    "# checking for unique values\n",
    "data['ОператорКод'].unique()"
   ]
  },
  {
   "cell_type": "code",
   "execution_count": 32,
   "metadata": {},
   "outputs": [],
   "source": [
    "# normalize data for learning\n",
    "\n",
    "# making list with names\n",
    "list_operators = list(data['ОператорКод'].unique())\n",
    "\n",
    "# replacing string with [0,1,..]\n",
    "data['ОператорКод'] = data['ОператорКод'].apply(lambda x:list_operators.index(x))"
   ]
  },
  {
   "cell_type": "markdown",
   "metadata": {},
   "source": [
    "Also dropping the last useless column 'Unnamed: 19'"
   ]
  },
  {
   "cell_type": "code",
   "execution_count": 33,
   "metadata": {},
   "outputs": [],
   "source": [
    "data = data.drop('Unnamed: 19', axis=1)"
   ]
  },
  {
   "cell_type": "markdown",
   "metadata": {},
   "source": [
    "##### Normalized dataset for learning model "
   ]
  },
  {
   "cell_type": "code",
   "execution_count": 34,
   "metadata": {},
   "outputs": [
    {
     "data": {
      "text/html": [
       "<div>\n",
       "<style scoped>\n",
       "    .dataframe tbody tr th:only-of-type {\n",
       "        vertical-align: middle;\n",
       "    }\n",
       "\n",
       "    .dataframe tbody tr th {\n",
       "        vertical-align: top;\n",
       "    }\n",
       "\n",
       "    .dataframe thead th {\n",
       "        text-align: right;\n",
       "    }\n",
       "</style>\n",
       "<table border=\"1\" class=\"dataframe\">\n",
       "  <thead>\n",
       "    <tr style=\"text-align: right;\">\n",
       "      <th></th>\n",
       "      <th>ВидОперации</th>\n",
       "      <th>АЗСКод</th>\n",
       "      <th>Карта</th>\n",
       "      <th>Количество</th>\n",
       "      <th>Цена</th>\n",
       "      <th>Сумма</th>\n",
       "      <th>Бонусы</th>\n",
       "      <th>СуммаСкидки</th>\n",
       "      <th>УниверсальнаяАкцияКод</th>\n",
       "      <th>СписаноБонусов</th>\n",
       "      <th>ОператорКод</th>\n",
       "    </tr>\n",
       "  </thead>\n",
       "  <tbody>\n",
       "    <tr>\n",
       "      <th>1</th>\n",
       "      <td>0</td>\n",
       "      <td>0</td>\n",
       "      <td>11</td>\n",
       "      <td>6.72</td>\n",
       "      <td>29.79</td>\n",
       "      <td>200.00</td>\n",
       "      <td>200.0</td>\n",
       "      <td>0.19</td>\n",
       "      <td>0</td>\n",
       "      <td>0</td>\n",
       "      <td>0</td>\n",
       "    </tr>\n",
       "    <tr>\n",
       "      <th>6</th>\n",
       "      <td>0</td>\n",
       "      <td>0</td>\n",
       "      <td>3</td>\n",
       "      <td>7.25</td>\n",
       "      <td>30.79</td>\n",
       "      <td>200.00</td>\n",
       "      <td>0.0</td>\n",
       "      <td>23.23</td>\n",
       "      <td>1</td>\n",
       "      <td>0</td>\n",
       "      <td>0</td>\n",
       "    </tr>\n",
       "    <tr>\n",
       "      <th>7</th>\n",
       "      <td>1</td>\n",
       "      <td>2</td>\n",
       "      <td>8</td>\n",
       "      <td>16.24</td>\n",
       "      <td>30.79</td>\n",
       "      <td>349.40</td>\n",
       "      <td>1702.0</td>\n",
       "      <td>150.63</td>\n",
       "      <td>0</td>\n",
       "      <td>15063</td>\n",
       "      <td>1</td>\n",
       "    </tr>\n",
       "    <tr>\n",
       "      <th>8</th>\n",
       "      <td>1</td>\n",
       "      <td>2</td>\n",
       "      <td>7</td>\n",
       "      <td>13.00</td>\n",
       "      <td>30.79</td>\n",
       "      <td>328.00</td>\n",
       "      <td>1599.0</td>\n",
       "      <td>72.27</td>\n",
       "      <td>0</td>\n",
       "      <td>7200</td>\n",
       "      <td>1</td>\n",
       "    </tr>\n",
       "    <tr>\n",
       "      <th>9</th>\n",
       "      <td>1</td>\n",
       "      <td>2</td>\n",
       "      <td>1</td>\n",
       "      <td>55.00</td>\n",
       "      <td>30.79</td>\n",
       "      <td>1539.00</td>\n",
       "      <td>14997.0</td>\n",
       "      <td>154.45</td>\n",
       "      <td>0</td>\n",
       "      <td>15417</td>\n",
       "      <td>1</td>\n",
       "    </tr>\n",
       "    <tr>\n",
       "      <th>10</th>\n",
       "      <td>0</td>\n",
       "      <td>0</td>\n",
       "      <td>1</td>\n",
       "      <td>15.00</td>\n",
       "      <td>29.79</td>\n",
       "      <td>446.85</td>\n",
       "      <td>1500.0</td>\n",
       "      <td>0.00</td>\n",
       "      <td>0</td>\n",
       "      <td>0</td>\n",
       "      <td>0</td>\n",
       "    </tr>\n",
       "    <tr>\n",
       "      <th>14</th>\n",
       "      <td>0</td>\n",
       "      <td>3</td>\n",
       "      <td>34</td>\n",
       "      <td>10.08</td>\n",
       "      <td>29.79</td>\n",
       "      <td>300.00</td>\n",
       "      <td>1512.0</td>\n",
       "      <td>0.28</td>\n",
       "      <td>0</td>\n",
       "      <td>0</td>\n",
       "      <td>2</td>\n",
       "    </tr>\n",
       "    <tr>\n",
       "      <th>18</th>\n",
       "      <td>1</td>\n",
       "      <td>2</td>\n",
       "      <td>7</td>\n",
       "      <td>4.87</td>\n",
       "      <td>29.79</td>\n",
       "      <td>87.70</td>\n",
       "      <td>87.0</td>\n",
       "      <td>57.38</td>\n",
       "      <td>0</td>\n",
       "      <td>5738</td>\n",
       "      <td>1</td>\n",
       "    </tr>\n",
       "    <tr>\n",
       "      <th>20</th>\n",
       "      <td>0</td>\n",
       "      <td>5</td>\n",
       "      <td>4</td>\n",
       "      <td>18.97</td>\n",
       "      <td>29.79</td>\n",
       "      <td>565.00</td>\n",
       "      <td>2845.0</td>\n",
       "      <td>0.12</td>\n",
       "      <td>0</td>\n",
       "      <td>0</td>\n",
       "      <td>3</td>\n",
       "    </tr>\n",
       "    <tr>\n",
       "      <th>21</th>\n",
       "      <td>0</td>\n",
       "      <td>2</td>\n",
       "      <td>3</td>\n",
       "      <td>8.40</td>\n",
       "      <td>29.79</td>\n",
       "      <td>250.00</td>\n",
       "      <td>250.0</td>\n",
       "      <td>0.24</td>\n",
       "      <td>0</td>\n",
       "      <td>0</td>\n",
       "      <td>1</td>\n",
       "    </tr>\n",
       "  </tbody>\n",
       "</table>\n",
       "</div>"
      ],
      "text/plain": [
       "    ВидОперации  АЗСКод  Карта  Количество   Цена    Сумма   Бонусы  \\\n",
       "1             0       0     11        6.72  29.79   200.00    200.0   \n",
       "6             0       0      3        7.25  30.79   200.00      0.0   \n",
       "7             1       2      8       16.24  30.79   349.40   1702.0   \n",
       "8             1       2      7       13.00  30.79   328.00   1599.0   \n",
       "9             1       2      1       55.00  30.79  1539.00  14997.0   \n",
       "10            0       0      1       15.00  29.79   446.85   1500.0   \n",
       "14            0       3     34       10.08  29.79   300.00   1512.0   \n",
       "18            1       2      7        4.87  29.79    87.70     87.0   \n",
       "20            0       5      4       18.97  29.79   565.00   2845.0   \n",
       "21            0       2      3        8.40  29.79   250.00    250.0   \n",
       "\n",
       "    СуммаСкидки  УниверсальнаяАкцияКод  СписаноБонусов  ОператорКод  \n",
       "1          0.19                      0               0            0  \n",
       "6         23.23                      1               0            0  \n",
       "7        150.63                      0           15063            1  \n",
       "8         72.27                      0            7200            1  \n",
       "9        154.45                      0           15417            1  \n",
       "10         0.00                      0               0            0  \n",
       "14         0.28                      0               0            2  \n",
       "18        57.38                      0            5738            1  \n",
       "20         0.12                      0               0            3  \n",
       "21         0.24                      0               0            1  "
      ]
     },
     "execution_count": 34,
     "metadata": {},
     "output_type": "execute_result"
    }
   ],
   "source": [
    "data.head(10)"
   ]
  },
  {
   "cell_type": "markdown",
   "metadata": {},
   "source": [
    "### Training model"
   ]
  },
  {
   "cell_type": "code",
   "execution_count": 35,
   "metadata": {},
   "outputs": [],
   "source": [
    "# importing IsolationForest Algorithm\n",
    "from sklearn.ensemble import IsolationForest"
   ]
  },
  {
   "cell_type": "code",
   "execution_count": 36,
   "metadata": {},
   "outputs": [],
   "source": [
    "# creating model\n",
    "clf = IsolationForest(random_state=0)"
   ]
  },
  {
   "cell_type": "code",
   "execution_count": 37,
   "metadata": {},
   "outputs": [
    {
     "data": {
      "text/plain": [
       "IsolationForest(random_state=0)"
      ]
     },
     "execution_count": 37,
     "metadata": {},
     "output_type": "execute_result"
    }
   ],
   "source": [
    "# fit model\n",
    "clf.fit(data.values)"
   ]
  },
  {
   "cell_type": "markdown",
   "metadata": {},
   "source": [
    "### Predicting and analyzing result"
   ]
  },
  {
   "cell_type": "code",
   "execution_count": 38,
   "metadata": {},
   "outputs": [],
   "source": [
    "# making prediction on the dataset\n",
    "prediction = clf.predict(data.values)"
   ]
  },
  {
   "cell_type": "code",
   "execution_count": 39,
   "metadata": {},
   "outputs": [],
   "source": [
    "# replace 1 for inliers, -1 for outliers with 0 for inliers and 1 for outliers\n",
    "anomaly = np.where(prediction==-1, 1, 0)"
   ]
  },
  {
   "cell_type": "code",
   "execution_count": 40,
   "metadata": {},
   "outputs": [],
   "source": [
    "# adding column to data frame\n",
    "data['Anomaly'] = anomaly"
   ]
  },
  {
   "cell_type": "code",
   "execution_count": 41,
   "metadata": {},
   "outputs": [
    {
     "data": {
      "text/html": [
       "<div>\n",
       "<style scoped>\n",
       "    .dataframe tbody tr th:only-of-type {\n",
       "        vertical-align: middle;\n",
       "    }\n",
       "\n",
       "    .dataframe tbody tr th {\n",
       "        vertical-align: top;\n",
       "    }\n",
       "\n",
       "    .dataframe thead th {\n",
       "        text-align: right;\n",
       "    }\n",
       "</style>\n",
       "<table border=\"1\" class=\"dataframe\">\n",
       "  <thead>\n",
       "    <tr style=\"text-align: right;\">\n",
       "      <th></th>\n",
       "      <th>ВидОперации</th>\n",
       "      <th>АЗСКод</th>\n",
       "      <th>Карта</th>\n",
       "      <th>Количество</th>\n",
       "      <th>Цена</th>\n",
       "      <th>Сумма</th>\n",
       "      <th>Бонусы</th>\n",
       "      <th>СуммаСкидки</th>\n",
       "      <th>УниверсальнаяАкцияКод</th>\n",
       "      <th>СписаноБонусов</th>\n",
       "      <th>ОператорКод</th>\n",
       "      <th>Anomaly</th>\n",
       "    </tr>\n",
       "  </thead>\n",
       "  <tbody>\n",
       "    <tr>\n",
       "      <th>1</th>\n",
       "      <td>0</td>\n",
       "      <td>0</td>\n",
       "      <td>11</td>\n",
       "      <td>6.72</td>\n",
       "      <td>29.79</td>\n",
       "      <td>200.00</td>\n",
       "      <td>200.0</td>\n",
       "      <td>0.19</td>\n",
       "      <td>0</td>\n",
       "      <td>0</td>\n",
       "      <td>0</td>\n",
       "      <td>0</td>\n",
       "    </tr>\n",
       "    <tr>\n",
       "      <th>6</th>\n",
       "      <td>0</td>\n",
       "      <td>0</td>\n",
       "      <td>3</td>\n",
       "      <td>7.25</td>\n",
       "      <td>30.79</td>\n",
       "      <td>200.00</td>\n",
       "      <td>0.0</td>\n",
       "      <td>23.23</td>\n",
       "      <td>1</td>\n",
       "      <td>0</td>\n",
       "      <td>0</td>\n",
       "      <td>0</td>\n",
       "    </tr>\n",
       "    <tr>\n",
       "      <th>7</th>\n",
       "      <td>1</td>\n",
       "      <td>2</td>\n",
       "      <td>8</td>\n",
       "      <td>16.24</td>\n",
       "      <td>30.79</td>\n",
       "      <td>349.40</td>\n",
       "      <td>1702.0</td>\n",
       "      <td>150.63</td>\n",
       "      <td>0</td>\n",
       "      <td>15063</td>\n",
       "      <td>1</td>\n",
       "      <td>1</td>\n",
       "    </tr>\n",
       "    <tr>\n",
       "      <th>8</th>\n",
       "      <td>1</td>\n",
       "      <td>2</td>\n",
       "      <td>7</td>\n",
       "      <td>13.00</td>\n",
       "      <td>30.79</td>\n",
       "      <td>328.00</td>\n",
       "      <td>1599.0</td>\n",
       "      <td>72.27</td>\n",
       "      <td>0</td>\n",
       "      <td>7200</td>\n",
       "      <td>1</td>\n",
       "      <td>0</td>\n",
       "    </tr>\n",
       "    <tr>\n",
       "      <th>9</th>\n",
       "      <td>1</td>\n",
       "      <td>2</td>\n",
       "      <td>1</td>\n",
       "      <td>55.00</td>\n",
       "      <td>30.79</td>\n",
       "      <td>1539.00</td>\n",
       "      <td>14997.0</td>\n",
       "      <td>154.45</td>\n",
       "      <td>0</td>\n",
       "      <td>15417</td>\n",
       "      <td>1</td>\n",
       "      <td>1</td>\n",
       "    </tr>\n",
       "    <tr>\n",
       "      <th>10</th>\n",
       "      <td>0</td>\n",
       "      <td>0</td>\n",
       "      <td>1</td>\n",
       "      <td>15.00</td>\n",
       "      <td>29.79</td>\n",
       "      <td>446.85</td>\n",
       "      <td>1500.0</td>\n",
       "      <td>0.00</td>\n",
       "      <td>0</td>\n",
       "      <td>0</td>\n",
       "      <td>0</td>\n",
       "      <td>0</td>\n",
       "    </tr>\n",
       "    <tr>\n",
       "      <th>14</th>\n",
       "      <td>0</td>\n",
       "      <td>3</td>\n",
       "      <td>34</td>\n",
       "      <td>10.08</td>\n",
       "      <td>29.79</td>\n",
       "      <td>300.00</td>\n",
       "      <td>1512.0</td>\n",
       "      <td>0.28</td>\n",
       "      <td>0</td>\n",
       "      <td>0</td>\n",
       "      <td>2</td>\n",
       "      <td>0</td>\n",
       "    </tr>\n",
       "    <tr>\n",
       "      <th>18</th>\n",
       "      <td>1</td>\n",
       "      <td>2</td>\n",
       "      <td>7</td>\n",
       "      <td>4.87</td>\n",
       "      <td>29.79</td>\n",
       "      <td>87.70</td>\n",
       "      <td>87.0</td>\n",
       "      <td>57.38</td>\n",
       "      <td>0</td>\n",
       "      <td>5738</td>\n",
       "      <td>1</td>\n",
       "      <td>0</td>\n",
       "    </tr>\n",
       "    <tr>\n",
       "      <th>20</th>\n",
       "      <td>0</td>\n",
       "      <td>5</td>\n",
       "      <td>4</td>\n",
       "      <td>18.97</td>\n",
       "      <td>29.79</td>\n",
       "      <td>565.00</td>\n",
       "      <td>2845.0</td>\n",
       "      <td>0.12</td>\n",
       "      <td>0</td>\n",
       "      <td>0</td>\n",
       "      <td>3</td>\n",
       "      <td>0</td>\n",
       "    </tr>\n",
       "    <tr>\n",
       "      <th>21</th>\n",
       "      <td>0</td>\n",
       "      <td>2</td>\n",
       "      <td>3</td>\n",
       "      <td>8.40</td>\n",
       "      <td>29.79</td>\n",
       "      <td>250.00</td>\n",
       "      <td>250.0</td>\n",
       "      <td>0.24</td>\n",
       "      <td>0</td>\n",
       "      <td>0</td>\n",
       "      <td>1</td>\n",
       "      <td>0</td>\n",
       "    </tr>\n",
       "  </tbody>\n",
       "</table>\n",
       "</div>"
      ],
      "text/plain": [
       "    ВидОперации  АЗСКод  Карта  Количество   Цена    Сумма   Бонусы  \\\n",
       "1             0       0     11        6.72  29.79   200.00    200.0   \n",
       "6             0       0      3        7.25  30.79   200.00      0.0   \n",
       "7             1       2      8       16.24  30.79   349.40   1702.0   \n",
       "8             1       2      7       13.00  30.79   328.00   1599.0   \n",
       "9             1       2      1       55.00  30.79  1539.00  14997.0   \n",
       "10            0       0      1       15.00  29.79   446.85   1500.0   \n",
       "14            0       3     34       10.08  29.79   300.00   1512.0   \n",
       "18            1       2      7        4.87  29.79    87.70     87.0   \n",
       "20            0       5      4       18.97  29.79   565.00   2845.0   \n",
       "21            0       2      3        8.40  29.79   250.00    250.0   \n",
       "\n",
       "    СуммаСкидки  УниверсальнаяАкцияКод  СписаноБонусов  ОператорКод  Anomaly  \n",
       "1          0.19                      0               0            0        0  \n",
       "6         23.23                      1               0            0        0  \n",
       "7        150.63                      0           15063            1        1  \n",
       "8         72.27                      0            7200            1        0  \n",
       "9        154.45                      0           15417            1        1  \n",
       "10         0.00                      0               0            0        0  \n",
       "14         0.28                      0               0            2        0  \n",
       "18        57.38                      0            5738            1        0  \n",
       "20         0.12                      0               0            3        0  \n",
       "21         0.24                      0               0            1        0  "
      ]
     },
     "execution_count": 41,
     "metadata": {},
     "output_type": "execute_result"
    }
   ],
   "source": [
    "# showing result\n",
    "data.head(10)"
   ]
  },
  {
   "cell_type": "code",
   "execution_count": 45,
   "metadata": {},
   "outputs": [],
   "source": [
    "# filter data only for anomaly operations\n",
    "anomaly_data = data[data['Anomaly']==1]"
   ]
  },
  {
   "cell_type": "code",
   "execution_count": 59,
   "metadata": {},
   "outputs": [],
   "source": [
    "# sorting by operator with the highest anomaly operations\n",
    "anomaly_sorted = anomaly_data.groupby('ОператорКод').count().sort_values('Anomaly', ascending=False)"
   ]
  },
  {
   "cell_type": "code",
   "execution_count": 66,
   "metadata": {},
   "outputs": [
    {
     "data": {
      "image/png": "[encoded data removed]",
      "text/plain": [
       "<Figure size 432x288 with 1 Axes>"
      ]
     },
     "metadata": {
      "needs_background": "light"
     },
     "output_type": "display_data"
    }
   ],
   "source": [
    "# visualizing result\n",
    "plt.scatter(anomaly_sorted.index, anomaly_sorted['Anomaly'])\n",
    "plt.plot([0,60], [230,230], color='red')\n",
    "plt.show()"
   ]
  },
  {
   "cell_type": "markdown",
   "metadata": {},
   "source": [
    "We can clearly see that in most cases anomaly frequency is below 230, only few are more than that"
   ]
  },
  {
   "cell_type": "markdown",
   "metadata": {},
   "source": [
    "Let's filter only those operators who are above the line"
   ]
  },
  {
   "cell_type": "code",
   "execution_count": 70,
   "metadata": {},
   "outputs": [
    {
     "data": {
      "text/html": [
       "<div>\n",
       "<style scoped>\n",
       "    .dataframe tbody tr th:only-of-type {\n",
       "        vertical-align: middle;\n",
       "    }\n",
       "\n",
       "    .dataframe tbody tr th {\n",
       "        vertical-align: top;\n",
       "    }\n",
       "\n",
       "    .dataframe thead th {\n",
       "        text-align: right;\n",
       "    }\n",
       "</style>\n",
       "<table border=\"1\" class=\"dataframe\">\n",
       "  <thead>\n",
       "    <tr style=\"text-align: right;\">\n",
       "      <th></th>\n",
       "      <th>ВидОперации</th>\n",
       "      <th>АЗСКод</th>\n",
       "      <th>Карта</th>\n",
       "      <th>Количество</th>\n",
       "      <th>Цена</th>\n",
       "      <th>Сумма</th>\n",
       "      <th>Бонусы</th>\n",
       "      <th>СуммаСкидки</th>\n",
       "      <th>УниверсальнаяАкцияКод</th>\n",
       "      <th>СписаноБонусов</th>\n",
       "      <th>Anomaly</th>\n",
       "    </tr>\n",
       "    <tr>\n",
       "      <th>ОператорКод</th>\n",
       "      <th></th>\n",
       "      <th></th>\n",
       "      <th></th>\n",
       "      <th></th>\n",
       "      <th></th>\n",
       "      <th></th>\n",
       "      <th></th>\n",
       "      <th></th>\n",
       "      <th></th>\n",
       "      <th></th>\n",
       "      <th></th>\n",
       "    </tr>\n",
       "  </thead>\n",
       "  <tbody>\n",
       "    <tr>\n",
       "      <th>26</th>\n",
       "      <td>485</td>\n",
       "      <td>485</td>\n",
       "      <td>485</td>\n",
       "      <td>485</td>\n",
       "      <td>485</td>\n",
       "      <td>485</td>\n",
       "      <td>485</td>\n",
       "      <td>485</td>\n",
       "      <td>485</td>\n",
       "      <td>485</td>\n",
       "      <td>485</td>\n",
       "    </tr>\n",
       "    <tr>\n",
       "      <th>8</th>\n",
       "      <td>385</td>\n",
       "      <td>385</td>\n",
       "      <td>385</td>\n",
       "      <td>385</td>\n",
       "      <td>385</td>\n",
       "      <td>385</td>\n",
       "      <td>385</td>\n",
       "      <td>385</td>\n",
       "      <td>385</td>\n",
       "      <td>385</td>\n",
       "      <td>385</td>\n",
       "    </tr>\n",
       "    <tr>\n",
       "      <th>60</th>\n",
       "      <td>365</td>\n",
       "      <td>365</td>\n",
       "      <td>365</td>\n",
       "      <td>365</td>\n",
       "      <td>365</td>\n",
       "      <td>365</td>\n",
       "      <td>365</td>\n",
       "      <td>365</td>\n",
       "      <td>365</td>\n",
       "      <td>365</td>\n",
       "      <td>365</td>\n",
       "    </tr>\n",
       "    <tr>\n",
       "      <th>51</th>\n",
       "      <td>343</td>\n",
       "      <td>343</td>\n",
       "      <td>343</td>\n",
       "      <td>343</td>\n",
       "      <td>343</td>\n",
       "      <td>343</td>\n",
       "      <td>343</td>\n",
       "      <td>343</td>\n",
       "      <td>343</td>\n",
       "      <td>343</td>\n",
       "      <td>343</td>\n",
       "    </tr>\n",
       "    <tr>\n",
       "      <th>28</th>\n",
       "      <td>294</td>\n",
       "      <td>294</td>\n",
       "      <td>294</td>\n",
       "      <td>294</td>\n",
       "      <td>294</td>\n",
       "      <td>294</td>\n",
       "      <td>294</td>\n",
       "      <td>294</td>\n",
       "      <td>294</td>\n",
       "      <td>294</td>\n",
       "      <td>294</td>\n",
       "    </tr>\n",
       "    <tr>\n",
       "      <th>7</th>\n",
       "      <td>285</td>\n",
       "      <td>285</td>\n",
       "      <td>285</td>\n",
       "      <td>285</td>\n",
       "      <td>285</td>\n",
       "      <td>285</td>\n",
       "      <td>285</td>\n",
       "      <td>285</td>\n",
       "      <td>285</td>\n",
       "      <td>285</td>\n",
       "      <td>285</td>\n",
       "    </tr>\n",
       "    <tr>\n",
       "      <th>35</th>\n",
       "      <td>284</td>\n",
       "      <td>284</td>\n",
       "      <td>284</td>\n",
       "      <td>284</td>\n",
       "      <td>284</td>\n",
       "      <td>284</td>\n",
       "      <td>284</td>\n",
       "      <td>284</td>\n",
       "      <td>284</td>\n",
       "      <td>284</td>\n",
       "      <td>284</td>\n",
       "    </tr>\n",
       "    <tr>\n",
       "      <th>16</th>\n",
       "      <td>261</td>\n",
       "      <td>261</td>\n",
       "      <td>261</td>\n",
       "      <td>261</td>\n",
       "      <td>261</td>\n",
       "      <td>261</td>\n",
       "      <td>261</td>\n",
       "      <td>261</td>\n",
       "      <td>261</td>\n",
       "      <td>261</td>\n",
       "      <td>261</td>\n",
       "    </tr>\n",
       "    <tr>\n",
       "      <th>1</th>\n",
       "      <td>256</td>\n",
       "      <td>256</td>\n",
       "      <td>256</td>\n",
       "      <td>256</td>\n",
       "      <td>256</td>\n",
       "      <td>256</td>\n",
       "      <td>256</td>\n",
       "      <td>256</td>\n",
       "      <td>256</td>\n",
       "      <td>256</td>\n",
       "      <td>256</td>\n",
       "    </tr>\n",
       "    <tr>\n",
       "      <th>2</th>\n",
       "      <td>255</td>\n",
       "      <td>255</td>\n",
       "      <td>255</td>\n",
       "      <td>255</td>\n",
       "      <td>255</td>\n",
       "      <td>255</td>\n",
       "      <td>255</td>\n",
       "      <td>255</td>\n",
       "      <td>255</td>\n",
       "      <td>255</td>\n",
       "      <td>255</td>\n",
       "    </tr>\n",
       "  </tbody>\n",
       "</table>\n",
       "</div>"
      ],
      "text/plain": [
       "             ВидОперации  АЗСКод  Карта  Количество  Цена  Сумма  Бонусы  \\\n",
       "ОператорКод                                                                \n",
       "26                   485     485    485         485   485    485     485   \n",
       "8                    385     385    385         385   385    385     385   \n",
       "60                   365     365    365         365   365    365     365   \n",
       "51                   343     343    343         343   343    343     343   \n",
       "28                   294     294    294         294   294    294     294   \n",
       "7                    285     285    285         285   285    285     285   \n",
       "35                   284     284    284         284   284    284     284   \n",
       "16                   261     261    261         261   261    261     261   \n",
       "1                    256     256    256         256   256    256     256   \n",
       "2                    255     255    255         255   255    255     255   \n",
       "\n",
       "             СуммаСкидки  УниверсальнаяАкцияКод  СписаноБонусов  Anomaly  \n",
       "ОператорКод                                                               \n",
       "26                   485                    485             485      485  \n",
       "8                    385                    385             385      385  \n",
       "60                   365                    365             365      365  \n",
       "51                   343                    343             343      343  \n",
       "28                   294                    294             294      294  \n",
       "7                    285                    285             285      285  \n",
       "35                   284                    284             284      284  \n",
       "16                   261                    261             261      261  \n",
       "1                    256                    256             256      256  \n",
       "2                    255                    255             255      255  "
      ]
     },
     "execution_count": 70,
     "metadata": {},
     "output_type": "execute_result"
    }
   ],
   "source": [
    "# sort only for the highest frequency\n",
    "anomaly_sorted = anomaly_sorted[anomaly_sorted['Anomaly']>230]\n",
    "anomaly_sorted"
   ]
  },
  {
   "cell_type": "code",
   "execution_count": 80,
   "metadata": {},
   "outputs": [],
   "source": [
    "# getting list of operators names\n",
    "names = []\n",
    "for name_index in list(anomaly_sorted.index):\n",
    "    names.append(list_operators[name_index])"
   ]
  },
  {
   "cell_type": "code",
   "execution_count": 84,
   "metadata": {},
   "outputs": [],
   "source": [
    "# getting list of anomaly quantity\n",
    "cases = list(anomaly_sorted['Anomaly'].values)"
   ]
  },
  {
   "cell_type": "code",
   "execution_count": 92,
   "metadata": {},
   "outputs": [],
   "source": [
    "# making dataframe\n",
    "anomaly_list = pd.DataFrame(data={'Operator':names, 'Anomaly operations':cases})"
   ]
  },
  {
   "cell_type": "markdown",
   "metadata": {},
   "source": [
    "#### Result"
   ]
  },
  {
   "cell_type": "code",
   "execution_count": 93,
   "metadata": {},
   "outputs": [
    {
     "data": {
      "text/html": [
       "<div>\n",
       "<style scoped>\n",
       "    .dataframe tbody tr th:only-of-type {\n",
       "        vertical-align: middle;\n",
       "    }\n",
       "\n",
       "    .dataframe tbody tr th {\n",
       "        vertical-align: top;\n",
       "    }\n",
       "\n",
       "    .dataframe thead th {\n",
       "        text-align: right;\n",
       "    }\n",
       "</style>\n",
       "<table border=\"1\" class=\"dataframe\">\n",
       "  <thead>\n",
       "    <tr style=\"text-align: right;\">\n",
       "      <th></th>\n",
       "      <th>Operator</th>\n",
       "      <th>Anomaly operations</th>\n",
       "    </tr>\n",
       "  </thead>\n",
       "  <tbody>\n",
       "    <tr>\n",
       "      <th>0</th>\n",
       "      <td>Процишин Костянтин Петрович</td>\n",
       "      <td>485</td>\n",
       "    </tr>\n",
       "    <tr>\n",
       "      <th>1</th>\n",
       "      <td>Гуля Євген Ігорович</td>\n",
       "      <td>385</td>\n",
       "    </tr>\n",
       "    <tr>\n",
       "      <th>2</th>\n",
       "      <td>Распутний Артур Сергійович</td>\n",
       "      <td>365</td>\n",
       "    </tr>\n",
       "    <tr>\n",
       "      <th>3</th>\n",
       "      <td>Тищенко Р.В.</td>\n",
       "      <td>343</td>\n",
       "    </tr>\n",
       "    <tr>\n",
       "      <th>4</th>\n",
       "      <td>Фера Радміла Іванівна</td>\n",
       "      <td>294</td>\n",
       "    </tr>\n",
       "    <tr>\n",
       "      <th>5</th>\n",
       "      <td>Явисенко Олена Олександрівна</td>\n",
       "      <td>285</td>\n",
       "    </tr>\n",
       "    <tr>\n",
       "      <th>6</th>\n",
       "      <td>Співак Олексій Степанович</td>\n",
       "      <td>284</td>\n",
       "    </tr>\n",
       "    <tr>\n",
       "      <th>7</th>\n",
       "      <td>Турусова Анастасія Володимирівна</td>\n",
       "      <td>261</td>\n",
       "    </tr>\n",
       "    <tr>\n",
       "      <th>8</th>\n",
       "      <td>Лучко Євгенія Олександрівна</td>\n",
       "      <td>256</td>\n",
       "    </tr>\n",
       "    <tr>\n",
       "      <th>9</th>\n",
       "      <td>Федів Ірина Василівна</td>\n",
       "      <td>255</td>\n",
       "    </tr>\n",
       "  </tbody>\n",
       "</table>\n",
       "</div>"
      ],
      "text/plain": [
       "                           Operator  Anomaly operations\n",
       "0       Процишин Костянтин Петрович                 485\n",
       "1               Гуля Євген Ігорович                 385\n",
       "2        Распутний Артур Сергійович                 365\n",
       "3                      Тищенко Р.В.                 343\n",
       "4             Фера Радміла Іванівна                 294\n",
       "5      Явисенко Олена Олександрівна                 285\n",
       "6         Співак Олексій Степанович                 284\n",
       "7  Турусова Анастасія Володимирівна                 261\n",
       "8       Лучко Євгенія Олександрівна                 256\n",
       "9             Федів Ірина Василівна                 255"
      ]
     },
     "execution_count": 93,
     "metadata": {},
     "output_type": "execute_result"
    }
   ],
   "source": [
    "# showing dataframe\n",
    "anomaly_list"
   ]
  },
  {
   "cell_type": "markdown",
   "metadata": {},
   "source": [
    "Here is the list of operators that has more that others suspicious operations"
   ]
  },
  {
   "cell_type": "markdown",
   "metadata": {},
   "source": [
    " "
   ]
  }
 ],
 "metadata": {
  "kernelspec": {
   "display_name": "Python 3",
   "language": "python",
   "name": "python3"
  },
  "language_info": {
   "codemirror_mode": {
    "name": "ipython",
    "version": 3
   },
   "file_extension": ".py",
   "mimetype": "text/x-python",
   "name": "python",
   "nbconvert_exporter": "python",
   "pygments_lexer": "ipython3",
   "version": "3.6.9"
  }
 },
 "nbformat": 4,
 "nbformat_minor": 4
}
