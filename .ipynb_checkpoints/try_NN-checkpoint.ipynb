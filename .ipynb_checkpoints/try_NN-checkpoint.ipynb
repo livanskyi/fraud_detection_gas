{
 "cells": [
  {
   "cell_type": "code",
   "execution_count": null,
   "metadata": {},
   "outputs": [],
   "source": [
    "import pandas as pd\n",
    "import numpy\n",
    "import tensorflow as tf"
   ]
  },
  {
   "cell_type": "code",
   "execution_count": 2,
   "metadata": {},
   "outputs": [],
   "source": [
    "train = pd.read_csv('train.csv')"
   ]
  },
  {
   "cell_type": "code",
   "execution_count": 3,
   "metadata": {},
   "outputs": [
    {
     "data": {
      "text/html": [
       "<div>\n",
       "<style scoped>\n",
       "    .dataframe tbody tr th:only-of-type {\n",
       "        vertical-align: middle;\n",
       "    }\n",
       "\n",
       "    .dataframe tbody tr th {\n",
       "        vertical-align: top;\n",
       "    }\n",
       "\n",
       "    .dataframe thead th {\n",
       "        text-align: right;\n",
       "    }\n",
       "</style>\n",
       "<table border=\"1\" class=\"dataframe\">\n",
       "  <thead>\n",
       "    <tr style=\"text-align: right;\">\n",
       "      <th></th>\n",
       "      <th>Карта</th>\n",
       "      <th>operations_per_day</th>\n",
       "      <th>special_discount_3</th>\n",
       "      <th>special_discount_224</th>\n",
       "      <th>Сумма</th>\n",
       "      <th>Бонусы</th>\n",
       "      <th>СуммаСкидки</th>\n",
       "      <th>СписаноБонусов</th>\n",
       "      <th>is_fraud</th>\n",
       "    </tr>\n",
       "  </thead>\n",
       "  <tbody>\n",
       "    <tr>\n",
       "      <th>0</th>\n",
       "      <td>002043206DC69131FC6444B0880F2D07</td>\n",
       "      <td>1.00</td>\n",
       "      <td>0</td>\n",
       "      <td>0</td>\n",
       "      <td>800.00</td>\n",
       "      <td>5372.00</td>\n",
       "      <td>83.46</td>\n",
       "      <td>8345.00</td>\n",
       "      <td>0</td>\n",
       "    </tr>\n",
       "    <tr>\n",
       "      <th>1</th>\n",
       "      <td>0049F1FFC58BD9977F50E56C71D5536B</td>\n",
       "      <td>1.50</td>\n",
       "      <td>0</td>\n",
       "      <td>0</td>\n",
       "      <td>259.69</td>\n",
       "      <td>965.17</td>\n",
       "      <td>0.04</td>\n",
       "      <td>0.00</td>\n",
       "      <td>0</td>\n",
       "    </tr>\n",
       "    <tr>\n",
       "      <th>2</th>\n",
       "      <td>005595BFFC7222DBB557E59A3872E56D</td>\n",
       "      <td>1.71</td>\n",
       "      <td>7</td>\n",
       "      <td>0</td>\n",
       "      <td>326.86</td>\n",
       "      <td>2463.14</td>\n",
       "      <td>25.27</td>\n",
       "      <td>1630.57</td>\n",
       "      <td>0</td>\n",
       "    </tr>\n",
       "    <tr>\n",
       "      <th>3</th>\n",
       "      <td>00DC9FCD81231002E2015CF04A2B01C2</td>\n",
       "      <td>1.00</td>\n",
       "      <td>11</td>\n",
       "      <td>0</td>\n",
       "      <td>790.27</td>\n",
       "      <td>5300.55</td>\n",
       "      <td>83.30</td>\n",
       "      <td>5490.00</td>\n",
       "      <td>1</td>\n",
       "    </tr>\n",
       "    <tr>\n",
       "      <th>4</th>\n",
       "      <td>00EB869662094C3C148EAEB8672D2BB7</td>\n",
       "      <td>1.75</td>\n",
       "      <td>7</td>\n",
       "      <td>0</td>\n",
       "      <td>510.04</td>\n",
       "      <td>3717.62</td>\n",
       "      <td>18.70</td>\n",
       "      <td>0.00</td>\n",
       "      <td>0</td>\n",
       "    </tr>\n",
       "    <tr>\n",
       "      <th>...</th>\n",
       "      <td>...</td>\n",
       "      <td>...</td>\n",
       "      <td>...</td>\n",
       "      <td>...</td>\n",
       "      <td>...</td>\n",
       "      <td>...</td>\n",
       "      <td>...</td>\n",
       "      <td>...</td>\n",
       "      <td>...</td>\n",
       "    </tr>\n",
       "    <tr>\n",
       "      <th>1915</th>\n",
       "      <td>FF88E8952CBA6FF330B9DF3F6CA6F2DA</td>\n",
       "      <td>1.00</td>\n",
       "      <td>0</td>\n",
       "      <td>0</td>\n",
       "      <td>352.13</td>\n",
       "      <td>1306.40</td>\n",
       "      <td>0.03</td>\n",
       "      <td>0.00</td>\n",
       "      <td>0</td>\n",
       "    </tr>\n",
       "    <tr>\n",
       "      <th>1916</th>\n",
       "      <td>FFB1A367E4B62FB268767E712E404986</td>\n",
       "      <td>1.60</td>\n",
       "      <td>5</td>\n",
       "      <td>0</td>\n",
       "      <td>853.26</td>\n",
       "      <td>0.00</td>\n",
       "      <td>98.42</td>\n",
       "      <td>0.00</td>\n",
       "      <td>0</td>\n",
       "    </tr>\n",
       "    <tr>\n",
       "      <th>1917</th>\n",
       "      <td>FFD689128D88650F6820A54E3604DD09</td>\n",
       "      <td>1.60</td>\n",
       "      <td>0</td>\n",
       "      <td>0</td>\n",
       "      <td>305.22</td>\n",
       "      <td>1543.40</td>\n",
       "      <td>64.25</td>\n",
       "      <td>6426.40</td>\n",
       "      <td>0</td>\n",
       "    </tr>\n",
       "    <tr>\n",
       "      <th>1918</th>\n",
       "      <td>FFD8567FF1048ABD2B486C2D08FE3B34</td>\n",
       "      <td>1.78</td>\n",
       "      <td>0</td>\n",
       "      <td>0</td>\n",
       "      <td>400.09</td>\n",
       "      <td>2093.44</td>\n",
       "      <td>59.58</td>\n",
       "      <td>5957.67</td>\n",
       "      <td>0</td>\n",
       "    </tr>\n",
       "    <tr>\n",
       "      <th>1919</th>\n",
       "      <td>FFDDE5951E14CA31FA92F14FDF88CFB1</td>\n",
       "      <td>1.00</td>\n",
       "      <td>0</td>\n",
       "      <td>0</td>\n",
       "      <td>251.79</td>\n",
       "      <td>1054.62</td>\n",
       "      <td>0.14</td>\n",
       "      <td>14.38</td>\n",
       "      <td>0</td>\n",
       "    </tr>\n",
       "  </tbody>\n",
       "</table>\n",
       "<p>1920 rows × 9 columns</p>\n",
       "</div>"
      ],
      "text/plain": [
       "                                 Карта  operations_per_day  \\\n",
       "0     002043206DC69131FC6444B0880F2D07                1.00   \n",
       "1     0049F1FFC58BD9977F50E56C71D5536B                1.50   \n",
       "2     005595BFFC7222DBB557E59A3872E56D                1.71   \n",
       "3     00DC9FCD81231002E2015CF04A2B01C2                1.00   \n",
       "4     00EB869662094C3C148EAEB8672D2BB7                1.75   \n",
       "...                                ...                 ...   \n",
       "1915  FF88E8952CBA6FF330B9DF3F6CA6F2DA                1.00   \n",
       "1916  FFB1A367E4B62FB268767E712E404986                1.60   \n",
       "1917  FFD689128D88650F6820A54E3604DD09                1.60   \n",
       "1918  FFD8567FF1048ABD2B486C2D08FE3B34                1.78   \n",
       "1919  FFDDE5951E14CA31FA92F14FDF88CFB1                1.00   \n",
       "\n",
       "      special_discount_3  special_discount_224   Сумма   Бонусы  СуммаСкидки  \\\n",
       "0                      0                     0  800.00  5372.00        83.46   \n",
       "1                      0                     0  259.69   965.17         0.04   \n",
       "2                      7                     0  326.86  2463.14        25.27   \n",
       "3                     11                     0  790.27  5300.55        83.30   \n",
       "4                      7                     0  510.04  3717.62        18.70   \n",
       "...                  ...                   ...     ...      ...          ...   \n",
       "1915                   0                     0  352.13  1306.40         0.03   \n",
       "1916                   5                     0  853.26     0.00        98.42   \n",
       "1917                   0                     0  305.22  1543.40        64.25   \n",
       "1918                   0                     0  400.09  2093.44        59.58   \n",
       "1919                   0                     0  251.79  1054.62         0.14   \n",
       "\n",
       "      СписаноБонусов  is_fraud  \n",
       "0            8345.00         0  \n",
       "1               0.00         0  \n",
       "2            1630.57         0  \n",
       "3            5490.00         1  \n",
       "4               0.00         0  \n",
       "...              ...       ...  \n",
       "1915            0.00         0  \n",
       "1916            0.00         0  \n",
       "1917         6426.40         0  \n",
       "1918         5957.67         0  \n",
       "1919           14.38         0  \n",
       "\n",
       "[1920 rows x 9 columns]"
      ]
     },
     "execution_count": 3,
     "metadata": {},
     "output_type": "execute_result"
    }
   ],
   "source": [
    "train"
   ]
  },
  {
   "cell_type": "code",
   "execution_count": 5,
   "metadata": {},
   "outputs": [],
   "source": [
    "test = pd.read_csv('test.csv')"
   ]
  },
  {
   "cell_type": "code",
   "execution_count": 6,
   "metadata": {},
   "outputs": [
    {
     "data": {
      "text/html": [
       "<div>\n",
       "<style scoped>\n",
       "    .dataframe tbody tr th:only-of-type {\n",
       "        vertical-align: middle;\n",
       "    }\n",
       "\n",
       "    .dataframe tbody tr th {\n",
       "        vertical-align: top;\n",
       "    }\n",
       "\n",
       "    .dataframe thead th {\n",
       "        text-align: right;\n",
       "    }\n",
       "</style>\n",
       "<table border=\"1\" class=\"dataframe\">\n",
       "  <thead>\n",
       "    <tr style=\"text-align: right;\">\n",
       "      <th></th>\n",
       "      <th>Карта</th>\n",
       "      <th>operations_per_day</th>\n",
       "      <th>special_discount_3</th>\n",
       "      <th>special_discount_224</th>\n",
       "      <th>Сумма</th>\n",
       "      <th>Бонусы</th>\n",
       "      <th>СуммаСкидки</th>\n",
       "      <th>СписаноБонусов</th>\n",
       "    </tr>\n",
       "  </thead>\n",
       "  <tbody>\n",
       "    <tr>\n",
       "      <th>0</th>\n",
       "      <td>0357098A9B4792A725030975FF992E46</td>\n",
       "      <td>1.56</td>\n",
       "      <td>0</td>\n",
       "      <td>0</td>\n",
       "      <td>369.39</td>\n",
       "      <td>4099.89</td>\n",
       "      <td>87.06</td>\n",
       "      <td>8709.89</td>\n",
       "    </tr>\n",
       "    <tr>\n",
       "      <th>1</th>\n",
       "      <td>03A32DA0336671361C853C10B69E95AF</td>\n",
       "      <td>1.00</td>\n",
       "      <td>0</td>\n",
       "      <td>1</td>\n",
       "      <td>256.64</td>\n",
       "      <td>1631.53</td>\n",
       "      <td>0.10</td>\n",
       "      <td>0.00</td>\n",
       "    </tr>\n",
       "    <tr>\n",
       "      <th>2</th>\n",
       "      <td>07D3E77CD24DA3154BA219D09BF93B4B</td>\n",
       "      <td>1.80</td>\n",
       "      <td>0</td>\n",
       "      <td>0</td>\n",
       "      <td>114.41</td>\n",
       "      <td>256.02</td>\n",
       "      <td>2.90</td>\n",
       "      <td>287.66</td>\n",
       "    </tr>\n",
       "    <tr>\n",
       "      <th>3</th>\n",
       "      <td>0847BF2B4784F83823D515D04C6D9639</td>\n",
       "      <td>1.00</td>\n",
       "      <td>0</td>\n",
       "      <td>0</td>\n",
       "      <td>200.02</td>\n",
       "      <td>1518.17</td>\n",
       "      <td>0.01</td>\n",
       "      <td>0.00</td>\n",
       "    </tr>\n",
       "    <tr>\n",
       "      <th>4</th>\n",
       "      <td>0B1FF492733C3A08D34DE0D7424A2549</td>\n",
       "      <td>1.93</td>\n",
       "      <td>0</td>\n",
       "      <td>0</td>\n",
       "      <td>92.98</td>\n",
       "      <td>92.74</td>\n",
       "      <td>0.03</td>\n",
       "      <td>0.00</td>\n",
       "    </tr>\n",
       "    <tr>\n",
       "      <th>...</th>\n",
       "      <td>...</td>\n",
       "      <td>...</td>\n",
       "      <td>...</td>\n",
       "      <td>...</td>\n",
       "      <td>...</td>\n",
       "      <td>...</td>\n",
       "      <td>...</td>\n",
       "      <td>...</td>\n",
       "    </tr>\n",
       "    <tr>\n",
       "      <th>96</th>\n",
       "      <td>E762D39C0AD2B8E8F25FCF4652E65689</td>\n",
       "      <td>1.91</td>\n",
       "      <td>0</td>\n",
       "      <td>0</td>\n",
       "      <td>373.19</td>\n",
       "      <td>3739.77</td>\n",
       "      <td>28.85</td>\n",
       "      <td>2884.23</td>\n",
       "    </tr>\n",
       "    <tr>\n",
       "      <th>97</th>\n",
       "      <td>EAA77BE5D715CF896BEB26C0674F7024</td>\n",
       "      <td>1.65</td>\n",
       "      <td>0</td>\n",
       "      <td>0</td>\n",
       "      <td>186.18</td>\n",
       "      <td>976.22</td>\n",
       "      <td>0.01</td>\n",
       "      <td>0.00</td>\n",
       "    </tr>\n",
       "    <tr>\n",
       "      <th>98</th>\n",
       "      <td>EBF4E943181ADB99FEB3A30A7101562B</td>\n",
       "      <td>2.25</td>\n",
       "      <td>20</td>\n",
       "      <td>0</td>\n",
       "      <td>181.61</td>\n",
       "      <td>350.00</td>\n",
       "      <td>33.66</td>\n",
       "      <td>0.00</td>\n",
       "    </tr>\n",
       "    <tr>\n",
       "      <th>99</th>\n",
       "      <td>F125B1B2BBF74755ACA2537AAA209E7C</td>\n",
       "      <td>2.21</td>\n",
       "      <td>0</td>\n",
       "      <td>0</td>\n",
       "      <td>137.10</td>\n",
       "      <td>451.05</td>\n",
       "      <td>0.04</td>\n",
       "      <td>0.00</td>\n",
       "    </tr>\n",
       "    <tr>\n",
       "      <th>100</th>\n",
       "      <td>F5D40EB63F272F3425457352C9168C9F</td>\n",
       "      <td>1.00</td>\n",
       "      <td>0</td>\n",
       "      <td>0</td>\n",
       "      <td>530.06</td>\n",
       "      <td>5102.43</td>\n",
       "      <td>40.53</td>\n",
       "      <td>4049.50</td>\n",
       "    </tr>\n",
       "  </tbody>\n",
       "</table>\n",
       "<p>101 rows × 8 columns</p>\n",
       "</div>"
      ],
      "text/plain": [
       "                                Карта  operations_per_day  special_discount_3  \\\n",
       "0    0357098A9B4792A725030975FF992E46                1.56                   0   \n",
       "1    03A32DA0336671361C853C10B69E95AF                1.00                   0   \n",
       "2    07D3E77CD24DA3154BA219D09BF93B4B                1.80                   0   \n",
       "3    0847BF2B4784F83823D515D04C6D9639                1.00                   0   \n",
       "4    0B1FF492733C3A08D34DE0D7424A2549                1.93                   0   \n",
       "..                                ...                 ...                 ...   \n",
       "96   E762D39C0AD2B8E8F25FCF4652E65689                1.91                   0   \n",
       "97   EAA77BE5D715CF896BEB26C0674F7024                1.65                   0   \n",
       "98   EBF4E943181ADB99FEB3A30A7101562B                2.25                  20   \n",
       "99   F125B1B2BBF74755ACA2537AAA209E7C                2.21                   0   \n",
       "100  F5D40EB63F272F3425457352C9168C9F                1.00                   0   \n",
       "\n",
       "     special_discount_224   Сумма   Бонусы  СуммаСкидки  СписаноБонусов  \n",
       "0                       0  369.39  4099.89        87.06         8709.89  \n",
       "1                       1  256.64  1631.53         0.10            0.00  \n",
       "2                       0  114.41   256.02         2.90          287.66  \n",
       "3                       0  200.02  1518.17         0.01            0.00  \n",
       "4                       0   92.98    92.74         0.03            0.00  \n",
       "..                    ...     ...      ...          ...             ...  \n",
       "96                      0  373.19  3739.77        28.85         2884.23  \n",
       "97                      0  186.18   976.22         0.01            0.00  \n",
       "98                      0  181.61   350.00        33.66            0.00  \n",
       "99                      0  137.10   451.05         0.04            0.00  \n",
       "100                     0  530.06  5102.43        40.53         4049.50  \n",
       "\n",
       "[101 rows x 8 columns]"
      ]
     },
     "execution_count": 6,
     "metadata": {},
     "output_type": "execute_result"
    }
   ],
   "source": [
    "test"
   ]
  },
  {
   "cell_type": "code",
   "execution_count": 14,
   "metadata": {},
   "outputs": [],
   "source": [
    "val_1 = train[train['is_fraud'] == 1][0:10]"
   ]
  },
  {
   "cell_type": "code",
   "execution_count": 15,
   "metadata": {},
   "outputs": [],
   "source": [
    "val_2 = train[train['is_fraud'] != 1][100:120]"
   ]
  },
  {
   "cell_type": "code",
   "execution_count": 17,
   "metadata": {},
   "outputs": [],
   "source": [
    "train_2 = train[train['is_fraud'] != 1][0:100]"
   ]
  },
  {
   "cell_type": "code",
   "execution_count": 18,
   "metadata": {},
   "outputs": [],
   "source": [
    "train_1 = train[train['is_fraud'] == 1][10:]"
   ]
  },
  {
   "cell_type": "code",
   "execution_count": null,
   "metadata": {},
   "outputs": [],
   "source": []
  },
  {
   "cell_type": "code",
   "execution_count": 22,
   "metadata": {},
   "outputs": [],
   "source": [
    "val = val_1.append(val_2)"
   ]
  },
  {
   "cell_type": "code",
   "execution_count": 23,
   "metadata": {},
   "outputs": [],
   "source": [
    "train = train_1.append(train_2)"
   ]
  },
  {
   "cell_type": "code",
   "execution_count": 24,
   "metadata": {},
   "outputs": [
    {
     "data": {
      "text/plain": [
       "30"
      ]
     },
     "execution_count": 24,
     "metadata": {},
     "output_type": "execute_result"
    }
   ],
   "source": [
    "len(val)"
   ]
  },
  {
   "cell_type": "code",
   "execution_count": 25,
   "metadata": {},
   "outputs": [
    {
     "data": {
      "text/plain": [
       "156"
      ]
     },
     "execution_count": 25,
     "metadata": {},
     "output_type": "execute_result"
    }
   ],
   "source": [
    "len(train)"
   ]
  },
  {
   "cell_type": "code",
   "execution_count": 26,
   "metadata": {},
   "outputs": [
    {
     "data": {
      "text/plain": [
       "101"
      ]
     },
     "execution_count": 26,
     "metadata": {},
     "output_type": "execute_result"
    }
   ],
   "source": [
    "len(test)"
   ]
  },
  {
   "cell_type": "code",
   "execution_count": null,
   "metadata": {},
   "outputs": [],
   "source": []
  },
  {
   "cell_type": "code",
   "execution_count": 30,
   "metadata": {},
   "outputs": [],
   "source": [
    "val = val.sample(frac=1).reset_index(drop=True)"
   ]
  },
  {
   "cell_type": "code",
   "execution_count": 33,
   "metadata": {},
   "outputs": [],
   "source": [
    "val = val.drop('Карта', axis = 1)"
   ]
  },
  {
   "cell_type": "code",
   "execution_count": 34,
   "metadata": {},
   "outputs": [],
   "source": [
    "train = train.sample(frac=1).reset_index(drop=True)"
   ]
  },
  {
   "cell_type": "code",
   "execution_count": 35,
   "metadata": {},
   "outputs": [],
   "source": [
    "train = train.drop('Карта', axis = 1)"
   ]
  },
  {
   "cell_type": "code",
   "execution_count": null,
   "metadata": {},
   "outputs": [],
   "source": []
  },
  {
   "cell_type": "code",
   "execution_count": null,
   "metadata": {},
   "outputs": [],
   "source": []
  },
  {
   "cell_type": "code",
   "execution_count": null,
   "metadata": {},
   "outputs": [],
   "source": []
  },
  {
   "cell_type": "code",
   "execution_count": null,
   "metadata": {},
   "outputs": [],
   "source": []
  },
  {
   "cell_type": "code",
   "execution_count": null,
   "metadata": {},
   "outputs": [],
   "source": []
  },
  {
   "cell_type": "code",
   "execution_count": null,
   "metadata": {},
   "outputs": [],
   "source": []
  },
  {
   "cell_type": "code",
   "execution_count": null,
   "metadata": {},
   "outputs": [],
   "source": []
  },
  {
   "cell_type": "code",
   "execution_count": null,
   "metadata": {},
   "outputs": [],
   "source": []
  },
  {
   "cell_type": "code",
   "execution_count": null,
   "metadata": {},
   "outputs": [],
   "source": []
  },
  {
   "cell_type": "code",
   "execution_count": null,
   "metadata": {},
   "outputs": [],
   "source": []
  }
 ],
 "metadata": {
  "kernelspec": {
   "display_name": "Python 3",
   "language": "python",
   "name": "python3"
  },
  "language_info": {
   "codemirror_mode": {
    "name": "ipython",
    "version": 3
   },
   "file_extension": ".py",
   "mimetype": "text/x-python",
   "name": "python",
   "nbconvert_exporter": "python",
   "pygments_lexer": "ipython3",
   "version": "3.8.2"
  }
 },
 "nbformat": 4,
 "nbformat_minor": 4
}
